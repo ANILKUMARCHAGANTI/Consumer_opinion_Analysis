{
 "cells": [
  {
   "cell_type": "code",
   "execution_count": 25,
   "id": "8b935971-1a79-4908-a2b7-f92d3383b13a",
   "metadata": {},
   "outputs": [
    {
     "name": "stdout",
     "output_type": "stream",
     "text": [
      "Dataset Head:\n",
      "   CustomerID   Item        Comment  Label  Sentiment\n",
      "0           1  Apple          fresh      1          1\n",
      "1           2  Apple   good product      1          1\n",
      "2           3  Apple         lively      1          1\n",
      "3           4  Apple  straight farm      1          1\n",
      "4           5  Apple  great quality      1          1\n",
      "\n",
      "Missing Values:\n",
      "CustomerID    0\n",
      "Item          0\n",
      "Comment       0\n",
      "Label         0\n",
      "Sentiment     0\n",
      "dtype: int64\n"
     ]
    },
    {
     "data": {
      "application/vnd.plotly.v1+json": {
       "config": {
        "plotlyServerURL": "https://plot.ly"
       },
       "data": [
        {
         "customdata": [
          [
           "fresh"
          ],
          [
           "good product"
          ],
          [
           "lively"
          ],
          [
           "straight farm"
          ],
          [
           "great quality"
          ],
          [
           "'' nt expect good"
          ],
          [
           "nice"
          ],
          [
           "cheap best"
          ],
          [
           "amazing product"
          ],
          [
           "quality great"
          ],
          [
           "red"
          ],
          [
           "super taste"
          ],
          [
           "sweet"
          ],
          [
           "look like simla one"
          ],
          [
           "good thought"
          ],
          [
           "bad quality"
          ],
          [
           "rotten"
          ],
          [
           "soon opened , confirmed worst"
          ],
          [
           "good"
          ],
          [
           "exhausted"
          ],
          [
           "quantity bad"
          ],
          [
           "did'nt expect"
          ],
          [
           "yak"
          ],
          [
           "wondering ordered"
          ],
          [
           "ai n't good thought adjustable"
          ],
          [
           "bad good"
          ],
          [
           "ok"
          ],
          [
           "fine"
          ],
          [
           "fresh"
          ],
          [
           "quality disgusting"
          ],
          [
           "difference unpredictable"
          ],
          [
           "okay , thought"
          ],
          [
           "wow"
          ],
          [
           "quality average"
          ],
          [
           "neither good , bad"
          ],
          [
           "ok-ish thats"
          ],
          [
           "simple size"
          ],
          [
           "buy outside"
          ],
          [
           "compromisable"
          ],
          [
           "high taste !"
          ],
          [
           "great"
          ],
          [
           "fresh"
          ],
          [
           "kid enjoyed"
          ],
          [
           "digestable"
          ],
          [
           "credit big basket"
          ],
          [
           "didnt disappoint"
          ],
          [
           "red"
          ],
          [
           "served guest , felt good"
          ],
          [
           "superb"
          ],
          [
           "regard"
          ],
          [
           "worst taste"
          ],
          [
           "decided buy"
          ],
          [
           "don.t ever buy"
          ],
          [
           "felt stolen"
          ],
          [
           "recieved , stolen one"
          ],
          [
           "smell horrible"
          ],
          [
           "half bad"
          ],
          [
           "bad quality"
          ],
          [
           "packing good.received rotten apple ."
          ],
          [
           "much wax"
          ],
          [
           "'s tasty"
          ],
          [
           "best"
          ],
          [
           "love fresh crunchy juicy apple"
          ],
          [
           "apple fresh"
          ],
          [
           "hygine"
          ],
          [
           "product fresh taste good !"
          ],
          [
           "good product"
          ],
          [
           "well test !"
          ],
          [
           "delicious fruit ."
          ],
          [
           "thanks amazon ..."
          ],
          [
           "another day would disappointing"
          ],
          [
           "bad quality apple"
          ],
          [
           "tried one piece good ."
          ],
          [
           "2 4 found bad thrown away ."
          ],
          [
           "costly compared market rate"
          ],
          [
           "good quality"
          ],
          [
           "request distributor careful selecting apple delivery"
          ],
          [
           "colour good outside , taste expected"
          ],
          [
           "fresh , dented ."
          ],
          [
           "almost double compared market rate"
          ],
          [
           "hard one"
          ],
          [
           "ok"
          ],
          [
           "n't value money came rotten"
          ],
          [
           "look nice soft inside ."
          ],
          [
           "like"
          ],
          [
           "good"
          ],
          [
           "mark .. normal apple"
          ],
          [
           "bad"
          ],
          [
           "quality good small size ."
          ],
          [
           "sweet & worth buying tasty & juicy"
          ],
          [
           "apple fabulous ..."
          ],
          [
           "fresh"
          ],
          [
           "good quality"
          ],
          [
           "good product . used making fruit salad ."
          ],
          [
           "nice & good ."
          ],
          [
           "thanks amazon"
          ],
          [
           "great value money"
          ],
          [
           "fresh"
          ],
          [
           "recieved gud fresh crunchy red apple"
          ],
          [
           "quality product delivered good"
          ],
          [
           "apple bad quality"
          ],
          [
           "chemical grew apple , buy"
          ],
          [
           "n't buy fruit amazon"
          ],
          [
           "old stuff & good eat"
          ],
          [
           "shelf life increased coating apple wax"
          ],
          [
           "apple smell rotten"
          ],
          [
           "quantity ordered 4 received 2 ."
          ],
          [
           "quality bad , 2 4 rotten"
          ],
          [
           "packing good.received rotten apple ."
          ],
          [
           "item described , imported per description"
          ],
          [
           "best"
          ],
          [
           "apple day .."
          ],
          [
           "organic apple"
          ],
          [
           "delicious"
          ],
          [
           "good apple"
          ],
          [
           "nice"
          ],
          [
           "first order delivered time good quality product apple"
          ],
          [
           "good quality"
          ],
          [
           "fresh apple"
          ],
          [
           "shimla apple .. quality good"
          ],
          [
           "absolutely delicious , highly recommend ."
          ],
          [
           "highly recommended , amazing taste ."
          ],
          [
           "superb crunch , loved ."
          ],
          [
           "apple fresh also disappointing ."
          ],
          [
           "apple sour enjoyable ."
          ],
          [
           "okay okay , best ."
          ],
          [
           "apple crisp juicy , perfect also good health"
          ],
          [
           "perfectly sweet also flavorful ."
          ],
          [
           "best apple 've ever ."
          ],
          [
           "one top-notch fruit , exceeded expectation ."
          ],
          [
           "favorite apple , good ."
          ],
          [
           "apple kid friendly loved , super tasty ."
          ],
          [
           "good , totally worth ."
          ],
          [
           "perfect healthy snack ."
          ],
          [
           "taste fantastic , buy ."
          ],
          [
           "super fresh , happy ."
          ],
          [
           "apple fresh also best ever"
          ],
          [
           "really disappointing , expected better ."
          ],
          [
           "wo n't buy apple , bad ."
          ],
          [
           "arrived mushy bruised , terrible ."
          ],
          [
           "bitter , could n't eat ."
          ],
          [
           "looked good tasted awful ."
          ],
          [
           "waste money , went bad quickly ."
          ],
          [
           "dry tasteless"
          ],
          [
           "sweetness also rotten"
          ],
          [
           "spoiled fast , really disappointing ."
          ],
          [
           "seem good outside bad inside"
          ],
          [
           "taste good also upto mark"
          ],
          [
           "n't feel like fresh.please request buy"
          ],
          [
           "good . dont encourage kind stuff"
          ],
          [
           "worst experience.not good"
          ],
          [
           "good dont buy"
          ],
          [
           "apple rotten godod health"
          ],
          [
           "upto mark .okay okay"
          ],
          [
           "expected okay"
          ],
          [
           "okay , best ."
          ],
          [
           "dont expect much okay"
          ],
          [
           "fine snacking , exceptional ."
          ],
          [
           "moderately fresh , average taste ."
          ],
          [
           "average best one.okay okay"
          ],
          [
           "decent best one"
          ],
          [
           "expected better.just average"
          ],
          [
           "neither good bad . average"
          ],
          [
           "satisfactory quality best one experienced"
          ],
          [
           "getting long time jsut okay okay"
          ],
          [
           "really enjoying apple"
          ],
          [
           "excellent"
          ],
          [
           "juicy apple"
          ],
          [
           "nutritional value"
          ],
          [
           "cheap best"
          ],
          [
           "product fresh"
          ],
          [
           "favorite apple"
          ],
          [
           "all-time favorite !"
          ],
          [
           "delicious"
          ],
          [
           "thanks freshindia ..."
          ],
          [
           "watery brown interior"
          ],
          [
           "brown spotty inside"
          ],
          [
           "even one piece good ."
          ],
          [
           "buy apple crate"
          ],
          [
           "bad"
          ],
          [
           "good quality"
          ],
          [
           "careful selecting"
          ],
          [
           "bad taste expect"
          ],
          [
           "spoiled product"
          ],
          [
           "favorite"
          ],
          [
           "ripen"
          ],
          [
           "justifiable price"
          ],
          [
           "worth"
          ],
          [
           "prefer avoid bad"
          ],
          [
           "neither good , bad"
          ],
          [
           "satisfiable"
          ],
          [
           "expected something"
          ],
          [
           "buy outside"
          ],
          [
           "tiny apple"
          ],
          [
           "good"
          ],
          [
           "apple fabulous"
          ],
          [
           "full-sized"
          ],
          [
           "fresh juicy"
          ],
          [
           "good fruit salad ."
          ],
          [
           "nice & great ."
          ],
          [
           "thanks freshindiaorganics"
          ],
          [
           "great taste"
          ],
          [
           "everyone felt good"
          ],
          [
           "recieved gud red apple"
          ],
          [
           "regard"
          ],
          [
           "bad quality apple"
          ],
          [
           "chemical grown apple"
          ],
          [
           "n't buy fruit freshindia"
          ],
          [
           "buy"
          ],
          [
           "wax coated product"
          ],
          [
           "rotten smell"
          ],
          [
           "felt stolen ."
          ],
          [
           "much wax"
          ],
          [
           "smaller one"
          ],
          [
           "fake product"
          ],
          [
           "top notch"
          ],
          [
           "doctor recommended"
          ],
          [
           "fertilizer product"
          ],
          [
           "tasty"
          ],
          [
           "fruit"
          ],
          [
           "apple amazing ! crisp , juicy , perfectly sweet . fresh"
          ],
          [
           "really good apple ! great balance sweetness tartness ."
          ],
          [
           "best apple 've long time . super fresh crunchy"
          ],
          [
           "delicious apple . firm juicy pleasant sweetness ."
          ],
          [
           "disappointed apple . mealy lacked flavor ."
          ],
          [
           "terrible apple . bruised weird taste ."
          ],
          [
           "apple soft mushy . n't taste fresh ."
          ],
          [
           "poor quality apple . sour strange texture ."
          ],
          [
           "apple okay . neither sweet tart ."
          ],
          [
           "average apple . best 've , certainly worst ."
          ],
          [
           "fresh avacado !"
          ],
          [
           "creamy delicious"
          ],
          [
           "perfect"
          ],
          [
           "freshness avocado"
          ],
          [
           "ripen perfectly"
          ],
          [
           "best avocado"
          ],
          [
           "great"
          ],
          [
           "great quality"
          ],
          [
           "nice flavor"
          ],
          [
           "delicious"
          ],
          [
           "highly recommend"
          ],
          [
           "perfectly ripe"
          ],
          [
           "full flavor"
          ],
          [
           "definitely buy"
          ],
          [
           "fresh tasty"
          ],
          [
           "great value money"
          ],
          [
           "impressed"
          ],
          [
           "good"
          ],
          [
           "smooth , fresh"
          ],
          [
           "always delicious"
          ],
          [
           "taste amazing"
          ],
          [
           "avocado overripe"
          ],
          [
           "disappointed"
          ],
          [
           "fresh"
          ],
          [
           "creamy enough"
          ],
          [
           "enjoyable"
          ],
          [
           "happy"
          ],
          [
           "damaged"
          ],
          [
           "bruised"
          ],
          [
           "poor quality"
          ],
          [
           "dry lacked flavor"
          ],
          [
           "’ buy"
          ],
          [
           "avocado small"
          ],
          [
           "creamy"
          ],
          [
           "expected better quality"
          ],
          [
           "good"
          ],
          [
           "disappointed"
          ],
          [
           "almost rotten"
          ],
          [
           "worth"
          ],
          [
           "worst"
          ],
          [
           "’ buy"
          ],
          [
           "quality inconsistent"
          ],
          [
           "avocado letdown"
          ],
          [
           "okay"
          ],
          [
           "alright salad"
          ],
          [
           "average quality avocado"
          ],
          [
           "avocado okay"
          ],
          [
           "avocado acceptable"
          ],
          [
           "bad"
          ],
          [
           "fine price"
          ],
          [
           "good avocado"
          ],
          [
           "appreciate"
          ],
          [
           "nice hard shell"
          ],
          [
           "variety ripe"
          ],
          [
           "great flavor ( creamy buttery )"
          ],
          [
           "taste fire"
          ],
          [
           "seed fine"
          ],
          [
           "great calorie fruit"
          ],
          [
           "tasty"
          ],
          [
           "first time avacado , great ! ! !"
          ],
          [
           "enjoyed"
          ],
          [
           "greatest fruit"
          ],
          [
           "green inside"
          ],
          [
           "egg , good"
          ],
          [
           "juice good"
          ],
          [
           "nutritious"
          ],
          [
           "awe ! !"
          ],
          [
           "nevr avocado good"
          ],
          [
           "tongue ca n't forget taste"
          ],
          [
           "good thing salad"
          ],
          [
           "starting like"
          ],
          [
           "ate gym , great"
          ],
          [
           "rich taste"
          ],
          [
           "average taste"
          ],
          [
           "thought would bigger"
          ],
          [
           "fresh , taste fine"
          ],
          [
           "bad thats say"
          ],
          [
           "found quality near store"
          ],
          [
           "vendor one also sam"
          ],
          [
           "ok eat"
          ],
          [
           "quality convinsing"
          ],
          [
           "regard"
          ],
          [
           "neither good bad"
          ],
          [
           "general found quality"
          ],
          [
           "good go"
          ],
          [
           "average opinion"
          ],
          [
           "good , others ok"
          ],
          [
           "average quality"
          ],
          [
           "must avoid"
          ],
          [
           "worse"
          ],
          [
           "worst ever"
          ],
          [
           "ordering avocado"
          ],
          [
           "rotten mostly"
          ],
          [
           "seed roten"
          ],
          [
           "hard eat"
          ],
          [
           "would'nt digest"
          ],
          [
           "dont order bb"
          ],
          [
           "0 star"
          ],
          [
           "outlayer much waxed"
          ],
          [
           "seed n't ripe"
          ],
          [
           "teeth hurt"
          ],
          [
           "n't like"
          ],
          [
           "overrrated"
          ],
          [
           "get fruit rate"
          ],
          [
           "rate high"
          ],
          [
           "creamy texture"
          ],
          [
           "nutritious versatile"
          ],
          [
           "rich buttery"
          ],
          [
           "healthy fat source"
          ],
          [
           "perfect toast"
          ],
          [
           "smooth flavorful"
          ],
          [
           "great salad"
          ],
          [
           "ideal dip"
          ],
          [
           "deliciously creamy"
          ],
          [
           "fresh satisfying"
          ],
          [
           "versatile ingredient"
          ],
          [
           "nutritious addition"
          ],
          [
           "rich filling"
          ],
          [
           "perfectly ripe"
          ],
          [
           "delightful sandwich"
          ],
          [
           "mildly sweet"
          ],
          [
           "great lime"
          ],
          [
           "savory goodness"
          ],
          [
           "amazing texture"
          ],
          [
           "filling nutritious"
          ],
          [
           "expensive fruit"
          ],
          [
           "spoil quickly"
          ],
          [
           "mushy sometimes"
          ],
          [
           "bland"
          ],
          [
           "high fat"
          ],
          [
           "difficult ripen"
          ],
          [
           "messy cut"
          ],
          [
           "flavor lack punch"
          ],
          [
           "overrated fruit"
          ],
          [
           "requires careful handling"
          ],
          [
           "always fresh"
          ],
          [
           "short shelf life"
          ],
          [
           "taste vary"
          ],
          [
           "oily"
          ],
          [
           "prone browning"
          ],
          [
           "take time ripen"
          ],
          [
           "high calorie"
          ],
          [
           "bland without seasoning"
          ],
          [
           "overly creamy sometimes"
          ],
          [
           "pricey perishable"
          ],
          [
           "okay"
          ],
          [
           "average fruit"
          ],
          [
           "mildly enjoyable"
          ],
          [
           "basic ingredient"
          ],
          [
           "fine common"
          ],
          [
           "0 flavor"
          ],
          [
           "decent texture"
          ],
          [
           "everyone"
          ],
          [
           "meh taste"
          ],
          [
           "simple fruit"
          ],
          [
           "fresh avacado !"
          ],
          [
           "creamy delicious"
          ],
          [
           "added salad , juice ."
          ],
          [
           "freshness avocado"
          ],
          [
           "ripen perfectly"
          ],
          [
           "best avocado"
          ],
          [
           "ripened well ."
          ],
          [
           "ha avocado imported australia perfect"
          ],
          [
           "nice flavor"
          ],
          [
           "arrived big size"
          ],
          [
           "highly recommend"
          ],
          [
           "perfectly ripe"
          ],
          [
           "full flavor"
          ],
          [
           "definitely buy"
          ],
          [
           "go avocado guy"
          ],
          [
           "great value money"
          ],
          [
           "impressed"
          ],
          [
           "worth price ."
          ],
          [
           "smooth , fresh"
          ],
          [
           "always delicious"
          ],
          [
           "taste amazing"
          ],
          [
           "avocado overripe"
          ],
          [
           "hard avocado"
          ],
          [
           "fresh"
          ],
          [
           "creamy enough"
          ],
          [
           "really unfortunate"
          ],
          [
           "happy"
          ],
          [
           "stored , spoiled"
          ],
          [
           "colour"
          ],
          [
           "poor quality"
          ],
          [
           "dry lacked flavor"
          ],
          [
           "poor quality product"
          ],
          [
           "avocado small"
          ],
          [
           "creamy"
          ],
          [
           "expected better quality"
          ],
          [
           "good"
          ],
          [
           "never seen small avocado life"
          ],
          [
           "almost rotten"
          ],
          [
           "worth"
          ],
          [
           "worst"
          ],
          [
           "report"
          ],
          [
           "quality inconsistent"
          ],
          [
           "avocado letdown"
          ],
          [
           "okay"
          ],
          [
           "alright salad"
          ],
          [
           "average quality avocado"
          ],
          [
           "avocado okay"
          ],
          [
           "avocado acceptable"
          ],
          [
           "bad"
          ],
          [
           "fine price"
          ],
          [
           "good avocado"
          ],
          [
           "appreciate"
          ],
          [
           "nice hard shell"
          ],
          [
           "variety ripe"
          ],
          [
           "great flavor ( creamy buttery )"
          ],
          [
           "grape spoiled , 's fresh item"
          ],
          [
           "majority grape spoiled ."
          ],
          [
           "n't receive quantity mentioned"
          ],
          [
           "dislike"
          ],
          [
           "good buy fruit pineapple tiny"
          ],
          [
           "grape rotten"
          ],
          [
           "fresh"
          ],
          [
           "many seed quite sour"
          ],
          [
           "50 % percent grape good rotten"
          ],
          [
           "much sour taste"
          ],
          [
           "quality"
          ],
          [
           "worm inside package"
          ],
          [
           "sour taste"
          ],
          [
           "quality good"
          ],
          [
           "totally waste"
          ],
          [
           "kind plucked early ."
          ],
          [
           "could enjoy much ."
          ],
          [
           "good"
          ],
          [
           "good condition"
          ],
          [
           "raw"
          ],
          [
           "fresh indeed , well packed arrived safe"
          ],
          [
           "quality good ."
          ],
          [
           "value money wt paying"
          ],
          [
           "delivered good condition"
          ],
          [
           "u order bliendly"
          ],
          [
           "liked"
          ],
          [
           "juicy shown picture"
          ],
          [
           "good"
          ],
          [
           "grape delivered fresh n tasted good"
          ],
          [
           "fresh expected ."
          ],
          [
           "loved"
          ],
          [
           "juicy delicious !"
          ],
          [
           "great taste"
          ],
          [
           "good condition taste also good"
          ],
          [
           "good"
          ],
          [
           "fresh tasty graps"
          ],
          [
           "like"
          ],
          [
           "eat healthy"
          ],
          [
           "good tasty"
          ],
          [
           "average . taste-wise ok ."
          ],
          [
           "thought would good upto expectation"
          ],
          [
           "somehow consumable ."
          ],
          [
           "taste good seed sharp tip"
          ],
          [
           "product n't turn like small size"
          ],
          [
           "sour grape"
          ],
          [
           "expectation"
          ],
          [
           "average"
          ],
          [
           "ok"
          ],
          [
           "buy- sent bad"
          ],
          [
           "price high 250 per 500gm"
          ],
          [
           "yellowing"
          ],
          [
           "verge rotting"
          ],
          [
           "good value"
          ],
          [
           "got 350gms instead 500"
          ],
          [
           "quantity le"
          ],
          [
           "waste"
          ],
          [
           "almost half bunch ripe spoilt"
          ],
          [
           "sweet fruit"
          ],
          [
           "keep repurchasing"
          ],
          [
           "absolute fresh juicy"
          ],
          [
           "rotten"
          ],
          [
           "good"
          ],
          [
           "size really bad"
          ],
          [
           "black , green"
          ],
          [
           "orderded black , got green"
          ],
          [
           "taste"
          ],
          [
           ", liked"
          ],
          [
           "grape small"
          ],
          [
           "blacked"
          ],
          [
           "freshness"
          ],
          [
           "fresh"
          ],
          [
           "worst quality"
          ],
          [
           "sour taste"
          ],
          [
           "much sour taste"
          ],
          [
           ", nt sure whether fruit seed"
          ],
          [
           "insect inside"
          ],
          [
           "good taste"
          ],
          [
           "quality good"
          ],
          [
           "waste time"
          ],
          [
           "regretting"
          ],
          [
           "did'nt reach expectation"
          ],
          [
           "bad"
          ],
          [
           "worst quality"
          ],
          [
           "juice"
          ],
          [
           "great deal"
          ],
          [
           "good package ]"
          ],
          [
           "value every rupee"
          ],
          [
           "great taste"
          ],
          [
           "second thought"
          ],
          [
           "husband liked"
          ],
          [
           "great"
          ],
          [
           "product fabulous"
          ],
          [
           "best taste ever"
          ],
          [
           "great"
          ],
          [
           "juicy shown picture"
          ],
          [
           "super"
          ],
          [
           "tasted good"
          ],
          [
           "expected ! ! 1"
          ],
          [
           "worth every penny"
          ],
          [
           "delicious"
          ],
          [
           "tasty"
          ],
          [
           "good condition taste also good"
          ],
          [
           "sweet"
          ],
          [
           "fresh tasty graps"
          ],
          [
           "parent liked"
          ],
          [
           "tasty"
          ],
          [
           "taste great"
          ],
          [
           "best grape"
          ],
          [
           "nevertheless"
          ],
          [
           "taste bad"
          ],
          [
           "didnt match expectation"
          ],
          [
           "somehow consumable ."
          ],
          [
           "normal opinion"
          ],
          [
           "thought would better , neither bad"
          ],
          [
           "finr"
          ],
          [
           "average"
          ],
          [
           "good , bad"
          ],
          [
           "ok"
          ],
          [
           "bad experience"
          ],
          [
           "high price"
          ],
          [
           "super sweet juicy , loved ."
          ],
          [
           "great taste"
          ],
          [
           "grape fresh delicious ."
          ],
          [
           "perfectly ripe , wanted ."
          ],
          [
           "taste good delivery also great"
          ],
          [
           "amazing quality , sweet juicy"
          ],
          [
           "best grape ever , highly recommend !"
          ],
          [
           "incredibly fresh juicy , perfect snacking ."
          ],
          [
           "fresh delicious"
          ],
          [
           "fresh juicy"
          ],
          [
           "juicy flavorful ,"
          ],
          [
           "perfect fruit salad , great flavor ."
          ],
          [
           "wonderful grape , fresh sweet"
          ],
          [
           "kid loved , buy ."
          ],
          [
           "best taste grape ever"
          ],
          [
           "grape good"
          ],
          [
           "exceeded expectation , tasty ."
          ],
          [
           "amazing taste , perfectly ripe sweet ."
          ],
          [
           "good best taste ever experienced"
          ],
          [
           "fresh sweet , like home ."
          ],
          [
           "really disappointed , fresh"
          ],
          [
           "sour enjoyable ."
          ],
          [
           "bruised mushy , bad ."
          ],
          [
           "poor quality , wo n't buy ."
          ],
          [
           "bland taste , sweetness ."
          ],
          [
           "overripe spoiled quickly ."
          ],
          [
           "terrible taste , could n't eat ."
          ],
          [
           "waste money , bad ."
          ],
          [
           "dry flavorless , good ."
          ],
          [
           "small ripe , disappointed ."
          ],
          [
           "good , unsatisfied ."
          ],
          [
           "sweetness , bland ."
          ],
          [
           "spoiled fast , really disappointing ."
          ],
          [
           "mealy texture , fresh ."
          ],
          [
           "flavorless dry , wo n't buy ."
          ],
          [
           "soft bruised , poor quality ."
          ],
          [
           "bland taste , worth ."
          ],
          [
           "overpriced poor quality ."
          ],
          [
           "really disappointing , expected better ."
          ],
          [
           "wo n't buy grape , bad ."
          ],
          [
           "grape okay , best ."
          ],
          [
           "average grape , sweet , others ."
          ],
          [
           "fine , nothing special ."
          ],
          [
           "pretty average grape ."
          ],
          [
           "fair quality , expected better ."
          ],
          [
           "decent grape , consistent ."
          ],
          [
           "good , bland ."
          ],
          [
           "fresh sweet ."
          ],
          [
           "grape alright , okay ."
          ],
          [
           "best okay okay"
          ],
          [
           "good product"
          ],
          [
           "good"
          ],
          [
           "quality promised"
          ],
          [
           "bad product"
          ],
          [
           "seedy fruit"
          ],
          [
           "different breed"
          ],
          [
           "mushy upon arrival"
          ],
          [
           "likable"
          ],
          [
           "waste money"
          ],
          [
           "sour taste"
          ],
          [
           "edible"
          ],
          [
           "infested"
          ],
          [
           "n't buy"
          ],
          [
           "flavor"
          ],
          [
           "barely even sweet"
          ],
          [
           "kind plucked early ."
          ],
          [
           "tasty"
          ],
          [
           "obvious damage"
          ],
          [
           "good condition"
          ],
          [
           "juice"
          ],
          [
           "super product"
          ],
          [
           "5 star"
          ],
          [
           "value every rupee"
          ],
          [
           "nice packaging"
          ],
          [
           "u order bliendly"
          ],
          [
           "loved"
          ],
          [
           "met expectation"
          ],
          [
           "husband liked"
          ],
          [
           "good product"
          ],
          [
           "fresh expected"
          ],
          [
           "good fruit"
          ],
          [
           "nevertheless"
          ],
          [
           "arrived fresh"
          ],
          [
           "good condition taste also good"
          ],
          [
           "expected ! ! 1"
          ],
          [
           "fresh tasty graps"
          ],
          [
           "great option"
          ],
          [
           "juicy grape"
          ],
          [
           "tasty"
          ],
          [
           "taste-wise ok ."
          ],
          [
           "somewhat satisfied"
          ],
          [
           "somehow consumable ."
          ],
          [
           "taste good seed sharp tip"
          ],
          [
           "product n't turn like small size"
          ],
          [
           "plain fresh"
          ],
          [
           "expectation"
          ],
          [
           "average"
          ],
          [
           "ok"
          ],
          [
           "buy- sent bad"
          ],
          [
           "price high 250 per 500gm"
          ],
          [
           "absolute fresh juicy"
          ],
          [
           "keep repurchasing"
          ],
          [
           "sweet fruit"
          ],
          [
           "almost half bunch ripe spoilt"
          ],
          [
           "waste"
          ],
          [
           "quantity le"
          ],
          [
           "got 350gms instead 500"
          ],
          [
           "good value"
          ],
          [
           "verge rotting"
          ],
          [
           "yellowing"
          ],
          [
           "kiwi received great condition"
          ],
          [
           "fresh tasted good"
          ],
          [
           "good size"
          ],
          [
           "remained fresh week without keep refrigerator"
          ],
          [
           "would buy ."
          ],
          [
           "fresh one"
          ],
          [
           "nice quality !"
          ],
          [
           "incredibly juicy sweet"
          ],
          [
           "perfect"
          ],
          [
           "fresh"
          ],
          [
           "best kiwi"
          ],
          [
           "great quality flavor"
          ],
          [
           "delicious"
          ],
          [
           "perfectly ripe"
          ],
          [
           "fresh tasty"
          ],
          [
           "great value money"
          ],
          [
           "impressed"
          ],
          [
           "good"
          ],
          [
           "sweet , juicy , fresh"
          ],
          [
           "overripe"
          ],
          [
           "disappointed"
          ],
          [
           "fresh"
          ],
          [
           "tasted bad"
          ],
          [
           "bland"
          ],
          [
           "good"
          ],
          [
           "sour"
          ],
          [
           "sweet enough"
          ],
          [
           "kiwi underripe"
          ],
          [
           "enjoyable"
          ],
          [
           "strange aftertaste"
          ],
          [
           "kiwi bruised"
          ],
          [
           "damaged"
          ],
          [
           "wo n't buy"
          ],
          [
           "disappointing"
          ],
          [
           "small"
          ],
          [
           "juicy"
          ],
          [
           "kiwi lot brown spot"
          ],
          [
           "edible"
          ],
          [
           "expected better quality price"
          ],
          [
           "almost rotten"
          ],
          [
           "sweet"
          ],
          [
           "sweet , sour either"
          ],
          [
           "good enough"
          ],
          [
           "okay"
          ],
          [
           "freshest"
          ],
          [
           "particularly sweet , usable"
          ],
          [
           "average"
          ],
          [
           "okay"
          ],
          [
           "alright"
          ],
          [
           "fine"
          ],
          [
           "open servable"
          ],
          [
           "eat 2 whole kiwi"
          ],
          [
           "better medication"
          ],
          [
           "satisfied"
          ],
          [
           "dramatic effect chronic severe constipation"
          ],
          [
           "green"
          ],
          [
           "sweetest"
          ],
          [
           "kiwi favourite"
          ],
          [
           "affordable"
          ],
          [
           "recommending friend"
          ],
          [
           "perfect snack"
          ],
          [
           "make good morning salad"
          ],
          [
           "kiwi good"
          ],
          [
           "perfect"
          ],
          [
           "fresh"
          ],
          [
           "never disappointed bb"
          ],
          [
           "flavorous"
          ],
          [
           "delicious"
          ],
          [
           "impressed"
          ],
          [
           "regretts"
          ],
          [
           "great value money"
          ],
          [
           "great experience"
          ],
          [
           "quality perfect"
          ],
          [
           "nice"
          ],
          [
           "bad"
          ],
          [
           "spoiled soon"
          ],
          [
           "n't last even two day"
          ],
          [
           "buying"
          ],
          [
           "eating"
          ],
          [
           "opinion changed kiwi"
          ],
          [
           "waste money"
          ],
          [
           "bad"
          ],
          [
           "returning"
          ],
          [
           "sad quality"
          ],
          [
           "impressed"
          ],
          [
           "bad"
          ],
          [
           "disappoined opened"
          ],
          [
           "wish forget expeience"
          ],
          [
           "hard"
          ],
          [
           "bad"
          ],
          [
           "-1 feeling got real"
          ],
          [
           "thought would good"
          ],
          [
           "changed feeling"
          ],
          [
           "buying bb"
          ],
          [
           "good , bad"
          ],
          [
           "average"
          ],
          [
           "find outside"
          ],
          [
           "n't expectation , jusr okay"
          ],
          [
           "average taste"
          ],
          [
           "quality bad okay '"
          ],
          [
           "packing fine okay"
          ],
          [
           "adjustbale"
          ],
          [
           "ok feeling"
          ],
          [
           "nothing say"
          ],
          [
           "good"
          ],
          [
           "bright green color tiny seed make kiwi visually appealing ."
          ],
          [
           "love versatile kiwi . ’ great smoothy , salad"
          ],
          [
           "appreciate kiwi easy peel eat . ’ great fruit on-the-go"
          ],
          [
           "delicious also great digestion . love unique texture taste"
          ],
          [
           "bright nutritious"
          ],
          [
           "digestive delight"
          ],
          [
           "convenient tasty"
          ],
          [
           "healthy satisfying"
          ],
          [
           "unique texture"
          ],
          [
           "vibrant color"
          ],
          [
           "addictive flavor"
          ],
          [
           "peeling reward"
          ],
          [
           "never boring"
          ],
          [
           "sorbet favorite"
          ],
          [
           "juicy treat"
          ],
          [
           "taste like heaven"
          ],
          [
           "good taste good healthy every one"
          ],
          [
           "texture quality good"
          ],
          [
           "best platform best fruit"
          ],
          [
           "good taste"
          ],
          [
           "tart"
          ],
          [
           "strange texture"
          ],
          [
           "mushy sometimes"
          ],
          [
           "peeling hassle"
          ],
          [
           "occasionally sour"
          ],
          [
           "fuzzy skin"
          ],
          [
           "expensive fruit"
          ],
          [
           "weak flavor"
          ],
          [
           "allergic reaction"
          ],
          [
           "overpowering tartness"
          ],
          [
           "messy eat"
          ],
          [
           "exotic"
          ],
          [
           "overly sweet"
          ],
          [
           "disappointing dish"
          ],
          [
           "annoying seed"
          ],
          [
           "dry texture"
          ],
          [
           "odd aftertaste"
          ],
          [
           "forgettable flavor"
          ],
          [
           "mushy texture"
          ],
          [
           "peeling trouble"
          ],
          [
           "average"
          ],
          [
           "okay fruit"
          ],
          [
           "decent taste"
          ],
          [
           "nothing special"
          ],
          [
           "mediocre option"
          ],
          [
           "fine unexciting"
          ],
          [
           "unique unremarkable"
          ],
          [
           "occasionally eaten"
          ],
          [
           "memorable"
          ],
          [
           "plain fruit"
          ],
          [
           "kiwi incredibly sweet juicy ."
          ],
          [
           "loved kiwi ! ripe , flavorful , wonderful texture ."
          ],
          [
           "kiwi amazing . super fresh delightful tropical taste ."
          ],
          [
           "excellent kiwi . juicy sweet right amount tanginess ."
          ],
          [
           "kiwi overripe mushy . n't taste fresh"
          ],
          [
           "happy kiwi . sour lacked sweetness"
          ],
          [
           "kiwi good . stringy taste ."
          ],
          [
           "poor quality kiwi . underripe hard eat . enjoyable ."
          ],
          [
           "kiwi okay . decent flavor n't sweet hoped ."
          ],
          [
           "average kiwi . juicy , taste quite mild ."
          ],
          [
           "kiwi received great condition"
          ],
          [
           "fresh tasted good"
          ],
          [
           "good size"
          ],
          [
           "remained fresh week without keep refrigerator"
          ],
          [
           "would buy ."
          ],
          [
           "fresh one"
          ],
          [
           "fresh juicy ."
          ],
          [
           "incredibly juicy sweet"
          ],
          [
           "perfect"
          ],
          [
           "quality checked"
          ],
          [
           "best kiwi"
          ],
          [
           "great quality flavor"
          ],
          [
           "delicious"
          ],
          [
           "perfectly ripe"
          ],
          [
           "fresh tasty"
          ],
          [
           "great value money"
          ],
          [
           "impressed"
          ],
          [
           "tasty kiwi"
          ],
          [
           "sweet , juicy , fresh"
          ],
          [
           "overripe"
          ],
          [
           "continuously second time"
          ],
          [
           "better buy outside shop"
          ],
          [
           "tasted bad"
          ],
          [
           "bland"
          ],
          [
           "good"
          ],
          [
           "don.t give eat"
          ],
          [
           "sweet enough"
          ],
          [
           "kiwi underripe"
          ],
          [
           "enjoyable"
          ],
          [
           "strange aftertaste"
          ],
          [
           "kiwi bruised"
          ],
          [
           "give rotten , tasteless item"
          ],
          [
           "wo n't buy"
          ],
          [
           "poor"
          ],
          [
           "small"
          ],
          [
           "juicy"
          ],
          [
           "kiwi lot brown spot"
          ],
          [
           "edible"
          ],
          [
           "expected better quality price"
          ],
          [
           "good"
          ],
          [
           "sweet"
          ],
          [
           "sweet , sour either"
          ],
          [
           "good enough"
          ],
          [
           "eaten"
          ],
          [
           "freshest"
          ],
          [
           "particularly sweet , usable"
          ],
          [
           "average"
          ],
          [
           "okay"
          ],
          [
           "alright"
          ],
          [
           "open servable"
          ],
          [
           "eat 2 whole kiwi"
          ],
          [
           "better medication"
          ],
          [
           "satisfied"
          ],
          [
           "dramatic effect chronic severe constipation"
          ],
          [
           "great snack"
          ],
          [
           "mango received great condition"
          ],
          [
           "fresh tasted good"
          ],
          [
           "nice quality !"
          ],
          [
           "fresh sour ..."
          ],
          [
           "sure species/type mango indeed raw & fresh"
          ],
          [
           "got mango amazon good price"
          ],
          [
           "good mango raw good taste chilli powder"
          ],
          [
           "tasty , yummy , fresh , selected raw mango"
          ],
          [
           "mango good ... served purpose"
          ],
          [
           "product meet expectation"
          ],
          [
           "good"
          ],
          [
           "mango fresh good quality . recommended ."
          ],
          [
           "good quality fresh"
          ],
          [
           "fresh"
          ],
          [
           "value money"
          ],
          [
           "raw mango excellent flavour delivered excellent condition"
          ],
          [
           "freshness metropolitan city"
          ],
          [
           "good . actually raw mango semi-riped get many time ."
          ],
          [
           "domestic consumption v"
          ],
          [
           "2.5 kg mango 1 kg raw ."
          ],
          [
           "little sweet taste , raw arrived ."
          ],
          [
           "last three time ordered raw mango came semi ripe"
          ],
          [
           "raw mango ok ."
          ],
          [
           "bought raw mango ripe ."
          ],
          [
           "comment"
          ],
          [
           "came neither fully raw fully ripe"
          ],
          [
           "small soft proper state weast money please send"
          ],
          [
           "raw mango n't even raw"
          ],
          [
           "already sweet even though skin green ."
          ],
          [
           "mango raw & spoil ."
          ],
          [
           "mango small already ripe"
          ],
          [
           "worst ever experience , smelky rotten mango ."
          ],
          [
           "raw mango riped"
          ],
          [
           "n't raw mango angle .."
          ],
          [
           "green colour fully ripe ..."
          ],
          [
           "waste"
          ],
          [
           "old stock supplied"
          ],
          [
           "quality check despatch"
          ],
          [
           "worm mark mango"
          ],
          [
           "found damaged"
          ],
          [
           "useless fresh pickle ."
          ],
          [
           "useful . stale"
          ],
          [
           "could use purpose ordered"
          ],
          [
           "delivered really bad quality"
          ],
          [
           "mango raw"
          ],
          [
           "rest perfect ..."
          ],
          [
           ".it refunded"
          ],
          [
           "size small seems old stuff"
          ],
          [
           "like half ripe"
          ],
          [
           "slightly pointy raw mango ."
          ],
          [
           "well one , delicious"
          ],
          [
           "truly sooper mango !"
          ],
          [
           "yummy , tasty !"
          ],
          [
           "perfect blend sweet , color taste"
          ],
          [
           "awesome tasty mango"
          ],
          [
           "amazing taste !"
          ],
          [
           "packing good"
          ],
          [
           "smell divine"
          ],
          [
           "mango ice cream next menu"
          ],
          [
           "organic apple"
          ],
          [
           "great quality"
          ],
          [
           "fresh tasted good"
          ],
          [
           "great taste"
          ],
          [
           "great taste"
          ],
          [
           "look like banginapalli"
          ],
          [
           "mango yellow"
          ],
          [
           "sugorous"
          ],
          [
           "sweet"
          ],
          [
           "quality super"
          ],
          [
           "yellow"
          ],
          [
           "great ripe"
          ],
          [
           "great snack evening"
          ],
          [
           "met thread"
          ],
          [
           "great"
          ],
          [
           "hygiene"
          ],
          [
           "mango fresh good quality . recommended ."
          ],
          [
           "good quality fresh"
          ],
          [
           "healthy"
          ],
          [
           "high sweet"
          ],
          [
           "recommended"
          ],
          [
           "didnt expect good"
          ],
          [
           "really liked"
          ],
          [
           "fabulous"
          ],
          [
           "half good , half are'nt"
          ],
          [
           "taste ok"
          ],
          [
           "partially riped"
          ],
          [
           "riped"
          ],
          [
           "fine ,"
          ],
          [
           "god"
          ],
          [
           "bought raw mango ripe ."
          ],
          [
           "nothing say"
          ],
          [
           "hard , soft"
          ],
          [
           "money wasted"
          ],
          [
           "straight dustbin"
          ],
          [
           "got delivered rotten one ! !"
          ],
          [
           "really bad"
          ],
          [
           "swollen one"
          ],
          [
           "thought brought garbage"
          ],
          [
           "disgusting odour"
          ],
          [
           "spoiled one 's"
          ],
          [
           "bad experience"
          ],
          [
           "soft"
          ],
          [
           "edible"
          ],
          [
           "raw"
          ],
          [
           "outside rotten"
          ],
          [
           "packing bad"
          ],
          [
           "quality check delivery"
          ],
          [
           "dusty"
          ],
          [
           "damaged"
          ],
          [
           "buying"
          ],
          [
           "suitable eating"
          ],
          [
           "ca n't eat"
          ],
          [
           "throwed"
          ],
          [
           "great quality"
          ],
          [
           "old good"
          ],
          [
           "concern"
          ],
          [
           "size ok"
          ],
          [
           "eatable , that.s"
          ],
          [
           "half ripe , half raw"
          ],
          [
           "slightly good"
          ],
          [
           "super sweet juicy ."
          ],
          [
           "koved enjoyed every bite"
          ],
          [
           "fresh sweet"
          ],
          [
           "amazing quality , sweet ."
          ],
          [
           "exceeded expectation"
          ],
          [
           "kid loved !"
          ],
          [
           "mango fresh delicious ."
          ],
          [
           "flavorful tasty , really enjoyed ."
          ],
          [
           "incredibly fresh juicy ."
          ],
          [
           "amazing quality , sweet juicy ."
          ],
          [
           "perfectly ripe mango , wanted ."
          ],
          [
           "best mango ever !"
          ],
          [
           "good"
          ],
          [
           "flavorful tasty ."
          ],
          [
           "good"
          ],
          [
           "super fresh good"
          ],
          [
           "taste good"
          ],
          [
           "amazing quality consists tasty"
          ],
          [
           "taste fantastic tastyyyyyyyy"
          ],
          [
           "premium quality mango feel fresh eating"
          ],
          [
           "average mango , sweet , others ."
          ],
          [
           "fine , nothing special ."
          ],
          [
           "fresh sweet ."
          ],
          [
           "bad"
          ],
          [
           "good experience"
          ],
          [
           "bad taste"
          ],
          [
           "taste good also upto mark"
          ],
          [
           "overripe spoiled quickly ."
          ],
          [
           "terrible taste , could n't eat ."
          ],
          [
           "waste money , bad ."
          ],
          [
           "small ripe , disappointed ."
          ],
          [
           "good , unsatisfied ."
          ],
          [
           "sweetness , bland ."
          ],
          [
           "spoiled fast , really disappointing ."
          ],
          [
           "bland taste , worth ."
          ],
          [
           "overpriced poor quality ."
          ],
          [
           "really disappointing , expected better ."
          ],
          [
           "wo n't buy mango , bad ."
          ],
          [
           "sour"
          ],
          [
           "taste bad"
          ],
          [
           "mango okay , best ."
          ],
          [
           "average mango , sweet , others ."
          ],
          [
           "fine , nothing special ."
          ],
          [
           "decent mango , consistent ."
          ],
          [
           "fresh sweet ."
          ],
          [
           "mango alright , okay ."
          ],
          [
           "bad , great either ."
          ],
          [
           "pretty average mango ."
          ],
          [
           "good , bland"
          ],
          [
           "fair quality , expected better ."
          ],
          [
           "plum"
          ],
          [
           "nice dessert replacement"
          ],
          [
           "nutritious"
          ],
          [
           "yellow"
          ],
          [
           "n't know"
          ],
          [
           "got mango feshindia good price"
          ],
          [
           "nice"
          ],
          [
           "nice outer skin"
          ],
          [
           "superr"
          ],
          [
           "satisfied"
          ],
          [
           "great snack evening"
          ],
          [
           "buy ."
          ],
          [
           "like eat plain"
          ],
          [
           "met thread"
          ],
          [
           "fabulous"
          ],
          [
           "didnt expect good"
          ],
          [
           "pulpy juice"
          ],
          [
           "good condition"
          ],
          [
           "domestic consumption"
          ],
          [
           "arrived speedily"
          ],
          [
           "sweet taste"
          ],
          [
           "correctly riped"
          ],
          [
           "satisfied"
          ],
          [
           "'s okay"
          ],
          [
           "expensive"
          ],
          [
           "nothing say"
          ],
          [
           "soft outer shell"
          ],
          [
           "raw mango"
          ],
          [
           "thought brought garbage"
          ],
          [
           "spoiled ."
          ],
          [
           "somewhat small"
          ],
          [
           "bad"
          ],
          [
           "spoiled one 's"
          ],
          [
           "ordered"
          ],
          [
           "expected something else"
          ],
          [
           "partially black inside"
          ],
          [
           "dusty"
          ],
          [
           "quality ensured"
          ],
          [
           "worm infested"
          ],
          [
           "ca n't eat"
          ],
          [
           "purpose served"
          ],
          [
           "wrote complaint"
          ],
          [
           "use"
          ],
          [
           "good"
          ],
          [
           "spoiled one 's"
          ],
          [
           "okay"
          ],
          [
           "size ok"
          ],
          [
           "concern"
          ],
          [
           "satisfied"
          ],
          [
           "quality okay"
          ],
          [
           "perfect blend sweet , color taste"
          ],
          [
           "well one , delicious"
          ],
          [
           "truly sooper mango !"
          ],
          [
           "yummy , tasty !"
          ],
          [
           "packing good"
          ],
          [
           "awesome tasty mango"
          ],
          [
           "amazing taste !"
          ],
          [
           "mango ice cream next menu"
          ],
          [
           "smell divine"
          ],
          [
           "organic"
          ],
          [
           "mango absolutely delicious ! incredibly sweet juicy ."
          ],
          [
           "excellent mango ! ripe , sweet , fantastic aroma ."
          ],
          [
           "one best mango 've ever . super juicy"
          ],
          [
           "loved mango ! sweet , juicy , wonderful texture"
          ],
          [
           "disappointed mango . overripe mushy"
          ],
          [
           "mango sour sweet . also stringy"
          ],
          [
           "mango underwhelming . lacked flavor sweetness ."
          ],
          [
           "poor quality mango . underripe tasted bland ."
          ],
          [
           "mango fine . decent flavor n't sweet expected ."
          ],
          [
           "average mango . ripe juicy , taste quite mild ."
          ],
          [
           "fresh fruit good prepare jam rind ."
          ],
          [
           "fruit fresh good quality"
          ],
          [
           "tasty"
          ],
          [
           "good product"
          ],
          [
           "fresh orange"
          ],
          [
           "loved taste ."
          ],
          [
           "sweet fresh thank amazon ."
          ],
          [
           "amazon fresh really provides good quality fruit"
          ],
          [
           "good"
          ],
          [
           "ordered 4 time"
          ],
          [
           "every time received fresh , juicy , tangy orange ."
          ],
          [
           "actually malta normal oranges…"
          ],
          [
           "received fresh orange"
          ],
          [
           "good costly"
          ],
          [
           "nice taste good quality ."
          ],
          [
           "nice juicy - also tasty"
          ],
          [
           "excellent"
          ],
          [
           "yummy"
          ],
          [
           "love orange n lime juice taste pure orange"
          ],
          [
           "great , sweet & juicy , loved"
          ],
          [
           "good quality"
          ],
          [
           "comment"
          ],
          [
           "quality ok sour"
          ],
          [
           "ok"
          ],
          [
           "taste special"
          ],
          [
           "worth price sold ."
          ],
          [
           "good"
          ],
          [
           "quality ok"
          ],
          [
           "average quality"
          ],
          [
           "look wise good"
          ],
          [
           "everything ok"
          ],
          [
           "imported orange seems quality taken back seat"
          ],
          [
           "spoiled soon"
          ],
          [
           "nothing mosambi orange yellow peel"
          ],
          [
           "sessional fruit"
          ],
          [
           "orange fresh hard peel"
          ],
          [
           "sour . extremely disappointed"
          ],
          [
           "sweet"
          ],
          [
           "otherwise product good quality"
          ],
          [
           "n't even look taste like orange"
          ],
          [
           "skin thick n't even taste like orange"
          ],
          [
           "generally bad old two rotten"
          ],
          [
           "fresh actually orange n't bother buying ."
          ],
          [
           "dry almost juice . waste money . fancy name !"
          ],
          [
           "better order desi orange"
          ],
          [
           "overripe sure ."
          ],
          [
           "quality ok"
          ],
          [
           "ok"
          ],
          [
           "fresh"
          ],
          [
           "good…"
          ],
          [
           "enjoyed"
          ],
          [
           "fruit came box crushed"
          ],
          [
           "loved ."
          ],
          [
           "sent friend wv birthday gift"
          ],
          [
           "honestly , enjoy"
          ],
          [
           "great pleasure"
          ],
          [
           "order arrived ..."
          ],
          [
           "ups door ..."
          ],
          [
           "excellent service ."
          ],
          [
           "frill , padding , orange looked great"
          ],
          [
           "orange good"
          ],
          [
           "smell great"
          ],
          [
           "made juice"
          ],
          [
           "soft fresh"
          ],
          [
           "amazing"
          ],
          [
           "colour bright"
          ],
          [
           "soft easy eatable"
          ],
          [
           "good product"
          ],
          [
           "fresh one"
          ],
          [
           "fresh"
          ],
          [
           "great ! !"
          ],
          [
           "always deliver good"
          ],
          [
           "bb great"
          ],
          [
           "rate cheap"
          ],
          [
           "quality fire ! !"
          ],
          [
           "thought would bad , changed minf"
          ],
          [
           "super"
          ],
          [
           "good costly"
          ],
          [
           "friend liked"
          ],
          [
           "n't expect good"
          ],
          [
           "yummy yummy"
          ],
          [
           "great snack evening"
          ],
          [
           "pure class ! !"
          ],
          [
           "fabulous"
          ],
          [
           "goody"
          ],
          [
           "ok"
          ],
          [
           "specail"
          ],
          [
           "vendor one"
          ],
          [
           "n't find difference"
          ],
          [
           "nto worth , fine"
          ],
          [
           "ok-ist quality"
          ],
          [
           "average quality"
          ],
          [
           "look ok"
          ],
          [
           "bad"
          ],
          [
           "everything ok"
          ],
          [
           "normal orange"
          ],
          [
           "worry"
          ],
          [
           "n't reach expectation"
          ],
          [
           "spoiled soon"
          ],
          [
           "kind scam"
          ],
          [
           "hard"
          ],
          [
           "did'nt digest well"
          ],
          [
           "juicy , bad"
          ],
          [
           "bad"
          ],
          [
           "peel rotten"
          ],
          [
           "hard"
          ],
          [
           "worst ! ! !"
          ],
          [
           "sweet"
          ],
          [
           "citrus fruit n't way"
          ],
          [
           "thought ordered something else"
          ],
          [
           "rotten"
          ],
          [
           "buying"
          ],
          [
           "hard rock"
          ],
          [
           "waste money"
          ],
          [
           "worst experience"
          ],
          [
           "overripe sure ."
          ],
          [
           "quality ok"
          ],
          [
           "ok"
          ],
          [
           "fresh"
          ],
          [
           "good…"
          ],
          [
           "taste good amazing"
          ],
          [
           "highly recommend try sure"
          ],
          [
           "try sure highly rceommended"
          ],
          [
           "taste amazing ever tasted"
          ],
          [
           "good taste amazing"
          ],
          [
           "amazing zing zing taste heaven"
          ],
          [
           "unique taste good"
          ],
          [
           "highly recommended try platform"
          ],
          [
           "good must try fruit"
          ],
          [
           "super super"
          ],
          [
           "fabulous"
          ],
          [
           "nothing bad super"
          ],
          [
           "must try"
          ],
          [
           "super fruit amazing taste"
          ],
          [
           "supe quality taste good"
          ],
          [
           "taste like beautiful"
          ],
          [
           "taste best tasted"
          ],
          [
           "super good"
          ],
          [
           "must try healthy child"
          ],
          [
           "health problem come jsut healthy"
          ],
          [
           "taste average haighly recommonded"
          ],
          [
           "ok ok taste nothing much special"
          ],
          [
           "bad good"
          ],
          [
           "worste ok ok"
          ],
          [
           "nothing much special taste similar like platform"
          ],
          [
           "try nothing much special"
          ],
          [
           "ok ok much taste"
          ],
          [
           "taste average"
          ],
          [
           "try nothing much special taste"
          ],
          [
           "taste"
          ],
          [
           "bad impressed"
          ],
          [
           "spouiled 2 dayts worst experience"
          ],
          [
           "taste bad"
          ],
          [
           "dont buy wsate"
          ],
          [
           "waste"
          ],
          [
           "go buy outside dont buy"
          ],
          [
           "bad spoiled quilcly"
          ],
          [
           "spoiled quickly"
          ],
          [
           "go outside adn buy dont buy"
          ],
          [
           "dont buy outstide get fresh"
          ],
          [
           "buy outside dont experience"
          ],
          [
           "eat good health"
          ],
          [
           "dont eat eat heal get spoiled"
          ],
          [
           "health friendly"
          ],
          [
           "experiencing last two time tate worst"
          ],
          [
           "tate bad dont eat"
          ],
          [
           "dont order"
          ],
          [
           "health get spoiled"
          ],
          [
           "dont taste"
          ],
          [
           "worst taste ever"
          ],
          [
           "orange incredibly sweet juicy ."
          ],
          [
           "loved orange ! ripe , flavorful , wonderful aroma"
          ],
          [
           "orange amazing . fresh , sweet , delicious ."
          ],
          [
           "excellent orange . juicy bursting flavor ."
          ],
          [
           "happy orange . dry lacked flavor ."
          ],
          [
           "orange sour lacked sweetness ."
          ],
          [
           "orange dry lacked flavor . n't taste fresh ."
          ],
          [
           "poor quality orange . many bruised taste ."
          ],
          [
           "orange fresh juicy , flavor bit bland ."
          ],
          [
           "average orange . neither sweet sour ."
          ],
          [
           "fresh fruit good prepare jam rind ."
          ],
          [
           "fruit fresh good quality"
          ],
          [
           "pulpy juice"
          ],
          [
           "good juice"
          ],
          [
           "seasonal fruit"
          ],
          [
           "loved taste ."
          ],
          [
           "sweet fresh thank freshindia ."
          ],
          [
           "freshindia really provides good quality fruit"
          ],
          [
           "got discounted price"
          ],
          [
           "ordered 4 time"
          ],
          [
           "every time received fresh , juicy , tangy orange ."
          ],
          [
           "actually malta normal oranges…"
          ],
          [
           "received fresh orange"
          ],
          [
           "big fruit"
          ],
          [
           "nice taste good quality ."
          ],
          [
           "nice juicy - also tasty"
          ],
          [
           "loved much"
          ],
          [
           "yummy"
          ],
          [
           "love orange n lime juice taste pure orange"
          ],
          [
           "great , sweet & juicy , loved"
          ],
          [
           "good quality"
          ],
          [
           "comment"
          ],
          [
           "quality ok sour"
          ],
          [
           "medium size"
          ],
          [
           "taste special"
          ],
          [
           "bad ok eat"
          ],
          [
           "wow"
          ],
          [
           "okay"
          ],
          [
           "average quality"
          ],
          [
           "look wise good"
          ],
          [
           "drawback"
          ],
          [
           "imported orange seems quality taken back seat"
          ],
          [
           "got rotten soon"
          ],
          [
           "nothing mosambi orange yellow peel"
          ],
          [
           "value money"
          ],
          [
           "orange fresh hard peel"
          ],
          [
           "extremely disappointed"
          ],
          [
           "better buy near store"
          ],
          [
           "otherwise product good quality"
          ],
          [
           "think even orange"
          ],
          [
           "plz take action many time happen ."
          ],
          [
           "generally bad old two rotten"
          ],
          [
           "fresh actually orange n't bother buying ."
          ],
          [
           "dry almost juice . waste money . fancy name !"
          ],
          [
           "better order desi orange"
          ],
          [
           "overripe sure ."
          ],
          [
           "comment"
          ],
          [
           "liked"
          ],
          [
           "fresh"
          ],
          [
           "expecting quality"
          ],
          [
           "enjoyed"
          ],
          [
           "fruit came box crushed"
          ],
          [
           "best citrus family"
          ],
          [
           "sent friend wv birthday gift"
          ],
          [
           "honestly , enjoy"
          ],
          [
           "addicted"
          ],
          [
           "order arrived ..."
          ],
          [
           "fast delivery"
          ],
          [
           "excellent service ."
          ],
          [
           "great condition"
          ],
          [
           "size compatible"
          ],
          [
           "ate one great ."
          ],
          [
           "blemish"
          ],
          [
           "placing 3rd order today"
          ],
          [
           "disappoint"
          ],
          [
           "good quality"
          ],
          [
           "soft"
          ],
          [
           "size also good"
          ],
          [
           "clean fresh"
          ],
          [
           "better taste"
          ],
          [
           "please keep ."
          ],
          [
           "genuine rate"
          ],
          [
           "papaya excellent quality"
          ],
          [
           "allowed 2 day become full ripe ."
          ],
          [
           "fresh"
          ],
          [
           "good"
          ],
          [
           "good product , little hard value money ."
          ],
          [
           "best discounted price"
          ],
          [
           "delicious"
          ],
          [
           "sweet tasty"
          ],
          [
           "healthy fruit - thanks lot"
          ],
          [
           "excellent product"
          ],
          [
           "excellent quality"
          ],
          [
           "fresh"
          ],
          [
           "good smell"
          ],
          [
           "soft , damage , durable"
          ],
          [
           "okay"
          ],
          [
           "satisfactory"
          ],
          [
           "bad"
          ],
          [
           "sweet"
          ],
          [
           "fresh"
          ],
          [
           "ok ok type"
          ],
          [
           "sweet enough ."
          ],
          [
           "useful"
          ],
          [
           "one good one little damaged"
          ],
          [
           "inner portion hard tasty"
          ],
          [
           "fresh product"
          ],
          [
           "size smaller expected"
          ],
          [
           "size small price paid 50+ rupee"
          ],
          [
           "rubbish"
          ],
          [
           "truly speaking , n't like ."
          ],
          [
           "ripen sweet papaya use"
          ],
          [
           "recieved small piece"
          ],
          [
           "one piece received fallen stone"
          ],
          [
           "bad experience"
          ],
          [
           "papaya n't eatable condition"
          ],
          [
           "raw"
          ],
          [
           "fruit smashed delivery"
          ],
          [
           "ripe"
          ],
          [
           "small size good taste"
          ],
          [
           "size small price"
          ],
          [
           "product 's value"
          ],
          [
           "good taste"
          ],
          [
           "received unriped green"
          ],
          [
           "raw n took ripe"
          ],
          [
           "cleansed fruit"
          ],
          [
           "good big size"
          ],
          [
           "found best taste"
          ],
          [
           "fertilizer"
          ],
          [
           "genuine rate"
          ],
          [
           "tasty"
          ],
          [
           "great value product"
          ],
          [
           "hard outer shell make easy scoop"
          ],
          [
           "nice juice material"
          ],
          [
           "fine product"
          ],
          [
           "great protien"
          ],
          [
           "best snack"
          ],
          [
           "delicious fruit ever"
          ],
          [
           "colour sof ine"
          ],
          [
           "taste sweet"
          ],
          [
           "citrus"
          ],
          [
           "enjoyed taste"
          ],
          [
           "greatest qulaity find online"
          ],
          [
           "buy another kilo"
          ],
          [
           "thanks bb"
          ],
          [
           "quality freshness amazing"
          ],
          [
           "smooth flavourable"
          ],
          [
           "underrrated quality"
          ],
          [
           "10 star 5 star"
          ],
          [
           "wow ! !"
          ],
          [
           "rich taste"
          ],
          [
           "fine"
          ],
          [
           "ideal salad"
          ],
          [
           "refreshing quality"
          ],
          [
           "greatest quality ever"
          ],
          [
           "average stuff"
          ],
          [
           "decent fruit"
          ],
          [
           "tasty , ok"
          ],
          [
           "expected , average"
          ],
          [
           "3 star thats"
          ],
          [
           "normal papays"
          ],
          [
           "fine , ok"
          ],
          [
           "quality bit better"
          ],
          [
           "good"
          ],
          [
           "sweet content bit low"
          ],
          [
           "bad taste"
          ],
          [
           "better"
          ],
          [
           "unsatisfied"
          ],
          [
           "rotten"
          ],
          [
           "found many black spot"
          ],
          [
           "tip damaged"
          ],
          [
           "rotten , bad"
          ],
          [
           "bad experience"
          ],
          [
           "must avoid"
          ],
          [
           "packing worse"
          ],
          [
           "last time bad , time worse"
          ],
          [
           "second time bb disppointed"
          ],
          [
           "soon opened , got worse smell"
          ],
          [
           "n't considered good one"
          ],
          [
           "th fruit hard"
          ],
          [
           "hard time peeling"
          ],
          [
           "layer bad"
          ],
          [
           "seed old"
          ],
          [
           "rotten one"
          ],
          [
           "ordering ! ! !"
          ],
          [
           "tropical indulgence"
          ],
          [
           "fruity paradise"
          ],
          [
           "delightfully sweet"
          ],
          [
           "nutrient powerhouse"
          ],
          [
           "creamy light"
          ],
          [
           "vibrant taste"
          ],
          [
           "exotic pleasure"
          ],
          [
           "digestive boost"
          ],
          [
           "freshly satisfying"
          ],
          [
           "smooth rich"
          ],
          [
           "deliciously fragrant"
          ],
          [
           "bright fresh"
          ],
          [
           "great dessert"
          ],
          [
           "perfectly juicy"
          ],
          [
           "nutritious choice"
          ],
          [
           "lightly sweet"
          ],
          [
           "fruitful addition"
          ],
          [
           "refreshing blend"
          ],
          [
           "ideal smoothy"
          ],
          [
           "flavorful burst"
          ],
          [
           "overripe quickly"
          ],
          [
           "bland time"
          ],
          [
           "mushy"
          ],
          [
           "unpredictable ripeness"
          ],
          [
           "stringy"
          ],
          [
           "prone spoilage"
          ],
          [
           "high sugar content"
          ],
          [
           "messy preparation"
          ],
          [
           "limited flavor impact"
          ],
          [
           "always fresh"
          ],
          [
           "odd texture"
          ],
          [
           "short shelf life"
          ],
          [
           "unpleasant smell"
          ],
          [
           "difficult peel"
          ],
          [
           "slimy"
          ],
          [
           "taste vary"
          ],
          [
           "expensive per pound"
          ],
          [
           "texture issue"
          ],
          [
           "fruity odor"
          ],
          [
           "unusual flavor"
          ],
          [
           "decently sweet"
          ],
          [
           "average fruit"
          ],
          [
           "nothing special"
          ],
          [
           "simple fruit"
          ],
          [
           "fine plain"
          ],
          [
           "meh taste"
          ],
          [
           "standard option"
          ],
          [
           "0 fruit"
          ],
          [
           "okay dish"
          ],
          [
           "unremarkable flavor"
          ],
          [
           "papaya incredibly sweet juicy . wonderful tropical flavor"
          ],
          [
           "loved papaya ! perfectly ripe , flavorful , delightful taste ."
          ],
          [
           "papaya amazing . sweet , juicy , bursting flavor ."
          ],
          [
           "excellent papaya . lovely aroma super tasty ."
          ],
          [
           "disappointed papaya . overripe mushy"
          ],
          [
           "papaya sour lacked sweetness . pleasant eat ."
          ],
          [
           "papaya underwhelming . lacked flavor grainy texture ."
          ],
          [
           "poor quality papaya . underripe hard eat . disappointing ."
          ],
          [
           "papaya fine . decent flavor n't sweet expected ."
          ],
          [
           "average papaya . ripe juicy , taste quite mild ."
          ],
          [
           "good quality"
          ],
          [
           "soft"
          ],
          [
           "size also good"
          ],
          [
           "clean fresh"
          ],
          [
           "better taste"
          ],
          [
           "please keep ."
          ],
          [
           "genuine rate"
          ],
          [
           "papaya excellent quality"
          ],
          [
           "allowed 2 day become full ripe ."
          ],
          [
           "nice make juice"
          ],
          [
           "incredible"
          ],
          [
           "good product , little hard value money ."
          ],
          [
           "best discounted price"
          ],
          [
           "delicious"
          ],
          [
           "sweet tasty"
          ],
          [
           "healthy fruit - thanks lot"
          ],
          [
           "excellent product"
          ],
          [
           "excellent quality"
          ],
          [
           "soft easy eatable"
          ],
          [
           "good smell"
          ],
          [
           "soft , damage , durable"
          ],
          [
           "rate cheap"
          ],
          [
           "satisfactory"
          ],
          [
           "bad"
          ],
          [
           "sweet"
          ],
          [
           "fresh"
          ],
          [
           "ok ok type"
          ],
          [
           "sweet enough ."
          ],
          [
           "useful"
          ],
          [
           "one good one little damaged"
          ],
          [
           "inner portion hard tasty"
          ],
          [
           "fresh product"
          ],
          [
           "size smaller expected"
          ],
          [
           "size small price paid 50+ rupee"
          ],
          [
           "rubbish"
          ],
          [
           "truly speaking , n't like ."
          ],
          [
           "ripen sweet papaya use"
          ],
          [
           "recieved small piece"
          ],
          [
           "one piece received fallen stone"
          ],
          [
           "bad experience"
          ],
          [
           "papaya n't eatable condition"
          ],
          [
           "raw"
          ],
          [
           "fruit smashed delivery"
          ],
          [
           "ripe"
          ],
          [
           "small size good taste"
          ],
          [
           "size small price"
          ],
          [
           "product 's value"
          ],
          [
           "good taste"
          ],
          [
           "received unriped green"
          ],
          [
           "raw n took ripe"
          ],
          [
           "cleansed fruit"
          ],
          [
           "good big size"
          ],
          [
           "found best taste"
          ],
          [
           "fertilizer"
          ],
          [
           "genuine rate"
          ],
          [
           "great making smoothy"
          ],
          [
           "arrived perfect condition"
          ],
          [
           "impressed"
          ],
          [
           "best skincare"
          ],
          [
           "feel healthier adding daily meal"
          ],
          [
           "juicy sweet"
          ],
          [
           "perfect summer treat"
          ],
          [
           "love fresh"
          ],
          [
           "great quality"
          ],
          [
           "delicious"
          ],
          [
           "highly recommend"
          ],
          [
           "perfect fo fruit salad"
          ],
          [
           "sweet"
          ],
          [
           "good"
          ],
          [
           "highly recommend"
          ],
          [
           "fresh"
          ],
          [
           "sweet"
          ],
          [
           "satisfied"
          ],
          [
           "must thank store delivering good quality"
          ],
          [
           "fresh ripe"
          ],
          [
           "good one"
          ],
          [
           "fresh"
          ],
          [
           "order"
          ],
          [
           "excellent product ,"
          ],
          [
           "great taste"
          ],
          [
           "value money"
          ],
          [
           "excellent"
          ],
          [
           "overripe"
          ],
          [
           "disappointed"
          ],
          [
           "fresh"
          ],
          [
           "bland"
          ],
          [
           "good"
          ],
          [
           "sour"
          ],
          [
           "sweet enough"
          ],
          [
           "ripe hard"
          ],
          [
           "enjoyable"
          ],
          [
           "damaged"
          ],
          [
           "pineapple bruised"
          ],
          [
           "pineapple dry"
          ],
          [
           "disappointing"
          ],
          [
           "pineapple small"
          ],
          [
           "juicy"
          ],
          [
           "brown spot"
          ],
          [
           "expected better quality price"
          ],
          [
           "overripe"
          ],
          [
           "good"
          ],
          [
           "disappointed"
          ],
          [
           "average quality"
          ],
          [
           "impressed"
          ],
          [
           "'re okay price"
          ],
          [
           "fine"
          ],
          [
           "okay"
          ],
          [
           "average"
          ],
          [
           "alright"
          ],
          [
           "acceptable"
          ],
          [
           "greatest quality"
          ],
          [
           "sour sweet"
          ],
          [
           "purchase"
          ],
          [
           "value good"
          ],
          [
           "edible"
          ],
          [
           "tasty"
          ],
          [
           "size great"
          ],
          [
           "kid ate whole thing"
          ],
          [
           "wow , favourite thing"
          ],
          [
           "juicy sweet"
          ],
          [
           "great treat"
          ],
          [
           "best experience"
          ],
          [
           "quality unimaginable"
          ],
          [
           "brought"
          ],
          [
           "made salad"
          ],
          [
           "perfect fo fruit salad"
          ],
          [
           "superb"
          ],
          [
           "satisfied"
          ],
          [
           "loved"
          ],
          [
           "thank big basket"
          ],
          [
           "taste unbelievable"
          ],
          [
           "delivered great"
          ],
          [
           "must thank store delivering good quality"
          ],
          [
           "fresh forth"
          ],
          [
           "taste"
          ],
          [
           "product outstanding"
          ],
          [
           "order"
          ],
          [
           "taste good"
          ],
          [
           "enjoyed"
          ],
          [
           "ordered several time"
          ],
          [
           "excellent"
          ],
          [
           "hard"
          ],
          [
           "worst one"
          ],
          [
           "leaf rotten"
          ],
          [
           "taste bad ! 1"
          ],
          [
           "overripe"
          ],
          [
           "disappointed"
          ],
          [
           "fresh"
          ],
          [
           "worm"
          ],
          [
           "ordering"
          ],
          [
           "sweet"
          ],
          [
           "ripe"
          ],
          [
           "difficult eat"
          ],
          [
           "did'nt digestive"
          ],
          [
           "got sick eating"
          ],
          [
           "pineapple"
          ],
          [
           "hate bigbasket"
          ],
          [
           "size good"
          ],
          [
           "tried make juice , got worse"
          ],
          [
           "ah ard time cutting"
          ],
          [
           "brown spot"
          ],
          [
           "deleting app"
          ],
          [
           "lost taste"
          ],
          [
           "bad opinion"
          ],
          [
           "impressed"
          ],
          [
           "taste good , outline bad"
          ],
          [
           "average taste"
          ],
          [
           "average"
          ],
          [
           "regret thats"
          ],
          [
           "'re okay price"
          ],
          [
           "fine"
          ],
          [
           "okay"
          ],
          [
           "average"
          ],
          [
           "alright"
          ],
          [
           "acceptable"
          ],
          [
           "super sweet juicy , loved ."
          ],
          [
           "pineapple fresh delicious ."
          ],
          [
           "perfectly ripe , wanted ."
          ],
          [
           "flavorful tasty , really enjoyed ."
          ],
          [
           "amazing quality , sweet juicy ."
          ],
          [
           "best pineapple ever , highly recommend !"
          ],
          [
           "incredibly fresh juicy , perfect summer ."
          ],
          [
           "perfect fruit salad , great flavor ."
          ],
          [
           "kid loved , buy ."
          ],
          [
           "great taste texture , satisfying ."
          ],
          [
           "absolutely delicious pineapple , sweet ."
          ],
          [
           "fresh sweet , like home ."
          ],
          [
           "really juicy flavorful , worth every penny ."
          ],
          [
           "exceeded expectation , tasty ."
          ],
          [
           "best 've , juicy ."
          ],
          [
           "wonderful pineapple , fresh sweet ."
          ],
          [
           "juicy flavorful , reorder ."
          ],
          [
           "fresh delicious , great snack ."
          ],
          [
           "amazing taste , perfectly ripe sweet ."
          ],
          [
           "perfectly sweet fresh , loved ."
          ],
          [
           "pineapple okay , best ."
          ],
          [
           "average pineapple , sweet part , others ."
          ],
          [
           "fine , nothing special ."
          ],
          [
           "decent pineapple , consistent ."
          ],
          [
           "fresh sweet ."
          ],
          [
           "pineapple alright , okay ."
          ],
          [
           "bad , great either ."
          ],
          [
           "pretty average pineapple ."
          ],
          [
           "fair quality , expected better ."
          ],
          [
           "part good , others bland ."
          ],
          [
           "really disappointed , fresh ."
          ],
          [
           "bruised mushy , bad ."
          ],
          [
           "sour enjoyable"
          ],
          [
           "poor quality , wo n't buy ."
          ],
          [
           "bland taste , sweetness ."
          ],
          [
           "terrible taste , could n't eat ."
          ],
          [
           "waste money , bad ."
          ],
          [
           "overripe spoiled"
          ],
          [
           "small ripe , disappointed ."
          ],
          [
           "good , unsatisfied ."
          ],
          [
           "waste worthy"
          ],
          [
           "overpriced poor quality ."
          ],
          [
           "worst taste"
          ],
          [
           "good"
          ],
          [
           "taste like bad"
          ],
          [
           "god health"
          ],
          [
           "unhealthy"
          ],
          [
           "disappointing"
          ],
          [
           "unexpexted taste like worst"
          ],
          [
           "taste expected"
          ],
          [
           "pineapple sweet juicy , perfect balance tartness"
          ],
          [
           "absolutely loved pineapple ! ripe , sweet , bursting flavor ."
          ],
          [
           "pineapple amazing . super fresh wonderful"
          ],
          [
           "excellent pineapple . juicy sweet right amount"
          ],
          [
           "pineapple overripe mushy . n't taste fresh"
          ],
          [
           "happy pineapple . sour lacked sweetness"
          ],
          [
           "pineapple good . stringy taste ."
          ],
          [
           "poor quality pineapple . underripe hard eat . enjoyable ."
          ],
          [
           "pineapple okay . decent flavor n't sweet hoped ."
          ],
          [
           "average pineapple . juicy , taste quite mild . fine"
          ],
          [
           "good"
          ],
          [
           "juiced"
          ],
          [
           "love juice"
          ],
          [
           "quality unimaginable"
          ],
          [
           "sweet sour"
          ],
          [
           "recommend product"
          ],
          [
           "must include fruit salad"
          ],
          [
           "sweet"
          ],
          [
           "superb"
          ],
          [
           "buy"
          ],
          [
           "health"
          ],
          [
           "juicy"
          ],
          [
           "satisfied"
          ],
          [
           "im thankful"
          ],
          [
           "excellent condition"
          ],
          [
           "good product good pineapple flavor"
          ],
          [
           "fresh forth"
          ],
          [
           "recommendable"
          ],
          [
           "excellent product ,"
          ],
          [
           "great taste"
          ],
          [
           "value money"
          ],
          [
           "taste sweet ."
          ],
          [
           "overripe"
          ],
          [
           "disatisfied"
          ],
          [
           "taste like tonic"
          ],
          [
           "tasteless"
          ],
          [
           "good"
          ],
          [
           "sour"
          ],
          [
           "sweet enough"
          ],
          [
           "ripe hard"
          ],
          [
           "did'nt digestive"
          ],
          [
           "spoiled product wo n't buy"
          ],
          [
           "pineapple bruised"
          ],
          [
           "pineapple dry"
          ],
          [
           "bad"
          ],
          [
           "day ruined"
          ],
          [
           "juicy"
          ],
          [
           "brown spot"
          ],
          [
           "expected better quality price"
          ],
          [
           "close pineapple taste"
          ],
          [
           "'ve waiting turned bad"
          ],
          [
           "buy"
          ],
          [
           "okay satisfiable"
          ],
          [
           "impressed"
          ],
          [
           "'re okay price"
          ],
          [
           "fine"
          ],
          [
           "liked"
          ],
          [
           "average"
          ],
          [
           "good old stock"
          ],
          [
           "acceptable"
          ],
          [
           "greatest quality"
          ],
          [
           "sour sweet"
          ],
          [
           "purchase"
          ],
          [
           "value good"
          ],
          [
           "edible"
          ],
          [
           "spoil within 2days"
          ],
          [
           "unhealthy unacceptable"
          ],
          [
           "would n't recommend guy"
          ],
          [
           "fruit quality bad"
          ],
          [
           "spoilt dripping smelling"
          ],
          [
           "none eatable !"
          ],
          [
           "never recommend buying strawberry"
          ],
          [
           "ordered 2 packet strawberry bad quality ."
          ],
          [
           "strawberry soar near expiry ."
          ],
          [
           "’ buy"
          ],
          [
           "receieved rotten strawberry"
          ],
          [
           "kindly check fruit receive time"
          ],
          [
           "worst quality ... see worm ... pathetic"
          ],
          [
           "wud give negative star possible"
          ],
          [
           "majority rotten"
          ],
          [
           "dont take risk n buy local fruit vendor ."
          ],
          [
           "wish didnt sell product"
          ],
          [
           "tiny little berry ,"
          ],
          [
           "never buying ."
          ],
          [
           "packet strawberry bad"
          ],
          [
           "fruit inside pack decayed"
          ],
          [
           "thrown away ."
          ],
          [
           "poor quality"
          ],
          [
           "really fresh clean"
          ],
          [
           "buy ."
          ],
          [
           "good product"
          ],
          [
           "fresh & delicious"
          ],
          [
           "good"
          ],
          [
           "good quantity"
          ],
          [
           "strawberry look smell incredible"
          ],
          [
           "packed full flavour even cooking taste delicious ."
          ],
          [
           "try amul icecream , thank"
          ],
          [
           "good quality strawberry"
          ],
          [
           "purchased multiple box"
          ],
          [
           "absolutely fresh , similar size piece"
          ],
          [
           "neatly packed good size . loved ."
          ],
          [
           "expecting much strawberry sweet fresh"
          ],
          [
           "loved"
          ],
          [
           "strawberry fresh , delicious , sweet"
          ],
          [
           "definitely regular customer strawberry amazon fresh ."
          ],
          [
           "freshness , juicy tasty ."
          ],
          [
           "happy taste quality"
          ],
          [
           "ordering almost every day"
          ],
          [
           "fruit fresh juicy . please maintain quality . thank"
          ],
          [
           "fresh"
          ],
          [
           "piece gud"
          ],
          [
           "quality ok ."
          ],
          [
           "ok"
          ],
          [
           "sour taste"
          ],
          [
           "fresh sweet single strawberry little sweat"
          ],
          [
           "cheating"
          ],
          [
           "waste product"
          ],
          [
           "n't online"
          ],
          [
           "strawberry"
          ],
          [
           "negative"
          ],
          [
           "stored , spoiled"
          ],
          [
           "soon opened , gut smell"
          ],
          [
           "ordering strawberry"
          ],
          [
           "red , white"
          ],
          [
           "look like artificial"
          ],
          [
           "unacceptable"
          ],
          [
           "n't allow one eat"
          ],
          [
           "thought th ey would better"
          ],
          [
           "spoilted"
          ],
          [
           "colour good '"
          ],
          [
           "never buy bb"
          ],
          [
           "reported"
          ],
          [
           "bit late , woud raw"
          ],
          [
           "food poisoining"
          ],
          [
           "better buy"
          ],
          [
           "waste money"
          ],
          [
           "majority rotten"
          ],
          [
           "risking buy"
          ],
          [
           "wish didnt buy"
          ],
          [
           "idk could sell"
          ],
          [
           "small size"
          ],
          [
           "size good"
          ],
          [
           "packet old one"
          ],
          [
           "didnt even touch"
          ],
          [
           "fruit inside pack decayed"
          ],
          [
           "thrown away ."
          ],
          [
           "poor quality"
          ],
          [
           "5 star"
          ],
          [
           "full rating"
          ],
          [
           "delicious"
          ],
          [
           "sweet '"
          ],
          [
           "addicted"
          ],
          [
           "randomly mind blown"
          ],
          [
           "superb ! !"
          ],
          [
           "wife enjoyed"
          ],
          [
           "good"
          ],
          [
           "good quantity"
          ],
          [
           "did'nt expect good"
          ],
          [
           "packed full flavour even cooking taste delicious ."
          ],
          [
           "try amul icecream , thank"
          ],
          [
           "made juice"
          ],
          [
           "incredible"
          ],
          [
           "going forget vendor"
          ],
          [
           "big basket good"
          ],
          [
           "sure , seeing product shocked , great"
          ],
          [
           "fresh"
          ],
          [
           "recomended"
          ],
          [
           "juicy"
          ],
          [
           "strwaberries red"
          ],
          [
           "great quality"
          ],
          [
           "quality price good"
          ],
          [
           "excellent quality"
          ],
          [
           "liked"
          ],
          [
           "sweet"
          ],
          [
           "sour taste"
          ],
          [
           "good"
          ],
          [
           "berry"
          ],
          [
           "good , eatable"
          ],
          [
           "convincble"
          ],
          [
           "ok"
          ],
          [
           "good super"
          ],
          [
           "taste good"
          ],
          [
           "delicious"
          ],
          [
           "juicy juicy one"
          ],
          [
           "flavourable"
          ],
          [
           "taste awesome definite try"
          ],
          [
           "taste great experience"
          ],
          [
           "greatest taste ever strawberry"
          ],
          [
           "good"
          ],
          [
           "good taste"
          ],
          [
           "super sweet bursting flavor !"
          ],
          [
           "strawberry fresh delicious ."
          ],
          [
           "best strawberry 've ever , highly recommend !"
          ],
          [
           "kid could n't get enough , buy ."
          ],
          [
           "fresh sweet ."
          ],
          [
           "loved every bite ."
          ],
          [
           "reorder sure ."
          ],
          [
           "amazing quality"
          ],
          [
           "amazing quality , sweet flavorful ."
          ],
          [
           "top notch"
          ],
          [
           "strawberry okay , best ."
          ],
          [
           "nothing special ."
          ],
          [
           "decent strawberry"
          ],
          [
           "strawberry alright , okay ."
          ],
          [
           "nothing good"
          ],
          [
           "wish dont want buy"
          ],
          [
           "didnt expect taste bad"
          ],
          [
           "good"
          ],
          [
           "fruit doesnt speacial taste good"
          ],
          [
           "horrible taste fruit"
          ],
          [
           "dont recommoned buy"
          ],
          [
           "nothing goob dont buy"
          ],
          [
           "throwed house"
          ],
          [
           "spoiled within hoursdont buy buy bw fool"
          ],
          [
           "price high taste worst"
          ],
          [
           "worst experience ever"
          ],
          [
           "taste bad dont buy"
          ],
          [
           "dont experience"
          ],
          [
           "something recommend"
          ],
          [
           "dont buy better buy platform"
          ],
          [
           "nothing much good taste okay"
          ],
          [
           "highly recommend try"
          ],
          [
           "first time experienced taste average"
          ],
          [
           "try much good"
          ],
          [
           "okay okay taste strawberry"
          ],
          [
           "try much goood platform"
          ],
          [
           "try nothing much"
          ],
          [
           "recommend nut worst"
          ],
          [
           "upto mark try"
          ],
          [
           "great okay"
          ],
          [
           "spoil within 2days"
          ],
          [
           "unhealthy unacceptable"
          ],
          [
           "would n't recommend guy"
          ],
          [
           "fruit quality bad"
          ],
          [
           "spoilt dripping smelling"
          ],
          [
           "none eatable !"
          ],
          [
           "never recommend buying strawberry"
          ],
          [
           "ordered 2 packet strawberry bad quality ."
          ],
          [
           "strawberry soar near expiry ."
          ],
          [
           "’ buy"
          ],
          [
           "receieved rotten strawberry"
          ],
          [
           "kindly check fruit receive time"
          ],
          [
           "worst quality ... see worm ... pathetic"
          ],
          [
           "wud give negative star possible"
          ],
          [
           "trash-quality fruit ."
          ],
          [
           "dont take risk n buy local fruit vendor ."
          ],
          [
           "wish didnt sell product"
          ],
          [
           "tiny little berry ,"
          ],
          [
           "never buying ."
          ],
          [
           "packet strawberry bad"
          ],
          [
           "fruit inside pack decayed"
          ],
          [
           "thrown away ."
          ],
          [
           "poor quality"
          ],
          [
           "really fresh clean"
          ],
          [
           "buy ."
          ],
          [
           "flaw ! !"
          ],
          [
           "sweet"
          ],
          [
           "sweet delicious"
          ],
          [
           "good quantity"
          ],
          [
           "good cake topping"
          ],
          [
           "packed full flavour even cooking taste delicious ."
          ],
          [
           "make good sweet replacement"
          ],
          [
           "big juicy sweet"
          ],
          [
           "purchased multiple box"
          ],
          [
           "absolutely fresh , similar size piece"
          ],
          [
           "neatly packed good size . loved ."
          ],
          [
           "good"
          ],
          [
           "loved"
          ],
          [
           "strawberry fresh , delicious , sweet"
          ],
          [
           "definitely regular customer strawberry freshindia ."
          ],
          [
           "nicely packed"
          ],
          [
           "happy taste quality"
          ],
          [
           "ordering almost every day"
          ],
          [
           "fruit fresh juicy . please maintain quality . thank"
          ],
          [
           "fresh"
          ],
          [
           "piece gud"
          ],
          [
           "quality ok ."
          ],
          [
           "bad"
          ],
          [
           "sour taste"
          ],
          [
           "fresh sweet single strawberry little sweat"
          ],
          [
           "fake product"
          ],
          [
           "waste product"
          ],
          [
           "n't online"
          ],
          [
           "strawberry"
          ],
          [
           "spoil within 3days"
          ],
          [
           "good"
          ],
          [
           "plucked right time"
          ],
          [
           "taste good"
          ],
          [
           "tasted strong desi guava flavour"
          ],
          [
           "fresh tasty"
          ],
          [
           "guava delicious"
          ],
          [
           "good taste value money"
          ],
          [
           "right"
          ],
          [
           "kept day"
          ],
          [
           "great texture ."
          ],
          [
           "nice quality"
          ],
          [
           "good"
          ],
          [
           "ok"
          ],
          [
           "good quality"
          ],
          [
           "excellent fresh"
          ],
          [
           "like fresh , soft"
          ],
          [
           "worth money ."
          ],
          [
           "good"
          ],
          [
           "good one"
          ],
          [
           "good"
          ],
          [
           "item delivered good condition"
          ],
          [
           "quality product good"
          ],
          [
           "thank amazon ."
          ],
          [
           "tasty pulpy fruit"
          ],
          [
           "fewer seed make different small guava ."
          ],
          [
           "low quality small size"
          ],
          [
           "many row form eatable"
          ],
          [
           "hard"
          ],
          [
           "fresh"
          ],
          [
           "unable eat ripened bit"
          ],
          [
           "worst"
          ],
          [
           "prematured guva hard eat"
          ],
          [
           "suitable child"
          ],
          [
           "bad"
          ],
          [
           "developed guava sent"
          ],
          [
           "mentioned fresh , poor quality worm old stock ."
          ],
          [
           "poor quality"
          ],
          [
           "old refrigerated product sold"
          ],
          [
           "disappointed product ."
          ],
          [
           "3rd class product"
          ],
          [
           "false pic description"
          ],
          [
           "say amazon fresh case"
          ],
          [
           "pity ."
          ],
          [
           "ok"
          ],
          [
           "taste n't much good"
          ],
          [
           "better buy outside vendor ."
          ],
          [
           "taste okay"
          ],
          [
           "worth price"
          ],
          [
           "good see taste"
          ],
          [
           "good"
          ],
          [
           "terrible !"
          ],
          [
           "never ripened"
          ],
          [
           "ripe good"
          ],
          [
           "throw"
          ],
          [
           "n't ripe"
          ],
          [
           "waste money"
          ],
          [
           "pity give negative rating"
          ],
          [
           "horrid smell"
          ],
          [
           "develop dark spot"
          ],
          [
           "disappointed received"
          ],
          [
           "green"
          ],
          [
           "great fruit adding salad"
          ],
          [
           "fav fruit guava loved taste"
          ],
          [
           "better"
          ],
          [
           "good"
          ],
          [
           "recommending"
          ],
          [
           "flaw ! !"
          ],
          [
           "straight farm"
          ],
          [
           "delicious"
          ],
          [
           "loved taste"
          ],
          [
           "great texture ."
          ],
          [
           "big basket great"
          ],
          [
           "best best"
          ],
          [
           "loved quality"
          ],
          [
           "nice quality"
          ],
          [
           "wow"
          ],
          [
           "great"
          ],
          [
           "nice"
          ],
          [
           "soft"
          ],
          [
           "did'nt feel like eating"
          ],
          [
           "good real"
          ],
          [
           "good"
          ],
          [
           "superb"
          ],
          [
           "credit bb"
          ],
          [
           "guava amazing"
          ],
          [
           "quality product good"
          ],
          [
           "pulpy"
          ],
          [
           "healthy stuff"
          ],
          [
           "size good"
          ],
          [
           "low quality small size"
          ],
          [
           "black spot"
          ],
          [
           "taste sour"
          ],
          [
           "hard teeth bite"
          ],
          [
           "inside bad"
          ],
          [
           "many row form eatable"
          ],
          [
           "hard"
          ],
          [
           "fresh"
          ],
          [
           "unable eat ripened bit"
          ],
          [
           "worst"
          ],
          [
           "worse experience"
          ],
          [
           "don.t give eat"
          ],
          [
           "bad"
          ],
          [
           "old product"
          ],
          [
           "should'nt eat"
          ],
          [
           "poor"
          ],
          [
           "old refrigerated product sold"
          ],
          [
           "even animal could eat"
          ],
          [
           "downgraded product"
          ],
          [
           "false advertisement first place"
          ],
          [
           "okay"
          ],
          [
           "eatable"
          ],
          [
           "did'nt taste hat good"
          ],
          [
           "comparable"
          ],
          [
           "eaten"
          ],
          [
           "ca n't consume day"
          ],
          [
           "open servable"
          ],
          [
           "taste good"
          ],
          [
           "good"
          ],
          [
           "okay , thats"
          ],
          [
           "good quantity"
          ],
          [
           "super sweet juicy , loved !"
          ],
          [
           "incredibly fresh delicious guava ."
          ],
          [
           "perfectly ripe , wanted ."
          ],
          [
           "flavorful tasty , really enjoyed ."
          ],
          [
           "amazing quality , sweet juicy ."
          ],
          [
           "best guava 've , highly recommend !"
          ],
          [
           "incredibly fresh juicy , perfect snack ."
          ],
          [
           "perfect fruit salad , great flavor ."
          ],
          [
           "absolutely delicious guava , sweet ."
          ],
          [
           "fresh"
          ],
          [
           "really juicy flavorfull"
          ],
          [
           "exceeded expectation"
          ],
          [
           "sweet"
          ],
          [
           "good"
          ],
          [
           "tasty"
          ],
          [
           "delicious"
          ],
          [
           "wonderful guava"
          ],
          [
           "taste good"
          ],
          [
           "guava delicious"
          ],
          [
           "juicy"
          ],
          [
           "poor quality"
          ],
          [
           "sour"
          ],
          [
           "sweetness ."
          ],
          [
           "poor quality"
          ],
          [
           "terrible taste"
          ],
          [
           "waste money wort taste"
          ],
          [
           "disappointing"
          ],
          [
           "wo n't buy guava"
          ],
          [
           "taste bad"
          ],
          [
           "highly recomondable"
          ],
          [
           "unexpected un wanted experience"
          ],
          [
           "horrible"
          ],
          [
           "worst taste ever"
          ],
          [
           "good"
          ],
          [
           "bad taste also unhealthy"
          ],
          [
           "taste good"
          ],
          [
           "bad"
          ],
          [
           "healthy"
          ],
          [
           "good aslo bad taste"
          ],
          [
           "hell experience"
          ],
          [
           "average"
          ],
          [
           "okay expected"
          ],
          [
           "nothing special"
          ],
          [
           "typical guava flavor"
          ],
          [
           "acceptable quality"
          ],
          [
           "taste"
          ],
          [
           "so-so experience"
          ],
          [
           "great one"
          ],
          [
           "average"
          ],
          [
           "normal taste"
          ],
          [
           "guava incredibly sweet fragrant . wonderful tropical flavor"
          ],
          [
           "loved guava ! perfectly ripe , juicy , delightful taste ."
          ],
          [
           "guava amazing . sweet , juicy , bursting flavor ."
          ],
          [
           "excellent guava . lovely aroma super tasty ."
          ],
          [
           "disappointed guava . overripe mushy ."
          ],
          [
           "guava sour lacked sweetness . pleasant eat . ``"
          ],
          [
           "guava underwhelming . lacked flavor grainy texture ."
          ],
          [
           "`` poor quality guava . underripe hard eat . disappointing . ``"
          ],
          [
           "guava fine . decent flavor n't sweet expected"
          ],
          [
           "average guava . ripe juicy , taste quite mild ."
          ],
          [
           "feel refreshing"
          ],
          [
           "plucked right time"
          ],
          [
           "taste good"
          ],
          [
           "tasted strong desi guava flavour"
          ],
          [
           "le seed really liked"
          ],
          [
           "guava delicious"
          ],
          [
           "good taste value money"
          ],
          [
           "right"
          ],
          [
           "kept day"
          ],
          [
           "great texture ."
          ],
          [
           "great deal"
          ],
          [
           "used juice , good"
          ],
          [
           "n't much sugar level"
          ],
          [
           "good quality"
          ],
          [
           "excellent fresh"
          ],
          [
           "like fresh , soft"
          ],
          [
           "worth money ."
          ],
          [
           "5 star deserves"
          ],
          [
           "super tasty"
          ],
          [
           "really love product"
          ],
          [
           "item delivered good condition"
          ],
          [
           "quality product good"
          ],
          [
           "thank freshindia ."
          ],
          [
           "tasty pulpy fruit"
          ],
          [
           "fewer seed easy eat"
          ],
          [
           "low quality small size"
          ],
          [
           "many row form eatable"
          ],
          [
           "hard"
          ],
          [
           "ah ard time cutting"
          ],
          [
           "unable eat ripened bit"
          ],
          [
           "lost taste"
          ],
          [
           "plucked soon"
          ],
          [
           "suitable child"
          ],
          [
           "received expired product"
          ],
          [
           "developed guava sent"
          ],
          [
           "mentioned fresh , poor quality worm old stock ."
          ],
          [
           "give 0 star rating"
          ],
          [
           "eatable"
          ],
          [
           "disappointed product ."
          ],
          [
           "3rd class product"
          ],
          [
           "false pic description"
          ],
          [
           "say fresh case"
          ],
          [
           "bitter"
          ],
          [
           "ok"
          ],
          [
           "taste n't much good"
          ],
          [
           "better buy outside vendor ."
          ],
          [
           "taste okay"
          ],
          [
           "worth price"
          ],
          [
           "good see taste"
          ],
          [
           "good"
          ],
          [
           "terrible !"
          ],
          [
           "never ripened"
          ],
          [
           "ripe good"
          ],
          [
           "throw"
          ],
          [
           "n't ripe"
          ],
          [
           "waste money"
          ],
          [
           "pity give negative rating"
          ],
          [
           "horrid smell"
          ],
          [
           "develop dark spot"
          ],
          [
           "disappointed received"
          ]
         ],
         "hovertemplate": "Comment Length=%{x}<br>Word Count=%{y}<br>Comment=%{customdata[0]}<br>Label=%{marker.color}<extra></extra>",
         "legendgroup": "",
         "marker": {
          "color": [
           1,
           1,
           1,
           1,
           1,
           1,
           1,
           1,
           1,
           1,
           1,
           1,
           1,
           1,
           -1,
           -1,
           -1,
           -1,
           -1,
           -1,
           -1,
           -1,
           -1,
           -1,
           0,
           0,
           0,
           0,
           -1,
           -1,
           -1,
           -1,
           1,
           0,
           0,
           0,
           0,
           0,
           0,
           1,
           1,
           1,
           1,
           1,
           1,
           1,
           1,
           1,
           1,
           1,
           -1,
           -1,
           -1,
           -1,
           -1,
           -1,
           -1,
           -1,
           -1,
           -1,
           1,
           1,
           1,
           1,
           1,
           1,
           1,
           1,
           1,
           1,
           -1,
           -1,
           -1,
           -1,
           -1,
           -1,
           0,
           0,
           -1,
           -1,
           -1,
           0,
           -1,
           0,
           0,
           0,
           0,
           0,
           0,
           1,
           1,
           1,
           1,
           1,
           1,
           1,
           1,
           1,
           1,
           1,
           -1,
           -1,
           -1,
           -1,
           -1,
           -1,
           -1,
           -1,
           -1,
           -1,
           1,
           1,
           1,
           1,
           1,
           1,
           1,
           1,
           1,
           -1,
           1,
           1,
           1,
           -1,
           -1,
           0,
           1,
           1,
           1,
           1,
           1,
           1,
           1,
           1,
           1,
           1,
           1,
           -1,
           -1,
           -1,
           -1,
           -1,
           -1,
           -1,
           -1,
           -1,
           -1,
           -1,
           -1,
           -1,
           -1,
           -1,
           -1,
           0,
           0,
           0,
           0,
           0,
           0,
           0,
           0,
           0,
           0,
           0,
           0,
           1,
           1,
           1,
           1,
           1,
           1,
           1,
           1,
           1,
           1,
           -1,
           -1,
           -1,
           -1,
           -1,
           -1,
           0,
           0,
           -1,
           -1,
           -1,
           0,
           -1,
           0,
           0,
           0,
           0,
           0,
           -1,
           1,
           1,
           1,
           1,
           1,
           1,
           1,
           1,
           1,
           1,
           1,
           -1,
           -1,
           -1,
           -1,
           -1,
           -1,
           -1,
           -1,
           -1,
           -1,
           1,
           1,
           1,
           1,
           1,
           1,
           1,
           1,
           1,
           -1,
           -1,
           -1,
           -1,
           0,
           0,
           1,
           1,
           1,
           1,
           1,
           1,
           1,
           1,
           1,
           1,
           1,
           1,
           1,
           1,
           1,
           1,
           1,
           1,
           1,
           1,
           1,
           -1,
           -1,
           -1,
           -1,
           -1,
           -1,
           -1,
           -1,
           -1,
           -1,
           -1,
           -1,
           -1,
           -1,
           -1,
           -1,
           -1,
           -1,
           -1,
           -1,
           -1,
           -1,
           0,
           0,
           0,
           0,
           0,
           0,
           0,
           1,
           1,
           1,
           1,
           1,
           1,
           1,
           1,
           1,
           1,
           1,
           1,
           1,
           1,
           1,
           1,
           1,
           1,
           1,
           1,
           1,
           1,
           1,
           0,
           0,
           0,
           0,
           0,
           0,
           0,
           0,
           0,
           0,
           0,
           0,
           0,
           0,
           0,
           -1,
           -1,
           -1,
           -1,
           -1,
           -1,
           -1,
           -1,
           -1,
           -1,
           -1,
           -1,
           -1,
           -1,
           -1,
           -1,
           -1,
           1,
           1,
           1,
           1,
           1,
           1,
           1,
           1,
           1,
           1,
           1,
           1,
           1,
           1,
           1,
           1,
           1,
           1,
           1,
           1,
           -1,
           -1,
           -1,
           -1,
           -1,
           -1,
           -1,
           -1,
           -1,
           -1,
           -1,
           -1,
           -1,
           -1,
           -1,
           -1,
           -1,
           -1,
           -1,
           -1,
           0,
           0,
           0,
           0,
           0,
           0,
           0,
           0,
           0,
           0,
           1,
           1,
           1,
           1,
           1,
           1,
           1,
           1,
           1,
           1,
           1,
           1,
           1,
           1,
           1,
           1,
           1,
           1,
           1,
           1,
           1,
           -1,
           -1,
           -1,
           -1,
           -1,
           -1,
           -1,
           -1,
           -1,
           -1,
           -1,
           -1,
           -1,
           -1,
           -1,
           -1,
           -1,
           -1,
           -1,
           -1,
           -1,
           -1,
           0,
           0,
           0,
           0,
           0,
           0,
           0,
           1,
           1,
           1,
           1,
           1,
           -1,
           -1,
           -1,
           -1,
           -1,
           -1,
           -1,
           -1,
           -1,
           -1,
           -1,
           -1,
           -1,
           -1,
           -1,
           -1,
           -1,
           -1,
           -1,
           -1,
           1,
           1,
           1,
           1,
           1,
           1,
           1,
           1,
           1,
           1,
           1,
           1,
           1,
           1,
           1,
           1,
           1,
           1,
           1,
           0,
           0,
           0,
           0,
           0,
           0,
           0,
           0,
           0,
           -1,
           -1,
           -1,
           -1,
           -1,
           -1,
           -1,
           -1,
           -1,
           1,
           1,
           1,
           -1,
           -1,
           -1,
           -1,
           -1,
           -1,
           -1,
           -1,
           -1,
           -1,
           -1,
           -1,
           -1,
           -1,
           -1,
           -1,
           -1,
           -1,
           -1,
           -1,
           -1,
           -1,
           -1,
           -1,
           1,
           1,
           1,
           1,
           1,
           1,
           1,
           1,
           1,
           1,
           1,
           1,
           1,
           1,
           1,
           1,
           1,
           1,
           1,
           1,
           1,
           1,
           1,
           1,
           1,
           0,
           0,
           0,
           0,
           0,
           0,
           0,
           0,
           0,
           -1,
           -1,
           1,
           1,
           1,
           1,
           1,
           1,
           1,
           1,
           1,
           1,
           1,
           1,
           1,
           1,
           1,
           1,
           1,
           1,
           1,
           -1,
           -1,
           -1,
           -1,
           -1,
           -1,
           -1,
           -1,
           -1,
           -1,
           -1,
           -1,
           -1,
           -1,
           -1,
           -1,
           -1,
           -1,
           -1,
           -1,
           0,
           0,
           0,
           0,
           0,
           0,
           0,
           0,
           0,
           0,
           0,
           -1,
           -1,
           -1,
           -1,
           -1,
           -1,
           -1,
           -1,
           -1,
           -1,
           -1,
           -1,
           -1,
           -1,
           -1,
           -1,
           -1,
           -1,
           -1,
           -1,
           1,
           1,
           1,
           1,
           1,
           1,
           1,
           1,
           1,
           1,
           1,
           1,
           1,
           1,
           1,
           1,
           1,
           1,
           1,
           0,
           0,
           0,
           0,
           0,
           0,
           0,
           0,
           0,
           -1,
           -1,
           1,
           1,
           1,
           -1,
           -1,
           -1,
           -1,
           -1,
           -1,
           -1,
           1,
           1,
           1,
           1,
           1,
           1,
           1,
           1,
           1,
           1,
           1,
           1,
           1,
           1,
           1,
           1,
           1,
           1,
           1,
           -1,
           -1,
           -1,
           -1,
           -1,
           -1,
           -1,
           -1,
           -1,
           -1,
           -1,
           -1,
           -1,
           -1,
           -1,
           -1,
           -1,
           -1,
           -1,
           -1,
           -1,
           -1,
           0,
           0,
           0,
           0,
           0,
           0,
           0,
           0,
           0,
           1,
           1,
           1,
           1,
           1,
           1,
           1,
           1,
           1,
           1,
           1,
           1,
           1,
           1,
           1,
           1,
           1,
           1,
           1,
           1,
           1,
           1,
           1,
           1,
           -1,
           -1,
           -1,
           -1,
           -1,
           -1,
           -1,
           -1,
           -1,
           -1,
           -1,
           -1,
           -1,
           -1,
           -1,
           -1,
           -1,
           -1,
           -1,
           -1,
           0,
           0,
           0,
           0,
           0,
           0,
           0,
           0,
           0,
           0,
           0,
           1,
           1,
           1,
           1,
           1,
           1,
           1,
           1,
           1,
           1,
           1,
           1,
           1,
           1,
           1,
           1,
           1,
           1,
           1,
           1,
           -1,
           -1,
           -1,
           -1,
           -1,
           -1,
           -1,
           -1,
           -1,
           -1,
           -1,
           -1,
           -1,
           -1,
           -1,
           -1,
           -1,
           -1,
           -1,
           -1,
           -1,
           0,
           0,
           0,
           0,
           0,
           0,
           0,
           0,
           0,
           1,
           1,
           1,
           1,
           -1,
           -1,
           -1,
           -1,
           0,
           0,
           1,
           1,
           1,
           1,
           1,
           1,
           1,
           1,
           1,
           1,
           1,
           1,
           1,
           1,
           1,
           1,
           1,
           1,
           1,
           -1,
           -1,
           -1,
           -1,
           -1,
           -1,
           -1,
           -1,
           -1,
           -1,
           -1,
           -1,
           -1,
           -1,
           -1,
           -1,
           -1,
           -1,
           -1,
           -1,
           -1,
           -1,
           0,
           0,
           0,
           0,
           0,
           0,
           0,
           0,
           0,
           1,
           1,
           1,
           1,
           1,
           1,
           1,
           1,
           1,
           0,
           1,
           1,
           1,
           1,
           1,
           1,
           1,
           1,
           1,
           1,
           1,
           1,
           1,
           1,
           0,
           0,
           0,
           0,
           0,
           0,
           0,
           -1,
           -1,
           -1,
           -1,
           -1,
           -1,
           -1,
           -1,
           -1,
           -1,
           -1,
           -1,
           -1,
           -1,
           -1,
           -1,
           -1,
           -1,
           -1,
           0,
           0,
           0,
           0,
           0,
           1,
           1,
           1,
           1,
           1,
           1,
           1,
           1,
           1,
           1,
           1,
           1,
           1,
           1,
           1,
           1,
           1,
           1,
           0,
           1,
           1,
           1,
           1,
           1,
           1,
           1,
           1,
           1,
           1,
           1,
           1,
           1,
           1,
           0,
           0,
           0,
           0,
           0,
           0,
           0,
           0,
           0,
           -1,
           -1,
           -1,
           -1,
           -1,
           -1,
           -1,
           -1,
           -1,
           -1,
           -1,
           -1,
           -1,
           -1,
           -1,
           -1,
           -1,
           -1,
           -1,
           -1,
           -1,
           -1,
           -1,
           0,
           0,
           0,
           0,
           0,
           1,
           1,
           1,
           1,
           1,
           1,
           1,
           1,
           1,
           1,
           1,
           1,
           1,
           1,
           1,
           1,
           1,
           1,
           1,
           1,
           -1,
           -1,
           -1,
           -1,
           -1,
           -1,
           -1,
           -1,
           -1,
           -1,
           -1,
           -1,
           -1,
           -1,
           -1,
           -1,
           -1,
           -1,
           -1,
           -1,
           0,
           0,
           0,
           0,
           0,
           0,
           0,
           0,
           0,
           0,
           1,
           1,
           1,
           1,
           0,
           1,
           1,
           1,
           1,
           1,
           1,
           1,
           1,
           1,
           1,
           1,
           1,
           1,
           1,
           0,
           0,
           0,
           0,
           0,
           0,
           0,
           -1,
           -1,
           -1,
           -1,
           -1,
           -1,
           -1,
           -1,
           -1,
           -1,
           -1,
           -1,
           -1,
           -1,
           -1,
           -1,
           -1,
           -1,
           -1,
           0,
           0,
           0,
           0,
           0,
           1,
           1,
           1,
           1,
           1,
           1,
           1,
           1,
           1,
           1,
           1,
           1,
           1,
           1,
           -1,
           -1,
           -1,
           -1,
           0,
           0,
           1,
           1,
           1,
           1,
           1,
           1,
           1,
           1,
           1,
           1,
           1,
           1,
           1,
           1,
           1,
           1,
           1,
           1,
           1,
           1,
           1,
           0,
           0,
           0,
           0,
           0,
           0,
           0,
           0,
           0,
           0,
           -1,
           -1,
           -1,
           -1,
           -1,
           -1,
           -1,
           -1,
           -1,
           -1,
           -1,
           -1,
           -1,
           -1,
           0,
           0,
           0,
           0,
           0,
           1,
           1,
           1,
           1,
           1,
           1,
           1,
           1,
           1,
           1,
           1,
           1,
           1,
           1,
           1,
           1,
           1,
           1,
           1,
           1,
           1,
           1,
           1,
           1,
           1,
           1,
           1,
           1,
           1,
           1,
           1,
           1,
           1,
           1,
           1,
           0,
           0,
           0,
           0,
           0,
           0,
           0,
           0,
           0,
           0,
           0,
           0,
           -1,
           -1,
           -1,
           -1,
           -1,
           -1,
           -1,
           -1,
           -1,
           -1,
           -1,
           -1,
           -1,
           -1,
           -1,
           -1,
           -1,
           -1,
           0,
           0,
           0,
           0,
           0,
           1,
           1,
           1,
           1,
           1,
           1,
           1,
           1,
           1,
           1,
           1,
           1,
           1,
           1,
           1,
           1,
           1,
           1,
           1,
           1,
           0,
           0,
           0,
           0,
           0,
           0,
           0,
           0,
           0,
           0,
           -1,
           -1,
           -1,
           -1,
           -1,
           -1,
           -1,
           -1,
           -1,
           -1,
           -1,
           -1,
           -1,
           -1,
           -1,
           -1,
           -1,
           -1,
           -1,
           -1,
           1,
           1,
           1,
           1,
           -1,
           -1,
           -1,
           -1,
           0,
           0,
           1,
           1,
           1,
           1,
           1,
           1,
           1,
           1,
           1,
           1,
           1,
           1,
           1,
           1,
           1,
           1,
           1,
           1,
           1,
           1,
           1,
           0,
           0,
           0,
           0,
           0,
           0,
           0,
           0,
           0,
           0,
           -1,
           -1,
           -1,
           -1,
           -1,
           -1,
           -1,
           -1,
           -1,
           -1,
           -1,
           -1,
           -1,
           -1,
           0,
           0,
           0,
           0,
           0,
           1,
           1,
           1,
           1,
           1,
           1,
           1,
           1,
           1,
           1,
           1,
           1,
           1,
           1,
           1,
           1,
           1,
           1,
           1,
           1,
           1,
           1,
           1,
           1,
           1,
           1,
           1,
           1,
           1,
           1,
           1,
           1,
           1,
           1,
           1,
           1,
           0,
           0,
           0,
           0,
           0,
           0,
           0,
           -1,
           -1,
           -1,
           -1,
           -1,
           -1,
           -1,
           -1,
           -1,
           -1,
           -1,
           -1,
           -1,
           -1,
           -1,
           -1,
           -1,
           -1,
           -1,
           -1,
           -1,
           -1,
           1,
           1,
           1,
           1,
           1,
           1,
           1,
           1,
           1,
           1,
           1,
           1,
           1,
           1,
           1,
           1,
           1,
           1,
           1,
           1,
           1,
           1,
           1,
           1,
           1,
           1,
           1,
           1,
           1,
           1,
           0,
           0,
           0,
           0,
           0,
           0,
           0,
           0,
           0,
           -1,
           -1,
           -1,
           -1,
           -1,
           -1,
           -1,
           -1,
           -1,
           -1,
           -1,
           -1,
           -1,
           -1,
           -1,
           -1,
           -1,
           -1,
           -1,
           -1,
           -1,
           1,
           1,
           1,
           1,
           1,
           1,
           1,
           1,
           1,
           1,
           1,
           1,
           1,
           1,
           1,
           1,
           1,
           1,
           1,
           1,
           -1,
           -1,
           -1,
           -1,
           -1,
           -1,
           -1,
           -1,
           -1,
           -1,
           -1,
           -1,
           -1,
           -1,
           -1,
           -1,
           -1,
           -1,
           -1,
           -1,
           0,
           0,
           0,
           0,
           0,
           0,
           0,
           0,
           0,
           0,
           1,
           1,
           1,
           1,
           -1,
           -1,
           -1,
           -1,
           0,
           0,
           1,
           1,
           1,
           1,
           1,
           1,
           1,
           1,
           1,
           1,
           1,
           1,
           1,
           1,
           1,
           1,
           1,
           1,
           1,
           1,
           1,
           0,
           0,
           0,
           0,
           0,
           0,
           0,
           -1,
           -1,
           -1,
           -1,
           -1,
           -1,
           -1,
           -1,
           -1,
           -1,
           -1,
           -1,
           -1,
           -1,
           -1,
           -1,
           -1,
           -1,
           -1,
           -1,
           -1,
           -1,
           1,
           1,
           1,
           1,
           1,
           1,
           1,
           1,
           1,
           1,
           1,
           1,
           1,
           1,
           1,
           1,
           1,
           1,
           1,
           1,
           1,
           1,
           1,
           1,
           1,
           1,
           1,
           1,
           1,
           1,
           1,
           1,
           -1,
           -1,
           -1,
           -1,
           -1,
           -1,
           -1,
           -1,
           -1,
           -1,
           -1,
           -1,
           -1,
           -1,
           -1,
           -1,
           -1,
           -1,
           -1,
           -1,
           0,
           0,
           0,
           0,
           0,
           0,
           0,
           0,
           1,
           1,
           1,
           1,
           1,
           -1,
           -1,
           -1,
           -1,
           1,
           1,
           1,
           1,
           1,
           1,
           1,
           1,
           1,
           1,
           1,
           1,
           1,
           1,
           1,
           1,
           1,
           1,
           1,
           1,
           1,
           1,
           -1,
           -1,
           -1,
           -1,
           -1,
           -1,
           -1,
           -1,
           -1,
           -1,
           -1,
           -1,
           -1,
           -1,
           -1,
           -1,
           -1,
           -1,
           -1,
           -1,
           -1,
           -1,
           -1,
           -1,
           0,
           0,
           0,
           0,
           0,
           0,
           0,
           0,
           0,
           0,
           1,
           1,
           1,
           1,
           1,
           1,
           1,
           1,
           1,
           1,
           1,
           1,
           1,
           1,
           1,
           1,
           1,
           1,
           1,
           1,
           0,
           0,
           0,
           0,
           0,
           0,
           0,
           0,
           0,
           0,
           -1,
           -1,
           -1,
           -1,
           -1,
           -1,
           -1,
           -1,
           -1,
           -1,
           -1,
           -1,
           -1,
           -1,
           -1,
           -1,
           -1,
           -1,
           -1,
           -1,
           1,
           1,
           1,
           1,
           -1,
           -1,
           -1,
           -1,
           0,
           0,
           1,
           1,
           1,
           1,
           1,
           1,
           1,
           1,
           1,
           1,
           1,
           1,
           1,
           1,
           1,
           1,
           1,
           1,
           1,
           1,
           1,
           1,
           -1,
           -1,
           -1,
           -1,
           -1,
           -1,
           -1,
           -1,
           -1,
           -1,
           -1,
           -1,
           -1,
           -1,
           -1,
           -1,
           -1,
           -1,
           -1,
           -1,
           0,
           0,
           0,
           0,
           0,
           0,
           0,
           0,
           1,
           1,
           1,
           1,
           0,
           -1,
           -1,
           -1,
           -1,
           -1,
           -1,
           -1,
           -1,
           -1,
           -1,
           -1,
           -1,
           -1,
           -1,
           -1,
           -1,
           -1,
           -1,
           -1,
           -1,
           -1,
           -1,
           -1,
           1,
           1,
           1,
           1,
           1,
           1,
           1,
           1,
           1,
           1,
           1,
           1,
           1,
           1,
           1,
           1,
           1,
           1,
           1,
           1,
           1,
           1,
           1,
           0,
           0,
           0,
           0,
           -1,
           -1,
           -1,
           -1,
           -1,
           -1,
           -1,
           -1,
           -1,
           -1,
           -1,
           -1,
           -1,
           -1,
           -1,
           -1,
           -1,
           -1,
           -1,
           -1,
           -1,
           -1,
           -1,
           -1,
           -1,
           -1,
           -1,
           -1,
           -1,
           -1,
           -1,
           -1,
           1,
           1,
           1,
           1,
           1,
           1,
           1,
           1,
           1,
           1,
           1,
           1,
           1,
           1,
           1,
           1,
           1,
           1,
           1,
           1,
           1,
           1,
           1,
           1,
           1,
           1,
           1,
           0,
           0,
           0,
           0,
           0,
           0,
           1,
           1,
           1,
           1,
           1,
           1,
           1,
           1,
           1,
           1,
           1,
           1,
           1,
           1,
           1,
           1,
           1,
           1,
           1,
           1,
           -1,
           -1,
           -1,
           -1,
           -1,
           -1,
           -1,
           -1,
           -1,
           -1,
           -1,
           -1,
           -1,
           -1,
           -1,
           -1,
           -1,
           -1,
           -1,
           -1,
           0,
           0,
           0,
           0,
           0,
           0,
           0,
           0,
           0,
           0,
           -1,
           -1,
           -1,
           -1,
           -1,
           -1,
           -1,
           -1,
           -1,
           -1,
           -1,
           -1,
           -1,
           -1,
           -1,
           -1,
           -1,
           -1,
           -1,
           -1,
           -1,
           -1,
           -1,
           1,
           1,
           1,
           1,
           1,
           1,
           1,
           1,
           1,
           1,
           1,
           1,
           1,
           1,
           1,
           1,
           1,
           1,
           1,
           1,
           1,
           1,
           1,
           0,
           0,
           0,
           0,
           -1,
           -1,
           -1,
           -1,
           -1,
           1,
           1,
           1,
           1,
           1,
           1,
           1,
           1,
           1,
           1,
           1,
           1,
           1,
           1,
           1,
           1,
           1,
           1,
           1,
           1,
           1,
           1,
           1,
           1,
           1,
           -1,
           -1,
           -1,
           -1,
           -1,
           -1,
           -1,
           -1,
           -1,
           -1,
           -1,
           -1,
           -1,
           -1,
           -1,
           -1,
           0,
           0,
           0,
           0,
           0,
           0,
           0,
           0,
           0,
           -1,
           -1,
           -1,
           -1,
           -1,
           -1,
           -1,
           -1,
           -1,
           -1,
           1,
           1,
           1,
           1,
           1,
           1,
           1,
           1,
           1,
           1,
           1,
           1,
           1,
           1,
           1,
           1,
           1,
           1,
           1,
           1,
           1,
           1,
           1,
           1,
           1,
           1,
           1,
           1,
           1,
           -1,
           -1,
           -1,
           -1,
           -1,
           -1,
           -1,
           -1,
           -1,
           -1,
           -1,
           -1,
           -1,
           -1,
           -1,
           -1,
           -1,
           -1,
           -1,
           -1,
           0,
           0,
           0,
           0,
           0,
           0,
           0,
           0,
           0,
           0,
           0,
           1,
           1,
           1,
           1,
           1,
           1,
           1,
           1,
           1,
           1,
           1,
           1,
           1,
           1,
           1,
           1,
           1,
           1,
           1,
           1,
           -1,
           -1,
           -1,
           -1,
           -1,
           -1,
           -1,
           -1,
           -1,
           -1,
           -1,
           -1,
           -1,
           -1,
           -1,
           -1,
           -1,
           -1,
           -1,
           -1,
           0,
           0,
           0,
           0,
           0,
           0,
           0,
           0,
           0,
           0,
           1,
           1,
           1,
           1,
           -1,
           -1,
           -1,
           -1,
           0,
           0,
           1,
           1,
           1,
           1,
           1,
           1,
           1,
           1,
           1,
           1,
           1,
           1,
           1,
           1,
           1,
           1,
           1,
           1,
           1,
           1,
           1,
           1,
           1,
           1,
           1,
           -1,
           -1,
           -1,
           -1,
           -1,
           -1,
           -1,
           -1,
           -1,
           -1,
           -1,
           -1,
           -1,
           -1,
           -1,
           -1,
           0,
           0,
           0,
           0,
           0,
           0,
           0,
           0,
           0,
           -1,
           -1,
           -1,
           -1,
           -1,
           -1,
           -1,
           -1,
           -1,
           -1
          ],
          "coloraxis": "coloraxis",
          "symbol": "circle"
         },
         "mode": "markers",
         "name": "",
         "showlegend": false,
         "type": "scattergl",
         "x": [
          5,
          12,
          6,
          13,
          13,
          17,
          4,
          10,
          15,
          13,
          3,
          11,
          5,
          19,
          12,
          11,
          6,
          29,
          4,
          9,
          12,
          13,
          3,
          17,
          30,
          8,
          2,
          4,
          5,
          18,
          24,
          14,
          3,
          15,
          18,
          12,
          11,
          11,
          13,
          12,
          5,
          5,
          11,
          10,
          17,
          16,
          3,
          24,
          6,
          6,
          11,
          11,
          14,
          11,
          21,
          14,
          8,
          11,
          36,
          8,
          8,
          4,
          30,
          11,
          6,
          26,
          12,
          11,
          17,
          17,
          31,
          17,
          22,
          27,
          27,
          12,
          52,
          36,
          16,
          34,
          8,
          2,
          27,
          23,
          4,
          4,
          20,
          3,
          25,
          34,
          18,
          5,
          12,
          40,
          13,
          13,
          17,
          5,
          36,
          30,
          17,
          25,
          20,
          20,
          38,
          18,
          31,
          24,
          36,
          41,
          4,
          12,
          13,
          9,
          10,
          4,
          53,
          12,
          11,
          28,
          41,
          36,
          23,
          32,
          22,
          18,
          44,
          32,
          21,
          44,
          23,
          40,
          22,
          23,
          23,
          21,
          26,
          40,
          24,
          34,
          24,
          26,
          32,
          13,
          21,
          37,
          28,
          25,
          38,
          32,
          25,
          13,
          25,
          20,
          13,
          13,
          21,
          29,
          34,
          26,
          15,
          28,
          26,
          41,
          32,
          21,
          9,
          11,
          17,
          10,
          13,
          14,
          19,
          9,
          21,
          21,
          19,
          21,
          15,
          3,
          12,
          17,
          16,
          15,
          8,
          5,
          17,
          5,
          16,
          18,
          11,
          18,
          11,
          10,
          4,
          14,
          10,
          11,
          18,
          14,
          25,
          11,
          18,
          22,
          6,
          17,
          20,
          24,
          3,
          18,
          12,
          13,
          8,
          11,
          12,
          9,
          18,
          18,
          5,
          5,
          55,
          54,
          46,
          49,
          42,
          38,
          36,
          43,
          33,
          44,
          15,
          16,
          7,
          17,
          15,
          12,
          5,
          13,
          11,
          9,
          16,
          14,
          11,
          14,
          11,
          17,
          9,
          4,
          14,
          16,
          13,
          16,
          12,
          5,
          13,
          9,
          5,
          7,
          7,
          12,
          17,
          5,
          13,
          6,
          23,
          4,
          12,
          13,
          5,
          5,
          5,
          20,
          15,
          4,
          13,
          23,
          12,
          18,
          3,
          10,
          12,
          10,
          15,
          12,
          31,
          10,
          9,
          19,
          5,
          32,
          7,
          14,
          12,
          10,
          10,
          10,
          7,
          17,
          26,
          16,
          13,
          15,
          10,
          13,
          20,
          18,
          13,
          24,
          19,
          6,
          18,
          6,
          16,
          21,
          7,
          15,
          16,
          15,
          10,
          5,
          10,
          16,
          13,
          10,
          8,
          15,
          13,
          6,
          19,
          13,
          10,
          8,
          10,
          14,
          9,
          14,
          20,
          12,
          18,
          13,
          16,
          11,
          9,
          18,
          16,
          20,
          19,
          12,
          14,
          19,
          12,
          10,
          15,
          15,
          18,
          15,
          13,
          15,
          5,
          8,
          15,
          9,
          17,
          15,
          25,
          12,
          16,
          10,
          4,
          14,
          15,
          12,
          23,
          23,
          17,
          4,
          13,
          16,
          16,
          11,
          8,
          14,
          8,
          9,
          12,
          15,
          16,
          21,
          17,
          15,
          12,
          14,
          37,
          11,
          16,
          16,
          14,
          11,
          14,
          14,
          17,
          9,
          13,
          14,
          16,
          13,
          16,
          12,
          5,
          13,
          18,
          5,
          16,
          6,
          12,
          17,
          20,
          13,
          6,
          23,
          4,
          29,
          13,
          5,
          5,
          6,
          20,
          15,
          4,
          13,
          23,
          12,
          18,
          3,
          10,
          12,
          10,
          15,
          12,
          31,
          29,
          24,
          30,
          7,
          29,
          12,
          5,
          20,
          30,
          15,
          7,
          19,
          10,
          12,
          13,
          20,
          18,
          4,
          14,
          3,
          39,
          14,
          21,
          24,
          16,
          5,
          19,
          4,
          35,
          16,
          5,
          17,
          11,
          30,
          4,
          17,
          4,
          11,
          10,
          25,
          35,
          20,
          25,
          32,
          10,
          11,
          7,
          2,
          13,
          24,
          9,
          13,
          10,
          22,
          11,
          5,
          29,
          11,
          17,
          20,
          6,
          4,
          15,
          13,
          26,
          5,
          7,
          11,
          7,
          9,
          5,
          13,
          10,
          15,
          28,
          13,
          10,
          12,
          10,
          10,
          24,
          3,
          13,
          5,
          10,
          14,
          17,
          11,
          14,
          13,
          5,
          16,
          15,
          5,
          19,
          5,
          11,
          14,
          17,
          9,
          5,
          30,
          5,
          17,
          12,
          5,
          11,
          10,
          12,
          9,
          23,
          20,
          14,
          34,
          4,
          7,
          10,
          2,
          14,
          10,
          27,
          11,
          23,
          25,
          30,
          29,
          36,
          43,
          15,
          11,
          17,
          36,
          29,
          17,
          21,
          10,
          30,
          38,
          32,
          25,
          27,
          16,
          21,
          27,
          25,
          26,
          32,
          19,
          23,
          27,
          20,
          19,
          37,
          23,
          29,
          29,
          21,
          25,
          40,
          24,
          19,
          32,
          24,
          22,
          32,
          27,
          14,
          13,
          22,
          14,
          12,
          4,
          16,
          11,
          11,
          15,
          18,
          7,
          11,
          10,
          6,
          8,
          7,
          6,
          17,
          20,
          5,
          14,
          14,
          5,
          13,
          6,
          17,
          14,
          16,
          5,
          15,
          13,
          12,
          14,
          10,
          12,
          13,
          30,
          14,
          17,
          12,
          11,
          5,
          15,
          18,
          20,
          25,
          32,
          11,
          11,
          7,
          2,
          13,
          24,
          20,
          17,
          11,
          29,
          5,
          11,
          22,
          10,
          13,
          9,
          29,
          17,
          9,
          45,
          11,
          9,
          14,
          22,
          7,
          5,
          9,
          20,
          9,
          14,
          11,
          17,
          9,
          4,
          21,
          8,
          12,
          5,
          10,
          5,
          4,
          4,
          12,
          14,
          9,
          18,
          12,
          7,
          10,
          13,
          5,
          5,
          19,
          6,
          29,
          13,
          5,
          19,
          11,
          4,
          8,
          27,
          7,
          4,
          7,
          4,
          13,
          16,
          17,
          9,
          43,
          5,
          8,
          14,
          10,
          19,
          13,
          23,
          9,
          7,
          5,
          21,
          9,
          9,
          9,
          8,
          17,
          16,
          15,
          4,
          3,
          12,
          21,
          6,
          6,
          20,
          11,
          3,
          9,
          11,
          9,
          3,
          18,
          21,
          4,
          3,
          19,
          18,
          15,
          9,
          10,
          7,
          12,
          27,
          13,
          18,
          17,
          10,
          10,
          11,
          4,
          59,
          45,
          55,
          58,
          17,
          17,
          16,
          18,
          14,
          13,
          16,
          14,
          12,
          15,
          11,
          17,
          33,
          20,
          24,
          10,
          4,
          15,
          15,
          14,
          17,
          10,
          15,
          11,
          17,
          21,
          9,
          6,
          12,
          18,
          13,
          11,
          14,
          18,
          13,
          15,
          7,
          10,
          12,
          15,
          15,
          15,
          19,
          18,
          9,
          11,
          29,
          51,
          54,
          53,
          37,
          34,
          27,
          52,
          43,
          41,
          29,
          17,
          9,
          45,
          11,
          9,
          13,
          22,
          7,
          15,
          9,
          20,
          9,
          14,
          11,
          17,
          9,
          10,
          21,
          8,
          24,
          23,
          10,
          5,
          4,
          14,
          12,
          14,
          9,
          18,
          12,
          28,
          10,
          4,
          5,
          5,
          19,
          6,
          29,
          4,
          5,
          19,
          11,
          5,
          8,
          27,
          7,
          4,
          7,
          13,
          16,
          17,
          9,
          43,
          11,
          30,
          17,
          14,
          14,
          42,
          27,
          39,
          42,
          29,
          24,
          4,
          40,
          18,
          5,
          11,
          57,
          27,
          52,
          22,
          23,
          34,
          48,
          14,
          23,
          7,
          33,
          47,
          22,
          38,
          19,
          24,
          45,
          15,
          22,
          27,
          5,
          18,
          22,
          15,
          13,
          22,
          14,
          25,
          28,
          9,
          16,
          12,
          26,
          14,
          27,
          20,
          20,
          15,
          33,
          19,
          15,
          12,
          12,
          25,
          13,
          13,
          17,
          11,
          11,
          22,
          12,
          8,
          5,
          13,
          6,
          10,
          19,
          10,
          5,
          7,
          40,
          18,
          7,
          10,
          11,
          17,
          12,
          8,
          23,
          8,
          15,
          5,
          6,
          3,
          23,
          11,
          11,
          12,
          16,
          28,
          10,
          11,
          23,
          16,
          14,
          14,
          4,
          6,
          3,
          14,
          11,
          22,
          5,
          7,
          6,
          15,
          10,
          7,
          13,
          8,
          7,
          7,
          16,
          20,
          13,
          19,
          24,
          11,
          25,
          20,
          11,
          23,
          34,
          24,
          31,
          31,
          17,
          4,
          17,
          4,
          16,
          10,
          30,
          28,
          39,
          32,
          24,
          13,
          3,
          15,
          9,
          25,
          26,
          32,
          19,
          27,
          20,
          19,
          37,
          21,
          25,
          40,
          24,
          4,
          9,
          19,
          32,
          24,
          27,
          13,
          22,
          20,
          22,
          12,
          32,
          4,
          24,
          10,
          6,
          8,
          30,
          4,
          15,
          6,
          9,
          19,
          5,
          14,
          10,
          8,
          17,
          11,
          14,
          20,
          16,
          11,
          15,
          9,
          7,
          9,
          11,
          16,
          9,
          23,
          9,
          14,
          3,
          14,
          7,
          23,
          22,
          5,
          15,
          13,
          10,
          14,
          15,
          3,
          4,
          14,
          4,
          7,
          7,
          9,
          12,
          33,
          20,
          20,
          15,
          12,
          19,
          15,
          25,
          12,
          7,
          53,
          50,
          37,
          47,
          35,
          31,
          47,
          45,
          47,
          47,
          35,
          24,
          5,
          12,
          12,
          13,
          26,
          47,
          4,
          14,
          50,
          30,
          21,
          11,
          25,
          23,
          9,
          5,
          42,
          29,
          12,
          7,
          15,
          2,
          13,
          18,
          4,
          10,
          15,
          14,
          13,
          45,
          12,
          34,
          15,
          22,
          29,
          5,
          30,
          31,
          37,
          28,
          41,
          45,
          24,
          15,
          10,
          2,
          5,
          5,
          7,
          22,
          7,
          28,
          16,
          14,
          17,
          12,
          19,
          37,
          11,
          11,
          10,
          10,
          7,
          13,
          17,
          12,
          9,
          5,
          9,
          19,
          8,
          10,
          16,
          32,
          5,
          11,
          12,
          15,
          11,
          19,
          14,
          8,
          5,
          2,
          7,
          10,
          19,
          16,
          14,
          15,
          7,
          3,
          13,
          13,
          5,
          21,
          12,
          9,
          4,
          18,
          11,
          3,
          11,
          4,
          11,
          5,
          20,
          30,
          6,
          6,
          9,
          11,
          16,
          15,
          10,
          2,
          5,
          5,
          18,
          25,
          27,
          25,
          18,
          30,
          17,
          31,
          19,
          11,
          8,
          17,
          8,
          25,
          23,
          20,
          17,
          10,
          22,
          32,
          33,
          32,
          8,
          12,
          48,
          24,
          16,
          13,
          30,
          5,
          13,
          33,
          9,
          14,
          5,
          23,
          19,
          15,
          27,
          27,
          27,
          15,
          29,
          15,
          37,
          17,
          10,
          18,
          10,
          16,
          31,
          49,
          44,
          42,
          34,
          30,
          44,
          42,
          39,
          37,
          35,
          24,
          11,
          10,
          14,
          13,
          30,
          45,
          20,
          14,
          50,
          30,
          21,
          9,
          25,
          23,
          10,
          5,
          42,
          29,
          12,
          7,
          15,
          11,
          13,
          10,
          3,
          4,
          15,
          14,
          8,
          45,
          15,
          34,
          11,
          22,
          22,
          21,
          30,
          17,
          34,
          28,
          41,
          45,
          24,
          15,
          7,
          5,
          5,
          17,
          7,
          22,
          18,
          28,
          16,
          8,
          17,
          13,
          19,
          15,
          15,
          15,
          7,
          23,
          10,
          12,
          4,
          14,
          11,
          12,
          13,
          12,
          24,
          32,
          5,
          4,
          40,
          21,
          9,
          11,
          26,
          17,
          17,
          5,
          10,
          23,
          4,
          12,
          3,
          5,
          5,
          10,
          14,
          6,
          27,
          24,
          13,
          21,
          31,
          7,
          27,
          22,
          20,
          31,
          14,
          28,
          3,
          22,
          4,
          21,
          16,
          16,
          10,
          22,
          15,
          14,
          13,
          16,
          10,
          12,
          5,
          19,
          32,
          19,
          12,
          13,
          10,
          20,
          14,
          11,
          6,
          13,
          28,
          16,
          9,
          25,
          18,
          19,
          14,
          7,
          10,
          4,
          11,
          18,
          21,
          13,
          12,
          10,
          18,
          12,
          13,
          9,
          18,
          4,
          21,
          9,
          6,
          11,
          6,
          21,
          11,
          12,
          14,
          10,
          13,
          26,
          26,
          29,
          23,
          13,
          17,
          9,
          8,
          10,
          14,
          19,
          15,
          18,
          19,
          12,
          13,
          15,
          15,
          18,
          11,
          20,
          12,
          13,
          15,
          17,
          13,
          17,
          16,
          13,
          15,
          16,
          10,
          5,
          22,
          7,
          14,
          18,
          17,
          21,
          12,
          11,
          16,
          16,
          14,
          5,
          10,
          19,
          13,
          11,
          14,
          14,
          13,
          15,
          12,
          10,
          9,
          15,
          7,
          9,
          19,
          57,
          62,
          50,
          45,
          36,
          45,
          53,
          58,
          48,
          48,
          12,
          4,
          14,
          11,
          12,
          13,
          12,
          24,
          32,
          15,
          10,
          40,
          21,
          9,
          11,
          26,
          17,
          17,
          17,
          10,
          23,
          10,
          12,
          3,
          5,
          5,
          10,
          14,
          6,
          27,
          24,
          13,
          21,
          31,
          7,
          27,
          22,
          20,
          31,
          14,
          28,
          3,
          22,
          4,
          21,
          16,
          16,
          10,
          22,
          15,
          14,
          13,
          16,
          10,
          12,
          20,
          25,
          9,
          13,
          32,
          11,
          20,
          10,
          13,
          9,
          16,
          22,
          5,
          4,
          16,
          5,
          5,
          9,
          40,
          10,
          8,
          5,
          5,
          19,
          11,
          11,
          9,
          8,
          12,
          5,
          5,
          4,
          4,
          12,
          9,
          9,
          7,
          17,
          13,
          13,
          15,
          5,
          10,
          29,
          8,
          4,
          12,
          15,
          9,
          14,
          4,
          4,
          7,
          7,
          10,
          16,
          10,
          8,
          10,
          6,
          5,
          10,
          19,
          21,
          11,
          11,
          15,
          20,
          7,
          10,
          22,
          6,
          9,
          5,
          16,
          18,
          15,
          40,
          11,
          5,
          19,
          5,
          10,
          7,
          20,
          9,
          4,
          9,
          11,
          13,
          8,
          12,
          5,
          4,
          8,
          5,
          4,
          13,
          16,
          15,
          9,
          14,
          9,
          28,
          19,
          10,
          12,
          10,
          11,
          9,
          24,
          13,
          7,
          12,
          14,
          4,
          4,
          7,
          7,
          10,
          27,
          27,
          25,
          34,
          31,
          40,
          41,
          36,
          17,
          34,
          40,
          25,
          44,
          30,
          18,
          35,
          27,
          31,
          38,
          31,
          23,
          41,
          24,
          31,
          13,
          26,
          20,
          26,
          32,
          26,
          29,
          21,
          14,
          27,
          25,
          32,
          19,
          16,
          27,
          20,
          12,
          25,
          11,
          4,
          14,
          10,
          9,
          13,
          27,
          14,
          48,
          61,
          41,
          46,
          42,
          39,
          32,
          57,
          48,
          51,
          4,
          6,
          10,
          20,
          10,
          17,
          24,
          5,
          6,
          3,
          6,
          5,
          9,
          11,
          19,
          34,
          11,
          13,
          19,
          11,
          11,
          13,
          8,
          11,
          16,
          9,
          4,
          4,
          12,
          9,
          16,
          26,
          17,
          13,
          3,
          10,
          5,
          10,
          29,
          21,
          22,
          3,
          16,
          9,
          14,
          4,
          5,
          7,
          14,
          10,
          16,
          10,
          8,
          10,
          6,
          18,
          22,
          23,
          17,
          24,
          14,
          33,
          41,
          29,
          5,
          27,
          31,
          39,
          31,
          15,
          41,
          23,
          19,
          14,
          21,
          25,
          13,
          12,
          18,
          5,
          12,
          17,
          4,
          13,
          32,
          50,
          25,
          23,
          22,
          37,
          33,
          37,
          5,
          36,
          53,
          25,
          19,
          25,
          51,
          5,
          9,
          12,
          2,
          10,
          42,
          8,
          13,
          10,
          10,
          8,
          16,
          23,
          19,
          11,
          20,
          12,
          17,
          26,
          8,
          13,
          12,
          8,
          19,
          15,
          10,
          11,
          15,
          11,
          14,
          14,
          10,
          9,
          14,
          16,
          25,
          13,
          12,
          6,
          11,
          9,
          7,
          8,
          19,
          10,
          12,
          4,
          13,
          18,
          50,
          25,
          10,
          10,
          19,
          15,
          37,
          5,
          10,
          5,
          16,
          13,
          18,
          17,
          5,
          5,
          10,
          4,
          5,
          14,
          10,
          2,
          10,
          10,
          9,
          15,
          11,
          26,
          22,
          30,
          4,
          10,
          29,
          28,
          45,
          32,
          13,
          18,
          14,
          15,
          35,
          9,
          24,
          17,
          17,
          27,
          12,
          18,
          22,
          4,
          32,
          20,
          19,
          21,
          13,
          40,
          22,
          21,
          18,
          15,
          19,
          28,
          28,
          20,
          36,
          13,
          26,
          23,
          16,
          19,
          13,
          10,
          18,
          22,
          23,
          17,
          24,
          14,
          33,
          41,
          29,
          5,
          27,
          31,
          39,
          31,
          21,
          41,
          23,
          19,
          14,
          21,
          25,
          13,
          12,
          18,
          5,
          8,
          5,
          15,
          13,
          17,
          50,
          27,
          15,
          22,
          37,
          33,
          4,
          5,
          36,
          51,
          13,
          19,
          25,
          51,
          5,
          9,
          12,
          3,
          10,
          42,
          12,
          13,
          10,
          10,
          18,
          4,
          18,
          10,
          32,
          11,
          15,
          22,
          5,
          8,
          15,
          12,
          4,
          2,
          12,
          15,
          17,
          13,
          4,
          8,
          4,
          29,
          20,
          14,
          17,
          39,
          22,
          21,
          4,
          5,
          22,
          5,
          24,
          14,
          3,
          20,
          47,
          12,
          29,
          22,
          17,
          21,
          21,
          6,
          2,
          19,
          27,
          10,
          11,
          14,
          4,
          10,
          13,
          9,
          5,
          8,
          11,
          25,
          12,
          17,
          21,
          5,
          24,
          27,
          6,
          4,
          12,
          8,
          13,
          9,
          11,
          15,
          16,
          9,
          13,
          12,
          3,
          5,
          4,
          4,
          23,
          9,
          4,
          6,
          9,
          13,
          20,
          5,
          13,
          9,
          22,
          10,
          10,
          15,
          10,
          21,
          4,
          5,
          22,
          5,
          16,
          14,
          3,
          11,
          13,
          4,
          29,
          21,
          18,
          31,
          4,
          7,
          21,
          10,
          5,
          18,
          13,
          10,
          4,
          12,
          13,
          27,
          34,
          25,
          34,
          31,
          35,
          40,
          36,
          36,
          5,
          23,
          20,
          5,
          4,
          5,
          9,
          15,
          10,
          15,
          5,
          12,
          4,
          11,
          12,
          14,
          22,
          13,
          16,
          9,
          19,
          31,
          8,
          16,
          4,
          24,
          10,
          3,
          7,
          19,
          15,
          7,
          13,
          15,
          20,
          18,
          5,
          16,
          9,
          7,
          12,
          59,
          57,
          49,
          44,
          37,
          47,
          52,
          63,
          45,
          47,
          15,
          18,
          10,
          32,
          20,
          15,
          22,
          5,
          8,
          15,
          10,
          17,
          20,
          12,
          15,
          17,
          13,
          15,
          11,
          19,
          29,
          20,
          18,
          17,
          19,
          22,
          21,
          4,
          19,
          22,
          10,
          12,
          14,
          24,
          20,
          47,
          18,
          7,
          22,
          17,
          21,
          14,
          6,
          2,
          19,
          27,
          10,
          11,
          14,
          4,
          10,
          13,
          9,
          5,
          8,
          11,
          25,
          12,
          17,
          21
         ],
         "xaxis": "x",
         "y": [
          1,
          2,
          1,
          2,
          2,
          4,
          1,
          2,
          2,
          2,
          1,
          2,
          1,
          4,
          2,
          2,
          1,
          5,
          1,
          1,
          2,
          2,
          1,
          2,
          5,
          2,
          1,
          1,
          1,
          2,
          2,
          3,
          1,
          2,
          4,
          2,
          2,
          2,
          1,
          3,
          1,
          1,
          2,
          1,
          3,
          2,
          1,
          5,
          1,
          1,
          2,
          2,
          3,
          2,
          4,
          2,
          2,
          2,
          5,
          2,
          2,
          1,
          5,
          2,
          1,
          5,
          2,
          3,
          3,
          3,
          4,
          3,
          5,
          7,
          4,
          2,
          6,
          6,
          4,
          5,
          2,
          1,
          5,
          5,
          1,
          1,
          4,
          1,
          5,
          7,
          3,
          1,
          2,
          8,
          4,
          2,
          3,
          1,
          6,
          4,
          3,
          5,
          4,
          5,
          6,
          3,
          6,
          6,
          5,
          6,
          1,
          3,
          2,
          1,
          2,
          1,
          8,
          2,
          2,
          5,
          6,
          6,
          5,
          5,
          4,
          5,
          8,
          5,
          5,
          7,
          5,
          8,
          5,
          4,
          5,
          5,
          5,
          6,
          7,
          6,
          6,
          5,
          7,
          2,
          3,
          6,
          5,
          5,
          6,
          6,
          3,
          3,
          4,
          4,
          2,
          4,
          4,
          5,
          6,
          4,
          3,
          3,
          5,
          5,
          6,
          3,
          1,
          2,
          2,
          2,
          2,
          2,
          3,
          1,
          3,
          3,
          3,
          5,
          3,
          1,
          2,
          2,
          3,
          2,
          1,
          1,
          2,
          1,
          3,
          4,
          1,
          2,
          2,
          2,
          1,
          2,
          1,
          2,
          4,
          4,
          2,
          2,
          3,
          4,
          1,
          3,
          3,
          4,
          1,
          3,
          2,
          3,
          2,
          2,
          2,
          2,
          2,
          2,
          1,
          1,
          11,
          9,
          9,
          8,
          7,
          7,
          8,
          8,
          7,
          9,
          3,
          2,
          1,
          2,
          2,
          2,
          1,
          2,
          2,
          1,
          2,
          2,
          2,
          2,
          2,
          3,
          1,
          1,
          3,
          2,
          2,
          2,
          1,
          1,
          2,
          1,
          1,
          1,
          1,
          2,
          3,
          2,
          2,
          1,
          3,
          1,
          1,
          2,
          1,
          1,
          2,
          2,
          2,
          1,
          2,
          3,
          2,
          2,
          1,
          2,
          2,
          1,
          3,
          2,
          6,
          2,
          2,
          3,
          1,
          8,
          1,
          2,
          2,
          3,
          2,
          1,
          3,
          3,
          5,
          3,
          2,
          4,
          2,
          2,
          3,
          4,
          3,
          4,
          4,
          2,
          2,
          1,
          3,
          3,
          2,
          2,
          4,
          2,
          2,
          1,
          2,
          2,
          2,
          2,
          2,
          2,
          3,
          2,
          3,
          3,
          2,
          2,
          1,
          3,
          2,
          2,
          2,
          2,
          3,
          2,
          2,
          2,
          2,
          2,
          2,
          2,
          2,
          2,
          2,
          2,
          2,
          2,
          2,
          2,
          2,
          2,
          2,
          2,
          1,
          2,
          2,
          2,
          3,
          2,
          3,
          2,
          3,
          2,
          1,
          2,
          3,
          2,
          3,
          3,
          2,
          1,
          2,
          2,
          2,
          2,
          2,
          2,
          1,
          2,
          2,
          3,
          2,
          5,
          2,
          2,
          2,
          3,
          5,
          2,
          3,
          2,
          2,
          2,
          2,
          3,
          3,
          1,
          3,
          3,
          2,
          2,
          2,
          2,
          1,
          2,
          2,
          1,
          3,
          1,
          2,
          3,
          3,
          2,
          1,
          3,
          1,
          5,
          2,
          1,
          1,
          1,
          2,
          2,
          1,
          2,
          3,
          2,
          2,
          1,
          2,
          2,
          1,
          3,
          2,
          6,
          6,
          4,
          4,
          1,
          5,
          2,
          1,
          4,
          6,
          3,
          1,
          3,
          2,
          2,
          2,
          4,
          4,
          1,
          2,
          1,
          7,
          3,
          4,
          3,
          3,
          1,
          3,
          1,
          6,
          3,
          1,
          3,
          2,
          5,
          1,
          3,
          1,
          2,
          2,
          5,
          5,
          3,
          5,
          6,
          2,
          1,
          1,
          1,
          3,
          5,
          1,
          2,
          2,
          4,
          2,
          1,
          5,
          2,
          2,
          3,
          1,
          1,
          3,
          3,
          5,
          1,
          2,
          2,
          1,
          1,
          1,
          2,
          2,
          3,
          6,
          2,
          2,
          2,
          2,
          1,
          3,
          1,
          2,
          1,
          2,
          3,
          3,
          2,
          2,
          2,
          1,
          2,
          3,
          1,
          3,
          1,
          2,
          4,
          3,
          1,
          1,
          5,
          1,
          3,
          2,
          1,
          2,
          2,
          1,
          2,
          3,
          3,
          2,
          6,
          1,
          1,
          3,
          1,
          2,
          2,
          6,
          2,
          4,
          5,
          5,
          5,
          7,
          7,
          2,
          2,
          3,
          7,
          5,
          5,
          4,
          2,
          5,
          7,
          5,
          6,
          4,
          3,
          5,
          7,
          5,
          4,
          7,
          5,
          5,
          5,
          4,
          4,
          6,
          5,
          7,
          6,
          5,
          4,
          6,
          7,
          5,
          7,
          5,
          4,
          6,
          5,
          4,
          3,
          5,
          3,
          2,
          1,
          2,
          2,
          2,
          2,
          3,
          1,
          2,
          2,
          1,
          1,
          2,
          1,
          3,
          4,
          1,
          2,
          2,
          1,
          2,
          2,
          3,
          2,
          3,
          1,
          2,
          2,
          2,
          2,
          2,
          1,
          2,
          5,
          4,
          3,
          2,
          2,
          1,
          3,
          2,
          3,
          5,
          6,
          2,
          1,
          1,
          1,
          3,
          5,
          3,
          2,
          2,
          5,
          1,
          2,
          4,
          2,
          2,
          1,
          4,
          3,
          2,
          6,
          3,
          2,
          3,
          3,
          1,
          1,
          2,
          3,
          1,
          2,
          2,
          3,
          1,
          1,
          5,
          1,
          1,
          1,
          2,
          1,
          1,
          1,
          2,
          2,
          1,
          2,
          2,
          1,
          3,
          1,
          1,
          1,
          4,
          1,
          4,
          2,
          1,
          4,
          2,
          1,
          1,
          4,
          1,
          1,
          1,
          1,
          2,
          4,
          2,
          1,
          5,
          1,
          1,
          2,
          1,
          2,
          2,
          4,
          2,
          1,
          1,
          3,
          1,
          1,
          1,
          1,
          3,
          2,
          2,
          1,
          1,
          2,
          5,
          1,
          1,
          3,
          2,
          1,
          1,
          2,
          1,
          1,
          2,
          3,
          1,
          1,
          4,
          3,
          2,
          2,
          3,
          1,
          2,
          5,
          2,
          4,
          3,
          1,
          2,
          2,
          1,
          10,
          9,
          10,
          9,
          2,
          2,
          2,
          2,
          2,
          2,
          2,
          2,
          2,
          2,
          2,
          3,
          6,
          3,
          4,
          2,
          1,
          2,
          2,
          2,
          2,
          2,
          2,
          2,
          2,
          2,
          2,
          1,
          2,
          2,
          2,
          2,
          2,
          2,
          2,
          2,
          1,
          2,
          2,
          2,
          2,
          2,
          2,
          2,
          1,
          2,
          5,
          10,
          9,
          9,
          7,
          6,
          6,
          10,
          9,
          9,
          4,
          3,
          2,
          6,
          3,
          2,
          3,
          3,
          1,
          2,
          2,
          3,
          1,
          2,
          2,
          3,
          1,
          2,
          5,
          1,
          3,
          4,
          2,
          1,
          1,
          3,
          2,
          2,
          1,
          2,
          2,
          5,
          3,
          1,
          1,
          1,
          4,
          1,
          4,
          1,
          1,
          4,
          2,
          1,
          1,
          4,
          1,
          1,
          1,
          2,
          4,
          2,
          1,
          5,
          2,
          4,
          3,
          3,
          3,
          7,
          5,
          7,
          9,
          5,
          3,
          1,
          7,
          3,
          1,
          2,
          7,
          3,
          10,
          3,
          7,
          7,
          9,
          4,
          5,
          1,
          6,
          8,
          5,
          7,
          5,
          4,
          8,
          3,
          5,
          5,
          1,
          3,
          3,
          3,
          2,
          4,
          3,
          4,
          4,
          2,
          3,
          2,
          5,
          3,
          5,
          4,
          4,
          4,
          6,
          3,
          3,
          2,
          2,
          5,
          2,
          2,
          3,
          2,
          2,
          3,
          2,
          1,
          1,
          2,
          1,
          2,
          3,
          2,
          1,
          1,
          7,
          3,
          1,
          2,
          1,
          3,
          2,
          1,
          5,
          2,
          2,
          1,
          2,
          1,
          5,
          2,
          3,
          2,
          2,
          6,
          2,
          2,
          3,
          2,
          3,
          2,
          1,
          1,
          1,
          2,
          2,
          3,
          1,
          1,
          1,
          2,
          3,
          1,
          2,
          2,
          1,
          2,
          3,
          5,
          2,
          4,
          4,
          2,
          5,
          2,
          3,
          4,
          6,
          4,
          6,
          6,
          4,
          1,
          3,
          1,
          3,
          2,
          4,
          3,
          6,
          7,
          5,
          3,
          1,
          2,
          2,
          5,
          4,
          7,
          5,
          5,
          4,
          4,
          6,
          5,
          4,
          6,
          7,
          1,
          2,
          5,
          7,
          5,
          5,
          3,
          5,
          5,
          4,
          3,
          6,
          1,
          3,
          1,
          1,
          2,
          5,
          1,
          3,
          1,
          1,
          3,
          2,
          3,
          2,
          1,
          3,
          2,
          2,
          2,
          2,
          2,
          2,
          1,
          2,
          1,
          2,
          3,
          2,
          3,
          2,
          2,
          1,
          3,
          1,
          3,
          3,
          1,
          2,
          2,
          3,
          2,
          2,
          1,
          1,
          3,
          1,
          2,
          1,
          1,
          2,
          6,
          4,
          4,
          4,
          2,
          3,
          3,
          5,
          2,
          1,
          8,
          10,
          8,
          9,
          5,
          6,
          7,
          8,
          9,
          10,
          7,
          4,
          1,
          2,
          2,
          3,
          5,
          7,
          1,
          3,
          10,
          4,
          3,
          2,
          5,
          5,
          1,
          1,
          8,
          7,
          2,
          1,
          3,
          1,
          2,
          4,
          1,
          2,
          2,
          3,
          2,
          7,
          2,
          5,
          2,
          4,
          4,
          1,
          4,
          6,
          7,
          5,
          7,
          10,
          4,
          3,
          2,
          1,
          1,
          1,
          1,
          4,
          2,
          5,
          3,
          2,
          3,
          3,
          3,
          7,
          2,
          2,
          2,
          2,
          1,
          2,
          3,
          2,
          2,
          1,
          3,
          3,
          2,
          2,
          4,
          6,
          1,
          2,
          2,
          3,
          2,
          3,
          4,
          1,
          1,
          1,
          1,
          2,
          3,
          4,
          2,
          2,
          2,
          1,
          2,
          2,
          1,
          3,
          2,
          2,
          1,
          3,
          3,
          1,
          2,
          1,
          4,
          1,
          4,
          4,
          1,
          1,
          2,
          2,
          2,
          3,
          2,
          1,
          1,
          1,
          3,
          4,
          4,
          4,
          3,
          5,
          3,
          4,
          4,
          2,
          1,
          3,
          2,
          4,
          4,
          3,
          3,
          2,
          4,
          5,
          4,
          6,
          2,
          3,
          7,
          4,
          4,
          2,
          5,
          1,
          2,
          5,
          2,
          3,
          1,
          5,
          3,
          2,
          6,
          5,
          4,
          3,
          6,
          2,
          6,
          4,
          2,
          3,
          2,
          3,
          5,
          9,
          9,
          7,
          7,
          5,
          9,
          8,
          8,
          7,
          7,
          4,
          2,
          2,
          2,
          3,
          5,
          6,
          3,
          3,
          10,
          4,
          3,
          2,
          5,
          5,
          2,
          1,
          8,
          7,
          2,
          1,
          3,
          2,
          2,
          3,
          1,
          1,
          2,
          3,
          1,
          7,
          3,
          5,
          2,
          4,
          2,
          4,
          4,
          3,
          7,
          5,
          7,
          10,
          4,
          3,
          1,
          1,
          1,
          2,
          1,
          4,
          3,
          5,
          3,
          1,
          3,
          2,
          3,
          2,
          2,
          4,
          1,
          4,
          1,
          2,
          1,
          3,
          2,
          2,
          3,
          2,
          3,
          7,
          1,
          1,
          8,
          3,
          1,
          2,
          5,
          2,
          2,
          1,
          2,
          5,
          1,
          1,
          1,
          1,
          1,
          3,
          3,
          1,
          5,
          4,
          2,
          3,
          6,
          1,
          6,
          4,
          3,
          5,
          2,
          4,
          1,
          3,
          1,
          4,
          3,
          3,
          2,
          3,
          4,
          2,
          3,
          3,
          1,
          2,
          1,
          3,
          6,
          3,
          2,
          2,
          2,
          3,
          3,
          2,
          1,
          2,
          4,
          3,
          2,
          3,
          2,
          2,
          4,
          3,
          2,
          1,
          2,
          2,
          3,
          2,
          2,
          3,
          3,
          3,
          2,
          3,
          3,
          1,
          4,
          2,
          1,
          1,
          1,
          4,
          2,
          3,
          2,
          2,
          2,
          6,
          4,
          6,
          4,
          3,
          3,
          2,
          2,
          2,
          4,
          2,
          2,
          2,
          2,
          2,
          2,
          2,
          2,
          2,
          2,
          2,
          2,
          2,
          2,
          2,
          2,
          2,
          2,
          2,
          2,
          2,
          2,
          1,
          2,
          1,
          2,
          3,
          2,
          3,
          2,
          2,
          3,
          2,
          2,
          1,
          2,
          3,
          2,
          2,
          2,
          2,
          2,
          2,
          2,
          2,
          2,
          2,
          2,
          2,
          2,
          8,
          11,
          10,
          8,
          5,
          8,
          8,
          10,
          9,
          10,
          2,
          1,
          3,
          2,
          2,
          3,
          2,
          3,
          7,
          3,
          1,
          8,
          3,
          1,
          2,
          5,
          2,
          2,
          3,
          2,
          5,
          2,
          1,
          1,
          1,
          1,
          3,
          3,
          1,
          5,
          4,
          2,
          3,
          6,
          1,
          6,
          4,
          3,
          5,
          2,
          4,
          1,
          3,
          1,
          4,
          3,
          3,
          2,
          3,
          4,
          2,
          3,
          3,
          1,
          2,
          3,
          3,
          1,
          2,
          5,
          2,
          3,
          2,
          2,
          1,
          2,
          4,
          1,
          1,
          2,
          1,
          1,
          1,
          6,
          2,
          2,
          1,
          1,
          3,
          2,
          2,
          1,
          1,
          1,
          1,
          1,
          1,
          1,
          2,
          2,
          1,
          1,
          2,
          2,
          1,
          2,
          1,
          2,
          4,
          1,
          1,
          1,
          2,
          1,
          3,
          1,
          1,
          1,
          1,
          1,
          2,
          2,
          1,
          2,
          1,
          1,
          2,
          4,
          4,
          2,
          2,
          2,
          2,
          1,
          2,
          4,
          1,
          1,
          1,
          3,
          2,
          2,
          6,
          2,
          1,
          2,
          1,
          2,
          1,
          3,
          1,
          1,
          2,
          2,
          4,
          1,
          1,
          1,
          1,
          1,
          1,
          1,
          2,
          2,
          3,
          1,
          2,
          2,
          6,
          4,
          2,
          2,
          2,
          2,
          1,
          5,
          2,
          1,
          2,
          3,
          1,
          1,
          1,
          1,
          1,
          6,
          4,
          5,
          6,
          6,
          7,
          7,
          7,
          5,
          6,
          6,
          6,
          8,
          5,
          5,
          6,
          5,
          6,
          7,
          6,
          5,
          8,
          5,
          5,
          3,
          5,
          5,
          4,
          6,
          6,
          5,
          5,
          2,
          7,
          5,
          7,
          5,
          2,
          5,
          4,
          2,
          4,
          2,
          1,
          3,
          2,
          1,
          1,
          4,
          2,
          7,
          11,
          6,
          7,
          7,
          6,
          6,
          10,
          9,
          10,
          1,
          1,
          2,
          2,
          2,
          2,
          4,
          1,
          1,
          1,
          1,
          1,
          1,
          2,
          2,
          5,
          2,
          1,
          3,
          2,
          2,
          3,
          1,
          1,
          3,
          1,
          1,
          1,
          2,
          2,
          2,
          5,
          2,
          2,
          1,
          2,
          1,
          2,
          4,
          3,
          4,
          1,
          2,
          1,
          3,
          1,
          1,
          1,
          3,
          1,
          2,
          2,
          1,
          2,
          1,
          3,
          2,
          4,
          3,
          3,
          3,
          4,
          7,
          5,
          2,
          3,
          5,
          7,
          5,
          2,
          9,
          4,
          4,
          3,
          3,
          4,
          3,
          2,
          3,
          2,
          2,
          3,
          1,
          2,
          4,
          8,
          5,
          3,
          3,
          6,
          7,
          5,
          1,
          6,
          7,
          5,
          3,
          4,
          9,
          1,
          2,
          3,
          1,
          2,
          6,
          1,
          2,
          2,
          1,
          1,
          3,
          5,
          2,
          3,
          3,
          1,
          4,
          5,
          1,
          3,
          3,
          1,
          5,
          2,
          2,
          2,
          2,
          2,
          3,
          3,
          2,
          2,
          3,
          3,
          4,
          3,
          2,
          2,
          2,
          1,
          2,
          1,
          3,
          3,
          2,
          1,
          2,
          3,
          8,
          5,
          2,
          1,
          3,
          3,
          7,
          1,
          1,
          1,
          2,
          2,
          3,
          2,
          1,
          1,
          2,
          1,
          1,
          3,
          1,
          1,
          2,
          2,
          1,
          3,
          1,
          4,
          3,
          4,
          1,
          2,
          5,
          4,
          8,
          8,
          3,
          4,
          3,
          2,
          6,
          2,
          5,
          3,
          2,
          5,
          2,
          4,
          4,
          1,
          5,
          3,
          3,
          4,
          2,
          7,
          4,
          3,
          4,
          2,
          2,
          5,
          5,
          3,
          5,
          3,
          4,
          4,
          3,
          3,
          3,
          2,
          3,
          2,
          4,
          3,
          3,
          3,
          4,
          7,
          5,
          2,
          3,
          5,
          7,
          5,
          3,
          9,
          4,
          4,
          3,
          3,
          4,
          3,
          2,
          3,
          2,
          3,
          1,
          2,
          2,
          3,
          8,
          4,
          3,
          3,
          6,
          7,
          1,
          1,
          6,
          6,
          2,
          3,
          4,
          9,
          1,
          2,
          3,
          1,
          2,
          6,
          2,
          2,
          2,
          1,
          3,
          1,
          3,
          2,
          5,
          2,
          2,
          4,
          1,
          2,
          3,
          2,
          1,
          1,
          2,
          2,
          4,
          3,
          1,
          2,
          1,
          4,
          3,
          3,
          3,
          7,
          4,
          4,
          1,
          1,
          4,
          1,
          4,
          2,
          1,
          3,
          9,
          2,
          4,
          3,
          3,
          3,
          4,
          2,
          1,
          4,
          5,
          2,
          2,
          3,
          1,
          2,
          2,
          2,
          1,
          2,
          2,
          4,
          2,
          3,
          2,
          1,
          4,
          5,
          1,
          1,
          1,
          3,
          2,
          1,
          2,
          3,
          3,
          2,
          2,
          2,
          1,
          1,
          1,
          1,
          4,
          2,
          1,
          1,
          2,
          2,
          3,
          1,
          2,
          2,
          4,
          2,
          2,
          3,
          2,
          4,
          1,
          1,
          4,
          1,
          2,
          3,
          1,
          2,
          2,
          1,
          4,
          4,
          2,
          4,
          1,
          1,
          4,
          1,
          1,
          4,
          2,
          2,
          1,
          3,
          2,
          6,
          5,
          5,
          6,
          6,
          7,
          7,
          7,
          6,
          1,
          3,
          2,
          1,
          1,
          1,
          1,
          2,
          2,
          2,
          1,
          2,
          1,
          2,
          2,
          2,
          4,
          1,
          4,
          2,
          2,
          4,
          1,
          3,
          1,
          4,
          2,
          1,
          1,
          4,
          2,
          1,
          2,
          2,
          3,
          2,
          1,
          2,
          2,
          1,
          2,
          8,
          11,
          10,
          8,
          6,
          9,
          8,
          12,
          8,
          10,
          2,
          3,
          2,
          5,
          4,
          2,
          4,
          1,
          2,
          3,
          2,
          4,
          4,
          2,
          2,
          4,
          3,
          3,
          2,
          3,
          4,
          3,
          3,
          3,
          4,
          4,
          4,
          1,
          4,
          4,
          2,
          2,
          2,
          3,
          3,
          9,
          4,
          1,
          3,
          3,
          3,
          3,
          1,
          1,
          4,
          5,
          2,
          2,
          3,
          1,
          2,
          2,
          2,
          1,
          2,
          2,
          4,
          2,
          3,
          2
         ],
         "yaxis": "y"
        }
       ],
       "layout": {
        "autosize": true,
        "coloraxis": {
         "colorbar": {
          "title": {
           "text": "Label"
          }
         },
         "colorscale": [
          [
           0,
           "#0d0887"
          ],
          [
           0.1111111111111111,
           "#46039f"
          ],
          [
           0.2222222222222222,
           "#7201a8"
          ],
          [
           0.3333333333333333,
           "#9c179e"
          ],
          [
           0.4444444444444444,
           "#bd3786"
          ],
          [
           0.5555555555555556,
           "#d8576b"
          ],
          [
           0.6666666666666666,
           "#ed7953"
          ],
          [
           0.7777777777777778,
           "#fb9f3a"
          ],
          [
           0.8888888888888888,
           "#fdca26"
          ],
          [
           1,
           "#f0f921"
          ]
         ]
        },
        "legend": {
         "tracegroupgap": 0
        },
        "template": {
         "data": {
          "bar": [
           {
            "error_x": {
             "color": "#2a3f5f"
            },
            "error_y": {
             "color": "#2a3f5f"
            },
            "marker": {
             "line": {
              "color": "#E5ECF6",
              "width": 0.5
             },
             "pattern": {
              "fillmode": "overlay",
              "size": 10,
              "solidity": 0.2
             }
            },
            "type": "bar"
           }
          ],
          "barpolar": [
           {
            "marker": {
             "line": {
              "color": "#E5ECF6",
              "width": 0.5
             },
             "pattern": {
              "fillmode": "overlay",
              "size": 10,
              "solidity": 0.2
             }
            },
            "type": "barpolar"
           }
          ],
          "carpet": [
           {
            "aaxis": {
             "endlinecolor": "#2a3f5f",
             "gridcolor": "white",
             "linecolor": "white",
             "minorgridcolor": "white",
             "startlinecolor": "#2a3f5f"
            },
            "baxis": {
             "endlinecolor": "#2a3f5f",
             "gridcolor": "white",
             "linecolor": "white",
             "minorgridcolor": "white",
             "startlinecolor": "#2a3f5f"
            },
            "type": "carpet"
           }
          ],
          "choropleth": [
           {
            "colorbar": {
             "outlinewidth": 0,
             "ticks": ""
            },
            "type": "choropleth"
           }
          ],
          "contour": [
           {
            "colorbar": {
             "outlinewidth": 0,
             "ticks": ""
            },
            "colorscale": [
             [
              0,
              "#0d0887"
             ],
             [
              0.1111111111111111,
              "#46039f"
             ],
             [
              0.2222222222222222,
              "#7201a8"
             ],
             [
              0.3333333333333333,
              "#9c179e"
             ],
             [
              0.4444444444444444,
              "#bd3786"
             ],
             [
              0.5555555555555556,
              "#d8576b"
             ],
             [
              0.6666666666666666,
              "#ed7953"
             ],
             [
              0.7777777777777778,
              "#fb9f3a"
             ],
             [
              0.8888888888888888,
              "#fdca26"
             ],
             [
              1,
              "#f0f921"
             ]
            ],
            "type": "contour"
           }
          ],
          "contourcarpet": [
           {
            "colorbar": {
             "outlinewidth": 0,
             "ticks": ""
            },
            "type": "contourcarpet"
           }
          ],
          "heatmap": [
           {
            "colorbar": {
             "outlinewidth": 0,
             "ticks": ""
            },
            "colorscale": [
             [
              0,
              "#0d0887"
             ],
             [
              0.1111111111111111,
              "#46039f"
             ],
             [
              0.2222222222222222,
              "#7201a8"
             ],
             [
              0.3333333333333333,
              "#9c179e"
             ],
             [
              0.4444444444444444,
              "#bd3786"
             ],
             [
              0.5555555555555556,
              "#d8576b"
             ],
             [
              0.6666666666666666,
              "#ed7953"
             ],
             [
              0.7777777777777778,
              "#fb9f3a"
             ],
             [
              0.8888888888888888,
              "#fdca26"
             ],
             [
              1,
              "#f0f921"
             ]
            ],
            "type": "heatmap"
           }
          ],
          "heatmapgl": [
           {
            "colorbar": {
             "outlinewidth": 0,
             "ticks": ""
            },
            "colorscale": [
             [
              0,
              "#0d0887"
             ],
             [
              0.1111111111111111,
              "#46039f"
             ],
             [
              0.2222222222222222,
              "#7201a8"
             ],
             [
              0.3333333333333333,
              "#9c179e"
             ],
             [
              0.4444444444444444,
              "#bd3786"
             ],
             [
              0.5555555555555556,
              "#d8576b"
             ],
             [
              0.6666666666666666,
              "#ed7953"
             ],
             [
              0.7777777777777778,
              "#fb9f3a"
             ],
             [
              0.8888888888888888,
              "#fdca26"
             ],
             [
              1,
              "#f0f921"
             ]
            ],
            "type": "heatmapgl"
           }
          ],
          "histogram": [
           {
            "marker": {
             "pattern": {
              "fillmode": "overlay",
              "size": 10,
              "solidity": 0.2
             }
            },
            "type": "histogram"
           }
          ],
          "histogram2d": [
           {
            "colorbar": {
             "outlinewidth": 0,
             "ticks": ""
            },
            "colorscale": [
             [
              0,
              "#0d0887"
             ],
             [
              0.1111111111111111,
              "#46039f"
             ],
             [
              0.2222222222222222,
              "#7201a8"
             ],
             [
              0.3333333333333333,
              "#9c179e"
             ],
             [
              0.4444444444444444,
              "#bd3786"
             ],
             [
              0.5555555555555556,
              "#d8576b"
             ],
             [
              0.6666666666666666,
              "#ed7953"
             ],
             [
              0.7777777777777778,
              "#fb9f3a"
             ],
             [
              0.8888888888888888,
              "#fdca26"
             ],
             [
              1,
              "#f0f921"
             ]
            ],
            "type": "histogram2d"
           }
          ],
          "histogram2dcontour": [
           {
            "colorbar": {
             "outlinewidth": 0,
             "ticks": ""
            },
            "colorscale": [
             [
              0,
              "#0d0887"
             ],
             [
              0.1111111111111111,
              "#46039f"
             ],
             [
              0.2222222222222222,
              "#7201a8"
             ],
             [
              0.3333333333333333,
              "#9c179e"
             ],
             [
              0.4444444444444444,
              "#bd3786"
             ],
             [
              0.5555555555555556,
              "#d8576b"
             ],
             [
              0.6666666666666666,
              "#ed7953"
             ],
             [
              0.7777777777777778,
              "#fb9f3a"
             ],
             [
              0.8888888888888888,
              "#fdca26"
             ],
             [
              1,
              "#f0f921"
             ]
            ],
            "type": "histogram2dcontour"
           }
          ],
          "mesh3d": [
           {
            "colorbar": {
             "outlinewidth": 0,
             "ticks": ""
            },
            "type": "mesh3d"
           }
          ],
          "parcoords": [
           {
            "line": {
             "colorbar": {
              "outlinewidth": 0,
              "ticks": ""
             }
            },
            "type": "parcoords"
           }
          ],
          "pie": [
           {
            "automargin": true,
            "type": "pie"
           }
          ],
          "scatter": [
           {
            "fillpattern": {
             "fillmode": "overlay",
             "size": 10,
             "solidity": 0.2
            },
            "type": "scatter"
           }
          ],
          "scatter3d": [
           {
            "line": {
             "colorbar": {
              "outlinewidth": 0,
              "ticks": ""
             }
            },
            "marker": {
             "colorbar": {
              "outlinewidth": 0,
              "ticks": ""
             }
            },
            "type": "scatter3d"
           }
          ],
          "scattercarpet": [
           {
            "marker": {
             "colorbar": {
              "outlinewidth": 0,
              "ticks": ""
             }
            },
            "type": "scattercarpet"
           }
          ],
          "scattergeo": [
           {
            "marker": {
             "colorbar": {
              "outlinewidth": 0,
              "ticks": ""
             }
            },
            "type": "scattergeo"
           }
          ],
          "scattergl": [
           {
            "marker": {
             "colorbar": {
              "outlinewidth": 0,
              "ticks": ""
             }
            },
            "type": "scattergl"
           }
          ],
          "scattermapbox": [
           {
            "marker": {
             "colorbar": {
              "outlinewidth": 0,
              "ticks": ""
             }
            },
            "type": "scattermapbox"
           }
          ],
          "scatterpolar": [
           {
            "marker": {
             "colorbar": {
              "outlinewidth": 0,
              "ticks": ""
             }
            },
            "type": "scatterpolar"
           }
          ],
          "scatterpolargl": [
           {
            "marker": {
             "colorbar": {
              "outlinewidth": 0,
              "ticks": ""
             }
            },
            "type": "scatterpolargl"
           }
          ],
          "scatterternary": [
           {
            "marker": {
             "colorbar": {
              "outlinewidth": 0,
              "ticks": ""
             }
            },
            "type": "scatterternary"
           }
          ],
          "surface": [
           {
            "colorbar": {
             "outlinewidth": 0,
             "ticks": ""
            },
            "colorscale": [
             [
              0,
              "#0d0887"
             ],
             [
              0.1111111111111111,
              "#46039f"
             ],
             [
              0.2222222222222222,
              "#7201a8"
             ],
             [
              0.3333333333333333,
              "#9c179e"
             ],
             [
              0.4444444444444444,
              "#bd3786"
             ],
             [
              0.5555555555555556,
              "#d8576b"
             ],
             [
              0.6666666666666666,
              "#ed7953"
             ],
             [
              0.7777777777777778,
              "#fb9f3a"
             ],
             [
              0.8888888888888888,
              "#fdca26"
             ],
             [
              1,
              "#f0f921"
             ]
            ],
            "type": "surface"
           }
          ],
          "table": [
           {
            "cells": {
             "fill": {
              "color": "#EBF0F8"
             },
             "line": {
              "color": "white"
             }
            },
            "header": {
             "fill": {
              "color": "#C8D4E3"
             },
             "line": {
              "color": "white"
             }
            },
            "type": "table"
           }
          ]
         },
         "layout": {
          "annotationdefaults": {
           "arrowcolor": "#2a3f5f",
           "arrowhead": 0,
           "arrowwidth": 1
          },
          "autotypenumbers": "strict",
          "coloraxis": {
           "colorbar": {
            "outlinewidth": 0,
            "ticks": ""
           }
          },
          "colorscale": {
           "diverging": [
            [
             0,
             "#8e0152"
            ],
            [
             0.1,
             "#c51b7d"
            ],
            [
             0.2,
             "#de77ae"
            ],
            [
             0.3,
             "#f1b6da"
            ],
            [
             0.4,
             "#fde0ef"
            ],
            [
             0.5,
             "#f7f7f7"
            ],
            [
             0.6,
             "#e6f5d0"
            ],
            [
             0.7,
             "#b8e186"
            ],
            [
             0.8,
             "#7fbc41"
            ],
            [
             0.9,
             "#4d9221"
            ],
            [
             1,
             "#276419"
            ]
           ],
           "sequential": [
            [
             0,
             "#0d0887"
            ],
            [
             0.1111111111111111,
             "#46039f"
            ],
            [
             0.2222222222222222,
             "#7201a8"
            ],
            [
             0.3333333333333333,
             "#9c179e"
            ],
            [
             0.4444444444444444,
             "#bd3786"
            ],
            [
             0.5555555555555556,
             "#d8576b"
            ],
            [
             0.6666666666666666,
             "#ed7953"
            ],
            [
             0.7777777777777778,
             "#fb9f3a"
            ],
            [
             0.8888888888888888,
             "#fdca26"
            ],
            [
             1,
             "#f0f921"
            ]
           ],
           "sequentialminus": [
            [
             0,
             "#0d0887"
            ],
            [
             0.1111111111111111,
             "#46039f"
            ],
            [
             0.2222222222222222,
             "#7201a8"
            ],
            [
             0.3333333333333333,
             "#9c179e"
            ],
            [
             0.4444444444444444,
             "#bd3786"
            ],
            [
             0.5555555555555556,
             "#d8576b"
            ],
            [
             0.6666666666666666,
             "#ed7953"
            ],
            [
             0.7777777777777778,
             "#fb9f3a"
            ],
            [
             0.8888888888888888,
             "#fdca26"
            ],
            [
             1,
             "#f0f921"
            ]
           ]
          },
          "colorway": [
           "#636efa",
           "#EF553B",
           "#00cc96",
           "#ab63fa",
           "#FFA15A",
           "#19d3f3",
           "#FF6692",
           "#B6E880",
           "#FF97FF",
           "#FECB52"
          ],
          "font": {
           "color": "#2a3f5f"
          },
          "geo": {
           "bgcolor": "white",
           "lakecolor": "white",
           "landcolor": "#E5ECF6",
           "showlakes": true,
           "showland": true,
           "subunitcolor": "white"
          },
          "hoverlabel": {
           "align": "left"
          },
          "hovermode": "closest",
          "mapbox": {
           "style": "light"
          },
          "paper_bgcolor": "white",
          "plot_bgcolor": "#E5ECF6",
          "polar": {
           "angularaxis": {
            "gridcolor": "white",
            "linecolor": "white",
            "ticks": ""
           },
           "bgcolor": "#E5ECF6",
           "radialaxis": {
            "gridcolor": "white",
            "linecolor": "white",
            "ticks": ""
           }
          },
          "scene": {
           "xaxis": {
            "backgroundcolor": "#E5ECF6",
            "gridcolor": "white",
            "gridwidth": 2,
            "linecolor": "white",
            "showbackground": true,
            "ticks": "",
            "zerolinecolor": "white"
           },
           "yaxis": {
            "backgroundcolor": "#E5ECF6",
            "gridcolor": "white",
            "gridwidth": 2,
            "linecolor": "white",
            "showbackground": true,
            "ticks": "",
            "zerolinecolor": "white"
           },
           "zaxis": {
            "backgroundcolor": "#E5ECF6",
            "gridcolor": "white",
            "gridwidth": 2,
            "linecolor": "white",
            "showbackground": true,
            "ticks": "",
            "zerolinecolor": "white"
           }
          },
          "shapedefaults": {
           "line": {
            "color": "#2a3f5f"
           }
          },
          "ternary": {
           "aaxis": {
            "gridcolor": "white",
            "linecolor": "white",
            "ticks": ""
           },
           "baxis": {
            "gridcolor": "white",
            "linecolor": "white",
            "ticks": ""
           },
           "bgcolor": "#E5ECF6",
           "caxis": {
            "gridcolor": "white",
            "linecolor": "white",
            "ticks": ""
           }
          },
          "title": {
           "x": 0.05
          },
          "xaxis": {
           "automargin": true,
           "gridcolor": "white",
           "linecolor": "white",
           "ticks": "",
           "title": {
            "standoff": 15
           },
           "zerolinecolor": "white",
           "zerolinewidth": 2
          },
          "yaxis": {
           "automargin": true,
           "gridcolor": "white",
           "linecolor": "white",
           "ticks": "",
           "title": {
            "standoff": 15
           },
           "zerolinecolor": "white",
           "zerolinewidth": 2
          }
         }
        },
        "title": {
         "text": "Comment Length vs Word Count"
        },
        "xaxis": {
         "anchor": "y",
         "autorange": true,
         "domain": [
          0,
          1
         ],
         "range": [
          -1.7010562515352494,
          66.70105625153525
         ],
         "title": {
          "text": "Comment Length"
         },
         "type": "linear"
        },
        "yaxis": {
         "anchor": "x",
         "autorange": true,
         "domain": [
          0,
          1
         ],
         "range": [
          0.09223300970873782,
          12.907766990291263
         ],
         "title": {
          "text": "Word Count"
         },
         "type": "linear"
        }
       }
      },
      "image/png": "[encoded data removed]",
      "text/html": [
       "<div>                            <div id=\"5b9c522c-f963-4de3-a942-c084d10b706c\" class=\"plotly-graph-div\" style=\"height:525px; width:100%;\"></div>            <script type=\"text/javascript\">                require([\"plotly\"], function(Plotly) {                    window.PLOTLYENV=window.PLOTLYENV || {};                                    if (document.getElementById(\"5b9c522c-f963-4de3-a942-c084d10b706c\")) {                    Plotly.newPlot(                        \"5b9c522c-f963-4de3-a942-c084d10b706c\",                        [{\"customdata\":[[\"fresh\"],[\"good product\"],[\"lively\"],[\"straight farm\"],[\"great quality\"],[\"'' nt expect good\"],[\"nice\"],[\"cheap best\"],[\"amazing product\"],[\"quality great\"],[\"red\"],[\"super taste\"],[\"sweet\"],[\"look like simla one\"],[\"good thought\"],[\"bad quality\"],[\"rotten\"],[\"soon opened , confirmed worst\"],[\"good\"],[\"exhausted\"],[\"quantity bad\"],[\"did'nt expect\"],[\"yak\"],[\"wondering ordered\"],[\"ai n't good thought adjustable\"],[\"bad good\"],[\"ok\"],[\"fine\"],[\"fresh\"],[\"quality disgusting\"],[\"difference unpredictable\"],[\"okay , thought\"],[\"wow\"],[\"quality average\"],[\"neither good , bad\"],[\"ok-ish thats\"],[\"simple size\"],[\"buy outside\"],[\"compromisable\"],[\"high taste !\"],[\"great\"],[\"fresh\"],[\"kid enjoyed\"],[\"digestable\"],[\"credit big basket\"],[\"didnt disappoint\"],[\"red\"],[\"served guest , felt good\"],[\"superb\"],[\"regard\"],[\"worst taste\"],[\"decided buy\"],[\"don.t ever buy\"],[\"felt stolen\"],[\"recieved , stolen one\"],[\"smell horrible\"],[\"half bad\"],[\"bad quality\"],[\"packing good.received rotten apple .\"],[\"much wax\"],[\"'s tasty\"],[\"best\"],[\"love fresh crunchy juicy apple\"],[\"apple fresh\"],[\"hygine\"],[\"product fresh taste good !\"],[\"good product\"],[\"well test !\"],[\"delicious fruit .\"],[\"thanks amazon ...\"],[\"another day would disappointing\"],[\"bad quality apple\"],[\"tried one piece good .\"],[\"2 4 found bad thrown away .\"],[\"costly compared market rate\"],[\"good quality\"],[\"request distributor careful selecting apple delivery\"],[\"colour good outside , taste expected\"],[\"fresh , dented .\"],[\"almost double compared market rate\"],[\"hard one\"],[\"ok\"],[\"n't value money came rotten\"],[\"look nice soft inside .\"],[\"like\"],[\"good\"],[\"mark .. normal apple\"],[\"bad\"],[\"quality good small size .\"],[\"sweet & worth buying tasty & juicy\"],[\"apple fabulous ...\"],[\"fresh\"],[\"good quality\"],[\"good product . used making fruit salad .\"],[\"nice & good .\"],[\"thanks amazon\"],[\"great value money\"],[\"fresh\"],[\"recieved gud fresh crunchy red apple\"],[\"quality product delivered good\"],[\"apple bad quality\"],[\"chemical grew apple , buy\"],[\"n't buy fruit amazon\"],[\"old stuff & good eat\"],[\"shelf life increased coating apple wax\"],[\"apple smell rotten\"],[\"quantity ordered 4 received 2 .\"],[\"quality bad , 2 4 rotten\"],[\"packing good.received rotten apple .\"],[\"item described , imported per description\"],[\"best\"],[\"apple day ..\"],[\"organic apple\"],[\"delicious\"],[\"good apple\"],[\"nice\"],[\"first order delivered time good quality product apple\"],[\"good quality\"],[\"fresh apple\"],[\"shimla apple .. quality good\"],[\"absolutely delicious , highly recommend .\"],[\"highly recommended , amazing taste .\"],[\"superb crunch , loved .\"],[\"apple fresh also disappointing .\"],[\"apple sour enjoyable .\"],[\"okay okay , best .\"],[\"apple crisp juicy , perfect also good health\"],[\"perfectly sweet also flavorful .\"],[\"best apple 've ever .\"],[\"one top-notch fruit , exceeded expectation .\"],[\"favorite apple , good .\"],[\"apple kid friendly loved , super tasty .\"],[\"good , totally worth .\"],[\"perfect healthy snack .\"],[\"taste fantastic , buy .\"],[\"super fresh , happy .\"],[\"apple fresh also best ever\"],[\"really disappointing , expected better .\"],[\"wo n't buy apple , bad .\"],[\"arrived mushy bruised , terrible .\"],[\"bitter , could n't eat .\"],[\"looked good tasted awful .\"],[\"waste money , went bad quickly .\"],[\"dry tasteless\"],[\"sweetness also rotten\"],[\"spoiled fast , really disappointing .\"],[\"seem good outside bad inside\"],[\"taste good also upto mark\"],[\"n't feel like fresh.please request buy\"],[\"good . dont encourage kind stuff\"],[\"worst experience.not good\"],[\"good dont buy\"],[\"apple rotten godod health\"],[\"upto mark .okay okay\"],[\"expected okay\"],[\"okay , best .\"],[\"dont expect much okay\"],[\"fine snacking , exceptional .\"],[\"moderately fresh , average taste .\"],[\"average best one.okay okay\"],[\"decent best one\"],[\"expected better.just average\"],[\"neither good bad . average\"],[\"satisfactory quality best one experienced\"],[\"getting long time jsut okay okay\"],[\"really enjoying apple\"],[\"excellent\"],[\"juicy apple\"],[\"nutritional value\"],[\"cheap best\"],[\"product fresh\"],[\"favorite apple\"],[\"all-time favorite !\"],[\"delicious\"],[\"thanks freshindia ...\"],[\"watery brown interior\"],[\"brown spotty inside\"],[\"even one piece good .\"],[\"buy apple crate\"],[\"bad\"],[\"good quality\"],[\"careful selecting\"],[\"bad taste expect\"],[\"spoiled product\"],[\"favorite\"],[\"ripen\"],[\"justifiable price\"],[\"worth\"],[\"prefer avoid bad\"],[\"neither good , bad\"],[\"satisfiable\"],[\"expected something\"],[\"buy outside\"],[\"tiny apple\"],[\"good\"],[\"apple fabulous\"],[\"full-sized\"],[\"fresh juicy\"],[\"good fruit salad .\"],[\"nice & great .\"],[\"thanks freshindiaorganics\"],[\"great taste\"],[\"everyone felt good\"],[\"recieved gud red apple\"],[\"regard\"],[\"bad quality apple\"],[\"chemical grown apple\"],[\"n't buy fruit freshindia\"],[\"buy\"],[\"wax coated product\"],[\"rotten smell\"],[\"felt stolen .\"],[\"much wax\"],[\"smaller one\"],[\"fake product\"],[\"top notch\"],[\"doctor recommended\"],[\"fertilizer product\"],[\"tasty\"],[\"fruit\"],[\"apple amazing ! crisp , juicy , perfectly sweet . fresh\"],[\"really good apple ! great balance sweetness tartness .\"],[\"best apple 've long time . super fresh crunchy\"],[\"delicious apple . firm juicy pleasant sweetness .\"],[\"disappointed apple . mealy lacked flavor .\"],[\"terrible apple . bruised weird taste .\"],[\"apple soft mushy . n't taste fresh .\"],[\"poor quality apple . sour strange texture .\"],[\"apple okay . neither sweet tart .\"],[\"average apple . best 've , certainly worst .\"],[\"fresh avacado !\"],[\"creamy delicious\"],[\"perfect\"],[\"freshness avocado\"],[\"ripen perfectly\"],[\"best avocado\"],[\"great\"],[\"great quality\"],[\"nice flavor\"],[\"delicious\"],[\"highly recommend\"],[\"perfectly ripe\"],[\"full flavor\"],[\"definitely buy\"],[\"fresh tasty\"],[\"great value money\"],[\"impressed\"],[\"good\"],[\"smooth , fresh\"],[\"always delicious\"],[\"taste amazing\"],[\"avocado overripe\"],[\"disappointed\"],[\"fresh\"],[\"creamy enough\"],[\"enjoyable\"],[\"happy\"],[\"damaged\"],[\"bruised\"],[\"poor quality\"],[\"dry lacked flavor\"],[\"\\u2019 buy\"],[\"avocado small\"],[\"creamy\"],[\"expected better quality\"],[\"good\"],[\"disappointed\"],[\"almost rotten\"],[\"worth\"],[\"worst\"],[\"\\u2019 buy\"],[\"quality inconsistent\"],[\"avocado letdown\"],[\"okay\"],[\"alright salad\"],[\"average quality avocado\"],[\"avocado okay\"],[\"avocado acceptable\"],[\"bad\"],[\"fine price\"],[\"good avocado\"],[\"appreciate\"],[\"nice hard shell\"],[\"variety ripe\"],[\"great flavor ( creamy buttery )\"],[\"taste fire\"],[\"seed fine\"],[\"great calorie fruit\"],[\"tasty\"],[\"first time avacado , great ! ! !\"],[\"enjoyed\"],[\"greatest fruit\"],[\"green inside\"],[\"egg , good\"],[\"juice good\"],[\"nutritious\"],[\"awe ! !\"],[\"nevr avocado good\"],[\"tongue ca n't forget taste\"],[\"good thing salad\"],[\"starting like\"],[\"ate gym , great\"],[\"rich taste\"],[\"average taste\"],[\"thought would bigger\"],[\"fresh , taste fine\"],[\"bad thats say\"],[\"found quality near store\"],[\"vendor one also sam\"],[\"ok eat\"],[\"quality convinsing\"],[\"regard\"],[\"neither good bad\"],[\"general found quality\"],[\"good go\"],[\"average opinion\"],[\"good , others ok\"],[\"average quality\"],[\"must avoid\"],[\"worse\"],[\"worst ever\"],[\"ordering avocado\"],[\"rotten mostly\"],[\"seed roten\"],[\"hard eat\"],[\"would'nt digest\"],[\"dont order bb\"],[\"0 star\"],[\"outlayer much waxed\"],[\"seed n't ripe\"],[\"teeth hurt\"],[\"n't like\"],[\"overrrated\"],[\"get fruit rate\"],[\"rate high\"],[\"creamy texture\"],[\"nutritious versatile\"],[\"rich buttery\"],[\"healthy fat source\"],[\"perfect toast\"],[\"smooth flavorful\"],[\"great salad\"],[\"ideal dip\"],[\"deliciously creamy\"],[\"fresh satisfying\"],[\"versatile ingredient\"],[\"nutritious addition\"],[\"rich filling\"],[\"perfectly ripe\"],[\"delightful sandwich\"],[\"mildly sweet\"],[\"great lime\"],[\"savory goodness\"],[\"amazing texture\"],[\"filling nutritious\"],[\"expensive fruit\"],[\"spoil quickly\"],[\"mushy sometimes\"],[\"bland\"],[\"high fat\"],[\"difficult ripen\"],[\"messy cut\"],[\"flavor lack punch\"],[\"overrated fruit\"],[\"requires careful handling\"],[\"always fresh\"],[\"short shelf life\"],[\"taste vary\"],[\"oily\"],[\"prone browning\"],[\"take time ripen\"],[\"high calorie\"],[\"bland without seasoning\"],[\"overly creamy sometimes\"],[\"pricey perishable\"],[\"okay\"],[\"average fruit\"],[\"mildly enjoyable\"],[\"basic ingredient\"],[\"fine common\"],[\"0 flavor\"],[\"decent texture\"],[\"everyone\"],[\"meh taste\"],[\"simple fruit\"],[\"fresh avacado !\"],[\"creamy delicious\"],[\"added salad , juice .\"],[\"freshness avocado\"],[\"ripen perfectly\"],[\"best avocado\"],[\"ripened well .\"],[\"ha avocado imported australia perfect\"],[\"nice flavor\"],[\"arrived big size\"],[\"highly recommend\"],[\"perfectly ripe\"],[\"full flavor\"],[\"definitely buy\"],[\"go avocado guy\"],[\"great value money\"],[\"impressed\"],[\"worth price .\"],[\"smooth , fresh\"],[\"always delicious\"],[\"taste amazing\"],[\"avocado overripe\"],[\"hard avocado\"],[\"fresh\"],[\"creamy enough\"],[\"really unfortunate\"],[\"happy\"],[\"stored , spoiled\"],[\"colour\"],[\"poor quality\"],[\"dry lacked flavor\"],[\"poor quality product\"],[\"avocado small\"],[\"creamy\"],[\"expected better quality\"],[\"good\"],[\"never seen small avocado life\"],[\"almost rotten\"],[\"worth\"],[\"worst\"],[\"report\"],[\"quality inconsistent\"],[\"avocado letdown\"],[\"okay\"],[\"alright salad\"],[\"average quality avocado\"],[\"avocado okay\"],[\"avocado acceptable\"],[\"bad\"],[\"fine price\"],[\"good avocado\"],[\"appreciate\"],[\"nice hard shell\"],[\"variety ripe\"],[\"great flavor ( creamy buttery )\"],[\"grape spoiled , 's fresh item\"],[\"majority grape spoiled .\"],[\"n't receive quantity mentioned\"],[\"dislike\"],[\"good buy fruit pineapple tiny\"],[\"grape rotten\"],[\"fresh\"],[\"many seed quite sour\"],[\"50 % percent grape good rotten\"],[\"much sour taste\"],[\"quality\"],[\"worm inside package\"],[\"sour taste\"],[\"quality good\"],[\"totally waste\"],[\"kind plucked early .\"],[\"could enjoy much .\"],[\"good\"],[\"good condition\"],[\"raw\"],[\"fresh indeed , well packed arrived safe\"],[\"quality good .\"],[\"value money wt paying\"],[\"delivered good condition\"],[\"u order bliendly\"],[\"liked\"],[\"juicy shown picture\"],[\"good\"],[\"grape delivered fresh n tasted good\"],[\"fresh expected .\"],[\"loved\"],[\"juicy delicious !\"],[\"great taste\"],[\"good condition taste also good\"],[\"good\"],[\"fresh tasty graps\"],[\"like\"],[\"eat healthy\"],[\"good tasty\"],[\"average . taste-wise ok .\"],[\"thought would good upto expectation\"],[\"somehow consumable .\"],[\"taste good seed sharp tip\"],[\"product n't turn like small size\"],[\"sour grape\"],[\"expectation\"],[\"average\"],[\"ok\"],[\"buy- sent bad\"],[\"price high 250 per 500gm\"],[\"yellowing\"],[\"verge rotting\"],[\"good value\"],[\"got 350gms instead 500\"],[\"quantity le\"],[\"waste\"],[\"almost half bunch ripe spoilt\"],[\"sweet fruit\"],[\"keep repurchasing\"],[\"absolute fresh juicy\"],[\"rotten\"],[\"good\"],[\"size really bad\"],[\"black , green\"],[\"orderded black , got green\"],[\"taste\"],[\", liked\"],[\"grape small\"],[\"blacked\"],[\"freshness\"],[\"fresh\"],[\"worst quality\"],[\"sour taste\"],[\"much sour taste\"],[\", nt sure whether fruit seed\"],[\"insect inside\"],[\"good taste\"],[\"quality good\"],[\"waste time\"],[\"regretting\"],[\"did'nt reach expectation\"],[\"bad\"],[\"worst quality\"],[\"juice\"],[\"great deal\"],[\"good package ]\"],[\"value every rupee\"],[\"great taste\"],[\"second thought\"],[\"husband liked\"],[\"great\"],[\"product fabulous\"],[\"best taste ever\"],[\"great\"],[\"juicy shown picture\"],[\"super\"],[\"tasted good\"],[\"expected ! ! 1\"],[\"worth every penny\"],[\"delicious\"],[\"tasty\"],[\"good condition taste also good\"],[\"sweet\"],[\"fresh tasty graps\"],[\"parent liked\"],[\"tasty\"],[\"taste great\"],[\"best grape\"],[\"nevertheless\"],[\"taste bad\"],[\"didnt match expectation\"],[\"somehow consumable .\"],[\"normal opinion\"],[\"thought would better , neither bad\"],[\"finr\"],[\"average\"],[\"good , bad\"],[\"ok\"],[\"bad experience\"],[\"high price\"],[\"super sweet juicy , loved .\"],[\"great taste\"],[\"grape fresh delicious .\"],[\"perfectly ripe , wanted .\"],[\"taste good delivery also great\"],[\"amazing quality , sweet juicy\"],[\"best grape ever , highly recommend !\"],[\"incredibly fresh juicy , perfect snacking .\"],[\"fresh delicious\"],[\"fresh juicy\"],[\"juicy flavorful ,\"],[\"perfect fruit salad , great flavor .\"],[\"wonderful grape , fresh sweet\"],[\"kid loved , buy .\"],[\"best taste grape ever\"],[\"grape good\"],[\"exceeded expectation , tasty .\"],[\"amazing taste , perfectly ripe sweet .\"],[\"good best taste ever experienced\"],[\"fresh sweet , like home .\"],[\"really disappointed , fresh\"],[\"sour enjoyable .\"],[\"bruised mushy , bad .\"],[\"poor quality , wo n't buy .\"],[\"bland taste , sweetness .\"],[\"overripe spoiled quickly .\"],[\"terrible taste , could n't eat .\"],[\"waste money , bad .\"],[\"dry flavorless , good .\"],[\"small ripe , disappointed .\"],[\"good , unsatisfied .\"],[\"sweetness , bland .\"],[\"spoiled fast , really disappointing .\"],[\"mealy texture , fresh .\"],[\"flavorless dry , wo n't buy .\"],[\"soft bruised , poor quality .\"],[\"bland taste , worth .\"],[\"overpriced poor quality .\"],[\"really disappointing , expected better .\"],[\"wo n't buy grape , bad .\"],[\"grape okay , best .\"],[\"average grape , sweet , others .\"],[\"fine , nothing special .\"],[\"pretty average grape .\"],[\"fair quality , expected better .\"],[\"decent grape , consistent .\"],[\"good , bland .\"],[\"fresh sweet .\"],[\"grape alright , okay .\"],[\"best okay okay\"],[\"good product\"],[\"good\"],[\"quality promised\"],[\"bad product\"],[\"seedy fruit\"],[\"different breed\"],[\"mushy upon arrival\"],[\"likable\"],[\"waste money\"],[\"sour taste\"],[\"edible\"],[\"infested\"],[\"n't buy\"],[\"flavor\"],[\"barely even sweet\"],[\"kind plucked early .\"],[\"tasty\"],[\"obvious damage\"],[\"good condition\"],[\"juice\"],[\"super product\"],[\"5 star\"],[\"value every rupee\"],[\"nice packaging\"],[\"u order bliendly\"],[\"loved\"],[\"met expectation\"],[\"husband liked\"],[\"good product\"],[\"fresh expected\"],[\"good fruit\"],[\"nevertheless\"],[\"arrived fresh\"],[\"good condition taste also good\"],[\"expected ! ! 1\"],[\"fresh tasty graps\"],[\"great option\"],[\"juicy grape\"],[\"tasty\"],[\"taste-wise ok .\"],[\"somewhat satisfied\"],[\"somehow consumable .\"],[\"taste good seed sharp tip\"],[\"product n't turn like small size\"],[\"plain fresh\"],[\"expectation\"],[\"average\"],[\"ok\"],[\"buy- sent bad\"],[\"price high 250 per 500gm\"],[\"absolute fresh juicy\"],[\"keep repurchasing\"],[\"sweet fruit\"],[\"almost half bunch ripe spoilt\"],[\"waste\"],[\"quantity le\"],[\"got 350gms instead 500\"],[\"good value\"],[\"verge rotting\"],[\"yellowing\"],[\"kiwi received great condition\"],[\"fresh tasted good\"],[\"good size\"],[\"remained fresh week without keep refrigerator\"],[\"would buy .\"],[\"fresh one\"],[\"nice quality !\"],[\"incredibly juicy sweet\"],[\"perfect\"],[\"fresh\"],[\"best kiwi\"],[\"great quality flavor\"],[\"delicious\"],[\"perfectly ripe\"],[\"fresh tasty\"],[\"great value money\"],[\"impressed\"],[\"good\"],[\"sweet , juicy , fresh\"],[\"overripe\"],[\"disappointed\"],[\"fresh\"],[\"tasted bad\"],[\"bland\"],[\"good\"],[\"sour\"],[\"sweet enough\"],[\"kiwi underripe\"],[\"enjoyable\"],[\"strange aftertaste\"],[\"kiwi bruised\"],[\"damaged\"],[\"wo n't buy\"],[\"disappointing\"],[\"small\"],[\"juicy\"],[\"kiwi lot brown spot\"],[\"edible\"],[\"expected better quality price\"],[\"almost rotten\"],[\"sweet\"],[\"sweet , sour either\"],[\"good enough\"],[\"okay\"],[\"freshest\"],[\"particularly sweet , usable\"],[\"average\"],[\"okay\"],[\"alright\"],[\"fine\"],[\"open servable\"],[\"eat 2 whole kiwi\"],[\"better medication\"],[\"satisfied\"],[\"dramatic effect chronic severe constipation\"],[\"green\"],[\"sweetest\"],[\"kiwi favourite\"],[\"affordable\"],[\"recommending friend\"],[\"perfect snack\"],[\"make good morning salad\"],[\"kiwi good\"],[\"perfect\"],[\"fresh\"],[\"never disappointed bb\"],[\"flavorous\"],[\"delicious\"],[\"impressed\"],[\"regretts\"],[\"great value money\"],[\"great experience\"],[\"quality perfect\"],[\"nice\"],[\"bad\"],[\"spoiled soon\"],[\"n't last even two day\"],[\"buying\"],[\"eating\"],[\"opinion changed kiwi\"],[\"waste money\"],[\"bad\"],[\"returning\"],[\"sad quality\"],[\"impressed\"],[\"bad\"],[\"disappoined opened\"],[\"wish forget expeience\"],[\"hard\"],[\"bad\"],[\"-1 feeling got real\"],[\"thought would good\"],[\"changed feeling\"],[\"buying bb\"],[\"good , bad\"],[\"average\"],[\"find outside\"],[\"n't expectation , jusr okay\"],[\"average taste\"],[\"quality bad okay '\"],[\"packing fine okay\"],[\"adjustbale\"],[\"ok feeling\"],[\"nothing say\"],[\"good\"],[\"bright green color tiny seed make kiwi visually appealing .\"],[\"love versatile kiwi . \\u2019 great smoothy , salad\"],[\"appreciate kiwi easy peel eat . \\u2019 great fruit on-the-go\"],[\"delicious also great digestion . love unique texture taste\"],[\"bright nutritious\"],[\"digestive delight\"],[\"convenient tasty\"],[\"healthy satisfying\"],[\"unique texture\"],[\"vibrant color\"],[\"addictive flavor\"],[\"peeling reward\"],[\"never boring\"],[\"sorbet favorite\"],[\"juicy treat\"],[\"taste like heaven\"],[\"good taste good healthy every one\"],[\"texture quality good\"],[\"best platform best fruit\"],[\"good taste\"],[\"tart\"],[\"strange texture\"],[\"mushy sometimes\"],[\"peeling hassle\"],[\"occasionally sour\"],[\"fuzzy skin\"],[\"expensive fruit\"],[\"weak flavor\"],[\"allergic reaction\"],[\"overpowering tartness\"],[\"messy eat\"],[\"exotic\"],[\"overly sweet\"],[\"disappointing dish\"],[\"annoying seed\"],[\"dry texture\"],[\"odd aftertaste\"],[\"forgettable flavor\"],[\"mushy texture\"],[\"peeling trouble\"],[\"average\"],[\"okay fruit\"],[\"decent taste\"],[\"nothing special\"],[\"mediocre option\"],[\"fine unexciting\"],[\"unique unremarkable\"],[\"occasionally eaten\"],[\"memorable\"],[\"plain fruit\"],[\"kiwi incredibly sweet juicy .\"],[\"loved kiwi ! ripe , flavorful , wonderful texture .\"],[\"kiwi amazing . super fresh delightful tropical taste .\"],[\"excellent kiwi . juicy sweet right amount tanginess .\"],[\"kiwi overripe mushy . n't taste fresh\"],[\"happy kiwi . sour lacked sweetness\"],[\"kiwi good . stringy taste .\"],[\"poor quality kiwi . underripe hard eat . enjoyable .\"],[\"kiwi okay . decent flavor n't sweet hoped .\"],[\"average kiwi . juicy , taste quite mild .\"],[\"kiwi received great condition\"],[\"fresh tasted good\"],[\"good size\"],[\"remained fresh week without keep refrigerator\"],[\"would buy .\"],[\"fresh one\"],[\"fresh juicy .\"],[\"incredibly juicy sweet\"],[\"perfect\"],[\"quality checked\"],[\"best kiwi\"],[\"great quality flavor\"],[\"delicious\"],[\"perfectly ripe\"],[\"fresh tasty\"],[\"great value money\"],[\"impressed\"],[\"tasty kiwi\"],[\"sweet , juicy , fresh\"],[\"overripe\"],[\"continuously second time\"],[\"better buy outside shop\"],[\"tasted bad\"],[\"bland\"],[\"good\"],[\"don.t give eat\"],[\"sweet enough\"],[\"kiwi underripe\"],[\"enjoyable\"],[\"strange aftertaste\"],[\"kiwi bruised\"],[\"give rotten , tasteless item\"],[\"wo n't buy\"],[\"poor\"],[\"small\"],[\"juicy\"],[\"kiwi lot brown spot\"],[\"edible\"],[\"expected better quality price\"],[\"good\"],[\"sweet\"],[\"sweet , sour either\"],[\"good enough\"],[\"eaten\"],[\"freshest\"],[\"particularly sweet , usable\"],[\"average\"],[\"okay\"],[\"alright\"],[\"open servable\"],[\"eat 2 whole kiwi\"],[\"better medication\"],[\"satisfied\"],[\"dramatic effect chronic severe constipation\"],[\"great snack\"],[\"mango received great condition\"],[\"fresh tasted good\"],[\"nice quality !\"],[\"fresh sour ...\"],[\"sure species\\u002ftype mango indeed raw & fresh\"],[\"got mango amazon good price\"],[\"good mango raw good taste chilli powder\"],[\"tasty , yummy , fresh , selected raw mango\"],[\"mango good ... served purpose\"],[\"product meet expectation\"],[\"good\"],[\"mango fresh good quality . recommended .\"],[\"good quality fresh\"],[\"fresh\"],[\"value money\"],[\"raw mango excellent flavour delivered excellent condition\"],[\"freshness metropolitan city\"],[\"good . actually raw mango semi-riped get many time .\"],[\"domestic consumption v\"],[\"2.5 kg mango 1 kg raw .\"],[\"little sweet taste , raw arrived .\"],[\"last three time ordered raw mango came semi ripe\"],[\"raw mango ok .\"],[\"bought raw mango ripe .\"],[\"comment\"],[\"came neither fully raw fully ripe\"],[\"small soft proper state weast money please send\"],[\"raw mango n't even raw\"],[\"already sweet even though skin green .\"],[\"mango raw & spoil .\"],[\"mango small already ripe\"],[\"worst ever experience , smelky rotten mango .\"],[\"raw mango riped\"],[\"n't raw mango angle ..\"],[\"green colour fully ripe ...\"],[\"waste\"],[\"old stock supplied\"],[\"quality check despatch\"],[\"worm mark mango\"],[\"found damaged\"],[\"useless fresh pickle .\"],[\"useful . stale\"],[\"could use purpose ordered\"],[\"delivered really bad quality\"],[\"mango raw\"],[\"rest perfect ...\"],[\".it refunded\"],[\"size small seems old stuff\"],[\"like half ripe\"],[\"slightly pointy raw mango .\"],[\"well one , delicious\"],[\"truly sooper mango !\"],[\"yummy , tasty !\"],[\"perfect blend sweet , color taste\"],[\"awesome tasty mango\"],[\"amazing taste !\"],[\"packing good\"],[\"smell divine\"],[\"mango ice cream next menu\"],[\"organic apple\"],[\"great quality\"],[\"fresh tasted good\"],[\"great taste\"],[\"great taste\"],[\"look like banginapalli\"],[\"mango yellow\"],[\"sugorous\"],[\"sweet\"],[\"quality super\"],[\"yellow\"],[\"great ripe\"],[\"great snack evening\"],[\"met thread\"],[\"great\"],[\"hygiene\"],[\"mango fresh good quality . recommended .\"],[\"good quality fresh\"],[\"healthy\"],[\"high sweet\"],[\"recommended\"],[\"didnt expect good\"],[\"really liked\"],[\"fabulous\"],[\"half good , half are'nt\"],[\"taste ok\"],[\"partially riped\"],[\"riped\"],[\"fine ,\"],[\"god\"],[\"bought raw mango ripe .\"],[\"nothing say\"],[\"hard , soft\"],[\"money wasted\"],[\"straight dustbin\"],[\"got delivered rotten one ! !\"],[\"really bad\"],[\"swollen one\"],[\"thought brought garbage\"],[\"disgusting odour\"],[\"spoiled one 's\"],[\"bad experience\"],[\"soft\"],[\"edible\"],[\"raw\"],[\"outside rotten\"],[\"packing bad\"],[\"quality check delivery\"],[\"dusty\"],[\"damaged\"],[\"buying\"],[\"suitable eating\"],[\"ca n't eat\"],[\"throwed\"],[\"great quality\"],[\"old good\"],[\"concern\"],[\"size ok\"],[\"eatable , that.s\"],[\"half ripe , half raw\"],[\"slightly good\"],[\"super sweet juicy .\"],[\"koved enjoyed every bite\"],[\"fresh sweet\"],[\"amazing quality , sweet .\"],[\"exceeded expectation\"],[\"kid loved !\"],[\"mango fresh delicious .\"],[\"flavorful tasty , really enjoyed .\"],[\"incredibly fresh juicy .\"],[\"amazing quality , sweet juicy .\"],[\"perfectly ripe mango , wanted .\"],[\"best mango ever !\"],[\"good\"],[\"flavorful tasty .\"],[\"good\"],[\"super fresh good\"],[\"taste good\"],[\"amazing quality consists tasty\"],[\"taste fantastic tastyyyyyyyy\"],[\"premium quality mango feel fresh eating\"],[\"average mango , sweet , others .\"],[\"fine , nothing special .\"],[\"fresh sweet .\"],[\"bad\"],[\"good experience\"],[\"bad taste\"],[\"taste good also upto mark\"],[\"overripe spoiled quickly .\"],[\"terrible taste , could n't eat .\"],[\"waste money , bad .\"],[\"small ripe , disappointed .\"],[\"good , unsatisfied .\"],[\"sweetness , bland .\"],[\"spoiled fast , really disappointing .\"],[\"bland taste , worth .\"],[\"overpriced poor quality .\"],[\"really disappointing , expected better .\"],[\"wo n't buy mango , bad .\"],[\"sour\"],[\"taste bad\"],[\"mango okay , best .\"],[\"average mango , sweet , others .\"],[\"fine , nothing special .\"],[\"decent mango , consistent .\"],[\"fresh sweet .\"],[\"mango alright , okay .\"],[\"bad , great either .\"],[\"pretty average mango .\"],[\"good , bland\"],[\"fair quality , expected better .\"],[\"plum\"],[\"nice dessert replacement\"],[\"nutritious\"],[\"yellow\"],[\"n't know\"],[\"got mango feshindia good price\"],[\"nice\"],[\"nice outer skin\"],[\"superr\"],[\"satisfied\"],[\"great snack evening\"],[\"buy .\"],[\"like eat plain\"],[\"met thread\"],[\"fabulous\"],[\"didnt expect good\"],[\"pulpy juice\"],[\"good condition\"],[\"domestic consumption\"],[\"arrived speedily\"],[\"sweet taste\"],[\"correctly riped\"],[\"satisfied\"],[\"'s okay\"],[\"expensive\"],[\"nothing say\"],[\"soft outer shell\"],[\"raw mango\"],[\"thought brought garbage\"],[\"spoiled .\"],[\"somewhat small\"],[\"bad\"],[\"spoiled one 's\"],[\"ordered\"],[\"expected something else\"],[\"partially black inside\"],[\"dusty\"],[\"quality ensured\"],[\"worm infested\"],[\"ca n't eat\"],[\"purpose served\"],[\"wrote complaint\"],[\"use\"],[\"good\"],[\"spoiled one 's\"],[\"okay\"],[\"size ok\"],[\"concern\"],[\"satisfied\"],[\"quality okay\"],[\"perfect blend sweet , color taste\"],[\"well one , delicious\"],[\"truly sooper mango !\"],[\"yummy , tasty !\"],[\"packing good\"],[\"awesome tasty mango\"],[\"amazing taste !\"],[\"mango ice cream next menu\"],[\"smell divine\"],[\"organic\"],[\"mango absolutely delicious ! incredibly sweet juicy .\"],[\"excellent mango ! ripe , sweet , fantastic aroma .\"],[\"one best mango 've ever . super juicy\"],[\"loved mango ! sweet , juicy , wonderful texture\"],[\"disappointed mango . overripe mushy\"],[\"mango sour sweet . also stringy\"],[\"mango underwhelming . lacked flavor sweetness .\"],[\"poor quality mango . underripe tasted bland .\"],[\"mango fine . decent flavor n't sweet expected .\"],[\"average mango . ripe juicy , taste quite mild .\"],[\"fresh fruit good prepare jam rind .\"],[\"fruit fresh good quality\"],[\"tasty\"],[\"good product\"],[\"fresh orange\"],[\"loved taste .\"],[\"sweet fresh thank amazon .\"],[\"amazon fresh really provides good quality fruit\"],[\"good\"],[\"ordered 4 time\"],[\"every time received fresh , juicy , tangy orange .\"],[\"actually malta normal oranges\\u2026\"],[\"received fresh orange\"],[\"good costly\"],[\"nice taste good quality .\"],[\"nice juicy - also tasty\"],[\"excellent\"],[\"yummy\"],[\"love orange n lime juice taste pure orange\"],[\"great , sweet & juicy , loved\"],[\"good quality\"],[\"comment\"],[\"quality ok sour\"],[\"ok\"],[\"taste special\"],[\"worth price sold .\"],[\"good\"],[\"quality ok\"],[\"average quality\"],[\"look wise good\"],[\"everything ok\"],[\"imported orange seems quality taken back seat\"],[\"spoiled soon\"],[\"nothing mosambi orange yellow peel\"],[\"sessional fruit\"],[\"orange fresh hard peel\"],[\"sour . extremely disappointed\"],[\"sweet\"],[\"otherwise product good quality\"],[\"n't even look taste like orange\"],[\"skin thick n't even taste like orange\"],[\"generally bad old two rotten\"],[\"fresh actually orange n't bother buying .\"],[\"dry almost juice . waste money . fancy name !\"],[\"better order desi orange\"],[\"overripe sure .\"],[\"quality ok\"],[\"ok\"],[\"fresh\"],[\"good\\u2026\"],[\"enjoyed\"],[\"fruit came box crushed\"],[\"loved .\"],[\"sent friend wv birthday gift\"],[\"honestly , enjoy\"],[\"great pleasure\"],[\"order arrived ...\"],[\"ups door ...\"],[\"excellent service .\"],[\"frill , padding , orange looked great\"],[\"orange good\"],[\"smell great\"],[\"made juice\"],[\"soft fresh\"],[\"amazing\"],[\"colour bright\"],[\"soft easy eatable\"],[\"good product\"],[\"fresh one\"],[\"fresh\"],[\"great ! !\"],[\"always deliver good\"],[\"bb great\"],[\"rate cheap\"],[\"quality fire ! !\"],[\"thought would bad , changed minf\"],[\"super\"],[\"good costly\"],[\"friend liked\"],[\"n't expect good\"],[\"yummy yummy\"],[\"great snack evening\"],[\"pure class ! !\"],[\"fabulous\"],[\"goody\"],[\"ok\"],[\"specail\"],[\"vendor one\"],[\"n't find difference\"],[\"nto worth , fine\"],[\"ok-ist quality\"],[\"average quality\"],[\"look ok\"],[\"bad\"],[\"everything ok\"],[\"normal orange\"],[\"worry\"],[\"n't reach expectation\"],[\"spoiled soon\"],[\"kind scam\"],[\"hard\"],[\"did'nt digest well\"],[\"juicy , bad\"],[\"bad\"],[\"peel rotten\"],[\"hard\"],[\"worst ! ! !\"],[\"sweet\"],[\"citrus fruit n't way\"],[\"thought ordered something else\"],[\"rotten\"],[\"buying\"],[\"hard rock\"],[\"waste money\"],[\"worst experience\"],[\"overripe sure .\"],[\"quality ok\"],[\"ok\"],[\"fresh\"],[\"good\\u2026\"],[\"taste good amazing\"],[\"highly recommend try sure\"],[\"try sure highly rceommended\"],[\"taste amazing ever tasted\"],[\"good taste amazing\"],[\"amazing zing zing taste heaven\"],[\"unique taste good\"],[\"highly recommended try platform\"],[\"good must try fruit\"],[\"super super\"],[\"fabulous\"],[\"nothing bad super\"],[\"must try\"],[\"super fruit amazing taste\"],[\"supe quality taste good\"],[\"taste like beautiful\"],[\"taste best tasted\"],[\"super good\"],[\"must try healthy child\"],[\"health problem come jsut healthy\"],[\"taste average haighly recommonded\"],[\"ok ok taste nothing much special\"],[\"bad good\"],[\"worste ok ok\"],[\"nothing much special taste similar like platform\"],[\"try nothing much special\"],[\"ok ok much taste\"],[\"taste average\"],[\"try nothing much special taste\"],[\"taste\"],[\"bad impressed\"],[\"spouiled 2 dayts worst experience\"],[\"taste bad\"],[\"dont buy wsate\"],[\"waste\"],[\"go buy outside dont buy\"],[\"bad spoiled quilcly\"],[\"spoiled quickly\"],[\"go outside adn buy dont buy\"],[\"dont buy outstide get fresh\"],[\"buy outside dont experience\"],[\"eat good health\"],[\"dont eat eat heal get spoiled\"],[\"health friendly\"],[\"experiencing last two time tate worst\"],[\"tate bad dont eat\"],[\"dont order\"],[\"health get spoiled\"],[\"dont taste\"],[\"worst taste ever\"],[\"orange incredibly sweet juicy .\"],[\"loved orange ! ripe , flavorful , wonderful aroma\"],[\"orange amazing . fresh , sweet , delicious .\"],[\"excellent orange . juicy bursting flavor .\"],[\"happy orange . dry lacked flavor .\"],[\"orange sour lacked sweetness .\"],[\"orange dry lacked flavor . n't taste fresh .\"],[\"poor quality orange . many bruised taste .\"],[\"orange fresh juicy , flavor bit bland .\"],[\"average orange . neither sweet sour .\"],[\"fresh fruit good prepare jam rind .\"],[\"fruit fresh good quality\"],[\"pulpy juice\"],[\"good juice\"],[\"seasonal fruit\"],[\"loved taste .\"],[\"sweet fresh thank freshindia .\"],[\"freshindia really provides good quality fruit\"],[\"got discounted price\"],[\"ordered 4 time\"],[\"every time received fresh , juicy , tangy orange .\"],[\"actually malta normal oranges\\u2026\"],[\"received fresh orange\"],[\"big fruit\"],[\"nice taste good quality .\"],[\"nice juicy - also tasty\"],[\"loved much\"],[\"yummy\"],[\"love orange n lime juice taste pure orange\"],[\"great , sweet & juicy , loved\"],[\"good quality\"],[\"comment\"],[\"quality ok sour\"],[\"medium size\"],[\"taste special\"],[\"bad ok eat\"],[\"wow\"],[\"okay\"],[\"average quality\"],[\"look wise good\"],[\"drawback\"],[\"imported orange seems quality taken back seat\"],[\"got rotten soon\"],[\"nothing mosambi orange yellow peel\"],[\"value money\"],[\"orange fresh hard peel\"],[\"extremely disappointed\"],[\"better buy near store\"],[\"otherwise product good quality\"],[\"think even orange\"],[\"plz take action many time happen .\"],[\"generally bad old two rotten\"],[\"fresh actually orange n't bother buying .\"],[\"dry almost juice . waste money . fancy name !\"],[\"better order desi orange\"],[\"overripe sure .\"],[\"comment\"],[\"liked\"],[\"fresh\"],[\"expecting quality\"],[\"enjoyed\"],[\"fruit came box crushed\"],[\"best citrus family\"],[\"sent friend wv birthday gift\"],[\"honestly , enjoy\"],[\"addicted\"],[\"order arrived ...\"],[\"fast delivery\"],[\"excellent service .\"],[\"great condition\"],[\"size compatible\"],[\"ate one great .\"],[\"blemish\"],[\"placing 3rd order today\"],[\"disappoint\"],[\"good quality\"],[\"soft\"],[\"size also good\"],[\"clean fresh\"],[\"better taste\"],[\"please keep .\"],[\"genuine rate\"],[\"papaya excellent quality\"],[\"allowed 2 day become full ripe .\"],[\"fresh\"],[\"good\"],[\"good product , little hard value money .\"],[\"best discounted price\"],[\"delicious\"],[\"sweet tasty\"],[\"healthy fruit - thanks lot\"],[\"excellent product\"],[\"excellent quality\"],[\"fresh\"],[\"good smell\"],[\"soft , damage , durable\"],[\"okay\"],[\"satisfactory\"],[\"bad\"],[\"sweet\"],[\"fresh\"],[\"ok ok type\"],[\"sweet enough .\"],[\"useful\"],[\"one good one little damaged\"],[\"inner portion hard tasty\"],[\"fresh product\"],[\"size smaller expected\"],[\"size small price paid 50+ rupee\"],[\"rubbish\"],[\"truly speaking , n't like .\"],[\"ripen sweet papaya use\"],[\"recieved small piece\"],[\"one piece received fallen stone\"],[\"bad experience\"],[\"papaya n't eatable condition\"],[\"raw\"],[\"fruit smashed delivery\"],[\"ripe\"],[\"small size good taste\"],[\"size small price\"],[\"product 's value\"],[\"good taste\"],[\"received unriped green\"],[\"raw n took ripe\"],[\"cleansed fruit\"],[\"good big size\"],[\"found best taste\"],[\"fertilizer\"],[\"genuine rate\"],[\"tasty\"],[\"great value product\"],[\"hard outer shell make easy scoop\"],[\"nice juice material\"],[\"fine product\"],[\"great protien\"],[\"best snack\"],[\"delicious fruit ever\"],[\"colour sof ine\"],[\"taste sweet\"],[\"citrus\"],[\"enjoyed taste\"],[\"greatest qulaity find online\"],[\"buy another kilo\"],[\"thanks bb\"],[\"quality freshness amazing\"],[\"smooth flavourable\"],[\"underrrated quality\"],[\"10 star 5 star\"],[\"wow ! !\"],[\"rich taste\"],[\"fine\"],[\"ideal salad\"],[\"refreshing quality\"],[\"greatest quality ever\"],[\"average stuff\"],[\"decent fruit\"],[\"tasty , ok\"],[\"expected , average\"],[\"3 star thats\"],[\"normal papays\"],[\"fine , ok\"],[\"quality bit better\"],[\"good\"],[\"sweet content bit low\"],[\"bad taste\"],[\"better\"],[\"unsatisfied\"],[\"rotten\"],[\"found many black spot\"],[\"tip damaged\"],[\"rotten , bad\"],[\"bad experience\"],[\"must avoid\"],[\"packing worse\"],[\"last time bad , time worse\"],[\"second time bb disppointed\"],[\"soon opened , got worse smell\"],[\"n't considered good one\"],[\"th fruit hard\"],[\"hard time peeling\"],[\"layer bad\"],[\"seed old\"],[\"rotten one\"],[\"ordering ! ! !\"],[\"tropical indulgence\"],[\"fruity paradise\"],[\"delightfully sweet\"],[\"nutrient powerhouse\"],[\"creamy light\"],[\"vibrant taste\"],[\"exotic pleasure\"],[\"digestive boost\"],[\"freshly satisfying\"],[\"smooth rich\"],[\"deliciously fragrant\"],[\"bright fresh\"],[\"great dessert\"],[\"perfectly juicy\"],[\"nutritious choice\"],[\"lightly sweet\"],[\"fruitful addition\"],[\"refreshing blend\"],[\"ideal smoothy\"],[\"flavorful burst\"],[\"overripe quickly\"],[\"bland time\"],[\"mushy\"],[\"unpredictable ripeness\"],[\"stringy\"],[\"prone spoilage\"],[\"high sugar content\"],[\"messy preparation\"],[\"limited flavor impact\"],[\"always fresh\"],[\"odd texture\"],[\"short shelf life\"],[\"unpleasant smell\"],[\"difficult peel\"],[\"slimy\"],[\"taste vary\"],[\"expensive per pound\"],[\"texture issue\"],[\"fruity odor\"],[\"unusual flavor\"],[\"decently sweet\"],[\"average fruit\"],[\"nothing special\"],[\"simple fruit\"],[\"fine plain\"],[\"meh taste\"],[\"standard option\"],[\"0 fruit\"],[\"okay dish\"],[\"unremarkable flavor\"],[\"papaya incredibly sweet juicy . wonderful tropical flavor\"],[\"loved papaya ! perfectly ripe , flavorful , delightful taste .\"],[\"papaya amazing . sweet , juicy , bursting flavor .\"],[\"excellent papaya . lovely aroma super tasty .\"],[\"disappointed papaya . overripe mushy\"],[\"papaya sour lacked sweetness . pleasant eat .\"],[\"papaya underwhelming . lacked flavor grainy texture .\"],[\"poor quality papaya . underripe hard eat . disappointing .\"],[\"papaya fine . decent flavor n't sweet expected .\"],[\"average papaya . ripe juicy , taste quite mild .\"],[\"good quality\"],[\"soft\"],[\"size also good\"],[\"clean fresh\"],[\"better taste\"],[\"please keep .\"],[\"genuine rate\"],[\"papaya excellent quality\"],[\"allowed 2 day become full ripe .\"],[\"nice make juice\"],[\"incredible\"],[\"good product , little hard value money .\"],[\"best discounted price\"],[\"delicious\"],[\"sweet tasty\"],[\"healthy fruit - thanks lot\"],[\"excellent product\"],[\"excellent quality\"],[\"soft easy eatable\"],[\"good smell\"],[\"soft , damage , durable\"],[\"rate cheap\"],[\"satisfactory\"],[\"bad\"],[\"sweet\"],[\"fresh\"],[\"ok ok type\"],[\"sweet enough .\"],[\"useful\"],[\"one good one little damaged\"],[\"inner portion hard tasty\"],[\"fresh product\"],[\"size smaller expected\"],[\"size small price paid 50+ rupee\"],[\"rubbish\"],[\"truly speaking , n't like .\"],[\"ripen sweet papaya use\"],[\"recieved small piece\"],[\"one piece received fallen stone\"],[\"bad experience\"],[\"papaya n't eatable condition\"],[\"raw\"],[\"fruit smashed delivery\"],[\"ripe\"],[\"small size good taste\"],[\"size small price\"],[\"product 's value\"],[\"good taste\"],[\"received unriped green\"],[\"raw n took ripe\"],[\"cleansed fruit\"],[\"good big size\"],[\"found best taste\"],[\"fertilizer\"],[\"genuine rate\"],[\"great making smoothy\"],[\"arrived perfect condition\"],[\"impressed\"],[\"best skincare\"],[\"feel healthier adding daily meal\"],[\"juicy sweet\"],[\"perfect summer treat\"],[\"love fresh\"],[\"great quality\"],[\"delicious\"],[\"highly recommend\"],[\"perfect fo fruit salad\"],[\"sweet\"],[\"good\"],[\"highly recommend\"],[\"fresh\"],[\"sweet\"],[\"satisfied\"],[\"must thank store delivering good quality\"],[\"fresh ripe\"],[\"good one\"],[\"fresh\"],[\"order\"],[\"excellent product ,\"],[\"great taste\"],[\"value money\"],[\"excellent\"],[\"overripe\"],[\"disappointed\"],[\"fresh\"],[\"bland\"],[\"good\"],[\"sour\"],[\"sweet enough\"],[\"ripe hard\"],[\"enjoyable\"],[\"damaged\"],[\"pineapple bruised\"],[\"pineapple dry\"],[\"disappointing\"],[\"pineapple small\"],[\"juicy\"],[\"brown spot\"],[\"expected better quality price\"],[\"overripe\"],[\"good\"],[\"disappointed\"],[\"average quality\"],[\"impressed\"],[\"'re okay price\"],[\"fine\"],[\"okay\"],[\"average\"],[\"alright\"],[\"acceptable\"],[\"greatest quality\"],[\"sour sweet\"],[\"purchase\"],[\"value good\"],[\"edible\"],[\"tasty\"],[\"size great\"],[\"kid ate whole thing\"],[\"wow , favourite thing\"],[\"juicy sweet\"],[\"great treat\"],[\"best experience\"],[\"quality unimaginable\"],[\"brought\"],[\"made salad\"],[\"perfect fo fruit salad\"],[\"superb\"],[\"satisfied\"],[\"loved\"],[\"thank big basket\"],[\"taste unbelievable\"],[\"delivered great\"],[\"must thank store delivering good quality\"],[\"fresh forth\"],[\"taste\"],[\"product outstanding\"],[\"order\"],[\"taste good\"],[\"enjoyed\"],[\"ordered several time\"],[\"excellent\"],[\"hard\"],[\"worst one\"],[\"leaf rotten\"],[\"taste bad ! 1\"],[\"overripe\"],[\"disappointed\"],[\"fresh\"],[\"worm\"],[\"ordering\"],[\"sweet\"],[\"ripe\"],[\"difficult eat\"],[\"did'nt digestive\"],[\"got sick eating\"],[\"pineapple\"],[\"hate bigbasket\"],[\"size good\"],[\"tried make juice , got worse\"],[\"ah ard time cutting\"],[\"brown spot\"],[\"deleting app\"],[\"lost taste\"],[\"bad opinion\"],[\"impressed\"],[\"taste good , outline bad\"],[\"average taste\"],[\"average\"],[\"regret thats\"],[\"'re okay price\"],[\"fine\"],[\"okay\"],[\"average\"],[\"alright\"],[\"acceptable\"],[\"super sweet juicy , loved .\"],[\"pineapple fresh delicious .\"],[\"perfectly ripe , wanted .\"],[\"flavorful tasty , really enjoyed .\"],[\"amazing quality , sweet juicy .\"],[\"best pineapple ever , highly recommend !\"],[\"incredibly fresh juicy , perfect summer .\"],[\"perfect fruit salad , great flavor .\"],[\"kid loved , buy .\"],[\"great taste texture , satisfying .\"],[\"absolutely delicious pineapple , sweet .\"],[\"fresh sweet , like home .\"],[\"really juicy flavorful , worth every penny .\"],[\"exceeded expectation , tasty .\"],[\"best 've , juicy .\"],[\"wonderful pineapple , fresh sweet .\"],[\"juicy flavorful , reorder .\"],[\"fresh delicious , great snack .\"],[\"amazing taste , perfectly ripe sweet .\"],[\"perfectly sweet fresh , loved .\"],[\"pineapple okay , best .\"],[\"average pineapple , sweet part , others .\"],[\"fine , nothing special .\"],[\"decent pineapple , consistent .\"],[\"fresh sweet .\"],[\"pineapple alright , okay .\"],[\"bad , great either .\"],[\"pretty average pineapple .\"],[\"fair quality , expected better .\"],[\"part good , others bland .\"],[\"really disappointed , fresh .\"],[\"bruised mushy , bad .\"],[\"sour enjoyable\"],[\"poor quality , wo n't buy .\"],[\"bland taste , sweetness .\"],[\"terrible taste , could n't eat .\"],[\"waste money , bad .\"],[\"overripe spoiled\"],[\"small ripe , disappointed .\"],[\"good , unsatisfied .\"],[\"waste worthy\"],[\"overpriced poor quality .\"],[\"worst taste\"],[\"good\"],[\"taste like bad\"],[\"god health\"],[\"unhealthy\"],[\"disappointing\"],[\"unexpexted taste like worst\"],[\"taste expected\"],[\"pineapple sweet juicy , perfect balance tartness\"],[\"absolutely loved pineapple ! ripe , sweet , bursting flavor .\"],[\"pineapple amazing . super fresh wonderful\"],[\"excellent pineapple . juicy sweet right amount\"],[\"pineapple overripe mushy . n't taste fresh\"],[\"happy pineapple . sour lacked sweetness\"],[\"pineapple good . stringy taste .\"],[\"poor quality pineapple . underripe hard eat . enjoyable .\"],[\"pineapple okay . decent flavor n't sweet hoped .\"],[\"average pineapple . juicy , taste quite mild . fine\"],[\"good\"],[\"juiced\"],[\"love juice\"],[\"quality unimaginable\"],[\"sweet sour\"],[\"recommend product\"],[\"must include fruit salad\"],[\"sweet\"],[\"superb\"],[\"buy\"],[\"health\"],[\"juicy\"],[\"satisfied\"],[\"im thankful\"],[\"excellent condition\"],[\"good product good pineapple flavor\"],[\"fresh forth\"],[\"recommendable\"],[\"excellent product ,\"],[\"great taste\"],[\"value money\"],[\"taste sweet .\"],[\"overripe\"],[\"disatisfied\"],[\"taste like tonic\"],[\"tasteless\"],[\"good\"],[\"sour\"],[\"sweet enough\"],[\"ripe hard\"],[\"did'nt digestive\"],[\"spoiled product wo n't buy\"],[\"pineapple bruised\"],[\"pineapple dry\"],[\"bad\"],[\"day ruined\"],[\"juicy\"],[\"brown spot\"],[\"expected better quality price\"],[\"close pineapple taste\"],[\"'ve waiting turned bad\"],[\"buy\"],[\"okay satisfiable\"],[\"impressed\"],[\"'re okay price\"],[\"fine\"],[\"liked\"],[\"average\"],[\"good old stock\"],[\"acceptable\"],[\"greatest quality\"],[\"sour sweet\"],[\"purchase\"],[\"value good\"],[\"edible\"],[\"spoil within 2days\"],[\"unhealthy unacceptable\"],[\"would n't recommend guy\"],[\"fruit quality bad\"],[\"spoilt dripping smelling\"],[\"none eatable !\"],[\"never recommend buying strawberry\"],[\"ordered 2 packet strawberry bad quality .\"],[\"strawberry soar near expiry .\"],[\"\\u2019 buy\"],[\"receieved rotten strawberry\"],[\"kindly check fruit receive time\"],[\"worst quality ... see worm ... pathetic\"],[\"wud give negative star possible\"],[\"majority rotten\"],[\"dont take risk n buy local fruit vendor .\"],[\"wish didnt sell product\"],[\"tiny little berry ,\"],[\"never buying .\"],[\"packet strawberry bad\"],[\"fruit inside pack decayed\"],[\"thrown away .\"],[\"poor quality\"],[\"really fresh clean\"],[\"buy .\"],[\"good product\"],[\"fresh & delicious\"],[\"good\"],[\"good quantity\"],[\"strawberry look smell incredible\"],[\"packed full flavour even cooking taste delicious .\"],[\"try amul icecream , thank\"],[\"good quality strawberry\"],[\"purchased multiple box\"],[\"absolutely fresh , similar size piece\"],[\"neatly packed good size . loved .\"],[\"expecting much strawberry sweet fresh\"],[\"loved\"],[\"strawberry fresh , delicious , sweet\"],[\"definitely regular customer strawberry amazon fresh .\"],[\"freshness , juicy tasty .\"],[\"happy taste quality\"],[\"ordering almost every day\"],[\"fruit fresh juicy . please maintain quality . thank\"],[\"fresh\"],[\"piece gud\"],[\"quality ok .\"],[\"ok\"],[\"sour taste\"],[\"fresh sweet single strawberry little sweat\"],[\"cheating\"],[\"waste product\"],[\"n't online\"],[\"strawberry\"],[\"negative\"],[\"stored , spoiled\"],[\"soon opened , gut smell\"],[\"ordering strawberry\"],[\"red , white\"],[\"look like artificial\"],[\"unacceptable\"],[\"n't allow one eat\"],[\"thought th ey would better\"],[\"spoilted\"],[\"colour good '\"],[\"never buy bb\"],[\"reported\"],[\"bit late , woud raw\"],[\"food poisoining\"],[\"better buy\"],[\"waste money\"],[\"majority rotten\"],[\"risking buy\"],[\"wish didnt buy\"],[\"idk could sell\"],[\"small size\"],[\"size good\"],[\"packet old one\"],[\"didnt even touch\"],[\"fruit inside pack decayed\"],[\"thrown away .\"],[\"poor quality\"],[\"5 star\"],[\"full rating\"],[\"delicious\"],[\"sweet '\"],[\"addicted\"],[\"randomly mind blown\"],[\"superb ! !\"],[\"wife enjoyed\"],[\"good\"],[\"good quantity\"],[\"did'nt expect good\"],[\"packed full flavour even cooking taste delicious .\"],[\"try amul icecream , thank\"],[\"made juice\"],[\"incredible\"],[\"going forget vendor\"],[\"big basket good\"],[\"sure , seeing product shocked , great\"],[\"fresh\"],[\"recomended\"],[\"juicy\"],[\"strwaberries red\"],[\"great quality\"],[\"quality price good\"],[\"excellent quality\"],[\"liked\"],[\"sweet\"],[\"sour taste\"],[\"good\"],[\"berry\"],[\"good , eatable\"],[\"convincble\"],[\"ok\"],[\"good super\"],[\"taste good\"],[\"delicious\"],[\"juicy juicy one\"],[\"flavourable\"],[\"taste awesome definite try\"],[\"taste great experience\"],[\"greatest taste ever strawberry\"],[\"good\"],[\"good taste\"],[\"super sweet bursting flavor !\"],[\"strawberry fresh delicious .\"],[\"best strawberry 've ever , highly recommend !\"],[\"kid could n't get enough , buy .\"],[\"fresh sweet .\"],[\"loved every bite .\"],[\"reorder sure .\"],[\"amazing quality\"],[\"amazing quality , sweet flavorful .\"],[\"top notch\"],[\"strawberry okay , best .\"],[\"nothing special .\"],[\"decent strawberry\"],[\"strawberry alright , okay .\"],[\"nothing good\"],[\"wish dont want buy\"],[\"didnt expect taste bad\"],[\"good\"],[\"fruit doesnt speacial taste good\"],[\"horrible taste fruit\"],[\"dont recommoned buy\"],[\"nothing goob dont buy\"],[\"throwed house\"],[\"spoiled within hoursdont buy buy bw fool\"],[\"price high taste worst\"],[\"worst experience ever\"],[\"taste bad dont buy\"],[\"dont experience\"],[\"something recommend\"],[\"dont buy better buy platform\"],[\"nothing much good taste okay\"],[\"highly recommend try\"],[\"first time experienced taste average\"],[\"try much good\"],[\"okay okay taste strawberry\"],[\"try much goood platform\"],[\"try nothing much\"],[\"recommend nut worst\"],[\"upto mark try\"],[\"great okay\"],[\"spoil within 2days\"],[\"unhealthy unacceptable\"],[\"would n't recommend guy\"],[\"fruit quality bad\"],[\"spoilt dripping smelling\"],[\"none eatable !\"],[\"never recommend buying strawberry\"],[\"ordered 2 packet strawberry bad quality .\"],[\"strawberry soar near expiry .\"],[\"\\u2019 buy\"],[\"receieved rotten strawberry\"],[\"kindly check fruit receive time\"],[\"worst quality ... see worm ... pathetic\"],[\"wud give negative star possible\"],[\"trash-quality fruit .\"],[\"dont take risk n buy local fruit vendor .\"],[\"wish didnt sell product\"],[\"tiny little berry ,\"],[\"never buying .\"],[\"packet strawberry bad\"],[\"fruit inside pack decayed\"],[\"thrown away .\"],[\"poor quality\"],[\"really fresh clean\"],[\"buy .\"],[\"flaw ! !\"],[\"sweet\"],[\"sweet delicious\"],[\"good quantity\"],[\"good cake topping\"],[\"packed full flavour even cooking taste delicious .\"],[\"make good sweet replacement\"],[\"big juicy sweet\"],[\"purchased multiple box\"],[\"absolutely fresh , similar size piece\"],[\"neatly packed good size . loved .\"],[\"good\"],[\"loved\"],[\"strawberry fresh , delicious , sweet\"],[\"definitely regular customer strawberry freshindia .\"],[\"nicely packed\"],[\"happy taste quality\"],[\"ordering almost every day\"],[\"fruit fresh juicy . please maintain quality . thank\"],[\"fresh\"],[\"piece gud\"],[\"quality ok .\"],[\"bad\"],[\"sour taste\"],[\"fresh sweet single strawberry little sweat\"],[\"fake product\"],[\"waste product\"],[\"n't online\"],[\"strawberry\"],[\"spoil within 3days\"],[\"good\"],[\"plucked right time\"],[\"taste good\"],[\"tasted strong desi guava flavour\"],[\"fresh tasty\"],[\"guava delicious\"],[\"good taste value money\"],[\"right\"],[\"kept day\"],[\"great texture .\"],[\"nice quality\"],[\"good\"],[\"ok\"],[\"good quality\"],[\"excellent fresh\"],[\"like fresh , soft\"],[\"worth money .\"],[\"good\"],[\"good one\"],[\"good\"],[\"item delivered good condition\"],[\"quality product good\"],[\"thank amazon .\"],[\"tasty pulpy fruit\"],[\"fewer seed make different small guava .\"],[\"low quality small size\"],[\"many row form eatable\"],[\"hard\"],[\"fresh\"],[\"unable eat ripened bit\"],[\"worst\"],[\"prematured guva hard eat\"],[\"suitable child\"],[\"bad\"],[\"developed guava sent\"],[\"mentioned fresh , poor quality worm old stock .\"],[\"poor quality\"],[\"old refrigerated product sold\"],[\"disappointed product .\"],[\"3rd class product\"],[\"false pic description\"],[\"say amazon fresh case\"],[\"pity .\"],[\"ok\"],[\"taste n't much good\"],[\"better buy outside vendor .\"],[\"taste okay\"],[\"worth price\"],[\"good see taste\"],[\"good\"],[\"terrible !\"],[\"never ripened\"],[\"ripe good\"],[\"throw\"],[\"n't ripe\"],[\"waste money\"],[\"pity give negative rating\"],[\"horrid smell\"],[\"develop dark spot\"],[\"disappointed received\"],[\"green\"],[\"great fruit adding salad\"],[\"fav fruit guava loved taste\"],[\"better\"],[\"good\"],[\"recommending\"],[\"flaw ! !\"],[\"straight farm\"],[\"delicious\"],[\"loved taste\"],[\"great texture .\"],[\"big basket great\"],[\"best best\"],[\"loved quality\"],[\"nice quality\"],[\"wow\"],[\"great\"],[\"nice\"],[\"soft\"],[\"did'nt feel like eating\"],[\"good real\"],[\"good\"],[\"superb\"],[\"credit bb\"],[\"guava amazing\"],[\"quality product good\"],[\"pulpy\"],[\"healthy stuff\"],[\"size good\"],[\"low quality small size\"],[\"black spot\"],[\"taste sour\"],[\"hard teeth bite\"],[\"inside bad\"],[\"many row form eatable\"],[\"hard\"],[\"fresh\"],[\"unable eat ripened bit\"],[\"worst\"],[\"worse experience\"],[\"don.t give eat\"],[\"bad\"],[\"old product\"],[\"should'nt eat\"],[\"poor\"],[\"old refrigerated product sold\"],[\"even animal could eat\"],[\"downgraded product\"],[\"false advertisement first place\"],[\"okay\"],[\"eatable\"],[\"did'nt taste hat good\"],[\"comparable\"],[\"eaten\"],[\"ca n't consume day\"],[\"open servable\"],[\"taste good\"],[\"good\"],[\"okay , thats\"],[\"good quantity\"],[\"super sweet juicy , loved !\"],[\"incredibly fresh delicious guava .\"],[\"perfectly ripe , wanted .\"],[\"flavorful tasty , really enjoyed .\"],[\"amazing quality , sweet juicy .\"],[\"best guava 've , highly recommend !\"],[\"incredibly fresh juicy , perfect snack .\"],[\"perfect fruit salad , great flavor .\"],[\"absolutely delicious guava , sweet .\"],[\"fresh\"],[\"really juicy flavorfull\"],[\"exceeded expectation\"],[\"sweet\"],[\"good\"],[\"tasty\"],[\"delicious\"],[\"wonderful guava\"],[\"taste good\"],[\"guava delicious\"],[\"juicy\"],[\"poor quality\"],[\"sour\"],[\"sweetness .\"],[\"poor quality\"],[\"terrible taste\"],[\"waste money wort taste\"],[\"disappointing\"],[\"wo n't buy guava\"],[\"taste bad\"],[\"highly recomondable\"],[\"unexpected un wanted experience\"],[\"horrible\"],[\"worst taste ever\"],[\"good\"],[\"bad taste also unhealthy\"],[\"taste good\"],[\"bad\"],[\"healthy\"],[\"good aslo bad taste\"],[\"hell experience\"],[\"average\"],[\"okay expected\"],[\"nothing special\"],[\"typical guava flavor\"],[\"acceptable quality\"],[\"taste\"],[\"so-so experience\"],[\"great one\"],[\"average\"],[\"normal taste\"],[\"guava incredibly sweet fragrant . wonderful tropical flavor\"],[\"loved guava ! perfectly ripe , juicy , delightful taste .\"],[\"guava amazing . sweet , juicy , bursting flavor .\"],[\"excellent guava . lovely aroma super tasty .\"],[\"disappointed guava . overripe mushy .\"],[\"guava sour lacked sweetness . pleasant eat . ``\"],[\"guava underwhelming . lacked flavor grainy texture .\"],[\"`` poor quality guava . underripe hard eat . disappointing . ``\"],[\"guava fine . decent flavor n't sweet expected\"],[\"average guava . ripe juicy , taste quite mild .\"],[\"feel refreshing\"],[\"plucked right time\"],[\"taste good\"],[\"tasted strong desi guava flavour\"],[\"le seed really liked\"],[\"guava delicious\"],[\"good taste value money\"],[\"right\"],[\"kept day\"],[\"great texture .\"],[\"great deal\"],[\"used juice , good\"],[\"n't much sugar level\"],[\"good quality\"],[\"excellent fresh\"],[\"like fresh , soft\"],[\"worth money .\"],[\"5 star deserves\"],[\"super tasty\"],[\"really love product\"],[\"item delivered good condition\"],[\"quality product good\"],[\"thank freshindia .\"],[\"tasty pulpy fruit\"],[\"fewer seed easy eat\"],[\"low quality small size\"],[\"many row form eatable\"],[\"hard\"],[\"ah ard time cutting\"],[\"unable eat ripened bit\"],[\"lost taste\"],[\"plucked soon\"],[\"suitable child\"],[\"received expired product\"],[\"developed guava sent\"],[\"mentioned fresh , poor quality worm old stock .\"],[\"give 0 star rating\"],[\"eatable\"],[\"disappointed product .\"],[\"3rd class product\"],[\"false pic description\"],[\"say fresh case\"],[\"bitter\"],[\"ok\"],[\"taste n't much good\"],[\"better buy outside vendor .\"],[\"taste okay\"],[\"worth price\"],[\"good see taste\"],[\"good\"],[\"terrible !\"],[\"never ripened\"],[\"ripe good\"],[\"throw\"],[\"n't ripe\"],[\"waste money\"],[\"pity give negative rating\"],[\"horrid smell\"],[\"develop dark spot\"],[\"disappointed received\"]],\"hovertemplate\":\"Comment Length=%{x}\\u003cbr\\u003eWord Count=%{y}\\u003cbr\\u003eComment=%{customdata[0]}\\u003cbr\\u003eLabel=%{marker.color}\\u003cextra\\u003e\\u003c\\u002fextra\\u003e\",\"legendgroup\":\"\",\"marker\":{\"color\":[1,1,1,1,1,1,1,1,1,1,1,1,1,1,-1,-1,-1,-1,-1,-1,-1,-1,-1,-1,0,0,0,0,-1,-1,-1,-1,1,0,0,0,0,0,0,1,1,1,1,1,1,1,1,1,1,1,-1,-1,-1,-1,-1,-1,-1,-1,-1,-1,1,1,1,1,1,1,1,1,1,1,-1,-1,-1,-1,-1,-1,0,0,-1,-1,-1,0,-1,0,0,0,0,0,0,1,1,1,1,1,1,1,1,1,1,1,-1,-1,-1,-1,-1,-1,-1,-1,-1,-1,1,1,1,1,1,1,1,1,1,-1,1,1,1,-1,-1,0,1,1,1,1,1,1,1,1,1,1,1,-1,-1,-1,-1,-1,-1,-1,-1,-1,-1,-1,-1,-1,-1,-1,-1,0,0,0,0,0,0,0,0,0,0,0,0,1,1,1,1,1,1,1,1,1,1,-1,-1,-1,-1,-1,-1,0,0,-1,-1,-1,0,-1,0,0,0,0,0,-1,1,1,1,1,1,1,1,1,1,1,1,-1,-1,-1,-1,-1,-1,-1,-1,-1,-1,1,1,1,1,1,1,1,1,1,-1,-1,-1,-1,0,0,1,1,1,1,1,1,1,1,1,1,1,1,1,1,1,1,1,1,1,1,1,-1,-1,-1,-1,-1,-1,-1,-1,-1,-1,-1,-1,-1,-1,-1,-1,-1,-1,-1,-1,-1,-1,0,0,0,0,0,0,0,1,1,1,1,1,1,1,1,1,1,1,1,1,1,1,1,1,1,1,1,1,1,1,0,0,0,0,0,0,0,0,0,0,0,0,0,0,0,-1,-1,-1,-1,-1,-1,-1,-1,-1,-1,-1,-1,-1,-1,-1,-1,-1,1,1,1,1,1,1,1,1,1,1,1,1,1,1,1,1,1,1,1,1,-1,-1,-1,-1,-1,-1,-1,-1,-1,-1,-1,-1,-1,-1,-1,-1,-1,-1,-1,-1,0,0,0,0,0,0,0,0,0,0,1,1,1,1,1,1,1,1,1,1,1,1,1,1,1,1,1,1,1,1,1,-1,-1,-1,-1,-1,-1,-1,-1,-1,-1,-1,-1,-1,-1,-1,-1,-1,-1,-1,-1,-1,-1,0,0,0,0,0,0,0,1,1,1,1,1,-1,-1,-1,-1,-1,-1,-1,-1,-1,-1,-1,-1,-1,-1,-1,-1,-1,-1,-1,-1,1,1,1,1,1,1,1,1,1,1,1,1,1,1,1,1,1,1,1,0,0,0,0,0,0,0,0,0,-1,-1,-1,-1,-1,-1,-1,-1,-1,1,1,1,-1,-1,-1,-1,-1,-1,-1,-1,-1,-1,-1,-1,-1,-1,-1,-1,-1,-1,-1,-1,-1,-1,-1,-1,1,1,1,1,1,1,1,1,1,1,1,1,1,1,1,1,1,1,1,1,1,1,1,1,1,0,0,0,0,0,0,0,0,0,-1,-1,1,1,1,1,1,1,1,1,1,1,1,1,1,1,1,1,1,1,1,-1,-1,-1,-1,-1,-1,-1,-1,-1,-1,-1,-1,-1,-1,-1,-1,-1,-1,-1,-1,0,0,0,0,0,0,0,0,0,0,0,-1,-1,-1,-1,-1,-1,-1,-1,-1,-1,-1,-1,-1,-1,-1,-1,-1,-1,-1,-1,1,1,1,1,1,1,1,1,1,1,1,1,1,1,1,1,1,1,1,0,0,0,0,0,0,0,0,0,-1,-1,1,1,1,-1,-1,-1,-1,-1,-1,-1,1,1,1,1,1,1,1,1,1,1,1,1,1,1,1,1,1,1,1,-1,-1,-1,-1,-1,-1,-1,-1,-1,-1,-1,-1,-1,-1,-1,-1,-1,-1,-1,-1,-1,-1,0,0,0,0,0,0,0,0,0,1,1,1,1,1,1,1,1,1,1,1,1,1,1,1,1,1,1,1,1,1,1,1,1,-1,-1,-1,-1,-1,-1,-1,-1,-1,-1,-1,-1,-1,-1,-1,-1,-1,-1,-1,-1,0,0,0,0,0,0,0,0,0,0,0,1,1,1,1,1,1,1,1,1,1,1,1,1,1,1,1,1,1,1,1,-1,-1,-1,-1,-1,-1,-1,-1,-1,-1,-1,-1,-1,-1,-1,-1,-1,-1,-1,-1,-1,0,0,0,0,0,0,0,0,0,1,1,1,1,-1,-1,-1,-1,0,0,1,1,1,1,1,1,1,1,1,1,1,1,1,1,1,1,1,1,1,-1,-1,-1,-1,-1,-1,-1,-1,-1,-1,-1,-1,-1,-1,-1,-1,-1,-1,-1,-1,-1,-1,0,0,0,0,0,0,0,0,0,1,1,1,1,1,1,1,1,1,0,1,1,1,1,1,1,1,1,1,1,1,1,1,1,0,0,0,0,0,0,0,-1,-1,-1,-1,-1,-1,-1,-1,-1,-1,-1,-1,-1,-1,-1,-1,-1,-1,-1,0,0,0,0,0,1,1,1,1,1,1,1,1,1,1,1,1,1,1,1,1,1,1,0,1,1,1,1,1,1,1,1,1,1,1,1,1,1,0,0,0,0,0,0,0,0,0,-1,-1,-1,-1,-1,-1,-1,-1,-1,-1,-1,-1,-1,-1,-1,-1,-1,-1,-1,-1,-1,-1,-1,0,0,0,0,0,1,1,1,1,1,1,1,1,1,1,1,1,1,1,1,1,1,1,1,1,-1,-1,-1,-1,-1,-1,-1,-1,-1,-1,-1,-1,-1,-1,-1,-1,-1,-1,-1,-1,0,0,0,0,0,0,0,0,0,0,1,1,1,1,0,1,1,1,1,1,1,1,1,1,1,1,1,1,1,0,0,0,0,0,0,0,-1,-1,-1,-1,-1,-1,-1,-1,-1,-1,-1,-1,-1,-1,-1,-1,-1,-1,-1,0,0,0,0,0,1,1,1,1,1,1,1,1,1,1,1,1,1,1,-1,-1,-1,-1,0,0,1,1,1,1,1,1,1,1,1,1,1,1,1,1,1,1,1,1,1,1,1,0,0,0,0,0,0,0,0,0,0,-1,-1,-1,-1,-1,-1,-1,-1,-1,-1,-1,-1,-1,-1,0,0,0,0,0,1,1,1,1,1,1,1,1,1,1,1,1,1,1,1,1,1,1,1,1,1,1,1,1,1,1,1,1,1,1,1,1,1,1,1,0,0,0,0,0,0,0,0,0,0,0,0,-1,-1,-1,-1,-1,-1,-1,-1,-1,-1,-1,-1,-1,-1,-1,-1,-1,-1,0,0,0,0,0,1,1,1,1,1,1,1,1,1,1,1,1,1,1,1,1,1,1,1,1,0,0,0,0,0,0,0,0,0,0,-1,-1,-1,-1,-1,-1,-1,-1,-1,-1,-1,-1,-1,-1,-1,-1,-1,-1,-1,-1,1,1,1,1,-1,-1,-1,-1,0,0,1,1,1,1,1,1,1,1,1,1,1,1,1,1,1,1,1,1,1,1,1,0,0,0,0,0,0,0,0,0,0,-1,-1,-1,-1,-1,-1,-1,-1,-1,-1,-1,-1,-1,-1,0,0,0,0,0,1,1,1,1,1,1,1,1,1,1,1,1,1,1,1,1,1,1,1,1,1,1,1,1,1,1,1,1,1,1,1,1,1,1,1,1,0,0,0,0,0,0,0,-1,-1,-1,-1,-1,-1,-1,-1,-1,-1,-1,-1,-1,-1,-1,-1,-1,-1,-1,-1,-1,-1,1,1,1,1,1,1,1,1,1,1,1,1,1,1,1,1,1,1,1,1,1,1,1,1,1,1,1,1,1,1,0,0,0,0,0,0,0,0,0,-1,-1,-1,-1,-1,-1,-1,-1,-1,-1,-1,-1,-1,-1,-1,-1,-1,-1,-1,-1,-1,1,1,1,1,1,1,1,1,1,1,1,1,1,1,1,1,1,1,1,1,-1,-1,-1,-1,-1,-1,-1,-1,-1,-1,-1,-1,-1,-1,-1,-1,-1,-1,-1,-1,0,0,0,0,0,0,0,0,0,0,1,1,1,1,-1,-1,-1,-1,0,0,1,1,1,1,1,1,1,1,1,1,1,1,1,1,1,1,1,1,1,1,1,0,0,0,0,0,0,0,-1,-1,-1,-1,-1,-1,-1,-1,-1,-1,-1,-1,-1,-1,-1,-1,-1,-1,-1,-1,-1,-1,1,1,1,1,1,1,1,1,1,1,1,1,1,1,1,1,1,1,1,1,1,1,1,1,1,1,1,1,1,1,1,1,-1,-1,-1,-1,-1,-1,-1,-1,-1,-1,-1,-1,-1,-1,-1,-1,-1,-1,-1,-1,0,0,0,0,0,0,0,0,1,1,1,1,1,-1,-1,-1,-1,1,1,1,1,1,1,1,1,1,1,1,1,1,1,1,1,1,1,1,1,1,1,-1,-1,-1,-1,-1,-1,-1,-1,-1,-1,-1,-1,-1,-1,-1,-1,-1,-1,-1,-1,-1,-1,-1,-1,0,0,0,0,0,0,0,0,0,0,1,1,1,1,1,1,1,1,1,1,1,1,1,1,1,1,1,1,1,1,0,0,0,0,0,0,0,0,0,0,-1,-1,-1,-1,-1,-1,-1,-1,-1,-1,-1,-1,-1,-1,-1,-1,-1,-1,-1,-1,1,1,1,1,-1,-1,-1,-1,0,0,1,1,1,1,1,1,1,1,1,1,1,1,1,1,1,1,1,1,1,1,1,1,-1,-1,-1,-1,-1,-1,-1,-1,-1,-1,-1,-1,-1,-1,-1,-1,-1,-1,-1,-1,0,0,0,0,0,0,0,0,1,1,1,1,0,-1,-1,-1,-1,-1,-1,-1,-1,-1,-1,-1,-1,-1,-1,-1,-1,-1,-1,-1,-1,-1,-1,-1,1,1,1,1,1,1,1,1,1,1,1,1,1,1,1,1,1,1,1,1,1,1,1,0,0,0,0,-1,-1,-1,-1,-1,-1,-1,-1,-1,-1,-1,-1,-1,-1,-1,-1,-1,-1,-1,-1,-1,-1,-1,-1,-1,-1,-1,-1,-1,-1,-1,-1,1,1,1,1,1,1,1,1,1,1,1,1,1,1,1,1,1,1,1,1,1,1,1,1,1,1,1,0,0,0,0,0,0,1,1,1,1,1,1,1,1,1,1,1,1,1,1,1,1,1,1,1,1,-1,-1,-1,-1,-1,-1,-1,-1,-1,-1,-1,-1,-1,-1,-1,-1,-1,-1,-1,-1,0,0,0,0,0,0,0,0,0,0,-1,-1,-1,-1,-1,-1,-1,-1,-1,-1,-1,-1,-1,-1,-1,-1,-1,-1,-1,-1,-1,-1,-1,1,1,1,1,1,1,1,1,1,1,1,1,1,1,1,1,1,1,1,1,1,1,1,0,0,0,0,-1,-1,-1,-1,-1,1,1,1,1,1,1,1,1,1,1,1,1,1,1,1,1,1,1,1,1,1,1,1,1,1,-1,-1,-1,-1,-1,-1,-1,-1,-1,-1,-1,-1,-1,-1,-1,-1,0,0,0,0,0,0,0,0,0,-1,-1,-1,-1,-1,-1,-1,-1,-1,-1,1,1,1,1,1,1,1,1,1,1,1,1,1,1,1,1,1,1,1,1,1,1,1,1,1,1,1,1,1,-1,-1,-1,-1,-1,-1,-1,-1,-1,-1,-1,-1,-1,-1,-1,-1,-1,-1,-1,-1,0,0,0,0,0,0,0,0,0,0,0,1,1,1,1,1,1,1,1,1,1,1,1,1,1,1,1,1,1,1,1,-1,-1,-1,-1,-1,-1,-1,-1,-1,-1,-1,-1,-1,-1,-1,-1,-1,-1,-1,-1,0,0,0,0,0,0,0,0,0,0,1,1,1,1,-1,-1,-1,-1,0,0,1,1,1,1,1,1,1,1,1,1,1,1,1,1,1,1,1,1,1,1,1,1,1,1,1,-1,-1,-1,-1,-1,-1,-1,-1,-1,-1,-1,-1,-1,-1,-1,-1,0,0,0,0,0,0,0,0,0,-1,-1,-1,-1,-1,-1,-1,-1,-1,-1],\"coloraxis\":\"coloraxis\",\"symbol\":\"circle\"},\"mode\":\"markers\",\"name\":\"\",\"showlegend\":false,\"x\":[5,12,6,13,13,17,4,10,15,13,3,11,5,19,12,11,6,29,4,9,12,13,3,17,30,8,2,4,5,18,24,14,3,15,18,12,11,11,13,12,5,5,11,10,17,16,3,24,6,6,11,11,14,11,21,14,8,11,36,8,8,4,30,11,6,26,12,11,17,17,31,17,22,27,27,12,52,36,16,34,8,2,27,23,4,4,20,3,25,34,18,5,12,40,13,13,17,5,36,30,17,25,20,20,38,18,31,24,36,41,4,12,13,9,10,4,53,12,11,28,41,36,23,32,22,18,44,32,21,44,23,40,22,23,23,21,26,40,24,34,24,26,32,13,21,37,28,25,38,32,25,13,25,20,13,13,21,29,34,26,15,28,26,41,32,21,9,11,17,10,13,14,19,9,21,21,19,21,15,3,12,17,16,15,8,5,17,5,16,18,11,18,11,10,4,14,10,11,18,14,25,11,18,22,6,17,20,24,3,18,12,13,8,11,12,9,18,18,5,5,55,54,46,49,42,38,36,43,33,44,15,16,7,17,15,12,5,13,11,9,16,14,11,14,11,17,9,4,14,16,13,16,12,5,13,9,5,7,7,12,17,5,13,6,23,4,12,13,5,5,5,20,15,4,13,23,12,18,3,10,12,10,15,12,31,10,9,19,5,32,7,14,12,10,10,10,7,17,26,16,13,15,10,13,20,18,13,24,19,6,18,6,16,21,7,15,16,15,10,5,10,16,13,10,8,15,13,6,19,13,10,8,10,14,9,14,20,12,18,13,16,11,9,18,16,20,19,12,14,19,12,10,15,15,18,15,13,15,5,8,15,9,17,15,25,12,16,10,4,14,15,12,23,23,17,4,13,16,16,11,8,14,8,9,12,15,16,21,17,15,12,14,37,11,16,16,14,11,14,14,17,9,13,14,16,13,16,12,5,13,18,5,16,6,12,17,20,13,6,23,4,29,13,5,5,6,20,15,4,13,23,12,18,3,10,12,10,15,12,31,29,24,30,7,29,12,5,20,30,15,7,19,10,12,13,20,18,4,14,3,39,14,21,24,16,5,19,4,35,16,5,17,11,30,4,17,4,11,10,25,35,20,25,32,10,11,7,2,13,24,9,13,10,22,11,5,29,11,17,20,6,4,15,13,26,5,7,11,7,9,5,13,10,15,28,13,10,12,10,10,24,3,13,5,10,14,17,11,14,13,5,16,15,5,19,5,11,14,17,9,5,30,5,17,12,5,11,10,12,9,23,20,14,34,4,7,10,2,14,10,27,11,23,25,30,29,36,43,15,11,17,36,29,17,21,10,30,38,32,25,27,16,21,27,25,26,32,19,23,27,20,19,37,23,29,29,21,25,40,24,19,32,24,22,32,27,14,13,22,14,12,4,16,11,11,15,18,7,11,10,6,8,7,6,17,20,5,14,14,5,13,6,17,14,16,5,15,13,12,14,10,12,13,30,14,17,12,11,5,15,18,20,25,32,11,11,7,2,13,24,20,17,11,29,5,11,22,10,13,9,29,17,9,45,11,9,14,22,7,5,9,20,9,14,11,17,9,4,21,8,12,5,10,5,4,4,12,14,9,18,12,7,10,13,5,5,19,6,29,13,5,19,11,4,8,27,7,4,7,4,13,16,17,9,43,5,8,14,10,19,13,23,9,7,5,21,9,9,9,8,17,16,15,4,3,12,21,6,6,20,11,3,9,11,9,3,18,21,4,3,19,18,15,9,10,7,12,27,13,18,17,10,10,11,4,59,45,55,58,17,17,16,18,14,13,16,14,12,15,11,17,33,20,24,10,4,15,15,14,17,10,15,11,17,21,9,6,12,18,13,11,14,18,13,15,7,10,12,15,15,15,19,18,9,11,29,51,54,53,37,34,27,52,43,41,29,17,9,45,11,9,13,22,7,15,9,20,9,14,11,17,9,10,21,8,24,23,10,5,4,14,12,14,9,18,12,28,10,4,5,5,19,6,29,4,5,19,11,5,8,27,7,4,7,13,16,17,9,43,11,30,17,14,14,42,27,39,42,29,24,4,40,18,5,11,57,27,52,22,23,34,48,14,23,7,33,47,22,38,19,24,45,15,22,27,5,18,22,15,13,22,14,25,28,9,16,12,26,14,27,20,20,15,33,19,15,12,12,25,13,13,17,11,11,22,12,8,5,13,6,10,19,10,5,7,40,18,7,10,11,17,12,8,23,8,15,5,6,3,23,11,11,12,16,28,10,11,23,16,14,14,4,6,3,14,11,22,5,7,6,15,10,7,13,8,7,7,16,20,13,19,24,11,25,20,11,23,34,24,31,31,17,4,17,4,16,10,30,28,39,32,24,13,3,15,9,25,26,32,19,27,20,19,37,21,25,40,24,4,9,19,32,24,27,13,22,20,22,12,32,4,24,10,6,8,30,4,15,6,9,19,5,14,10,8,17,11,14,20,16,11,15,9,7,9,11,16,9,23,9,14,3,14,7,23,22,5,15,13,10,14,15,3,4,14,4,7,7,9,12,33,20,20,15,12,19,15,25,12,7,53,50,37,47,35,31,47,45,47,47,35,24,5,12,12,13,26,47,4,14,50,30,21,11,25,23,9,5,42,29,12,7,15,2,13,18,4,10,15,14,13,45,12,34,15,22,29,5,30,31,37,28,41,45,24,15,10,2,5,5,7,22,7,28,16,14,17,12,19,37,11,11,10,10,7,13,17,12,9,5,9,19,8,10,16,32,5,11,12,15,11,19,14,8,5,2,7,10,19,16,14,15,7,3,13,13,5,21,12,9,4,18,11,3,11,4,11,5,20,30,6,6,9,11,16,15,10,2,5,5,18,25,27,25,18,30,17,31,19,11,8,17,8,25,23,20,17,10,22,32,33,32,8,12,48,24,16,13,30,5,13,33,9,14,5,23,19,15,27,27,27,15,29,15,37,17,10,18,10,16,31,49,44,42,34,30,44,42,39,37,35,24,11,10,14,13,30,45,20,14,50,30,21,9,25,23,10,5,42,29,12,7,15,11,13,10,3,4,15,14,8,45,15,34,11,22,22,21,30,17,34,28,41,45,24,15,7,5,5,17,7,22,18,28,16,8,17,13,19,15,15,15,7,23,10,12,4,14,11,12,13,12,24,32,5,4,40,21,9,11,26,17,17,5,10,23,4,12,3,5,5,10,14,6,27,24,13,21,31,7,27,22,20,31,14,28,3,22,4,21,16,16,10,22,15,14,13,16,10,12,5,19,32,19,12,13,10,20,14,11,6,13,28,16,9,25,18,19,14,7,10,4,11,18,21,13,12,10,18,12,13,9,18,4,21,9,6,11,6,21,11,12,14,10,13,26,26,29,23,13,17,9,8,10,14,19,15,18,19,12,13,15,15,18,11,20,12,13,15,17,13,17,16,13,15,16,10,5,22,7,14,18,17,21,12,11,16,16,14,5,10,19,13,11,14,14,13,15,12,10,9,15,7,9,19,57,62,50,45,36,45,53,58,48,48,12,4,14,11,12,13,12,24,32,15,10,40,21,9,11,26,17,17,17,10,23,10,12,3,5,5,10,14,6,27,24,13,21,31,7,27,22,20,31,14,28,3,22,4,21,16,16,10,22,15,14,13,16,10,12,20,25,9,13,32,11,20,10,13,9,16,22,5,4,16,5,5,9,40,10,8,5,5,19,11,11,9,8,12,5,5,4,4,12,9,9,7,17,13,13,15,5,10,29,8,4,12,15,9,14,4,4,7,7,10,16,10,8,10,6,5,10,19,21,11,11,15,20,7,10,22,6,9,5,16,18,15,40,11,5,19,5,10,7,20,9,4,9,11,13,8,12,5,4,8,5,4,13,16,15,9,14,9,28,19,10,12,10,11,9,24,13,7,12,14,4,4,7,7,10,27,27,25,34,31,40,41,36,17,34,40,25,44,30,18,35,27,31,38,31,23,41,24,31,13,26,20,26,32,26,29,21,14,27,25,32,19,16,27,20,12,25,11,4,14,10,9,13,27,14,48,61,41,46,42,39,32,57,48,51,4,6,10,20,10,17,24,5,6,3,6,5,9,11,19,34,11,13,19,11,11,13,8,11,16,9,4,4,12,9,16,26,17,13,3,10,5,10,29,21,22,3,16,9,14,4,5,7,14,10,16,10,8,10,6,18,22,23,17,24,14,33,41,29,5,27,31,39,31,15,41,23,19,14,21,25,13,12,18,5,12,17,4,13,32,50,25,23,22,37,33,37,5,36,53,25,19,25,51,5,9,12,2,10,42,8,13,10,10,8,16,23,19,11,20,12,17,26,8,13,12,8,19,15,10,11,15,11,14,14,10,9,14,16,25,13,12,6,11,9,7,8,19,10,12,4,13,18,50,25,10,10,19,15,37,5,10,5,16,13,18,17,5,5,10,4,5,14,10,2,10,10,9,15,11,26,22,30,4,10,29,28,45,32,13,18,14,15,35,9,24,17,17,27,12,18,22,4,32,20,19,21,13,40,22,21,18,15,19,28,28,20,36,13,26,23,16,19,13,10,18,22,23,17,24,14,33,41,29,5,27,31,39,31,21,41,23,19,14,21,25,13,12,18,5,8,5,15,13,17,50,27,15,22,37,33,4,5,36,51,13,19,25,51,5,9,12,3,10,42,12,13,10,10,18,4,18,10,32,11,15,22,5,8,15,12,4,2,12,15,17,13,4,8,4,29,20,14,17,39,22,21,4,5,22,5,24,14,3,20,47,12,29,22,17,21,21,6,2,19,27,10,11,14,4,10,13,9,5,8,11,25,12,17,21,5,24,27,6,4,12,8,13,9,11,15,16,9,13,12,3,5,4,4,23,9,4,6,9,13,20,5,13,9,22,10,10,15,10,21,4,5,22,5,16,14,3,11,13,4,29,21,18,31,4,7,21,10,5,18,13,10,4,12,13,27,34,25,34,31,35,40,36,36,5,23,20,5,4,5,9,15,10,15,5,12,4,11,12,14,22,13,16,9,19,31,8,16,4,24,10,3,7,19,15,7,13,15,20,18,5,16,9,7,12,59,57,49,44,37,47,52,63,45,47,15,18,10,32,20,15,22,5,8,15,10,17,20,12,15,17,13,15,11,19,29,20,18,17,19,22,21,4,19,22,10,12,14,24,20,47,18,7,22,17,21,14,6,2,19,27,10,11,14,4,10,13,9,5,8,11,25,12,17,21],\"xaxis\":\"x\",\"y\":[1,2,1,2,2,4,1,2,2,2,1,2,1,4,2,2,1,5,1,1,2,2,1,2,5,2,1,1,1,2,2,3,1,2,4,2,2,2,1,3,1,1,2,1,3,2,1,5,1,1,2,2,3,2,4,2,2,2,5,2,2,1,5,2,1,5,2,3,3,3,4,3,5,7,4,2,6,6,4,5,2,1,5,5,1,1,4,1,5,7,3,1,2,8,4,2,3,1,6,4,3,5,4,5,6,3,6,6,5,6,1,3,2,1,2,1,8,2,2,5,6,6,5,5,4,5,8,5,5,7,5,8,5,4,5,5,5,6,7,6,6,5,7,2,3,6,5,5,6,6,3,3,4,4,2,4,4,5,6,4,3,3,5,5,6,3,1,2,2,2,2,2,3,1,3,3,3,5,3,1,2,2,3,2,1,1,2,1,3,4,1,2,2,2,1,2,1,2,4,4,2,2,3,4,1,3,3,4,1,3,2,3,2,2,2,2,2,2,1,1,11,9,9,8,7,7,8,8,7,9,3,2,1,2,2,2,1,2,2,1,2,2,2,2,2,3,1,1,3,2,2,2,1,1,2,1,1,1,1,2,3,2,2,1,3,1,1,2,1,1,2,2,2,1,2,3,2,2,1,2,2,1,3,2,6,2,2,3,1,8,1,2,2,3,2,1,3,3,5,3,2,4,2,2,3,4,3,4,4,2,2,1,3,3,2,2,4,2,2,1,2,2,2,2,2,2,3,2,3,3,2,2,1,3,2,2,2,2,3,2,2,2,2,2,2,2,2,2,2,2,2,2,2,2,2,2,2,2,1,2,2,2,3,2,3,2,3,2,1,2,3,2,3,3,2,1,2,2,2,2,2,2,1,2,2,3,2,5,2,2,2,3,5,2,3,2,2,2,2,3,3,1,3,3,2,2,2,2,1,2,2,1,3,1,2,3,3,2,1,3,1,5,2,1,1,1,2,2,1,2,3,2,2,1,2,2,1,3,2,6,6,4,4,1,5,2,1,4,6,3,1,3,2,2,2,4,4,1,2,1,7,3,4,3,3,1,3,1,6,3,1,3,2,5,1,3,1,2,2,5,5,3,5,6,2,1,1,1,3,5,1,2,2,4,2,1,5,2,2,3,1,1,3,3,5,1,2,2,1,1,1,2,2,3,6,2,2,2,2,1,3,1,2,1,2,3,3,2,2,2,1,2,3,1,3,1,2,4,3,1,1,5,1,3,2,1,2,2,1,2,3,3,2,6,1,1,3,1,2,2,6,2,4,5,5,5,7,7,2,2,3,7,5,5,4,2,5,7,5,6,4,3,5,7,5,4,7,5,5,5,4,4,6,5,7,6,5,4,6,7,5,7,5,4,6,5,4,3,5,3,2,1,2,2,2,2,3,1,2,2,1,1,2,1,3,4,1,2,2,1,2,2,3,2,3,1,2,2,2,2,2,1,2,5,4,3,2,2,1,3,2,3,5,6,2,1,1,1,3,5,3,2,2,5,1,2,4,2,2,1,4,3,2,6,3,2,3,3,1,1,2,3,1,2,2,3,1,1,5,1,1,1,2,1,1,1,2,2,1,2,2,1,3,1,1,1,4,1,4,2,1,4,2,1,1,4,1,1,1,1,2,4,2,1,5,1,1,2,1,2,2,4,2,1,1,3,1,1,1,1,3,2,2,1,1,2,5,1,1,3,2,1,1,2,1,1,2,3,1,1,4,3,2,2,3,1,2,5,2,4,3,1,2,2,1,10,9,10,9,2,2,2,2,2,2,2,2,2,2,2,3,6,3,4,2,1,2,2,2,2,2,2,2,2,2,2,1,2,2,2,2,2,2,2,2,1,2,2,2,2,2,2,2,1,2,5,10,9,9,7,6,6,10,9,9,4,3,2,6,3,2,3,3,1,2,2,3,1,2,2,3,1,2,5,1,3,4,2,1,1,3,2,2,1,2,2,5,3,1,1,1,4,1,4,1,1,4,2,1,1,4,1,1,1,2,4,2,1,5,2,4,3,3,3,7,5,7,9,5,3,1,7,3,1,2,7,3,10,3,7,7,9,4,5,1,6,8,5,7,5,4,8,3,5,5,1,3,3,3,2,4,3,4,4,2,3,2,5,3,5,4,4,4,6,3,3,2,2,5,2,2,3,2,2,3,2,1,1,2,1,2,3,2,1,1,7,3,1,2,1,3,2,1,5,2,2,1,2,1,5,2,3,2,2,6,2,2,3,2,3,2,1,1,1,2,2,3,1,1,1,2,3,1,2,2,1,2,3,5,2,4,4,2,5,2,3,4,6,4,6,6,4,1,3,1,3,2,4,3,6,7,5,3,1,2,2,5,4,7,5,5,4,4,6,5,4,6,7,1,2,5,7,5,5,3,5,5,4,3,6,1,3,1,1,2,5,1,3,1,1,3,2,3,2,1,3,2,2,2,2,2,2,1,2,1,2,3,2,3,2,2,1,3,1,3,3,1,2,2,3,2,2,1,1,3,1,2,1,1,2,6,4,4,4,2,3,3,5,2,1,8,10,8,9,5,6,7,8,9,10,7,4,1,2,2,3,5,7,1,3,10,4,3,2,5,5,1,1,8,7,2,1,3,1,2,4,1,2,2,3,2,7,2,5,2,4,4,1,4,6,7,5,7,10,4,3,2,1,1,1,1,4,2,5,3,2,3,3,3,7,2,2,2,2,1,2,3,2,2,1,3,3,2,2,4,6,1,2,2,3,2,3,4,1,1,1,1,2,3,4,2,2,2,1,2,2,1,3,2,2,1,3,3,1,2,1,4,1,4,4,1,1,2,2,2,3,2,1,1,1,3,4,4,4,3,5,3,4,4,2,1,3,2,4,4,3,3,2,4,5,4,6,2,3,7,4,4,2,5,1,2,5,2,3,1,5,3,2,6,5,4,3,6,2,6,4,2,3,2,3,5,9,9,7,7,5,9,8,8,7,7,4,2,2,2,3,5,6,3,3,10,4,3,2,5,5,2,1,8,7,2,1,3,2,2,3,1,1,2,3,1,7,3,5,2,4,2,4,4,3,7,5,7,10,4,3,1,1,1,2,1,4,3,5,3,1,3,2,3,2,2,4,1,4,1,2,1,3,2,2,3,2,3,7,1,1,8,3,1,2,5,2,2,1,2,5,1,1,1,1,1,3,3,1,5,4,2,3,6,1,6,4,3,5,2,4,1,3,1,4,3,3,2,3,4,2,3,3,1,2,1,3,6,3,2,2,2,3,3,2,1,2,4,3,2,3,2,2,4,3,2,1,2,2,3,2,2,3,3,3,2,3,3,1,4,2,1,1,1,4,2,3,2,2,2,6,4,6,4,3,3,2,2,2,4,2,2,2,2,2,2,2,2,2,2,2,2,2,2,2,2,2,2,2,2,2,2,1,2,1,2,3,2,3,2,2,3,2,2,1,2,3,2,2,2,2,2,2,2,2,2,2,2,2,2,8,11,10,8,5,8,8,10,9,10,2,1,3,2,2,3,2,3,7,3,1,8,3,1,2,5,2,2,3,2,5,2,1,1,1,1,3,3,1,5,4,2,3,6,1,6,4,3,5,2,4,1,3,1,4,3,3,2,3,4,2,3,3,1,2,3,3,1,2,5,2,3,2,2,1,2,4,1,1,2,1,1,1,6,2,2,1,1,3,2,2,1,1,1,1,1,1,1,2,2,1,1,2,2,1,2,1,2,4,1,1,1,2,1,3,1,1,1,1,1,2,2,1,2,1,1,2,4,4,2,2,2,2,1,2,4,1,1,1,3,2,2,6,2,1,2,1,2,1,3,1,1,2,2,4,1,1,1,1,1,1,1,2,2,3,1,2,2,6,4,2,2,2,2,1,5,2,1,2,3,1,1,1,1,1,6,4,5,6,6,7,7,7,5,6,6,6,8,5,5,6,5,6,7,6,5,8,5,5,3,5,5,4,6,6,5,5,2,7,5,7,5,2,5,4,2,4,2,1,3,2,1,1,4,2,7,11,6,7,7,6,6,10,9,10,1,1,2,2,2,2,4,1,1,1,1,1,1,2,2,5,2,1,3,2,2,3,1,1,3,1,1,1,2,2,2,5,2,2,1,2,1,2,4,3,4,1,2,1,3,1,1,1,3,1,2,2,1,2,1,3,2,4,3,3,3,4,7,5,2,3,5,7,5,2,9,4,4,3,3,4,3,2,3,2,2,3,1,2,4,8,5,3,3,6,7,5,1,6,7,5,3,4,9,1,2,3,1,2,6,1,2,2,1,1,3,5,2,3,3,1,4,5,1,3,3,1,5,2,2,2,2,2,3,3,2,2,3,3,4,3,2,2,2,1,2,1,3,3,2,1,2,3,8,5,2,1,3,3,7,1,1,1,2,2,3,2,1,1,2,1,1,3,1,1,2,2,1,3,1,4,3,4,1,2,5,4,8,8,3,4,3,2,6,2,5,3,2,5,2,4,4,1,5,3,3,4,2,7,4,3,4,2,2,5,5,3,5,3,4,4,3,3,3,2,3,2,4,3,3,3,4,7,5,2,3,5,7,5,3,9,4,4,3,3,4,3,2,3,2,3,1,2,2,3,8,4,3,3,6,7,1,1,6,6,2,3,4,9,1,2,3,1,2,6,2,2,2,1,3,1,3,2,5,2,2,4,1,2,3,2,1,1,2,2,4,3,1,2,1,4,3,3,3,7,4,4,1,1,4,1,4,2,1,3,9,2,4,3,3,3,4,2,1,4,5,2,2,3,1,2,2,2,1,2,2,4,2,3,2,1,4,5,1,1,1,3,2,1,2,3,3,2,2,2,1,1,1,1,4,2,1,1,2,2,3,1,2,2,4,2,2,3,2,4,1,1,4,1,2,3,1,2,2,1,4,4,2,4,1,1,4,1,1,4,2,2,1,3,2,6,5,5,6,6,7,7,7,6,1,3,2,1,1,1,1,2,2,2,1,2,1,2,2,2,4,1,4,2,2,4,1,3,1,4,2,1,1,4,2,1,2,2,3,2,1,2,2,1,2,8,11,10,8,6,9,8,12,8,10,2,3,2,5,4,2,4,1,2,3,2,4,4,2,2,4,3,3,2,3,4,3,3,3,4,4,4,1,4,4,2,2,2,3,3,9,4,1,3,3,3,3,1,1,4,5,2,2,3,1,2,2,2,1,2,2,4,2,3,2],\"yaxis\":\"y\",\"type\":\"scattergl\"}],                        {\"template\":{\"data\":{\"histogram2dcontour\":[{\"type\":\"histogram2dcontour\",\"colorbar\":{\"outlinewidth\":0,\"ticks\":\"\"},\"colorscale\":[[0.0,\"#0d0887\"],[0.1111111111111111,\"#46039f\"],[0.2222222222222222,\"#7201a8\"],[0.3333333333333333,\"#9c179e\"],[0.4444444444444444,\"#bd3786\"],[0.5555555555555556,\"#d8576b\"],[0.6666666666666666,\"#ed7953\"],[0.7777777777777778,\"#fb9f3a\"],[0.8888888888888888,\"#fdca26\"],[1.0,\"#f0f921\"]]}],\"choropleth\":[{\"type\":\"choropleth\",\"colorbar\":{\"outlinewidth\":0,\"ticks\":\"\"}}],\"histogram2d\":[{\"type\":\"histogram2d\",\"colorbar\":{\"outlinewidth\":0,\"ticks\":\"\"},\"colorscale\":[[0.0,\"#0d0887\"],[0.1111111111111111,\"#46039f\"],[0.2222222222222222,\"#7201a8\"],[0.3333333333333333,\"#9c179e\"],[0.4444444444444444,\"#bd3786\"],[0.5555555555555556,\"#d8576b\"],[0.6666666666666666,\"#ed7953\"],[0.7777777777777778,\"#fb9f3a\"],[0.8888888888888888,\"#fdca26\"],[1.0,\"#f0f921\"]]}],\"heatmap\":[{\"type\":\"heatmap\",\"colorbar\":{\"outlinewidth\":0,\"ticks\":\"\"},\"colorscale\":[[0.0,\"#0d0887\"],[0.1111111111111111,\"#46039f\"],[0.2222222222222222,\"#7201a8\"],[0.3333333333333333,\"#9c179e\"],[0.4444444444444444,\"#bd3786\"],[0.5555555555555556,\"#d8576b\"],[0.6666666666666666,\"#ed7953\"],[0.7777777777777778,\"#fb9f3a\"],[0.8888888888888888,\"#fdca26\"],[1.0,\"#f0f921\"]]}],\"heatmapgl\":[{\"type\":\"heatmapgl\",\"colorbar\":{\"outlinewidth\":0,\"ticks\":\"\"},\"colorscale\":[[0.0,\"#0d0887\"],[0.1111111111111111,\"#46039f\"],[0.2222222222222222,\"#7201a8\"],[0.3333333333333333,\"#9c179e\"],[0.4444444444444444,\"#bd3786\"],[0.5555555555555556,\"#d8576b\"],[0.6666666666666666,\"#ed7953\"],[0.7777777777777778,\"#fb9f3a\"],[0.8888888888888888,\"#fdca26\"],[1.0,\"#f0f921\"]]}],\"contourcarpet\":[{\"type\":\"contourcarpet\",\"colorbar\":{\"outlinewidth\":0,\"ticks\":\"\"}}],\"contour\":[{\"type\":\"contour\",\"colorbar\":{\"outlinewidth\":0,\"ticks\":\"\"},\"colorscale\":[[0.0,\"#0d0887\"],[0.1111111111111111,\"#46039f\"],[0.2222222222222222,\"#7201a8\"],[0.3333333333333333,\"#9c179e\"],[0.4444444444444444,\"#bd3786\"],[0.5555555555555556,\"#d8576b\"],[0.6666666666666666,\"#ed7953\"],[0.7777777777777778,\"#fb9f3a\"],[0.8888888888888888,\"#fdca26\"],[1.0,\"#f0f921\"]]}],\"surface\":[{\"type\":\"surface\",\"colorbar\":{\"outlinewidth\":0,\"ticks\":\"\"},\"colorscale\":[[0.0,\"#0d0887\"],[0.1111111111111111,\"#46039f\"],[0.2222222222222222,\"#7201a8\"],[0.3333333333333333,\"#9c179e\"],[0.4444444444444444,\"#bd3786\"],[0.5555555555555556,\"#d8576b\"],[0.6666666666666666,\"#ed7953\"],[0.7777777777777778,\"#fb9f3a\"],[0.8888888888888888,\"#fdca26\"],[1.0,\"#f0f921\"]]}],\"mesh3d\":[{\"type\":\"mesh3d\",\"colorbar\":{\"outlinewidth\":0,\"ticks\":\"\"}}],\"scatter\":[{\"fillpattern\":{\"fillmode\":\"overlay\",\"size\":10,\"solidity\":0.2},\"type\":\"scatter\"}],\"parcoords\":[{\"type\":\"parcoords\",\"line\":{\"colorbar\":{\"outlinewidth\":0,\"ticks\":\"\"}}}],\"scatterpolargl\":[{\"type\":\"scatterpolargl\",\"marker\":{\"colorbar\":{\"outlinewidth\":0,\"ticks\":\"\"}}}],\"bar\":[{\"error_x\":{\"color\":\"#2a3f5f\"},\"error_y\":{\"color\":\"#2a3f5f\"},\"marker\":{\"line\":{\"color\":\"#E5ECF6\",\"width\":0.5},\"pattern\":{\"fillmode\":\"overlay\",\"size\":10,\"solidity\":0.2}},\"type\":\"bar\"}],\"scattergeo\":[{\"type\":\"scattergeo\",\"marker\":{\"colorbar\":{\"outlinewidth\":0,\"ticks\":\"\"}}}],\"scatterpolar\":[{\"type\":\"scatterpolar\",\"marker\":{\"colorbar\":{\"outlinewidth\":0,\"ticks\":\"\"}}}],\"histogram\":[{\"marker\":{\"pattern\":{\"fillmode\":\"overlay\",\"size\":10,\"solidity\":0.2}},\"type\":\"histogram\"}],\"scattergl\":[{\"type\":\"scattergl\",\"marker\":{\"colorbar\":{\"outlinewidth\":0,\"ticks\":\"\"}}}],\"scatter3d\":[{\"type\":\"scatter3d\",\"line\":{\"colorbar\":{\"outlinewidth\":0,\"ticks\":\"\"}},\"marker\":{\"colorbar\":{\"outlinewidth\":0,\"ticks\":\"\"}}}],\"scattermapbox\":[{\"type\":\"scattermapbox\",\"marker\":{\"colorbar\":{\"outlinewidth\":0,\"ticks\":\"\"}}}],\"scatterternary\":[{\"type\":\"scatterternary\",\"marker\":{\"colorbar\":{\"outlinewidth\":0,\"ticks\":\"\"}}}],\"scattercarpet\":[{\"type\":\"scattercarpet\",\"marker\":{\"colorbar\":{\"outlinewidth\":0,\"ticks\":\"\"}}}],\"carpet\":[{\"aaxis\":{\"endlinecolor\":\"#2a3f5f\",\"gridcolor\":\"white\",\"linecolor\":\"white\",\"minorgridcolor\":\"white\",\"startlinecolor\":\"#2a3f5f\"},\"baxis\":{\"endlinecolor\":\"#2a3f5f\",\"gridcolor\":\"white\",\"linecolor\":\"white\",\"minorgridcolor\":\"white\",\"startlinecolor\":\"#2a3f5f\"},\"type\":\"carpet\"}],\"table\":[{\"cells\":{\"fill\":{\"color\":\"#EBF0F8\"},\"line\":{\"color\":\"white\"}},\"header\":{\"fill\":{\"color\":\"#C8D4E3\"},\"line\":{\"color\":\"white\"}},\"type\":\"table\"}],\"barpolar\":[{\"marker\":{\"line\":{\"color\":\"#E5ECF6\",\"width\":0.5},\"pattern\":{\"fillmode\":\"overlay\",\"size\":10,\"solidity\":0.2}},\"type\":\"barpolar\"}],\"pie\":[{\"automargin\":true,\"type\":\"pie\"}]},\"layout\":{\"autotypenumbers\":\"strict\",\"colorway\":[\"#636efa\",\"#EF553B\",\"#00cc96\",\"#ab63fa\",\"#FFA15A\",\"#19d3f3\",\"#FF6692\",\"#B6E880\",\"#FF97FF\",\"#FECB52\"],\"font\":{\"color\":\"#2a3f5f\"},\"hovermode\":\"closest\",\"hoverlabel\":{\"align\":\"left\"},\"paper_bgcolor\":\"white\",\"plot_bgcolor\":\"#E5ECF6\",\"polar\":{\"bgcolor\":\"#E5ECF6\",\"angularaxis\":{\"gridcolor\":\"white\",\"linecolor\":\"white\",\"ticks\":\"\"},\"radialaxis\":{\"gridcolor\":\"white\",\"linecolor\":\"white\",\"ticks\":\"\"}},\"ternary\":{\"bgcolor\":\"#E5ECF6\",\"aaxis\":{\"gridcolor\":\"white\",\"linecolor\":\"white\",\"ticks\":\"\"},\"baxis\":{\"gridcolor\":\"white\",\"linecolor\":\"white\",\"ticks\":\"\"},\"caxis\":{\"gridcolor\":\"white\",\"linecolor\":\"white\",\"ticks\":\"\"}},\"coloraxis\":{\"colorbar\":{\"outlinewidth\":0,\"ticks\":\"\"}},\"colorscale\":{\"sequential\":[[0.0,\"#0d0887\"],[0.1111111111111111,\"#46039f\"],[0.2222222222222222,\"#7201a8\"],[0.3333333333333333,\"#9c179e\"],[0.4444444444444444,\"#bd3786\"],[0.5555555555555556,\"#d8576b\"],[0.6666666666666666,\"#ed7953\"],[0.7777777777777778,\"#fb9f3a\"],[0.8888888888888888,\"#fdca26\"],[1.0,\"#f0f921\"]],\"sequentialminus\":[[0.0,\"#0d0887\"],[0.1111111111111111,\"#46039f\"],[0.2222222222222222,\"#7201a8\"],[0.3333333333333333,\"#9c179e\"],[0.4444444444444444,\"#bd3786\"],[0.5555555555555556,\"#d8576b\"],[0.6666666666666666,\"#ed7953\"],[0.7777777777777778,\"#fb9f3a\"],[0.8888888888888888,\"#fdca26\"],[1.0,\"#f0f921\"]],\"diverging\":[[0,\"#8e0152\"],[0.1,\"#c51b7d\"],[0.2,\"#de77ae\"],[0.3,\"#f1b6da\"],[0.4,\"#fde0ef\"],[0.5,\"#f7f7f7\"],[0.6,\"#e6f5d0\"],[0.7,\"#b8e186\"],[0.8,\"#7fbc41\"],[0.9,\"#4d9221\"],[1,\"#276419\"]]},\"xaxis\":{\"gridcolor\":\"white\",\"linecolor\":\"white\",\"ticks\":\"\",\"title\":{\"standoff\":15},\"zerolinecolor\":\"white\",\"automargin\":true,\"zerolinewidth\":2},\"yaxis\":{\"gridcolor\":\"white\",\"linecolor\":\"white\",\"ticks\":\"\",\"title\":{\"standoff\":15},\"zerolinecolor\":\"white\",\"automargin\":true,\"zerolinewidth\":2},\"scene\":{\"xaxis\":{\"backgroundcolor\":\"#E5ECF6\",\"gridcolor\":\"white\",\"linecolor\":\"white\",\"showbackground\":true,\"ticks\":\"\",\"zerolinecolor\":\"white\",\"gridwidth\":2},\"yaxis\":{\"backgroundcolor\":\"#E5ECF6\",\"gridcolor\":\"white\",\"linecolor\":\"white\",\"showbackground\":true,\"ticks\":\"\",\"zerolinecolor\":\"white\",\"gridwidth\":2},\"zaxis\":{\"backgroundcolor\":\"#E5ECF6\",\"gridcolor\":\"white\",\"linecolor\":\"white\",\"showbackground\":true,\"ticks\":\"\",\"zerolinecolor\":\"white\",\"gridwidth\":2}},\"shapedefaults\":{\"line\":{\"color\":\"#2a3f5f\"}},\"annotationdefaults\":{\"arrowcolor\":\"#2a3f5f\",\"arrowhead\":0,\"arrowwidth\":1},\"geo\":{\"bgcolor\":\"white\",\"landcolor\":\"#E5ECF6\",\"subunitcolor\":\"white\",\"showland\":true,\"showlakes\":true,\"lakecolor\":\"white\"},\"title\":{\"x\":0.05},\"mapbox\":{\"style\":\"light\"}}},\"xaxis\":{\"anchor\":\"y\",\"domain\":[0.0,1.0],\"title\":{\"text\":\"Comment Length\"}},\"yaxis\":{\"anchor\":\"x\",\"domain\":[0.0,1.0],\"title\":{\"text\":\"Word Count\"}},\"coloraxis\":{\"colorbar\":{\"title\":{\"text\":\"Label\"}},\"colorscale\":[[0.0,\"#0d0887\"],[0.1111111111111111,\"#46039f\"],[0.2222222222222222,\"#7201a8\"],[0.3333333333333333,\"#9c179e\"],[0.4444444444444444,\"#bd3786\"],[0.5555555555555556,\"#d8576b\"],[0.6666666666666666,\"#ed7953\"],[0.7777777777777778,\"#fb9f3a\"],[0.8888888888888888,\"#fdca26\"],[1.0,\"#f0f921\"]]},\"legend\":{\"tracegroupgap\":0},\"title\":{\"text\":\"Comment Length vs Word Count\"}},                        {\"responsive\": true}                    ).then(function(){\n",
       "                            \n",
       "var gd = document.getElementById('5b9c522c-f963-4de3-a942-c084d10b706c');\n",
       "var x = new MutationObserver(function (mutations, observer) {{\n",
       "        var display = window.getComputedStyle(gd).display;\n",
       "        if (!display || display === 'none') {{\n",
       "            console.log([gd, 'removed!']);\n",
       "            Plotly.purge(gd);\n",
       "            observer.disconnect();\n",
       "        }}\n",
       "}});\n",
       "\n",
       "// Listen for the removal of the full notebook cells\n",
       "var notebookContainer = gd.closest('#notebook-container');\n",
       "if (notebookContainer) {{\n",
       "    x.observe(notebookContainer, {childList: true});\n",
       "}}\n",
       "\n",
       "// Listen for the clearing of the current output cell\n",
       "var outputEl = gd.closest('.output');\n",
       "if (outputEl) {{\n",
       "    x.observe(outputEl, {childList: true});\n",
       "}}\n",
       "\n",
       "                        })                };                });            </script>        </div>"
      ]
     },
     "metadata": {},
     "output_type": "display_data"
    },
    {
     "data": {
      "application/vnd.plotly.v1+json": {
       "config": {
        "plotlyServerURL": "https://plot.ly"
       },
       "data": [
        {
         "alignmentgroup": "True",
         "bingroup": "x",
         "hovertemplate": "Label=1<br>commentLength=%{x}<br>count=%{y}<extra></extra>",
         "legendgroup": "1",
         "marker": {
          "color": "#636efa",
          "pattern": {
           "shape": ""
          }
         },
         "name": "1",
         "nbinsx": 30,
         "offsetgroup": "1",
         "orientation": "v",
         "showlegend": true,
         "type": "histogram",
         "x": [
          5,
          12,
          6,
          13,
          13,
          17,
          4,
          10,
          15,
          13,
          3,
          11,
          5,
          19,
          3,
          12,
          5,
          5,
          11,
          10,
          17,
          16,
          3,
          24,
          6,
          6,
          8,
          4,
          30,
          11,
          6,
          26,
          12,
          11,
          17,
          17,
          34,
          18,
          5,
          12,
          40,
          13,
          13,
          17,
          5,
          36,
          30,
          4,
          12,
          13,
          9,
          10,
          4,
          53,
          12,
          11,
          41,
          36,
          23,
          44,
          32,
          21,
          44,
          23,
          40,
          22,
          23,
          23,
          21,
          26,
          21,
          9,
          11,
          17,
          10,
          13,
          14,
          19,
          9,
          21,
          4,
          14,
          10,
          11,
          18,
          14,
          25,
          11,
          18,
          22,
          6,
          9,
          18,
          18,
          5,
          5,
          55,
          54,
          46,
          49,
          15,
          16,
          7,
          17,
          15,
          12,
          5,
          13,
          11,
          9,
          16,
          14,
          11,
          14,
          11,
          17,
          9,
          4,
          14,
          16,
          13,
          12,
          10,
          15,
          12,
          31,
          10,
          9,
          19,
          5,
          32,
          7,
          14,
          12,
          10,
          10,
          10,
          7,
          17,
          26,
          16,
          13,
          15,
          10,
          14,
          20,
          12,
          18,
          13,
          16,
          11,
          9,
          18,
          16,
          20,
          19,
          12,
          14,
          19,
          12,
          10,
          15,
          15,
          18,
          15,
          16,
          21,
          17,
          15,
          12,
          14,
          37,
          11,
          16,
          16,
          14,
          11,
          14,
          14,
          17,
          9,
          13,
          14,
          16,
          13,
          12,
          10,
          15,
          12,
          31,
          39,
          14,
          21,
          24,
          16,
          5,
          19,
          4,
          35,
          16,
          5,
          17,
          11,
          30,
          4,
          17,
          4,
          11,
          10,
          11,
          17,
          20,
          10,
          14,
          17,
          11,
          14,
          13,
          5,
          16,
          15,
          5,
          19,
          5,
          11,
          14,
          17,
          9,
          5,
          30,
          5,
          17,
          12,
          5,
          11,
          10,
          12,
          27,
          11,
          23,
          25,
          30,
          29,
          36,
          43,
          15,
          11,
          17,
          36,
          29,
          17,
          21,
          10,
          30,
          38,
          32,
          13,
          6,
          17,
          14,
          16,
          5,
          15,
          13,
          12,
          14,
          10,
          12,
          13,
          30,
          14,
          17,
          12,
          11,
          5,
          20,
          17,
          11,
          29,
          17,
          9,
          45,
          11,
          9,
          14,
          22,
          7,
          5,
          9,
          20,
          9,
          14,
          11,
          17,
          9,
          4,
          21,
          13,
          16,
          17,
          9,
          43,
          5,
          8,
          14,
          10,
          19,
          13,
          23,
          9,
          7,
          5,
          21,
          9,
          9,
          9,
          8,
          17,
          16,
          15,
          4,
          59,
          45,
          55,
          58,
          17,
          17,
          16,
          18,
          14,
          13,
          16,
          14,
          12,
          15,
          11,
          17,
          33,
          20,
          24,
          10,
          29,
          51,
          54,
          53,
          29,
          17,
          9,
          45,
          11,
          9,
          13,
          22,
          7,
          15,
          9,
          20,
          9,
          14,
          11,
          17,
          9,
          10,
          21,
          16,
          17,
          9,
          43,
          11,
          30,
          17,
          14,
          14,
          27,
          39,
          42,
          29,
          24,
          4,
          40,
          18,
          5,
          11,
          57,
          27,
          52,
          22,
          20,
          20,
          15,
          33,
          19,
          15,
          12,
          12,
          25,
          13,
          13,
          17,
          11,
          11,
          22,
          12,
          8,
          5,
          6,
          10,
          19,
          10,
          5,
          7,
          40,
          18,
          7,
          10,
          11,
          17,
          12,
          8,
          19,
          24,
          11,
          25,
          20,
          11,
          23,
          34,
          24,
          31,
          31,
          17,
          4,
          17,
          4,
          16,
          10,
          30,
          28,
          39,
          4,
          24,
          10,
          6,
          30,
          4,
          15,
          6,
          9,
          19,
          5,
          14,
          10,
          8,
          17,
          11,
          14,
          20,
          33,
          20,
          20,
          15,
          12,
          19,
          15,
          25,
          12,
          7,
          53,
          50,
          37,
          47,
          35,
          24,
          5,
          12,
          12,
          13,
          26,
          47,
          4,
          14,
          50,
          30,
          21,
          11,
          25,
          23,
          9,
          5,
          42,
          29,
          12,
          7,
          22,
          7,
          28,
          16,
          14,
          17,
          12,
          19,
          37,
          11,
          11,
          10,
          10,
          7,
          13,
          17,
          12,
          9,
          5,
          9,
          19,
          8,
          10,
          16,
          32,
          5,
          11,
          12,
          15,
          11,
          19,
          14,
          8,
          5,
          18,
          25,
          27,
          25,
          18,
          30,
          17,
          31,
          19,
          11,
          8,
          17,
          8,
          25,
          23,
          20,
          17,
          10,
          22,
          32,
          31,
          49,
          44,
          42,
          35,
          24,
          11,
          10,
          14,
          13,
          30,
          45,
          20,
          14,
          50,
          30,
          21,
          9,
          25,
          23,
          10,
          5,
          42,
          29,
          12,
          7,
          22,
          18,
          28,
          16,
          8,
          17,
          13,
          19,
          15,
          15,
          15,
          7,
          23,
          10,
          12,
          4,
          14,
          11,
          12,
          13,
          12,
          24,
          32,
          5,
          4,
          40,
          21,
          9,
          11,
          26,
          17,
          17,
          5,
          10,
          23,
          14,
          13,
          16,
          10,
          12,
          5,
          19,
          32,
          19,
          12,
          13,
          10,
          20,
          14,
          11,
          6,
          13,
          28,
          16,
          9,
          25,
          18,
          19,
          14,
          7,
          10,
          4,
          11,
          18,
          21,
          19,
          15,
          18,
          19,
          12,
          13,
          15,
          15,
          18,
          11,
          20,
          12,
          13,
          15,
          17,
          13,
          17,
          16,
          13,
          15,
          57,
          62,
          50,
          45,
          12,
          4,
          14,
          11,
          12,
          13,
          12,
          24,
          32,
          15,
          10,
          40,
          21,
          9,
          11,
          26,
          17,
          17,
          17,
          10,
          23,
          14,
          13,
          16,
          10,
          12,
          20,
          25,
          9,
          13,
          32,
          11,
          20,
          10,
          13,
          9,
          16,
          22,
          5,
          4,
          16,
          5,
          5,
          9,
          40,
          10,
          8,
          5,
          5,
          19,
          11,
          11,
          9,
          16,
          10,
          8,
          10,
          6,
          11,
          11,
          15,
          20,
          7,
          10,
          22,
          6,
          9,
          5,
          16,
          18,
          15,
          40,
          11,
          5,
          19,
          5,
          10,
          7,
          20,
          9,
          27,
          27,
          25,
          34,
          31,
          40,
          41,
          36,
          17,
          34,
          40,
          25,
          44,
          30,
          18,
          35,
          27,
          31,
          38,
          31,
          48,
          61,
          41,
          46,
          4,
          6,
          10,
          20,
          10,
          17,
          24,
          5,
          6,
          3,
          6,
          5,
          9,
          11,
          19,
          34,
          11,
          13,
          19,
          11,
          11,
          13,
          16,
          10,
          8,
          10,
          18,
          5,
          12,
          17,
          4,
          13,
          32,
          50,
          25,
          23,
          22,
          37,
          33,
          37,
          5,
          36,
          53,
          25,
          19,
          25,
          51,
          5,
          9,
          6,
          11,
          9,
          7,
          8,
          19,
          10,
          12,
          4,
          13,
          18,
          50,
          25,
          10,
          10,
          19,
          15,
          37,
          5,
          10,
          5,
          16,
          13,
          18,
          17,
          5,
          5,
          10,
          10,
          9,
          15,
          11,
          26,
          22,
          30,
          4,
          10,
          29,
          28,
          45,
          32,
          13,
          18,
          14,
          15,
          35,
          9,
          18,
          5,
          8,
          5,
          15,
          13,
          17,
          50,
          27,
          15,
          22,
          37,
          33,
          4,
          5,
          36,
          51,
          13,
          19,
          25,
          51,
          5,
          9,
          4,
          18,
          10,
          32,
          11,
          15,
          22,
          5,
          8,
          15,
          12,
          4,
          2,
          12,
          15,
          17,
          13,
          4,
          8,
          4,
          29,
          20,
          14,
          17,
          39,
          5,
          24,
          27,
          6,
          4,
          12,
          8,
          13,
          9,
          11,
          15,
          16,
          9,
          13,
          12,
          3,
          5,
          4,
          4,
          23,
          9,
          4,
          6,
          9,
          13,
          20,
          5,
          13,
          9,
          27,
          34,
          25,
          34,
          31,
          35,
          40,
          36,
          36,
          5,
          23,
          20,
          5,
          4,
          5,
          9,
          15,
          10,
          15,
          5,
          59,
          57,
          49,
          44,
          15,
          18,
          10,
          32,
          20,
          15,
          22,
          5,
          8,
          15,
          10,
          17,
          20,
          12,
          15,
          17,
          13,
          15,
          11,
          19,
          29,
          20,
          18,
          17,
          19
         ],
         "xaxis": "x",
         "yaxis": "y"
        },
        {
         "alignmentgroup": "True",
         "bingroup": "x",
         "hovertemplate": "Label=-1<br>commentLength=%{x}<br>count=%{y}<extra></extra>",
         "legendgroup": "-1",
         "marker": {
          "color": "#EF553B",
          "pattern": {
           "shape": ""
          }
         },
         "name": "-1",
         "nbinsx": 30,
         "offsetgroup": "-1",
         "orientation": "v",
         "showlegend": true,
         "type": "histogram",
         "x": [
          12,
          11,
          6,
          29,
          4,
          9,
          12,
          13,
          3,
          17,
          5,
          18,
          24,
          14,
          11,
          11,
          14,
          11,
          21,
          14,
          8,
          11,
          36,
          8,
          31,
          17,
          22,
          27,
          27,
          12,
          16,
          34,
          8,
          27,
          17,
          25,
          20,
          20,
          38,
          18,
          31,
          24,
          36,
          41,
          28,
          32,
          22,
          40,
          24,
          34,
          24,
          26,
          32,
          13,
          21,
          37,
          28,
          25,
          38,
          32,
          25,
          13,
          25,
          21,
          19,
          21,
          15,
          3,
          12,
          15,
          8,
          5,
          5,
          10,
          17,
          20,
          24,
          3,
          18,
          12,
          13,
          8,
          11,
          12,
          42,
          38,
          36,
          43,
          16,
          12,
          5,
          13,
          9,
          5,
          7,
          7,
          12,
          17,
          5,
          13,
          6,
          23,
          4,
          12,
          13,
          5,
          5,
          5,
          20,
          15,
          10,
          5,
          10,
          16,
          13,
          10,
          8,
          15,
          13,
          6,
          19,
          13,
          10,
          8,
          10,
          14,
          9,
          15,
          13,
          15,
          5,
          8,
          15,
          9,
          17,
          15,
          25,
          12,
          16,
          10,
          4,
          14,
          15,
          12,
          23,
          23,
          17,
          16,
          12,
          5,
          13,
          18,
          5,
          16,
          6,
          12,
          17,
          20,
          13,
          6,
          23,
          4,
          29,
          13,
          5,
          5,
          6,
          20,
          15,
          29,
          24,
          30,
          7,
          29,
          12,
          5,
          20,
          30,
          15,
          7,
          19,
          10,
          12,
          13,
          20,
          18,
          4,
          14,
          3,
          13,
          24,
          9,
          13,
          10,
          22,
          11,
          5,
          29,
          6,
          4,
          15,
          13,
          26,
          5,
          7,
          11,
          7,
          9,
          5,
          13,
          10,
          15,
          28,
          13,
          10,
          12,
          10,
          10,
          24,
          3,
          13,
          5,
          14,
          10,
          25,
          27,
          16,
          21,
          27,
          25,
          26,
          32,
          19,
          23,
          27,
          20,
          19,
          37,
          23,
          29,
          29,
          21,
          25,
          40,
          12,
          4,
          16,
          11,
          11,
          15,
          18,
          7,
          11,
          10,
          6,
          8,
          7,
          6,
          17,
          20,
          5,
          14,
          14,
          5,
          13,
          24,
          29,
          5,
          11,
          22,
          10,
          13,
          9,
          8,
          12,
          5,
          10,
          5,
          4,
          4,
          12,
          14,
          9,
          18,
          12,
          7,
          10,
          13,
          5,
          5,
          19,
          6,
          29,
          13,
          5,
          3,
          12,
          21,
          6,
          6,
          20,
          11,
          3,
          9,
          11,
          9,
          3,
          18,
          21,
          4,
          3,
          19,
          18,
          15,
          9,
          4,
          15,
          15,
          14,
          17,
          10,
          15,
          11,
          17,
          21,
          9,
          6,
          12,
          18,
          13,
          11,
          14,
          18,
          13,
          15,
          7,
          37,
          34,
          27,
          52,
          8,
          24,
          23,
          10,
          5,
          4,
          14,
          12,
          14,
          9,
          18,
          12,
          28,
          10,
          4,
          5,
          5,
          19,
          6,
          29,
          4,
          5,
          47,
          22,
          38,
          19,
          24,
          45,
          15,
          22,
          27,
          5,
          18,
          22,
          15,
          13,
          22,
          14,
          25,
          28,
          9,
          12,
          16,
          28,
          10,
          11,
          23,
          16,
          14,
          14,
          4,
          6,
          3,
          14,
          11,
          22,
          5,
          7,
          6,
          15,
          10,
          7,
          13,
          8,
          32,
          24,
          13,
          3,
          15,
          9,
          25,
          26,
          32,
          19,
          27,
          20,
          19,
          37,
          21,
          25,
          40,
          24,
          4,
          9,
          16,
          9,
          23,
          9,
          14,
          3,
          14,
          7,
          23,
          22,
          5,
          15,
          13,
          10,
          14,
          15,
          3,
          4,
          14,
          35,
          31,
          47,
          45,
          45,
          12,
          34,
          15,
          22,
          29,
          5,
          30,
          31,
          37,
          28,
          41,
          45,
          24,
          21,
          12,
          9,
          4,
          18,
          11,
          3,
          11,
          4,
          11,
          5,
          20,
          30,
          6,
          6,
          9,
          11,
          16,
          13,
          33,
          9,
          14,
          5,
          23,
          19,
          15,
          27,
          27,
          27,
          15,
          29,
          15,
          37,
          17,
          10,
          18,
          10,
          16,
          34,
          30,
          44,
          42,
          45,
          15,
          34,
          11,
          22,
          22,
          21,
          30,
          17,
          34,
          28,
          41,
          45,
          24,
          6,
          27,
          24,
          13,
          21,
          31,
          7,
          27,
          22,
          20,
          31,
          14,
          28,
          3,
          22,
          4,
          21,
          16,
          16,
          10,
          22,
          15,
          21,
          9,
          6,
          11,
          6,
          21,
          11,
          12,
          14,
          10,
          13,
          26,
          26,
          29,
          23,
          13,
          17,
          9,
          8,
          10,
          14,
          16,
          10,
          5,
          22,
          7,
          14,
          18,
          17,
          21,
          12,
          11,
          16,
          16,
          14,
          5,
          10,
          19,
          13,
          11,
          14,
          36,
          45,
          53,
          58,
          6,
          27,
          24,
          13,
          21,
          31,
          7,
          27,
          22,
          20,
          31,
          14,
          28,
          3,
          22,
          4,
          21,
          16,
          16,
          10,
          22,
          15,
          8,
          12,
          5,
          5,
          4,
          4,
          12,
          9,
          9,
          7,
          17,
          13,
          13,
          15,
          5,
          10,
          29,
          8,
          4,
          12,
          5,
          10,
          19,
          21,
          4,
          9,
          11,
          13,
          8,
          12,
          5,
          4,
          8,
          5,
          4,
          13,
          16,
          15,
          9,
          14,
          9,
          28,
          19,
          10,
          12,
          10,
          11,
          9,
          29,
          21,
          14,
          27,
          25,
          32,
          19,
          16,
          27,
          20,
          12,
          25,
          11,
          4,
          14,
          10,
          9,
          13,
          27,
          14,
          42,
          39,
          32,
          57,
          8,
          11,
          16,
          9,
          4,
          4,
          12,
          9,
          16,
          26,
          17,
          13,
          3,
          10,
          5,
          10,
          29,
          21,
          22,
          3,
          18,
          22,
          23,
          17,
          24,
          14,
          33,
          41,
          29,
          5,
          27,
          31,
          39,
          31,
          15,
          41,
          23,
          19,
          14,
          21,
          25,
          13,
          12,
          8,
          13,
          10,
          10,
          8,
          16,
          23,
          19,
          11,
          20,
          12,
          17,
          26,
          8,
          13,
          12,
          8,
          19,
          15,
          10,
          11,
          15,
          11,
          14,
          14,
          10,
          9,
          14,
          16,
          25,
          13,
          12,
          24,
          17,
          17,
          27,
          12,
          18,
          22,
          4,
          32,
          20,
          19,
          21,
          13,
          40,
          22,
          21,
          18,
          15,
          19,
          28,
          18,
          22,
          23,
          17,
          24,
          14,
          33,
          41,
          29,
          5,
          27,
          31,
          39,
          31,
          21,
          41,
          23,
          19,
          14,
          21,
          25,
          13,
          12,
          12,
          13,
          10,
          10,
          18,
          22,
          21,
          4,
          5,
          22,
          5,
          24,
          14,
          3,
          20,
          47,
          12,
          29,
          22,
          17,
          21,
          10,
          13,
          9,
          5,
          8,
          11,
          25,
          12,
          17,
          21,
          22,
          10,
          10,
          15,
          10,
          21,
          4,
          5,
          22,
          5,
          16,
          14,
          3,
          11,
          13,
          4,
          29,
          21,
          18,
          31,
          12,
          4,
          11,
          12,
          14,
          22,
          13,
          16,
          9,
          19,
          31,
          8,
          16,
          4,
          24,
          10,
          3,
          7,
          19,
          15,
          37,
          47,
          52,
          63,
          22,
          21,
          4,
          19,
          22,
          10,
          12,
          14,
          24,
          20,
          47,
          18,
          7,
          22,
          17,
          21,
          10,
          13,
          9,
          5,
          8,
          11,
          25,
          12,
          17,
          21
         ],
         "xaxis": "x",
         "yaxis": "y"
        },
        {
         "alignmentgroup": "True",
         "bingroup": "x",
         "hovertemplate": "Label=0<br>commentLength=%{x}<br>count=%{y}<extra></extra>",
         "legendgroup": "0",
         "marker": {
          "color": "#00cc96",
          "pattern": {
           "shape": ""
          }
         },
         "name": "0",
         "nbinsx": 30,
         "offsetgroup": "0",
         "orientation": "v",
         "showlegend": true,
         "type": "histogram",
         "x": [
          30,
          8,
          2,
          4,
          15,
          18,
          12,
          11,
          11,
          13,
          52,
          36,
          2,
          23,
          4,
          4,
          20,
          3,
          25,
          18,
          20,
          13,
          13,
          21,
          29,
          34,
          26,
          15,
          28,
          26,
          41,
          32,
          17,
          16,
          17,
          16,
          18,
          11,
          18,
          11,
          33,
          44,
          4,
          13,
          23,
          12,
          18,
          3,
          10,
          13,
          20,
          18,
          13,
          24,
          19,
          6,
          18,
          6,
          16,
          21,
          7,
          15,
          16,
          15,
          4,
          13,
          16,
          16,
          11,
          8,
          14,
          8,
          9,
          12,
          4,
          13,
          23,
          12,
          18,
          3,
          10,
          25,
          35,
          20,
          25,
          32,
          10,
          11,
          7,
          2,
          9,
          23,
          20,
          14,
          34,
          4,
          7,
          10,
          2,
          24,
          19,
          32,
          24,
          22,
          32,
          27,
          14,
          13,
          22,
          14,
          15,
          18,
          20,
          25,
          32,
          11,
          11,
          7,
          2,
          19,
          11,
          4,
          8,
          27,
          7,
          4,
          7,
          4,
          10,
          7,
          12,
          27,
          13,
          18,
          17,
          10,
          10,
          11,
          4,
          10,
          12,
          15,
          15,
          15,
          19,
          18,
          9,
          11,
          43,
          41,
          19,
          11,
          5,
          8,
          27,
          7,
          4,
          7,
          13,
          42,
          23,
          34,
          48,
          14,
          23,
          7,
          33,
          16,
          12,
          26,
          14,
          27,
          13,
          23,
          8,
          15,
          5,
          6,
          3,
          23,
          11,
          11,
          7,
          7,
          16,
          20,
          13,
          19,
          32,
          24,
          27,
          13,
          22,
          20,
          22,
          12,
          32,
          8,
          16,
          11,
          15,
          9,
          7,
          9,
          11,
          4,
          7,
          7,
          9,
          12,
          47,
          47,
          7,
          15,
          2,
          13,
          18,
          4,
          10,
          15,
          14,
          13,
          15,
          10,
          2,
          5,
          5,
          2,
          7,
          10,
          19,
          16,
          14,
          15,
          7,
          3,
          13,
          13,
          5,
          15,
          10,
          2,
          5,
          5,
          33,
          32,
          8,
          12,
          48,
          24,
          16,
          13,
          30,
          5,
          39,
          37,
          7,
          15,
          11,
          13,
          10,
          3,
          4,
          15,
          14,
          8,
          15,
          7,
          5,
          5,
          17,
          4,
          12,
          3,
          5,
          5,
          10,
          14,
          13,
          12,
          10,
          18,
          12,
          13,
          9,
          18,
          4,
          14,
          13,
          15,
          12,
          10,
          9,
          15,
          7,
          9,
          19,
          48,
          48,
          10,
          12,
          3,
          5,
          5,
          10,
          14,
          15,
          9,
          14,
          4,
          4,
          7,
          7,
          10,
          24,
          13,
          7,
          12,
          14,
          4,
          4,
          7,
          7,
          10,
          23,
          41,
          24,
          31,
          13,
          26,
          20,
          26,
          32,
          26,
          48,
          51,
          16,
          9,
          14,
          4,
          5,
          7,
          14,
          10,
          6,
          12,
          2,
          10,
          42,
          10,
          4,
          5,
          14,
          10,
          2,
          28,
          20,
          36,
          13,
          26,
          23,
          16,
          19,
          13,
          10,
          12,
          3,
          10,
          42,
          21,
          6,
          2,
          19,
          27,
          10,
          11,
          14,
          4,
          4,
          7,
          21,
          10,
          5,
          18,
          13,
          10,
          4,
          12,
          13,
          7,
          13,
          15,
          20,
          18,
          5,
          16,
          9,
          7,
          12,
          45,
          47,
          14,
          6,
          2,
          19,
          27,
          10,
          11,
          14,
          4
         ],
         "xaxis": "x",
         "yaxis": "y"
        }
       ],
       "layout": {
        "autosize": true,
        "barmode": "relative",
        "legend": {
         "title": {
          "text": "Label"
         },
         "tracegroupgap": 0
        },
        "template": {
         "data": {
          "bar": [
           {
            "error_x": {
             "color": "#2a3f5f"
            },
            "error_y": {
             "color": "#2a3f5f"
            },
            "marker": {
             "line": {
              "color": "#E5ECF6",
              "width": 0.5
             },
             "pattern": {
              "fillmode": "overlay",
              "size": 10,
              "solidity": 0.2
             }
            },
            "type": "bar"
           }
          ],
          "barpolar": [
           {
            "marker": {
             "line": {
              "color": "#E5ECF6",
              "width": 0.5
             },
             "pattern": {
              "fillmode": "overlay",
              "size": 10,
              "solidity": 0.2
             }
            },
            "type": "barpolar"
           }
          ],
          "carpet": [
           {
            "aaxis": {
             "endlinecolor": "#2a3f5f",
             "gridcolor": "white",
             "linecolor": "white",
             "minorgridcolor": "white",
             "startlinecolor": "#2a3f5f"
            },
            "baxis": {
             "endlinecolor": "#2a3f5f",
             "gridcolor": "white",
             "linecolor": "white",
             "minorgridcolor": "white",
             "startlinecolor": "#2a3f5f"
            },
            "type": "carpet"
           }
          ],
          "choropleth": [
           {
            "colorbar": {
             "outlinewidth": 0,
             "ticks": ""
            },
            "type": "choropleth"
           }
          ],
          "contour": [
           {
            "colorbar": {
             "outlinewidth": 0,
             "ticks": ""
            },
            "colorscale": [
             [
              0,
              "#0d0887"
             ],
             [
              0.1111111111111111,
              "#46039f"
             ],
             [
              0.2222222222222222,
              "#7201a8"
             ],
             [
              0.3333333333333333,
              "#9c179e"
             ],
             [
              0.4444444444444444,
              "#bd3786"
             ],
             [
              0.5555555555555556,
              "#d8576b"
             ],
             [
              0.6666666666666666,
              "#ed7953"
             ],
             [
              0.7777777777777778,
              "#fb9f3a"
             ],
             [
              0.8888888888888888,
              "#fdca26"
             ],
             [
              1,
              "#f0f921"
             ]
            ],
            "type": "contour"
           }
          ],
          "contourcarpet": [
           {
            "colorbar": {
             "outlinewidth": 0,
             "ticks": ""
            },
            "type": "contourcarpet"
           }
          ],
          "heatmap": [
           {
            "colorbar": {
             "outlinewidth": 0,
             "ticks": ""
            },
            "colorscale": [
             [
              0,
              "#0d0887"
             ],
             [
              0.1111111111111111,
              "#46039f"
             ],
             [
              0.2222222222222222,
              "#7201a8"
             ],
             [
              0.3333333333333333,
              "#9c179e"
             ],
             [
              0.4444444444444444,
              "#bd3786"
             ],
             [
              0.5555555555555556,
              "#d8576b"
             ],
             [
              0.6666666666666666,
              "#ed7953"
             ],
             [
              0.7777777777777778,
              "#fb9f3a"
             ],
             [
              0.8888888888888888,
              "#fdca26"
             ],
             [
              1,
              "#f0f921"
             ]
            ],
            "type": "heatmap"
           }
          ],
          "heatmapgl": [
           {
            "colorbar": {
             "outlinewidth": 0,
             "ticks": ""
            },
            "colorscale": [
             [
              0,
              "#0d0887"
             ],
             [
              0.1111111111111111,
              "#46039f"
             ],
             [
              0.2222222222222222,
              "#7201a8"
             ],
             [
              0.3333333333333333,
              "#9c179e"
             ],
             [
              0.4444444444444444,
              "#bd3786"
             ],
             [
              0.5555555555555556,
              "#d8576b"
             ],
             [
              0.6666666666666666,
              "#ed7953"
             ],
             [
              0.7777777777777778,
              "#fb9f3a"
             ],
             [
              0.8888888888888888,
              "#fdca26"
             ],
             [
              1,
              "#f0f921"
             ]
            ],
            "type": "heatmapgl"
           }
          ],
          "histogram": [
           {
            "marker": {
             "pattern": {
              "fillmode": "overlay",
              "size": 10,
              "solidity": 0.2
             }
            },
            "type": "histogram"
           }
          ],
          "histogram2d": [
           {
            "colorbar": {
             "outlinewidth": 0,
             "ticks": ""
            },
            "colorscale": [
             [
              0,
              "#0d0887"
             ],
             [
              0.1111111111111111,
              "#46039f"
             ],
             [
              0.2222222222222222,
              "#7201a8"
             ],
             [
              0.3333333333333333,
              "#9c179e"
             ],
             [
              0.4444444444444444,
              "#bd3786"
             ],
             [
              0.5555555555555556,
              "#d8576b"
             ],
             [
              0.6666666666666666,
              "#ed7953"
             ],
             [
              0.7777777777777778,
              "#fb9f3a"
             ],
             [
              0.8888888888888888,
              "#fdca26"
             ],
             [
              1,
              "#f0f921"
             ]
            ],
            "type": "histogram2d"
           }
          ],
          "histogram2dcontour": [
           {
            "colorbar": {
             "outlinewidth": 0,
             "ticks": ""
            },
            "colorscale": [
             [
              0,
              "#0d0887"
             ],
             [
              0.1111111111111111,
              "#46039f"
             ],
             [
              0.2222222222222222,
              "#7201a8"
             ],
             [
              0.3333333333333333,
              "#9c179e"
             ],
             [
              0.4444444444444444,
              "#bd3786"
             ],
             [
              0.5555555555555556,
              "#d8576b"
             ],
             [
              0.6666666666666666,
              "#ed7953"
             ],
             [
              0.7777777777777778,
              "#fb9f3a"
             ],
             [
              0.8888888888888888,
              "#fdca26"
             ],
             [
              1,
              "#f0f921"
             ]
            ],
            "type": "histogram2dcontour"
           }
          ],
          "mesh3d": [
           {
            "colorbar": {
             "outlinewidth": 0,
             "ticks": ""
            },
            "type": "mesh3d"
           }
          ],
          "parcoords": [
           {
            "line": {
             "colorbar": {
              "outlinewidth": 0,
              "ticks": ""
             }
            },
            "type": "parcoords"
           }
          ],
          "pie": [
           {
            "automargin": true,
            "type": "pie"
           }
          ],
          "scatter": [
           {
            "fillpattern": {
             "fillmode": "overlay",
             "size": 10,
             "solidity": 0.2
            },
            "type": "scatter"
           }
          ],
          "scatter3d": [
           {
            "line": {
             "colorbar": {
              "outlinewidth": 0,
              "ticks": ""
             }
            },
            "marker": {
             "colorbar": {
              "outlinewidth": 0,
              "ticks": ""
             }
            },
            "type": "scatter3d"
           }
          ],
          "scattercarpet": [
           {
            "marker": {
             "colorbar": {
              "outlinewidth": 0,
              "ticks": ""
             }
            },
            "type": "scattercarpet"
           }
          ],
          "scattergeo": [
           {
            "marker": {
             "colorbar": {
              "outlinewidth": 0,
              "ticks": ""
             }
            },
            "type": "scattergeo"
           }
          ],
          "scattergl": [
           {
            "marker": {
             "colorbar": {
              "outlinewidth": 0,
              "ticks": ""
             }
            },
            "type": "scattergl"
           }
          ],
          "scattermapbox": [
           {
            "marker": {
             "colorbar": {
              "outlinewidth": 0,
              "ticks": ""
             }
            },
            "type": "scattermapbox"
           }
          ],
          "scatterpolar": [
           {
            "marker": {
             "colorbar": {
              "outlinewidth": 0,
              "ticks": ""
             }
            },
            "type": "scatterpolar"
           }
          ],
          "scatterpolargl": [
           {
            "marker": {
             "colorbar": {
              "outlinewidth": 0,
              "ticks": ""
             }
            },
            "type": "scatterpolargl"
           }
          ],
          "scatterternary": [
           {
            "marker": {
             "colorbar": {
              "outlinewidth": 0,
              "ticks": ""
             }
            },
            "type": "scatterternary"
           }
          ],
          "surface": [
           {
            "colorbar": {
             "outlinewidth": 0,
             "ticks": ""
            },
            "colorscale": [
             [
              0,
              "#0d0887"
             ],
             [
              0.1111111111111111,
              "#46039f"
             ],
             [
              0.2222222222222222,
              "#7201a8"
             ],
             [
              0.3333333333333333,
              "#9c179e"
             ],
             [
              0.4444444444444444,
              "#bd3786"
             ],
             [
              0.5555555555555556,
              "#d8576b"
             ],
             [
              0.6666666666666666,
              "#ed7953"
             ],
             [
              0.7777777777777778,
              "#fb9f3a"
             ],
             [
              0.8888888888888888,
              "#fdca26"
             ],
             [
              1,
              "#f0f921"
             ]
            ],
            "type": "surface"
           }
          ],
          "table": [
           {
            "cells": {
             "fill": {
              "color": "#EBF0F8"
             },
             "line": {
              "color": "white"
             }
            },
            "header": {
             "fill": {
              "color": "#C8D4E3"
             },
             "line": {
              "color": "white"
             }
            },
            "type": "table"
           }
          ]
         },
         "layout": {
          "annotationdefaults": {
           "arrowcolor": "#2a3f5f",
           "arrowhead": 0,
           "arrowwidth": 1
          },
          "autotypenumbers": "strict",
          "coloraxis": {
           "colorbar": {
            "outlinewidth": 0,
            "ticks": ""
           }
          },
          "colorscale": {
           "diverging": [
            [
             0,
             "#8e0152"
            ],
            [
             0.1,
             "#c51b7d"
            ],
            [
             0.2,
             "#de77ae"
            ],
            [
             0.3,
             "#f1b6da"
            ],
            [
             0.4,
             "#fde0ef"
            ],
            [
             0.5,
             "#f7f7f7"
            ],
            [
             0.6,
             "#e6f5d0"
            ],
            [
             0.7,
             "#b8e186"
            ],
            [
             0.8,
             "#7fbc41"
            ],
            [
             0.9,
             "#4d9221"
            ],
            [
             1,
             "#276419"
            ]
           ],
           "sequential": [
            [
             0,
             "#0d0887"
            ],
            [
             0.1111111111111111,
             "#46039f"
            ],
            [
             0.2222222222222222,
             "#7201a8"
            ],
            [
             0.3333333333333333,
             "#9c179e"
            ],
            [
             0.4444444444444444,
             "#bd3786"
            ],
            [
             0.5555555555555556,
             "#d8576b"
            ],
            [
             0.6666666666666666,
             "#ed7953"
            ],
            [
             0.7777777777777778,
             "#fb9f3a"
            ],
            [
             0.8888888888888888,
             "#fdca26"
            ],
            [
             1,
             "#f0f921"
            ]
           ],
           "sequentialminus": [
            [
             0,
             "#0d0887"
            ],
            [
             0.1111111111111111,
             "#46039f"
            ],
            [
             0.2222222222222222,
             "#7201a8"
            ],
            [
             0.3333333333333333,
             "#9c179e"
            ],
            [
             0.4444444444444444,
             "#bd3786"
            ],
            [
             0.5555555555555556,
             "#d8576b"
            ],
            [
             0.6666666666666666,
             "#ed7953"
            ],
            [
             0.7777777777777778,
             "#fb9f3a"
            ],
            [
             0.8888888888888888,
             "#fdca26"
            ],
            [
             1,
             "#f0f921"
            ]
           ]
          },
          "colorway": [
           "#636efa",
           "#EF553B",
           "#00cc96",
           "#ab63fa",
           "#FFA15A",
           "#19d3f3",
           "#FF6692",
           "#B6E880",
           "#FF97FF",
           "#FECB52"
          ],
          "font": {
           "color": "#2a3f5f"
          },
          "geo": {
           "bgcolor": "white",
           "lakecolor": "white",
           "landcolor": "#E5ECF6",
           "showlakes": true,
           "showland": true,
           "subunitcolor": "white"
          },
          "hoverlabel": {
           "align": "left"
          },
          "hovermode": "closest",
          "mapbox": {
           "style": "light"
          },
          "paper_bgcolor": "white",
          "plot_bgcolor": "#E5ECF6",
          "polar": {
           "angularaxis": {
            "gridcolor": "white",
            "linecolor": "white",
            "ticks": ""
           },
           "bgcolor": "#E5ECF6",
           "radialaxis": {
            "gridcolor": "white",
            "linecolor": "white",
            "ticks": ""
           }
          },
          "scene": {
           "xaxis": {
            "backgroundcolor": "#E5ECF6",
            "gridcolor": "white",
            "gridwidth": 2,
            "linecolor": "white",
            "showbackground": true,
            "ticks": "",
            "zerolinecolor": "white"
           },
           "yaxis": {
            "backgroundcolor": "#E5ECF6",
            "gridcolor": "white",
            "gridwidth": 2,
            "linecolor": "white",
            "showbackground": true,
            "ticks": "",
            "zerolinecolor": "white"
           },
           "zaxis": {
            "backgroundcolor": "#E5ECF6",
            "gridcolor": "white",
            "gridwidth": 2,
            "linecolor": "white",
            "showbackground": true,
            "ticks": "",
            "zerolinecolor": "white"
           }
          },
          "shapedefaults": {
           "line": {
            "color": "#2a3f5f"
           }
          },
          "ternary": {
           "aaxis": {
            "gridcolor": "white",
            "linecolor": "white",
            "ticks": ""
           },
           "baxis": {
            "gridcolor": "white",
            "linecolor": "white",
            "ticks": ""
           },
           "bgcolor": "#E5ECF6",
           "caxis": {
            "gridcolor": "white",
            "linecolor": "white",
            "ticks": ""
           }
          },
          "title": {
           "x": 0.05
          },
          "xaxis": {
           "automargin": true,
           "gridcolor": "white",
           "linecolor": "white",
           "ticks": "",
           "title": {
            "standoff": 15
           },
           "zerolinecolor": "white",
           "zerolinewidth": 2
          },
          "yaxis": {
           "automargin": true,
           "gridcolor": "white",
           "linecolor": "white",
           "ticks": "",
           "title": {
            "standoff": 15
           },
           "zerolinecolor": "white",
           "zerolinewidth": 2
          }
         }
        },
        "title": {
         "text": "Distribution of Comment Lengths"
        },
        "xaxis": {
         "anchor": "y",
         "autorange": true,
         "domain": [
          0,
          1
         ],
         "range": [
          -0.5,
          64.5
         ],
         "title": {
          "text": "commentLength"
         },
         "type": "linear"
        },
        "yaxis": {
         "anchor": "x",
         "autorange": true,
         "domain": [
          0,
          1
         ],
         "range": [
          0,
          668.421052631579
         ],
         "title": {
          "text": "count"
         }
        }
       }
      },
      "image/png": "[encoded data removed]",
      "text/html": [
       "<div>                            <div id=\"1a0aff4c-9c51-4a19-8161-0fc3dda4ba75\" class=\"plotly-graph-div\" style=\"height:525px; width:100%;\"></div>            <script type=\"text/javascript\">                require([\"plotly\"], function(Plotly) {                    window.PLOTLYENV=window.PLOTLYENV || {};                                    if (document.getElementById(\"1a0aff4c-9c51-4a19-8161-0fc3dda4ba75\")) {                    Plotly.newPlot(                        \"1a0aff4c-9c51-4a19-8161-0fc3dda4ba75\",                        [{\"alignmentgroup\":\"True\",\"bingroup\":\"x\",\"hovertemplate\":\"Label=1\\u003cbr\\u003ecommentLength=%{x}\\u003cbr\\u003ecount=%{y}\\u003cextra\\u003e\\u003c\\u002fextra\\u003e\",\"legendgroup\":\"1\",\"marker\":{\"color\":\"#636efa\",\"pattern\":{\"shape\":\"\"}},\"name\":\"1\",\"nbinsx\":30,\"offsetgroup\":\"1\",\"orientation\":\"v\",\"showlegend\":true,\"x\":[5,12,6,13,13,17,4,10,15,13,3,11,5,19,3,12,5,5,11,10,17,16,3,24,6,6,8,4,30,11,6,26,12,11,17,17,34,18,5,12,40,13,13,17,5,36,30,4,12,13,9,10,4,53,12,11,41,36,23,44,32,21,44,23,40,22,23,23,21,26,21,9,11,17,10,13,14,19,9,21,4,14,10,11,18,14,25,11,18,22,6,9,18,18,5,5,55,54,46,49,15,16,7,17,15,12,5,13,11,9,16,14,11,14,11,17,9,4,14,16,13,12,10,15,12,31,10,9,19,5,32,7,14,12,10,10,10,7,17,26,16,13,15,10,14,20,12,18,13,16,11,9,18,16,20,19,12,14,19,12,10,15,15,18,15,16,21,17,15,12,14,37,11,16,16,14,11,14,14,17,9,13,14,16,13,12,10,15,12,31,39,14,21,24,16,5,19,4,35,16,5,17,11,30,4,17,4,11,10,11,17,20,10,14,17,11,14,13,5,16,15,5,19,5,11,14,17,9,5,30,5,17,12,5,11,10,12,27,11,23,25,30,29,36,43,15,11,17,36,29,17,21,10,30,38,32,13,6,17,14,16,5,15,13,12,14,10,12,13,30,14,17,12,11,5,20,17,11,29,17,9,45,11,9,14,22,7,5,9,20,9,14,11,17,9,4,21,13,16,17,9,43,5,8,14,10,19,13,23,9,7,5,21,9,9,9,8,17,16,15,4,59,45,55,58,17,17,16,18,14,13,16,14,12,15,11,17,33,20,24,10,29,51,54,53,29,17,9,45,11,9,13,22,7,15,9,20,9,14,11,17,9,10,21,16,17,9,43,11,30,17,14,14,27,39,42,29,24,4,40,18,5,11,57,27,52,22,20,20,15,33,19,15,12,12,25,13,13,17,11,11,22,12,8,5,6,10,19,10,5,7,40,18,7,10,11,17,12,8,19,24,11,25,20,11,23,34,24,31,31,17,4,17,4,16,10,30,28,39,4,24,10,6,30,4,15,6,9,19,5,14,10,8,17,11,14,20,33,20,20,15,12,19,15,25,12,7,53,50,37,47,35,24,5,12,12,13,26,47,4,14,50,30,21,11,25,23,9,5,42,29,12,7,22,7,28,16,14,17,12,19,37,11,11,10,10,7,13,17,12,9,5,9,19,8,10,16,32,5,11,12,15,11,19,14,8,5,18,25,27,25,18,30,17,31,19,11,8,17,8,25,23,20,17,10,22,32,31,49,44,42,35,24,11,10,14,13,30,45,20,14,50,30,21,9,25,23,10,5,42,29,12,7,22,18,28,16,8,17,13,19,15,15,15,7,23,10,12,4,14,11,12,13,12,24,32,5,4,40,21,9,11,26,17,17,5,10,23,14,13,16,10,12,5,19,32,19,12,13,10,20,14,11,6,13,28,16,9,25,18,19,14,7,10,4,11,18,21,19,15,18,19,12,13,15,15,18,11,20,12,13,15,17,13,17,16,13,15,57,62,50,45,12,4,14,11,12,13,12,24,32,15,10,40,21,9,11,26,17,17,17,10,23,14,13,16,10,12,20,25,9,13,32,11,20,10,13,9,16,22,5,4,16,5,5,9,40,10,8,5,5,19,11,11,9,16,10,8,10,6,11,11,15,20,7,10,22,6,9,5,16,18,15,40,11,5,19,5,10,7,20,9,27,27,25,34,31,40,41,36,17,34,40,25,44,30,18,35,27,31,38,31,48,61,41,46,4,6,10,20,10,17,24,5,6,3,6,5,9,11,19,34,11,13,19,11,11,13,16,10,8,10,18,5,12,17,4,13,32,50,25,23,22,37,33,37,5,36,53,25,19,25,51,5,9,6,11,9,7,8,19,10,12,4,13,18,50,25,10,10,19,15,37,5,10,5,16,13,18,17,5,5,10,10,9,15,11,26,22,30,4,10,29,28,45,32,13,18,14,15,35,9,18,5,8,5,15,13,17,50,27,15,22,37,33,4,5,36,51,13,19,25,51,5,9,4,18,10,32,11,15,22,5,8,15,12,4,2,12,15,17,13,4,8,4,29,20,14,17,39,5,24,27,6,4,12,8,13,9,11,15,16,9,13,12,3,5,4,4,23,9,4,6,9,13,20,5,13,9,27,34,25,34,31,35,40,36,36,5,23,20,5,4,5,9,15,10,15,5,59,57,49,44,15,18,10,32,20,15,22,5,8,15,10,17,20,12,15,17,13,15,11,19,29,20,18,17,19],\"xaxis\":\"x\",\"yaxis\":\"y\",\"type\":\"histogram\"},{\"alignmentgroup\":\"True\",\"bingroup\":\"x\",\"hovertemplate\":\"Label=-1\\u003cbr\\u003ecommentLength=%{x}\\u003cbr\\u003ecount=%{y}\\u003cextra\\u003e\\u003c\\u002fextra\\u003e\",\"legendgroup\":\"-1\",\"marker\":{\"color\":\"#EF553B\",\"pattern\":{\"shape\":\"\"}},\"name\":\"-1\",\"nbinsx\":30,\"offsetgroup\":\"-1\",\"orientation\":\"v\",\"showlegend\":true,\"x\":[12,11,6,29,4,9,12,13,3,17,5,18,24,14,11,11,14,11,21,14,8,11,36,8,31,17,22,27,27,12,16,34,8,27,17,25,20,20,38,18,31,24,36,41,28,32,22,40,24,34,24,26,32,13,21,37,28,25,38,32,25,13,25,21,19,21,15,3,12,15,8,5,5,10,17,20,24,3,18,12,13,8,11,12,42,38,36,43,16,12,5,13,9,5,7,7,12,17,5,13,6,23,4,12,13,5,5,5,20,15,10,5,10,16,13,10,8,15,13,6,19,13,10,8,10,14,9,15,13,15,5,8,15,9,17,15,25,12,16,10,4,14,15,12,23,23,17,16,12,5,13,18,5,16,6,12,17,20,13,6,23,4,29,13,5,5,6,20,15,29,24,30,7,29,12,5,20,30,15,7,19,10,12,13,20,18,4,14,3,13,24,9,13,10,22,11,5,29,6,4,15,13,26,5,7,11,7,9,5,13,10,15,28,13,10,12,10,10,24,3,13,5,14,10,25,27,16,21,27,25,26,32,19,23,27,20,19,37,23,29,29,21,25,40,12,4,16,11,11,15,18,7,11,10,6,8,7,6,17,20,5,14,14,5,13,24,29,5,11,22,10,13,9,8,12,5,10,5,4,4,12,14,9,18,12,7,10,13,5,5,19,6,29,13,5,3,12,21,6,6,20,11,3,9,11,9,3,18,21,4,3,19,18,15,9,4,15,15,14,17,10,15,11,17,21,9,6,12,18,13,11,14,18,13,15,7,37,34,27,52,8,24,23,10,5,4,14,12,14,9,18,12,28,10,4,5,5,19,6,29,4,5,47,22,38,19,24,45,15,22,27,5,18,22,15,13,22,14,25,28,9,12,16,28,10,11,23,16,14,14,4,6,3,14,11,22,5,7,6,15,10,7,13,8,32,24,13,3,15,9,25,26,32,19,27,20,19,37,21,25,40,24,4,9,16,9,23,9,14,3,14,7,23,22,5,15,13,10,14,15,3,4,14,35,31,47,45,45,12,34,15,22,29,5,30,31,37,28,41,45,24,21,12,9,4,18,11,3,11,4,11,5,20,30,6,6,9,11,16,13,33,9,14,5,23,19,15,27,27,27,15,29,15,37,17,10,18,10,16,34,30,44,42,45,15,34,11,22,22,21,30,17,34,28,41,45,24,6,27,24,13,21,31,7,27,22,20,31,14,28,3,22,4,21,16,16,10,22,15,21,9,6,11,6,21,11,12,14,10,13,26,26,29,23,13,17,9,8,10,14,16,10,5,22,7,14,18,17,21,12,11,16,16,14,5,10,19,13,11,14,36,45,53,58,6,27,24,13,21,31,7,27,22,20,31,14,28,3,22,4,21,16,16,10,22,15,8,12,5,5,4,4,12,9,9,7,17,13,13,15,5,10,29,8,4,12,5,10,19,21,4,9,11,13,8,12,5,4,8,5,4,13,16,15,9,14,9,28,19,10,12,10,11,9,29,21,14,27,25,32,19,16,27,20,12,25,11,4,14,10,9,13,27,14,42,39,32,57,8,11,16,9,4,4,12,9,16,26,17,13,3,10,5,10,29,21,22,3,18,22,23,17,24,14,33,41,29,5,27,31,39,31,15,41,23,19,14,21,25,13,12,8,13,10,10,8,16,23,19,11,20,12,17,26,8,13,12,8,19,15,10,11,15,11,14,14,10,9,14,16,25,13,12,24,17,17,27,12,18,22,4,32,20,19,21,13,40,22,21,18,15,19,28,18,22,23,17,24,14,33,41,29,5,27,31,39,31,21,41,23,19,14,21,25,13,12,12,13,10,10,18,22,21,4,5,22,5,24,14,3,20,47,12,29,22,17,21,10,13,9,5,8,11,25,12,17,21,22,10,10,15,10,21,4,5,22,5,16,14,3,11,13,4,29,21,18,31,12,4,11,12,14,22,13,16,9,19,31,8,16,4,24,10,3,7,19,15,37,47,52,63,22,21,4,19,22,10,12,14,24,20,47,18,7,22,17,21,10,13,9,5,8,11,25,12,17,21],\"xaxis\":\"x\",\"yaxis\":\"y\",\"type\":\"histogram\"},{\"alignmentgroup\":\"True\",\"bingroup\":\"x\",\"hovertemplate\":\"Label=0\\u003cbr\\u003ecommentLength=%{x}\\u003cbr\\u003ecount=%{y}\\u003cextra\\u003e\\u003c\\u002fextra\\u003e\",\"legendgroup\":\"0\",\"marker\":{\"color\":\"#00cc96\",\"pattern\":{\"shape\":\"\"}},\"name\":\"0\",\"nbinsx\":30,\"offsetgroup\":\"0\",\"orientation\":\"v\",\"showlegend\":true,\"x\":[30,8,2,4,15,18,12,11,11,13,52,36,2,23,4,4,20,3,25,18,20,13,13,21,29,34,26,15,28,26,41,32,17,16,17,16,18,11,18,11,33,44,4,13,23,12,18,3,10,13,20,18,13,24,19,6,18,6,16,21,7,15,16,15,4,13,16,16,11,8,14,8,9,12,4,13,23,12,18,3,10,25,35,20,25,32,10,11,7,2,9,23,20,14,34,4,7,10,2,24,19,32,24,22,32,27,14,13,22,14,15,18,20,25,32,11,11,7,2,19,11,4,8,27,7,4,7,4,10,7,12,27,13,18,17,10,10,11,4,10,12,15,15,15,19,18,9,11,43,41,19,11,5,8,27,7,4,7,13,42,23,34,48,14,23,7,33,16,12,26,14,27,13,23,8,15,5,6,3,23,11,11,7,7,16,20,13,19,32,24,27,13,22,20,22,12,32,8,16,11,15,9,7,9,11,4,7,7,9,12,47,47,7,15,2,13,18,4,10,15,14,13,15,10,2,5,5,2,7,10,19,16,14,15,7,3,13,13,5,15,10,2,5,5,33,32,8,12,48,24,16,13,30,5,39,37,7,15,11,13,10,3,4,15,14,8,15,7,5,5,17,4,12,3,5,5,10,14,13,12,10,18,12,13,9,18,4,14,13,15,12,10,9,15,7,9,19,48,48,10,12,3,5,5,10,14,15,9,14,4,4,7,7,10,24,13,7,12,14,4,4,7,7,10,23,41,24,31,13,26,20,26,32,26,48,51,16,9,14,4,5,7,14,10,6,12,2,10,42,10,4,5,14,10,2,28,20,36,13,26,23,16,19,13,10,12,3,10,42,21,6,2,19,27,10,11,14,4,4,7,21,10,5,18,13,10,4,12,13,7,13,15,20,18,5,16,9,7,12,45,47,14,6,2,19,27,10,11,14,4],\"xaxis\":\"x\",\"yaxis\":\"y\",\"type\":\"histogram\"}],                        {\"template\":{\"data\":{\"histogram2dcontour\":[{\"type\":\"histogram2dcontour\",\"colorbar\":{\"outlinewidth\":0,\"ticks\":\"\"},\"colorscale\":[[0.0,\"#0d0887\"],[0.1111111111111111,\"#46039f\"],[0.2222222222222222,\"#7201a8\"],[0.3333333333333333,\"#9c179e\"],[0.4444444444444444,\"#bd3786\"],[0.5555555555555556,\"#d8576b\"],[0.6666666666666666,\"#ed7953\"],[0.7777777777777778,\"#fb9f3a\"],[0.8888888888888888,\"#fdca26\"],[1.0,\"#f0f921\"]]}],\"choropleth\":[{\"type\":\"choropleth\",\"colorbar\":{\"outlinewidth\":0,\"ticks\":\"\"}}],\"histogram2d\":[{\"type\":\"histogram2d\",\"colorbar\":{\"outlinewidth\":0,\"ticks\":\"\"},\"colorscale\":[[0.0,\"#0d0887\"],[0.1111111111111111,\"#46039f\"],[0.2222222222222222,\"#7201a8\"],[0.3333333333333333,\"#9c179e\"],[0.4444444444444444,\"#bd3786\"],[0.5555555555555556,\"#d8576b\"],[0.6666666666666666,\"#ed7953\"],[0.7777777777777778,\"#fb9f3a\"],[0.8888888888888888,\"#fdca26\"],[1.0,\"#f0f921\"]]}],\"heatmap\":[{\"type\":\"heatmap\",\"colorbar\":{\"outlinewidth\":0,\"ticks\":\"\"},\"colorscale\":[[0.0,\"#0d0887\"],[0.1111111111111111,\"#46039f\"],[0.2222222222222222,\"#7201a8\"],[0.3333333333333333,\"#9c179e\"],[0.4444444444444444,\"#bd3786\"],[0.5555555555555556,\"#d8576b\"],[0.6666666666666666,\"#ed7953\"],[0.7777777777777778,\"#fb9f3a\"],[0.8888888888888888,\"#fdca26\"],[1.0,\"#f0f921\"]]}],\"heatmapgl\":[{\"type\":\"heatmapgl\",\"colorbar\":{\"outlinewidth\":0,\"ticks\":\"\"},\"colorscale\":[[0.0,\"#0d0887\"],[0.1111111111111111,\"#46039f\"],[0.2222222222222222,\"#7201a8\"],[0.3333333333333333,\"#9c179e\"],[0.4444444444444444,\"#bd3786\"],[0.5555555555555556,\"#d8576b\"],[0.6666666666666666,\"#ed7953\"],[0.7777777777777778,\"#fb9f3a\"],[0.8888888888888888,\"#fdca26\"],[1.0,\"#f0f921\"]]}],\"contourcarpet\":[{\"type\":\"contourcarpet\",\"colorbar\":{\"outlinewidth\":0,\"ticks\":\"\"}}],\"contour\":[{\"type\":\"contour\",\"colorbar\":{\"outlinewidth\":0,\"ticks\":\"\"},\"colorscale\":[[0.0,\"#0d0887\"],[0.1111111111111111,\"#46039f\"],[0.2222222222222222,\"#7201a8\"],[0.3333333333333333,\"#9c179e\"],[0.4444444444444444,\"#bd3786\"],[0.5555555555555556,\"#d8576b\"],[0.6666666666666666,\"#ed7953\"],[0.7777777777777778,\"#fb9f3a\"],[0.8888888888888888,\"#fdca26\"],[1.0,\"#f0f921\"]]}],\"surface\":[{\"type\":\"surface\",\"colorbar\":{\"outlinewidth\":0,\"ticks\":\"\"},\"colorscale\":[[0.0,\"#0d0887\"],[0.1111111111111111,\"#46039f\"],[0.2222222222222222,\"#7201a8\"],[0.3333333333333333,\"#9c179e\"],[0.4444444444444444,\"#bd3786\"],[0.5555555555555556,\"#d8576b\"],[0.6666666666666666,\"#ed7953\"],[0.7777777777777778,\"#fb9f3a\"],[0.8888888888888888,\"#fdca26\"],[1.0,\"#f0f921\"]]}],\"mesh3d\":[{\"type\":\"mesh3d\",\"colorbar\":{\"outlinewidth\":0,\"ticks\":\"\"}}],\"scatter\":[{\"fillpattern\":{\"fillmode\":\"overlay\",\"size\":10,\"solidity\":0.2},\"type\":\"scatter\"}],\"parcoords\":[{\"type\":\"parcoords\",\"line\":{\"colorbar\":{\"outlinewidth\":0,\"ticks\":\"\"}}}],\"scatterpolargl\":[{\"type\":\"scatterpolargl\",\"marker\":{\"colorbar\":{\"outlinewidth\":0,\"ticks\":\"\"}}}],\"bar\":[{\"error_x\":{\"color\":\"#2a3f5f\"},\"error_y\":{\"color\":\"#2a3f5f\"},\"marker\":{\"line\":{\"color\":\"#E5ECF6\",\"width\":0.5},\"pattern\":{\"fillmode\":\"overlay\",\"size\":10,\"solidity\":0.2}},\"type\":\"bar\"}],\"scattergeo\":[{\"type\":\"scattergeo\",\"marker\":{\"colorbar\":{\"outlinewidth\":0,\"ticks\":\"\"}}}],\"scatterpolar\":[{\"type\":\"scatterpolar\",\"marker\":{\"colorbar\":{\"outlinewidth\":0,\"ticks\":\"\"}}}],\"histogram\":[{\"marker\":{\"pattern\":{\"fillmode\":\"overlay\",\"size\":10,\"solidity\":0.2}},\"type\":\"histogram\"}],\"scattergl\":[{\"type\":\"scattergl\",\"marker\":{\"colorbar\":{\"outlinewidth\":0,\"ticks\":\"\"}}}],\"scatter3d\":[{\"type\":\"scatter3d\",\"line\":{\"colorbar\":{\"outlinewidth\":0,\"ticks\":\"\"}},\"marker\":{\"colorbar\":{\"outlinewidth\":0,\"ticks\":\"\"}}}],\"scattermapbox\":[{\"type\":\"scattermapbox\",\"marker\":{\"colorbar\":{\"outlinewidth\":0,\"ticks\":\"\"}}}],\"scatterternary\":[{\"type\":\"scatterternary\",\"marker\":{\"colorbar\":{\"outlinewidth\":0,\"ticks\":\"\"}}}],\"scattercarpet\":[{\"type\":\"scattercarpet\",\"marker\":{\"colorbar\":{\"outlinewidth\":0,\"ticks\":\"\"}}}],\"carpet\":[{\"aaxis\":{\"endlinecolor\":\"#2a3f5f\",\"gridcolor\":\"white\",\"linecolor\":\"white\",\"minorgridcolor\":\"white\",\"startlinecolor\":\"#2a3f5f\"},\"baxis\":{\"endlinecolor\":\"#2a3f5f\",\"gridcolor\":\"white\",\"linecolor\":\"white\",\"minorgridcolor\":\"white\",\"startlinecolor\":\"#2a3f5f\"},\"type\":\"carpet\"}],\"table\":[{\"cells\":{\"fill\":{\"color\":\"#EBF0F8\"},\"line\":{\"color\":\"white\"}},\"header\":{\"fill\":{\"color\":\"#C8D4E3\"},\"line\":{\"color\":\"white\"}},\"type\":\"table\"}],\"barpolar\":[{\"marker\":{\"line\":{\"color\":\"#E5ECF6\",\"width\":0.5},\"pattern\":{\"fillmode\":\"overlay\",\"size\":10,\"solidity\":0.2}},\"type\":\"barpolar\"}],\"pie\":[{\"automargin\":true,\"type\":\"pie\"}]},\"layout\":{\"autotypenumbers\":\"strict\",\"colorway\":[\"#636efa\",\"#EF553B\",\"#00cc96\",\"#ab63fa\",\"#FFA15A\",\"#19d3f3\",\"#FF6692\",\"#B6E880\",\"#FF97FF\",\"#FECB52\"],\"font\":{\"color\":\"#2a3f5f\"},\"hovermode\":\"closest\",\"hoverlabel\":{\"align\":\"left\"},\"paper_bgcolor\":\"white\",\"plot_bgcolor\":\"#E5ECF6\",\"polar\":{\"bgcolor\":\"#E5ECF6\",\"angularaxis\":{\"gridcolor\":\"white\",\"linecolor\":\"white\",\"ticks\":\"\"},\"radialaxis\":{\"gridcolor\":\"white\",\"linecolor\":\"white\",\"ticks\":\"\"}},\"ternary\":{\"bgcolor\":\"#E5ECF6\",\"aaxis\":{\"gridcolor\":\"white\",\"linecolor\":\"white\",\"ticks\":\"\"},\"baxis\":{\"gridcolor\":\"white\",\"linecolor\":\"white\",\"ticks\":\"\"},\"caxis\":{\"gridcolor\":\"white\",\"linecolor\":\"white\",\"ticks\":\"\"}},\"coloraxis\":{\"colorbar\":{\"outlinewidth\":0,\"ticks\":\"\"}},\"colorscale\":{\"sequential\":[[0.0,\"#0d0887\"],[0.1111111111111111,\"#46039f\"],[0.2222222222222222,\"#7201a8\"],[0.3333333333333333,\"#9c179e\"],[0.4444444444444444,\"#bd3786\"],[0.5555555555555556,\"#d8576b\"],[0.6666666666666666,\"#ed7953\"],[0.7777777777777778,\"#fb9f3a\"],[0.8888888888888888,\"#fdca26\"],[1.0,\"#f0f921\"]],\"sequentialminus\":[[0.0,\"#0d0887\"],[0.1111111111111111,\"#46039f\"],[0.2222222222222222,\"#7201a8\"],[0.3333333333333333,\"#9c179e\"],[0.4444444444444444,\"#bd3786\"],[0.5555555555555556,\"#d8576b\"],[0.6666666666666666,\"#ed7953\"],[0.7777777777777778,\"#fb9f3a\"],[0.8888888888888888,\"#fdca26\"],[1.0,\"#f0f921\"]],\"diverging\":[[0,\"#8e0152\"],[0.1,\"#c51b7d\"],[0.2,\"#de77ae\"],[0.3,\"#f1b6da\"],[0.4,\"#fde0ef\"],[0.5,\"#f7f7f7\"],[0.6,\"#e6f5d0\"],[0.7,\"#b8e186\"],[0.8,\"#7fbc41\"],[0.9,\"#4d9221\"],[1,\"#276419\"]]},\"xaxis\":{\"gridcolor\":\"white\",\"linecolor\":\"white\",\"ticks\":\"\",\"title\":{\"standoff\":15},\"zerolinecolor\":\"white\",\"automargin\":true,\"zerolinewidth\":2},\"yaxis\":{\"gridcolor\":\"white\",\"linecolor\":\"white\",\"ticks\":\"\",\"title\":{\"standoff\":15},\"zerolinecolor\":\"white\",\"automargin\":true,\"zerolinewidth\":2},\"scene\":{\"xaxis\":{\"backgroundcolor\":\"#E5ECF6\",\"gridcolor\":\"white\",\"linecolor\":\"white\",\"showbackground\":true,\"ticks\":\"\",\"zerolinecolor\":\"white\",\"gridwidth\":2},\"yaxis\":{\"backgroundcolor\":\"#E5ECF6\",\"gridcolor\":\"white\",\"linecolor\":\"white\",\"showbackground\":true,\"ticks\":\"\",\"zerolinecolor\":\"white\",\"gridwidth\":2},\"zaxis\":{\"backgroundcolor\":\"#E5ECF6\",\"gridcolor\":\"white\",\"linecolor\":\"white\",\"showbackground\":true,\"ticks\":\"\",\"zerolinecolor\":\"white\",\"gridwidth\":2}},\"shapedefaults\":{\"line\":{\"color\":\"#2a3f5f\"}},\"annotationdefaults\":{\"arrowcolor\":\"#2a3f5f\",\"arrowhead\":0,\"arrowwidth\":1},\"geo\":{\"bgcolor\":\"white\",\"landcolor\":\"#E5ECF6\",\"subunitcolor\":\"white\",\"showland\":true,\"showlakes\":true,\"lakecolor\":\"white\"},\"title\":{\"x\":0.05},\"mapbox\":{\"style\":\"light\"}}},\"xaxis\":{\"anchor\":\"y\",\"domain\":[0.0,1.0],\"title\":{\"text\":\"commentLength\"}},\"yaxis\":{\"anchor\":\"x\",\"domain\":[0.0,1.0],\"title\":{\"text\":\"count\"}},\"legend\":{\"title\":{\"text\":\"Label\"},\"tracegroupgap\":0},\"title\":{\"text\":\"Distribution of Comment Lengths\"},\"barmode\":\"relative\"},                        {\"responsive\": true}                    ).then(function(){\n",
       "                            \n",
       "var gd = document.getElementById('1a0aff4c-9c51-4a19-8161-0fc3dda4ba75');\n",
       "var x = new MutationObserver(function (mutations, observer) {{\n",
       "        var display = window.getComputedStyle(gd).display;\n",
       "        if (!display || display === 'none') {{\n",
       "            console.log([gd, 'removed!']);\n",
       "            Plotly.purge(gd);\n",
       "            observer.disconnect();\n",
       "        }}\n",
       "}});\n",
       "\n",
       "// Listen for the removal of the full notebook cells\n",
       "var notebookContainer = gd.closest('#notebook-container');\n",
       "if (notebookContainer) {{\n",
       "    x.observe(notebookContainer, {childList: true});\n",
       "}}\n",
       "\n",
       "// Listen for the clearing of the current output cell\n",
       "var outputEl = gd.closest('.output');\n",
       "if (outputEl) {{\n",
       "    x.observe(outputEl, {childList: true});\n",
       "}}\n",
       "\n",
       "                        })                };                });            </script>        </div>"
      ]
     },
     "metadata": {},
     "output_type": "display_data"
    },
    {
     "data": {
      "application/vnd.plotly.v1+json": {
       "config": {
        "plotlyServerURL": "https://plot.ly"
       },
       "data": [
        {
         "alignmentgroup": "True",
         "bingroup": "x",
         "hovertemplate": "Label=1<br>Word Count=%{x}<br>count=%{y}<extra></extra>",
         "legendgroup": "1",
         "marker": {
          "color": "#636efa",
          "pattern": {
           "shape": ""
          }
         },
         "name": "1",
         "nbinsx": 30,
         "offsetgroup": "1",
         "orientation": "v",
         "showlegend": true,
         "type": "histogram",
         "x": [
          1,
          2,
          1,
          2,
          2,
          4,
          1,
          2,
          2,
          2,
          1,
          2,
          1,
          4,
          1,
          3,
          1,
          1,
          2,
          1,
          3,
          2,
          1,
          5,
          1,
          1,
          2,
          1,
          5,
          2,
          1,
          5,
          2,
          3,
          3,
          3,
          7,
          3,
          1,
          2,
          8,
          4,
          2,
          3,
          1,
          6,
          4,
          1,
          3,
          2,
          1,
          2,
          1,
          8,
          2,
          2,
          6,
          6,
          5,
          8,
          5,
          5,
          7,
          5,
          8,
          5,
          4,
          5,
          5,
          5,
          3,
          1,
          2,
          2,
          2,
          2,
          2,
          3,
          1,
          3,
          1,
          2,
          1,
          2,
          4,
          4,
          2,
          2,
          3,
          4,
          1,
          2,
          2,
          2,
          1,
          1,
          11,
          9,
          9,
          8,
          3,
          2,
          1,
          2,
          2,
          2,
          1,
          2,
          2,
          1,
          2,
          2,
          2,
          2,
          2,
          3,
          1,
          1,
          3,
          2,
          2,
          2,
          1,
          3,
          2,
          6,
          2,
          2,
          3,
          1,
          8,
          1,
          2,
          2,
          3,
          2,
          1,
          3,
          3,
          5,
          3,
          2,
          4,
          2,
          2,
          2,
          2,
          3,
          2,
          2,
          2,
          2,
          2,
          2,
          2,
          2,
          2,
          2,
          2,
          2,
          2,
          2,
          2,
          2,
          3,
          2,
          5,
          2,
          2,
          2,
          3,
          5,
          2,
          3,
          2,
          2,
          2,
          2,
          3,
          3,
          1,
          3,
          3,
          2,
          2,
          2,
          1,
          3,
          2,
          6,
          7,
          3,
          4,
          3,
          3,
          1,
          3,
          1,
          6,
          3,
          1,
          3,
          2,
          5,
          1,
          3,
          1,
          2,
          2,
          2,
          2,
          3,
          2,
          3,
          3,
          2,
          2,
          2,
          1,
          2,
          3,
          1,
          3,
          1,
          2,
          4,
          3,
          1,
          1,
          5,
          1,
          3,
          2,
          1,
          2,
          2,
          1,
          6,
          2,
          4,
          5,
          5,
          5,
          7,
          7,
          2,
          2,
          3,
          7,
          5,
          5,
          4,
          2,
          5,
          7,
          5,
          2,
          2,
          3,
          2,
          3,
          1,
          2,
          2,
          2,
          2,
          2,
          1,
          2,
          5,
          4,
          3,
          2,
          2,
          1,
          3,
          2,
          2,
          4,
          3,
          2,
          6,
          3,
          2,
          3,
          3,
          1,
          1,
          2,
          3,
          1,
          2,
          2,
          3,
          1,
          1,
          5,
          2,
          4,
          2,
          1,
          5,
          1,
          1,
          2,
          1,
          2,
          2,
          4,
          2,
          1,
          1,
          3,
          1,
          1,
          1,
          1,
          3,
          2,
          2,
          1,
          10,
          9,
          10,
          9,
          2,
          2,
          2,
          2,
          2,
          2,
          2,
          2,
          2,
          2,
          2,
          3,
          6,
          3,
          4,
          2,
          5,
          10,
          9,
          9,
          4,
          3,
          2,
          6,
          3,
          2,
          3,
          3,
          1,
          2,
          2,
          3,
          1,
          2,
          2,
          3,
          1,
          2,
          5,
          4,
          2,
          1,
          5,
          2,
          4,
          3,
          3,
          3,
          5,
          7,
          9,
          5,
          3,
          1,
          7,
          3,
          1,
          2,
          7,
          3,
          10,
          3,
          4,
          4,
          4,
          6,
          3,
          3,
          2,
          2,
          5,
          2,
          2,
          3,
          2,
          2,
          3,
          2,
          1,
          1,
          1,
          2,
          3,
          2,
          1,
          1,
          7,
          3,
          1,
          2,
          1,
          3,
          2,
          1,
          4,
          4,
          2,
          5,
          2,
          3,
          4,
          6,
          4,
          6,
          6,
          4,
          1,
          3,
          1,
          3,
          2,
          4,
          3,
          6,
          1,
          3,
          1,
          1,
          5,
          1,
          3,
          1,
          1,
          3,
          2,
          3,
          2,
          1,
          3,
          2,
          2,
          2,
          6,
          4,
          4,
          4,
          2,
          3,
          3,
          5,
          2,
          1,
          8,
          10,
          8,
          9,
          7,
          4,
          1,
          2,
          2,
          3,
          5,
          7,
          1,
          3,
          10,
          4,
          3,
          2,
          5,
          5,
          1,
          1,
          8,
          7,
          2,
          1,
          4,
          2,
          5,
          3,
          2,
          3,
          3,
          3,
          7,
          2,
          2,
          2,
          2,
          1,
          2,
          3,
          2,
          2,
          1,
          3,
          3,
          2,
          2,
          4,
          6,
          1,
          2,
          2,
          3,
          2,
          3,
          4,
          1,
          1,
          3,
          4,
          4,
          4,
          3,
          5,
          3,
          4,
          4,
          2,
          1,
          3,
          2,
          4,
          4,
          3,
          3,
          2,
          4,
          5,
          5,
          9,
          9,
          7,
          7,
          4,
          2,
          2,
          2,
          3,
          5,
          6,
          3,
          3,
          10,
          4,
          3,
          2,
          5,
          5,
          2,
          1,
          8,
          7,
          2,
          1,
          4,
          3,
          5,
          3,
          1,
          3,
          2,
          3,
          2,
          2,
          4,
          1,
          4,
          1,
          2,
          1,
          3,
          2,
          2,
          3,
          2,
          3,
          7,
          1,
          1,
          8,
          3,
          1,
          2,
          5,
          2,
          2,
          1,
          2,
          5,
          2,
          3,
          3,
          1,
          2,
          1,
          3,
          6,
          3,
          2,
          2,
          2,
          3,
          3,
          2,
          1,
          2,
          4,
          3,
          2,
          3,
          2,
          2,
          4,
          3,
          2,
          1,
          2,
          2,
          3,
          2,
          2,
          2,
          2,
          2,
          2,
          2,
          2,
          2,
          2,
          2,
          2,
          2,
          2,
          2,
          2,
          2,
          2,
          2,
          2,
          8,
          11,
          10,
          8,
          2,
          1,
          3,
          2,
          2,
          3,
          2,
          3,
          7,
          3,
          1,
          8,
          3,
          1,
          2,
          5,
          2,
          2,
          3,
          2,
          5,
          2,
          3,
          3,
          1,
          2,
          3,
          3,
          1,
          2,
          5,
          2,
          3,
          2,
          2,
          1,
          2,
          4,
          1,
          1,
          2,
          1,
          1,
          1,
          6,
          2,
          2,
          1,
          1,
          3,
          2,
          2,
          1,
          2,
          2,
          1,
          2,
          1,
          2,
          2,
          2,
          2,
          1,
          2,
          4,
          1,
          1,
          1,
          3,
          2,
          2,
          6,
          2,
          1,
          2,
          1,
          2,
          1,
          3,
          1,
          6,
          4,
          5,
          6,
          6,
          7,
          7,
          7,
          5,
          6,
          6,
          6,
          8,
          5,
          5,
          6,
          5,
          6,
          7,
          6,
          7,
          11,
          6,
          7,
          1,
          1,
          2,
          2,
          2,
          2,
          4,
          1,
          1,
          1,
          1,
          1,
          1,
          2,
          2,
          5,
          2,
          1,
          3,
          2,
          2,
          3,
          2,
          2,
          1,
          2,
          3,
          2,
          2,
          3,
          1,
          2,
          4,
          8,
          5,
          3,
          3,
          6,
          7,
          5,
          1,
          6,
          7,
          5,
          3,
          4,
          9,
          1,
          2,
          2,
          2,
          1,
          2,
          1,
          3,
          3,
          2,
          1,
          2,
          3,
          8,
          5,
          2,
          1,
          3,
          3,
          7,
          1,
          1,
          1,
          2,
          2,
          3,
          2,
          1,
          1,
          2,
          2,
          1,
          3,
          1,
          4,
          3,
          4,
          1,
          2,
          5,
          4,
          8,
          8,
          3,
          4,
          3,
          2,
          6,
          2,
          3,
          2,
          3,
          1,
          2,
          2,
          3,
          8,
          4,
          3,
          3,
          6,
          7,
          1,
          1,
          6,
          6,
          2,
          3,
          4,
          9,
          1,
          2,
          1,
          3,
          2,
          5,
          2,
          2,
          4,
          1,
          2,
          3,
          2,
          1,
          1,
          2,
          2,
          4,
          3,
          1,
          2,
          1,
          4,
          3,
          3,
          3,
          7,
          1,
          4,
          5,
          1,
          1,
          1,
          3,
          2,
          1,
          2,
          3,
          3,
          2,
          2,
          2,
          1,
          1,
          1,
          1,
          4,
          2,
          1,
          1,
          2,
          2,
          3,
          1,
          2,
          2,
          6,
          5,
          5,
          6,
          6,
          7,
          7,
          7,
          6,
          1,
          3,
          2,
          1,
          1,
          1,
          1,
          2,
          2,
          2,
          1,
          8,
          11,
          10,
          8,
          2,
          3,
          2,
          5,
          4,
          2,
          4,
          1,
          2,
          3,
          2,
          4,
          4,
          2,
          2,
          4,
          3,
          3,
          2,
          3,
          4,
          3,
          3,
          3,
          4
         ],
         "xaxis": "x",
         "yaxis": "y"
        },
        {
         "alignmentgroup": "True",
         "bingroup": "x",
         "hovertemplate": "Label=-1<br>Word Count=%{x}<br>count=%{y}<extra></extra>",
         "legendgroup": "-1",
         "marker": {
          "color": "#EF553B",
          "pattern": {
           "shape": ""
          }
         },
         "name": "-1",
         "nbinsx": 30,
         "offsetgroup": "-1",
         "orientation": "v",
         "showlegend": true,
         "type": "histogram",
         "x": [
          2,
          2,
          1,
          5,
          1,
          1,
          2,
          2,
          1,
          2,
          1,
          2,
          2,
          3,
          2,
          2,
          3,
          2,
          4,
          2,
          2,
          2,
          5,
          2,
          4,
          3,
          5,
          7,
          4,
          2,
          4,
          5,
          2,
          5,
          3,
          5,
          4,
          5,
          6,
          3,
          6,
          6,
          5,
          6,
          5,
          5,
          4,
          6,
          7,
          6,
          6,
          5,
          7,
          2,
          3,
          6,
          5,
          5,
          6,
          6,
          3,
          3,
          4,
          3,
          3,
          5,
          3,
          1,
          2,
          2,
          1,
          1,
          1,
          2,
          3,
          3,
          4,
          1,
          3,
          2,
          3,
          2,
          2,
          2,
          7,
          7,
          8,
          8,
          2,
          1,
          1,
          2,
          1,
          1,
          1,
          1,
          2,
          3,
          2,
          2,
          1,
          3,
          1,
          1,
          2,
          1,
          1,
          2,
          2,
          2,
          2,
          1,
          2,
          2,
          2,
          2,
          2,
          2,
          3,
          2,
          3,
          3,
          2,
          2,
          1,
          3,
          2,
          2,
          2,
          2,
          1,
          2,
          2,
          2,
          3,
          2,
          3,
          2,
          3,
          2,
          1,
          2,
          3,
          2,
          3,
          3,
          2,
          2,
          2,
          1,
          2,
          2,
          1,
          3,
          1,
          2,
          3,
          3,
          2,
          1,
          3,
          1,
          5,
          2,
          1,
          1,
          1,
          2,
          2,
          6,
          4,
          4,
          1,
          5,
          2,
          1,
          4,
          6,
          3,
          1,
          3,
          2,
          2,
          2,
          4,
          4,
          1,
          2,
          1,
          3,
          5,
          1,
          2,
          2,
          4,
          2,
          1,
          5,
          1,
          1,
          3,
          3,
          5,
          1,
          2,
          2,
          1,
          1,
          1,
          2,
          2,
          3,
          6,
          2,
          2,
          2,
          2,
          1,
          3,
          1,
          2,
          1,
          2,
          2,
          6,
          4,
          3,
          5,
          7,
          5,
          4,
          7,
          5,
          5,
          5,
          4,
          4,
          6,
          5,
          7,
          6,
          5,
          4,
          6,
          2,
          1,
          2,
          2,
          2,
          2,
          3,
          1,
          2,
          2,
          1,
          1,
          2,
          1,
          3,
          4,
          1,
          2,
          2,
          1,
          3,
          5,
          5,
          1,
          2,
          4,
          2,
          2,
          1,
          1,
          1,
          1,
          2,
          1,
          1,
          1,
          2,
          2,
          1,
          2,
          2,
          1,
          3,
          1,
          1,
          1,
          4,
          1,
          4,
          2,
          1,
          1,
          2,
          5,
          1,
          1,
          3,
          2,
          1,
          1,
          2,
          1,
          1,
          2,
          3,
          1,
          1,
          4,
          3,
          2,
          2,
          1,
          2,
          2,
          2,
          2,
          2,
          2,
          2,
          2,
          2,
          2,
          1,
          2,
          2,
          2,
          2,
          2,
          2,
          2,
          2,
          1,
          7,
          6,
          6,
          10,
          1,
          3,
          4,
          2,
          1,
          1,
          3,
          2,
          2,
          1,
          2,
          2,
          5,
          3,
          1,
          1,
          1,
          4,
          1,
          4,
          1,
          1,
          8,
          5,
          7,
          5,
          4,
          8,
          3,
          5,
          5,
          1,
          3,
          3,
          3,
          2,
          4,
          3,
          4,
          4,
          2,
          2,
          2,
          6,
          2,
          2,
          3,
          2,
          3,
          2,
          1,
          1,
          1,
          2,
          2,
          3,
          1,
          1,
          1,
          2,
          3,
          1,
          2,
          2,
          7,
          5,
          3,
          1,
          2,
          2,
          5,
          4,
          7,
          5,
          5,
          4,
          4,
          6,
          5,
          4,
          6,
          7,
          1,
          2,
          3,
          2,
          3,
          2,
          2,
          1,
          3,
          1,
          3,
          3,
          1,
          2,
          2,
          3,
          2,
          2,
          1,
          1,
          3,
          5,
          6,
          7,
          8,
          7,
          2,
          5,
          2,
          4,
          4,
          1,
          4,
          6,
          7,
          5,
          7,
          10,
          4,
          3,
          2,
          2,
          1,
          3,
          3,
          1,
          2,
          1,
          4,
          1,
          4,
          4,
          1,
          1,
          2,
          2,
          2,
          2,
          5,
          2,
          3,
          1,
          5,
          3,
          2,
          6,
          5,
          4,
          3,
          6,
          2,
          6,
          4,
          2,
          3,
          2,
          3,
          7,
          5,
          9,
          8,
          7,
          3,
          5,
          2,
          4,
          2,
          4,
          4,
          3,
          7,
          5,
          7,
          10,
          4,
          1,
          5,
          4,
          2,
          3,
          6,
          1,
          6,
          4,
          3,
          5,
          2,
          4,
          1,
          3,
          1,
          4,
          3,
          3,
          2,
          3,
          4,
          4,
          2,
          1,
          1,
          1,
          4,
          2,
          3,
          2,
          2,
          2,
          6,
          4,
          6,
          4,
          3,
          3,
          2,
          2,
          2,
          4,
          2,
          2,
          1,
          2,
          1,
          2,
          3,
          2,
          3,
          2,
          2,
          3,
          2,
          2,
          1,
          2,
          3,
          2,
          2,
          2,
          5,
          8,
          8,
          10,
          1,
          5,
          4,
          2,
          3,
          6,
          1,
          6,
          4,
          3,
          5,
          2,
          4,
          1,
          3,
          1,
          4,
          3,
          3,
          2,
          3,
          4,
          1,
          1,
          1,
          1,
          1,
          1,
          2,
          2,
          1,
          1,
          2,
          2,
          1,
          2,
          1,
          2,
          4,
          1,
          1,
          1,
          1,
          2,
          4,
          4,
          1,
          2,
          2,
          4,
          1,
          1,
          1,
          1,
          1,
          1,
          1,
          2,
          2,
          3,
          1,
          2,
          2,
          6,
          4,
          2,
          2,
          2,
          2,
          1,
          5,
          5,
          2,
          7,
          5,
          7,
          5,
          2,
          5,
          4,
          2,
          4,
          2,
          1,
          3,
          2,
          1,
          1,
          4,
          2,
          7,
          6,
          6,
          10,
          1,
          1,
          3,
          1,
          1,
          1,
          2,
          2,
          2,
          5,
          2,
          2,
          1,
          2,
          1,
          2,
          4,
          3,
          4,
          1,
          3,
          2,
          4,
          3,
          3,
          3,
          4,
          7,
          5,
          2,
          3,
          5,
          7,
          5,
          2,
          9,
          4,
          4,
          3,
          3,
          4,
          3,
          2,
          1,
          2,
          2,
          1,
          1,
          3,
          5,
          2,
          3,
          3,
          1,
          4,
          5,
          1,
          3,
          3,
          1,
          5,
          2,
          2,
          2,
          2,
          2,
          3,
          3,
          2,
          2,
          3,
          3,
          4,
          3,
          2,
          5,
          3,
          2,
          5,
          2,
          4,
          4,
          1,
          5,
          3,
          3,
          4,
          2,
          7,
          4,
          3,
          4,
          2,
          2,
          5,
          3,
          2,
          4,
          3,
          3,
          3,
          4,
          7,
          5,
          2,
          3,
          5,
          7,
          5,
          3,
          9,
          4,
          4,
          3,
          3,
          4,
          3,
          2,
          2,
          2,
          2,
          1,
          3,
          4,
          4,
          1,
          1,
          4,
          1,
          4,
          2,
          1,
          3,
          9,
          2,
          4,
          3,
          3,
          3,
          2,
          2,
          2,
          1,
          2,
          2,
          4,
          2,
          3,
          2,
          4,
          2,
          2,
          3,
          2,
          4,
          1,
          1,
          4,
          1,
          2,
          3,
          1,
          2,
          2,
          1,
          4,
          4,
          2,
          4,
          2,
          1,
          2,
          2,
          2,
          4,
          1,
          4,
          2,
          2,
          4,
          1,
          3,
          1,
          4,
          2,
          1,
          1,
          4,
          2,
          6,
          9,
          8,
          12,
          4,
          4,
          1,
          4,
          4,
          2,
          2,
          2,
          3,
          3,
          9,
          4,
          1,
          3,
          3,
          3,
          2,
          2,
          2,
          1,
          2,
          2,
          4,
          2,
          3,
          2
         ],
         "xaxis": "x",
         "yaxis": "y"
        },
        {
         "alignmentgroup": "True",
         "bingroup": "x",
         "hovertemplate": "Label=0<br>Word Count=%{x}<br>count=%{y}<extra></extra>",
         "legendgroup": "0",
         "marker": {
          "color": "#00cc96",
          "pattern": {
           "shape": ""
          }
         },
         "name": "0",
         "nbinsx": 30,
         "offsetgroup": "0",
         "orientation": "v",
         "showlegend": true,
         "type": "histogram",
         "x": [
          5,
          2,
          1,
          1,
          2,
          4,
          2,
          2,
          2,
          1,
          6,
          6,
          1,
          5,
          1,
          1,
          4,
          1,
          5,
          5,
          4,
          2,
          4,
          4,
          5,
          6,
          4,
          3,
          3,
          5,
          5,
          6,
          2,
          3,
          2,
          3,
          4,
          1,
          2,
          2,
          7,
          9,
          1,
          2,
          3,
          2,
          2,
          1,
          2,
          2,
          3,
          4,
          3,
          4,
          4,
          2,
          2,
          1,
          3,
          3,
          2,
          2,
          4,
          2,
          1,
          2,
          2,
          2,
          2,
          2,
          2,
          1,
          2,
          2,
          1,
          2,
          3,
          2,
          2,
          1,
          2,
          5,
          5,
          3,
          5,
          6,
          2,
          1,
          1,
          1,
          2,
          3,
          3,
          2,
          6,
          1,
          1,
          3,
          1,
          7,
          5,
          7,
          5,
          4,
          6,
          5,
          4,
          3,
          5,
          3,
          3,
          2,
          3,
          5,
          6,
          2,
          1,
          1,
          1,
          4,
          2,
          1,
          1,
          4,
          1,
          1,
          1,
          1,
          3,
          1,
          2,
          5,
          2,
          4,
          3,
          1,
          2,
          2,
          1,
          2,
          2,
          2,
          2,
          2,
          2,
          2,
          1,
          2,
          9,
          9,
          4,
          2,
          1,
          1,
          4,
          1,
          1,
          1,
          2,
          7,
          7,
          7,
          9,
          4,
          5,
          1,
          6,
          3,
          2,
          5,
          3,
          5,
          2,
          5,
          2,
          2,
          1,
          2,
          1,
          5,
          2,
          3,
          1,
          2,
          3,
          5,
          2,
          5,
          7,
          5,
          5,
          3,
          5,
          5,
          4,
          3,
          6,
          2,
          2,
          2,
          2,
          1,
          2,
          1,
          2,
          1,
          2,
          1,
          1,
          2,
          9,
          10,
          1,
          3,
          1,
          2,
          4,
          1,
          2,
          2,
          3,
          2,
          3,
          2,
          1,
          1,
          1,
          1,
          1,
          2,
          3,
          4,
          2,
          2,
          2,
          1,
          2,
          2,
          1,
          3,
          2,
          1,
          1,
          1,
          4,
          6,
          2,
          3,
          7,
          4,
          4,
          2,
          5,
          1,
          8,
          7,
          1,
          3,
          2,
          2,
          3,
          1,
          1,
          2,
          3,
          1,
          3,
          1,
          1,
          1,
          2,
          1,
          1,
          1,
          1,
          1,
          3,
          3,
          2,
          2,
          3,
          3,
          3,
          2,
          3,
          3,
          1,
          2,
          2,
          2,
          2,
          2,
          2,
          2,
          2,
          2,
          2,
          9,
          10,
          2,
          1,
          1,
          1,
          1,
          3,
          3,
          2,
          1,
          3,
          1,
          1,
          1,
          1,
          1,
          5,
          2,
          1,
          2,
          3,
          1,
          1,
          1,
          1,
          1,
          5,
          8,
          5,
          5,
          3,
          5,
          5,
          4,
          6,
          6,
          9,
          10,
          2,
          1,
          3,
          1,
          1,
          1,
          3,
          1,
          1,
          3,
          1,
          2,
          6,
          2,
          1,
          1,
          3,
          1,
          1,
          5,
          3,
          5,
          3,
          4,
          4,
          3,
          3,
          3,
          2,
          3,
          1,
          2,
          6,
          4,
          2,
          1,
          4,
          5,
          2,
          2,
          3,
          1,
          1,
          1,
          4,
          1,
          1,
          4,
          2,
          2,
          1,
          3,
          2,
          1,
          2,
          2,
          3,
          2,
          1,
          2,
          2,
          1,
          2,
          8,
          10,
          3,
          1,
          1,
          4,
          5,
          2,
          2,
          3,
          1
         ],
         "xaxis": "x",
         "yaxis": "y"
        }
       ],
       "layout": {
        "autosize": true,
        "barmode": "relative",
        "legend": {
         "title": {
          "text": "Label"
         },
         "tracegroupgap": 0
        },
        "template": {
         "data": {
          "bar": [
           {
            "error_x": {
             "color": "#2a3f5f"
            },
            "error_y": {
             "color": "#2a3f5f"
            },
            "marker": {
             "line": {
              "color": "#E5ECF6",
              "width": 0.5
             },
             "pattern": {
              "fillmode": "overlay",
              "size": 10,
              "solidity": 0.2
             }
            },
            "type": "bar"
           }
          ],
          "barpolar": [
           {
            "marker": {
             "line": {
              "color": "#E5ECF6",
              "width": 0.5
             },
             "pattern": {
              "fillmode": "overlay",
              "size": 10,
              "solidity": 0.2
             }
            },
            "type": "barpolar"
           }
          ],
          "carpet": [
           {
            "aaxis": {
             "endlinecolor": "#2a3f5f",
             "gridcolor": "white",
             "linecolor": "white",
             "minorgridcolor": "white",
             "startlinecolor": "#2a3f5f"
            },
            "baxis": {
             "endlinecolor": "#2a3f5f",
             "gridcolor": "white",
             "linecolor": "white",
             "minorgridcolor": "white",
             "startlinecolor": "#2a3f5f"
            },
            "type": "carpet"
           }
          ],
          "choropleth": [
           {
            "colorbar": {
             "outlinewidth": 0,
             "ticks": ""
            },
            "type": "choropleth"
           }
          ],
          "contour": [
           {
            "colorbar": {
             "outlinewidth": 0,
             "ticks": ""
            },
            "colorscale": [
             [
              0,
              "#0d0887"
             ],
             [
              0.1111111111111111,
              "#46039f"
             ],
             [
              0.2222222222222222,
              "#7201a8"
             ],
             [
              0.3333333333333333,
              "#9c179e"
             ],
             [
              0.4444444444444444,
              "#bd3786"
             ],
             [
              0.5555555555555556,
              "#d8576b"
             ],
             [
              0.6666666666666666,
              "#ed7953"
             ],
             [
              0.7777777777777778,
              "#fb9f3a"
             ],
             [
              0.8888888888888888,
              "#fdca26"
             ],
             [
              1,
              "#f0f921"
             ]
            ],
            "type": "contour"
           }
          ],
          "contourcarpet": [
           {
            "colorbar": {
             "outlinewidth": 0,
             "ticks": ""
            },
            "type": "contourcarpet"
           }
          ],
          "heatmap": [
           {
            "colorbar": {
             "outlinewidth": 0,
             "ticks": ""
            },
            "colorscale": [
             [
              0,
              "#0d0887"
             ],
             [
              0.1111111111111111,
              "#46039f"
             ],
             [
              0.2222222222222222,
              "#7201a8"
             ],
             [
              0.3333333333333333,
              "#9c179e"
             ],
             [
              0.4444444444444444,
              "#bd3786"
             ],
             [
              0.5555555555555556,
              "#d8576b"
             ],
             [
              0.6666666666666666,
              "#ed7953"
             ],
             [
              0.7777777777777778,
              "#fb9f3a"
             ],
             [
              0.8888888888888888,
              "#fdca26"
             ],
             [
              1,
              "#f0f921"
             ]
            ],
            "type": "heatmap"
           }
          ],
          "heatmapgl": [
           {
            "colorbar": {
             "outlinewidth": 0,
             "ticks": ""
            },
            "colorscale": [
             [
              0,
              "#0d0887"
             ],
             [
              0.1111111111111111,
              "#46039f"
             ],
             [
              0.2222222222222222,
              "#7201a8"
             ],
             [
              0.3333333333333333,
              "#9c179e"
             ],
             [
              0.4444444444444444,
              "#bd3786"
             ],
             [
              0.5555555555555556,
              "#d8576b"
             ],
             [
              0.6666666666666666,
              "#ed7953"
             ],
             [
              0.7777777777777778,
              "#fb9f3a"
             ],
             [
              0.8888888888888888,
              "#fdca26"
             ],
             [
              1,
              "#f0f921"
             ]
            ],
            "type": "heatmapgl"
           }
          ],
          "histogram": [
           {
            "marker": {
             "pattern": {
              "fillmode": "overlay",
              "size": 10,
              "solidity": 0.2
             }
            },
            "type": "histogram"
           }
          ],
          "histogram2d": [
           {
            "colorbar": {
             "outlinewidth": 0,
             "ticks": ""
            },
            "colorscale": [
             [
              0,
              "#0d0887"
             ],
             [
              0.1111111111111111,
              "#46039f"
             ],
             [
              0.2222222222222222,
              "#7201a8"
             ],
             [
              0.3333333333333333,
              "#9c179e"
             ],
             [
              0.4444444444444444,
              "#bd3786"
             ],
             [
              0.5555555555555556,
              "#d8576b"
             ],
             [
              0.6666666666666666,
              "#ed7953"
             ],
             [
              0.7777777777777778,
              "#fb9f3a"
             ],
             [
              0.8888888888888888,
              "#fdca26"
             ],
             [
              1,
              "#f0f921"
             ]
            ],
            "type": "histogram2d"
           }
          ],
          "histogram2dcontour": [
           {
            "colorbar": {
             "outlinewidth": 0,
             "ticks": ""
            },
            "colorscale": [
             [
              0,
              "#0d0887"
             ],
             [
              0.1111111111111111,
              "#46039f"
             ],
             [
              0.2222222222222222,
              "#7201a8"
             ],
             [
              0.3333333333333333,
              "#9c179e"
             ],
             [
              0.4444444444444444,
              "#bd3786"
             ],
             [
              0.5555555555555556,
              "#d8576b"
             ],
             [
              0.6666666666666666,
              "#ed7953"
             ],
             [
              0.7777777777777778,
              "#fb9f3a"
             ],
             [
              0.8888888888888888,
              "#fdca26"
             ],
             [
              1,
              "#f0f921"
             ]
            ],
            "type": "histogram2dcontour"
           }
          ],
          "mesh3d": [
           {
            "colorbar": {
             "outlinewidth": 0,
             "ticks": ""
            },
            "type": "mesh3d"
           }
          ],
          "parcoords": [
           {
            "line": {
             "colorbar": {
              "outlinewidth": 0,
              "ticks": ""
             }
            },
            "type": "parcoords"
           }
          ],
          "pie": [
           {
            "automargin": true,
            "type": "pie"
           }
          ],
          "scatter": [
           {
            "fillpattern": {
             "fillmode": "overlay",
             "size": 10,
             "solidity": 0.2
            },
            "type": "scatter"
           }
          ],
          "scatter3d": [
           {
            "line": {
             "colorbar": {
              "outlinewidth": 0,
              "ticks": ""
             }
            },
            "marker": {
             "colorbar": {
              "outlinewidth": 0,
              "ticks": ""
             }
            },
            "type": "scatter3d"
           }
          ],
          "scattercarpet": [
           {
            "marker": {
             "colorbar": {
              "outlinewidth": 0,
              "ticks": ""
             }
            },
            "type": "scattercarpet"
           }
          ],
          "scattergeo": [
           {
            "marker": {
             "colorbar": {
              "outlinewidth": 0,
              "ticks": ""
             }
            },
            "type": "scattergeo"
           }
          ],
          "scattergl": [
           {
            "marker": {
             "colorbar": {
              "outlinewidth": 0,
              "ticks": ""
             }
            },
            "type": "scattergl"
           }
          ],
          "scattermapbox": [
           {
            "marker": {
             "colorbar": {
              "outlinewidth": 0,
              "ticks": ""
             }
            },
            "type": "scattermapbox"
           }
          ],
          "scatterpolar": [
           {
            "marker": {
             "colorbar": {
              "outlinewidth": 0,
              "ticks": ""
             }
            },
            "type": "scatterpolar"
           }
          ],
          "scatterpolargl": [
           {
            "marker": {
             "colorbar": {
              "outlinewidth": 0,
              "ticks": ""
             }
            },
            "type": "scatterpolargl"
           }
          ],
          "scatterternary": [
           {
            "marker": {
             "colorbar": {
              "outlinewidth": 0,
              "ticks": ""
             }
            },
            "type": "scatterternary"
           }
          ],
          "surface": [
           {
            "colorbar": {
             "outlinewidth": 0,
             "ticks": ""
            },
            "colorscale": [
             [
              0,
              "#0d0887"
             ],
             [
              0.1111111111111111,
              "#46039f"
             ],
             [
              0.2222222222222222,
              "#7201a8"
             ],
             [
              0.3333333333333333,
              "#9c179e"
             ],
             [
              0.4444444444444444,
              "#bd3786"
             ],
             [
              0.5555555555555556,
              "#d8576b"
             ],
             [
              0.6666666666666666,
              "#ed7953"
             ],
             [
              0.7777777777777778,
              "#fb9f3a"
             ],
             [
              0.8888888888888888,
              "#fdca26"
             ],
             [
              1,
              "#f0f921"
             ]
            ],
            "type": "surface"
           }
          ],
          "table": [
           {
            "cells": {
             "fill": {
              "color": "#EBF0F8"
             },
             "line": {
              "color": "white"
             }
            },
            "header": {
             "fill": {
              "color": "#C8D4E3"
             },
             "line": {
              "color": "white"
             }
            },
            "type": "table"
           }
          ]
         },
         "layout": {
          "annotationdefaults": {
           "arrowcolor": "#2a3f5f",
           "arrowhead": 0,
           "arrowwidth": 1
          },
          "autotypenumbers": "strict",
          "coloraxis": {
           "colorbar": {
            "outlinewidth": 0,
            "ticks": ""
           }
          },
          "colorscale": {
           "diverging": [
            [
             0,
             "#8e0152"
            ],
            [
             0.1,
             "#c51b7d"
            ],
            [
             0.2,
             "#de77ae"
            ],
            [
             0.3,
             "#f1b6da"
            ],
            [
             0.4,
             "#fde0ef"
            ],
            [
             0.5,
             "#f7f7f7"
            ],
            [
             0.6,
             "#e6f5d0"
            ],
            [
             0.7,
             "#b8e186"
            ],
            [
             0.8,
             "#7fbc41"
            ],
            [
             0.9,
             "#4d9221"
            ],
            [
             1,
             "#276419"
            ]
           ],
           "sequential": [
            [
             0,
             "#0d0887"
            ],
            [
             0.1111111111111111,
             "#46039f"
            ],
            [
             0.2222222222222222,
             "#7201a8"
            ],
            [
             0.3333333333333333,
             "#9c179e"
            ],
            [
             0.4444444444444444,
             "#bd3786"
            ],
            [
             0.5555555555555556,
             "#d8576b"
            ],
            [
             0.6666666666666666,
             "#ed7953"
            ],
            [
             0.7777777777777778,
             "#fb9f3a"
            ],
            [
             0.8888888888888888,
             "#fdca26"
            ],
            [
             1,
             "#f0f921"
            ]
           ],
           "sequentialminus": [
            [
             0,
             "#0d0887"
            ],
            [
             0.1111111111111111,
             "#46039f"
            ],
            [
             0.2222222222222222,
             "#7201a8"
            ],
            [
             0.3333333333333333,
             "#9c179e"
            ],
            [
             0.4444444444444444,
             "#bd3786"
            ],
            [
             0.5555555555555556,
             "#d8576b"
            ],
            [
             0.6666666666666666,
             "#ed7953"
            ],
            [
             0.7777777777777778,
             "#fb9f3a"
            ],
            [
             0.8888888888888888,
             "#fdca26"
            ],
            [
             1,
             "#f0f921"
            ]
           ]
          },
          "colorway": [
           "#636efa",
           "#EF553B",
           "#00cc96",
           "#ab63fa",
           "#FFA15A",
           "#19d3f3",
           "#FF6692",
           "#B6E880",
           "#FF97FF",
           "#FECB52"
          ],
          "font": {
           "color": "#2a3f5f"
          },
          "geo": {
           "bgcolor": "white",
           "lakecolor": "white",
           "landcolor": "#E5ECF6",
           "showlakes": true,
           "showland": true,
           "subunitcolor": "white"
          },
          "hoverlabel": {
           "align": "left"
          },
          "hovermode": "closest",
          "mapbox": {
           "style": "light"
          },
          "paper_bgcolor": "white",
          "plot_bgcolor": "#E5ECF6",
          "polar": {
           "angularaxis": {
            "gridcolor": "white",
            "linecolor": "white",
            "ticks": ""
           },
           "bgcolor": "#E5ECF6",
           "radialaxis": {
            "gridcolor": "white",
            "linecolor": "white",
            "ticks": ""
           }
          },
          "scene": {
           "xaxis": {
            "backgroundcolor": "#E5ECF6",
            "gridcolor": "white",
            "gridwidth": 2,
            "linecolor": "white",
            "showbackground": true,
            "ticks": "",
            "zerolinecolor": "white"
           },
           "yaxis": {
            "backgroundcolor": "#E5ECF6",
            "gridcolor": "white",
            "gridwidth": 2,
            "linecolor": "white",
            "showbackground": true,
            "ticks": "",
            "zerolinecolor": "white"
           },
           "zaxis": {
            "backgroundcolor": "#E5ECF6",
            "gridcolor": "white",
            "gridwidth": 2,
            "linecolor": "white",
            "showbackground": true,
            "ticks": "",
            "zerolinecolor": "white"
           }
          },
          "shapedefaults": {
           "line": {
            "color": "#2a3f5f"
           }
          },
          "ternary": {
           "aaxis": {
            "gridcolor": "white",
            "linecolor": "white",
            "ticks": ""
           },
           "baxis": {
            "gridcolor": "white",
            "linecolor": "white",
            "ticks": ""
           },
           "bgcolor": "#E5ECF6",
           "caxis": {
            "gridcolor": "white",
            "linecolor": "white",
            "ticks": ""
           }
          },
          "title": {
           "x": 0.05
          },
          "xaxis": {
           "automargin": true,
           "gridcolor": "white",
           "linecolor": "white",
           "ticks": "",
           "title": {
            "standoff": 15
           },
           "zerolinecolor": "white",
           "zerolinewidth": 2
          },
          "yaxis": {
           "automargin": true,
           "gridcolor": "white",
           "linecolor": "white",
           "ticks": "",
           "title": {
            "standoff": 15
           },
           "zerolinecolor": "white",
           "zerolinewidth": 2
          }
         }
        },
        "title": {
         "text": "Distribution of Word Counts"
        },
        "xaxis": {
         "anchor": "y",
         "autorange": true,
         "domain": [
          0,
          1
         ],
         "range": [
          0.75,
          12.25
         ],
         "title": {
          "text": "Word Count"
         },
         "type": "linear"
        },
        "yaxis": {
         "anchor": "x",
         "autorange": true,
         "domain": [
          0,
          1
         ],
         "range": [
          0,
          789.4736842105264
         ],
         "title": {
          "text": "count"
         }
        }
       }
      },
      "image/png": "[encoded data removed]",
      "text/html": [
       "<div>                            <div id=\"2abbc455-f6a6-417d-9703-73fcb9a9c825\" class=\"plotly-graph-div\" style=\"height:525px; width:100%;\"></div>            <script type=\"text/javascript\">                require([\"plotly\"], function(Plotly) {                    window.PLOTLYENV=window.PLOTLYENV || {};                                    if (document.getElementById(\"2abbc455-f6a6-417d-9703-73fcb9a9c825\")) {                    Plotly.newPlot(                        \"2abbc455-f6a6-417d-9703-73fcb9a9c825\",                        [{\"alignmentgroup\":\"True\",\"bingroup\":\"x\",\"hovertemplate\":\"Label=1\\u003cbr\\u003eWord Count=%{x}\\u003cbr\\u003ecount=%{y}\\u003cextra\\u003e\\u003c\\u002fextra\\u003e\",\"legendgroup\":\"1\",\"marker\":{\"color\":\"#636efa\",\"pattern\":{\"shape\":\"\"}},\"name\":\"1\",\"nbinsx\":30,\"offsetgroup\":\"1\",\"orientation\":\"v\",\"showlegend\":true,\"x\":[1,2,1,2,2,4,1,2,2,2,1,2,1,4,1,3,1,1,2,1,3,2,1,5,1,1,2,1,5,2,1,5,2,3,3,3,7,3,1,2,8,4,2,3,1,6,4,1,3,2,1,2,1,8,2,2,6,6,5,8,5,5,7,5,8,5,4,5,5,5,3,1,2,2,2,2,2,3,1,3,1,2,1,2,4,4,2,2,3,4,1,2,2,2,1,1,11,9,9,8,3,2,1,2,2,2,1,2,2,1,2,2,2,2,2,3,1,1,3,2,2,2,1,3,2,6,2,2,3,1,8,1,2,2,3,2,1,3,3,5,3,2,4,2,2,2,2,3,2,2,2,2,2,2,2,2,2,2,2,2,2,2,2,2,3,2,5,2,2,2,3,5,2,3,2,2,2,2,3,3,1,3,3,2,2,2,1,3,2,6,7,3,4,3,3,1,3,1,6,3,1,3,2,5,1,3,1,2,2,2,2,3,2,3,3,2,2,2,1,2,3,1,3,1,2,4,3,1,1,5,1,3,2,1,2,2,1,6,2,4,5,5,5,7,7,2,2,3,7,5,5,4,2,5,7,5,2,2,3,2,3,1,2,2,2,2,2,1,2,5,4,3,2,2,1,3,2,2,4,3,2,6,3,2,3,3,1,1,2,3,1,2,2,3,1,1,5,2,4,2,1,5,1,1,2,1,2,2,4,2,1,1,3,1,1,1,1,3,2,2,1,10,9,10,9,2,2,2,2,2,2,2,2,2,2,2,3,6,3,4,2,5,10,9,9,4,3,2,6,3,2,3,3,1,2,2,3,1,2,2,3,1,2,5,4,2,1,5,2,4,3,3,3,5,7,9,5,3,1,7,3,1,2,7,3,10,3,4,4,4,6,3,3,2,2,5,2,2,3,2,2,3,2,1,1,1,2,3,2,1,1,7,3,1,2,1,3,2,1,4,4,2,5,2,3,4,6,4,6,6,4,1,3,1,3,2,4,3,6,1,3,1,1,5,1,3,1,1,3,2,3,2,1,3,2,2,2,6,4,4,4,2,3,3,5,2,1,8,10,8,9,7,4,1,2,2,3,5,7,1,3,10,4,3,2,5,5,1,1,8,7,2,1,4,2,5,3,2,3,3,3,7,2,2,2,2,1,2,3,2,2,1,3,3,2,2,4,6,1,2,2,3,2,3,4,1,1,3,4,4,4,3,5,3,4,4,2,1,3,2,4,4,3,3,2,4,5,5,9,9,7,7,4,2,2,2,3,5,6,3,3,10,4,3,2,5,5,2,1,8,7,2,1,4,3,5,3,1,3,2,3,2,2,4,1,4,1,2,1,3,2,2,3,2,3,7,1,1,8,3,1,2,5,2,2,1,2,5,2,3,3,1,2,1,3,6,3,2,2,2,3,3,2,1,2,4,3,2,3,2,2,4,3,2,1,2,2,3,2,2,2,2,2,2,2,2,2,2,2,2,2,2,2,2,2,2,2,2,8,11,10,8,2,1,3,2,2,3,2,3,7,3,1,8,3,1,2,5,2,2,3,2,5,2,3,3,1,2,3,3,1,2,5,2,3,2,2,1,2,4,1,1,2,1,1,1,6,2,2,1,1,3,2,2,1,2,2,1,2,1,2,2,2,2,1,2,4,1,1,1,3,2,2,6,2,1,2,1,2,1,3,1,6,4,5,6,6,7,7,7,5,6,6,6,8,5,5,6,5,6,7,6,7,11,6,7,1,1,2,2,2,2,4,1,1,1,1,1,1,2,2,5,2,1,3,2,2,3,2,2,1,2,3,2,2,3,1,2,4,8,5,3,3,6,7,5,1,6,7,5,3,4,9,1,2,2,2,1,2,1,3,3,2,1,2,3,8,5,2,1,3,3,7,1,1,1,2,2,3,2,1,1,2,2,1,3,1,4,3,4,1,2,5,4,8,8,3,4,3,2,6,2,3,2,3,1,2,2,3,8,4,3,3,6,7,1,1,6,6,2,3,4,9,1,2,1,3,2,5,2,2,4,1,2,3,2,1,1,2,2,4,3,1,2,1,4,3,3,3,7,1,4,5,1,1,1,3,2,1,2,3,3,2,2,2,1,1,1,1,4,2,1,1,2,2,3,1,2,2,6,5,5,6,6,7,7,7,6,1,3,2,1,1,1,1,2,2,2,1,8,11,10,8,2,3,2,5,4,2,4,1,2,3,2,4,4,2,2,4,3,3,2,3,4,3,3,3,4],\"xaxis\":\"x\",\"yaxis\":\"y\",\"type\":\"histogram\"},{\"alignmentgroup\":\"True\",\"bingroup\":\"x\",\"hovertemplate\":\"Label=-1\\u003cbr\\u003eWord Count=%{x}\\u003cbr\\u003ecount=%{y}\\u003cextra\\u003e\\u003c\\u002fextra\\u003e\",\"legendgroup\":\"-1\",\"marker\":{\"color\":\"#EF553B\",\"pattern\":{\"shape\":\"\"}},\"name\":\"-1\",\"nbinsx\":30,\"offsetgroup\":\"-1\",\"orientation\":\"v\",\"showlegend\":true,\"x\":[2,2,1,5,1,1,2,2,1,2,1,2,2,3,2,2,3,2,4,2,2,2,5,2,4,3,5,7,4,2,4,5,2,5,3,5,4,5,6,3,6,6,5,6,5,5,4,6,7,6,6,5,7,2,3,6,5,5,6,6,3,3,4,3,3,5,3,1,2,2,1,1,1,2,3,3,4,1,3,2,3,2,2,2,7,7,8,8,2,1,1,2,1,1,1,1,2,3,2,2,1,3,1,1,2,1,1,2,2,2,2,1,2,2,2,2,2,2,3,2,3,3,2,2,1,3,2,2,2,2,1,2,2,2,3,2,3,2,3,2,1,2,3,2,3,3,2,2,2,1,2,2,1,3,1,2,3,3,2,1,3,1,5,2,1,1,1,2,2,6,4,4,1,5,2,1,4,6,3,1,3,2,2,2,4,4,1,2,1,3,5,1,2,2,4,2,1,5,1,1,3,3,5,1,2,2,1,1,1,2,2,3,6,2,2,2,2,1,3,1,2,1,2,2,6,4,3,5,7,5,4,7,5,5,5,4,4,6,5,7,6,5,4,6,2,1,2,2,2,2,3,1,2,2,1,1,2,1,3,4,1,2,2,1,3,5,5,1,2,4,2,2,1,1,1,1,2,1,1,1,2,2,1,2,2,1,3,1,1,1,4,1,4,2,1,1,2,5,1,1,3,2,1,1,2,1,1,2,3,1,1,4,3,2,2,1,2,2,2,2,2,2,2,2,2,2,1,2,2,2,2,2,2,2,2,1,7,6,6,10,1,3,4,2,1,1,3,2,2,1,2,2,5,3,1,1,1,4,1,4,1,1,8,5,7,5,4,8,3,5,5,1,3,3,3,2,4,3,4,4,2,2,2,6,2,2,3,2,3,2,1,1,1,2,2,3,1,1,1,2,3,1,2,2,7,5,3,1,2,2,5,4,7,5,5,4,4,6,5,4,6,7,1,2,3,2,3,2,2,1,3,1,3,3,1,2,2,3,2,2,1,1,3,5,6,7,8,7,2,5,2,4,4,1,4,6,7,5,7,10,4,3,2,2,1,3,3,1,2,1,4,1,4,4,1,1,2,2,2,2,5,2,3,1,5,3,2,6,5,4,3,6,2,6,4,2,3,2,3,7,5,9,8,7,3,5,2,4,2,4,4,3,7,5,7,10,4,1,5,4,2,3,6,1,6,4,3,5,2,4,1,3,1,4,3,3,2,3,4,4,2,1,1,1,4,2,3,2,2,2,6,4,6,4,3,3,2,2,2,4,2,2,1,2,1,2,3,2,3,2,2,3,2,2,1,2,3,2,2,2,5,8,8,10,1,5,4,2,3,6,1,6,4,3,5,2,4,1,3,1,4,3,3,2,3,4,1,1,1,1,1,1,2,2,1,1,2,2,1,2,1,2,4,1,1,1,1,2,4,4,1,2,2,4,1,1,1,1,1,1,1,2,2,3,1,2,2,6,4,2,2,2,2,1,5,5,2,7,5,7,5,2,5,4,2,4,2,1,3,2,1,1,4,2,7,6,6,10,1,1,3,1,1,1,2,2,2,5,2,2,1,2,1,2,4,3,4,1,3,2,4,3,3,3,4,7,5,2,3,5,7,5,2,9,4,4,3,3,4,3,2,1,2,2,1,1,3,5,2,3,3,1,4,5,1,3,3,1,5,2,2,2,2,2,3,3,2,2,3,3,4,3,2,5,3,2,5,2,4,4,1,5,3,3,4,2,7,4,3,4,2,2,5,3,2,4,3,3,3,4,7,5,2,3,5,7,5,3,9,4,4,3,3,4,3,2,2,2,2,1,3,4,4,1,1,4,1,4,2,1,3,9,2,4,3,3,3,2,2,2,1,2,2,4,2,3,2,4,2,2,3,2,4,1,1,4,1,2,3,1,2,2,1,4,4,2,4,2,1,2,2,2,4,1,4,2,2,4,1,3,1,4,2,1,1,4,2,6,9,8,12,4,4,1,4,4,2,2,2,3,3,9,4,1,3,3,3,2,2,2,1,2,2,4,2,3,2],\"xaxis\":\"x\",\"yaxis\":\"y\",\"type\":\"histogram\"},{\"alignmentgroup\":\"True\",\"bingroup\":\"x\",\"hovertemplate\":\"Label=0\\u003cbr\\u003eWord Count=%{x}\\u003cbr\\u003ecount=%{y}\\u003cextra\\u003e\\u003c\\u002fextra\\u003e\",\"legendgroup\":\"0\",\"marker\":{\"color\":\"#00cc96\",\"pattern\":{\"shape\":\"\"}},\"name\":\"0\",\"nbinsx\":30,\"offsetgroup\":\"0\",\"orientation\":\"v\",\"showlegend\":true,\"x\":[5,2,1,1,2,4,2,2,2,1,6,6,1,5,1,1,4,1,5,5,4,2,4,4,5,6,4,3,3,5,5,6,2,3,2,3,4,1,2,2,7,9,1,2,3,2,2,1,2,2,3,4,3,4,4,2,2,1,3,3,2,2,4,2,1,2,2,2,2,2,2,1,2,2,1,2,3,2,2,1,2,5,5,3,5,6,2,1,1,1,2,3,3,2,6,1,1,3,1,7,5,7,5,4,6,5,4,3,5,3,3,2,3,5,6,2,1,1,1,4,2,1,1,4,1,1,1,1,3,1,2,5,2,4,3,1,2,2,1,2,2,2,2,2,2,2,1,2,9,9,4,2,1,1,4,1,1,1,2,7,7,7,9,4,5,1,6,3,2,5,3,5,2,5,2,2,1,2,1,5,2,3,1,2,3,5,2,5,7,5,5,3,5,5,4,3,6,2,2,2,2,1,2,1,2,1,2,1,1,2,9,10,1,3,1,2,4,1,2,2,3,2,3,2,1,1,1,1,1,2,3,4,2,2,2,1,2,2,1,3,2,1,1,1,4,6,2,3,7,4,4,2,5,1,8,7,1,3,2,2,3,1,1,2,3,1,3,1,1,1,2,1,1,1,1,1,3,3,2,2,3,3,3,2,3,3,1,2,2,2,2,2,2,2,2,2,2,9,10,2,1,1,1,1,3,3,2,1,3,1,1,1,1,1,5,2,1,2,3,1,1,1,1,1,5,8,5,5,3,5,5,4,6,6,9,10,2,1,3,1,1,1,3,1,1,3,1,2,6,2,1,1,3,1,1,5,3,5,3,4,4,3,3,3,2,3,1,2,6,4,2,1,4,5,2,2,3,1,1,1,4,1,1,4,2,2,1,3,2,1,2,2,3,2,1,2,2,1,2,8,10,3,1,1,4,5,2,2,3,1],\"xaxis\":\"x\",\"yaxis\":\"y\",\"type\":\"histogram\"}],                        {\"template\":{\"data\":{\"histogram2dcontour\":[{\"type\":\"histogram2dcontour\",\"colorbar\":{\"outlinewidth\":0,\"ticks\":\"\"},\"colorscale\":[[0.0,\"#0d0887\"],[0.1111111111111111,\"#46039f\"],[0.2222222222222222,\"#7201a8\"],[0.3333333333333333,\"#9c179e\"],[0.4444444444444444,\"#bd3786\"],[0.5555555555555556,\"#d8576b\"],[0.6666666666666666,\"#ed7953\"],[0.7777777777777778,\"#fb9f3a\"],[0.8888888888888888,\"#fdca26\"],[1.0,\"#f0f921\"]]}],\"choropleth\":[{\"type\":\"choropleth\",\"colorbar\":{\"outlinewidth\":0,\"ticks\":\"\"}}],\"histogram2d\":[{\"type\":\"histogram2d\",\"colorbar\":{\"outlinewidth\":0,\"ticks\":\"\"},\"colorscale\":[[0.0,\"#0d0887\"],[0.1111111111111111,\"#46039f\"],[0.2222222222222222,\"#7201a8\"],[0.3333333333333333,\"#9c179e\"],[0.4444444444444444,\"#bd3786\"],[0.5555555555555556,\"#d8576b\"],[0.6666666666666666,\"#ed7953\"],[0.7777777777777778,\"#fb9f3a\"],[0.8888888888888888,\"#fdca26\"],[1.0,\"#f0f921\"]]}],\"heatmap\":[{\"type\":\"heatmap\",\"colorbar\":{\"outlinewidth\":0,\"ticks\":\"\"},\"colorscale\":[[0.0,\"#0d0887\"],[0.1111111111111111,\"#46039f\"],[0.2222222222222222,\"#7201a8\"],[0.3333333333333333,\"#9c179e\"],[0.4444444444444444,\"#bd3786\"],[0.5555555555555556,\"#d8576b\"],[0.6666666666666666,\"#ed7953\"],[0.7777777777777778,\"#fb9f3a\"],[0.8888888888888888,\"#fdca26\"],[1.0,\"#f0f921\"]]}],\"heatmapgl\":[{\"type\":\"heatmapgl\",\"colorbar\":{\"outlinewidth\":0,\"ticks\":\"\"},\"colorscale\":[[0.0,\"#0d0887\"],[0.1111111111111111,\"#46039f\"],[0.2222222222222222,\"#7201a8\"],[0.3333333333333333,\"#9c179e\"],[0.4444444444444444,\"#bd3786\"],[0.5555555555555556,\"#d8576b\"],[0.6666666666666666,\"#ed7953\"],[0.7777777777777778,\"#fb9f3a\"],[0.8888888888888888,\"#fdca26\"],[1.0,\"#f0f921\"]]}],\"contourcarpet\":[{\"type\":\"contourcarpet\",\"colorbar\":{\"outlinewidth\":0,\"ticks\":\"\"}}],\"contour\":[{\"type\":\"contour\",\"colorbar\":{\"outlinewidth\":0,\"ticks\":\"\"},\"colorscale\":[[0.0,\"#0d0887\"],[0.1111111111111111,\"#46039f\"],[0.2222222222222222,\"#7201a8\"],[0.3333333333333333,\"#9c179e\"],[0.4444444444444444,\"#bd3786\"],[0.5555555555555556,\"#d8576b\"],[0.6666666666666666,\"#ed7953\"],[0.7777777777777778,\"#fb9f3a\"],[0.8888888888888888,\"#fdca26\"],[1.0,\"#f0f921\"]]}],\"surface\":[{\"type\":\"surface\",\"colorbar\":{\"outlinewidth\":0,\"ticks\":\"\"},\"colorscale\":[[0.0,\"#0d0887\"],[0.1111111111111111,\"#46039f\"],[0.2222222222222222,\"#7201a8\"],[0.3333333333333333,\"#9c179e\"],[0.4444444444444444,\"#bd3786\"],[0.5555555555555556,\"#d8576b\"],[0.6666666666666666,\"#ed7953\"],[0.7777777777777778,\"#fb9f3a\"],[0.8888888888888888,\"#fdca26\"],[1.0,\"#f0f921\"]]}],\"mesh3d\":[{\"type\":\"mesh3d\",\"colorbar\":{\"outlinewidth\":0,\"ticks\":\"\"}}],\"scatter\":[{\"fillpattern\":{\"fillmode\":\"overlay\",\"size\":10,\"solidity\":0.2},\"type\":\"scatter\"}],\"parcoords\":[{\"type\":\"parcoords\",\"line\":{\"colorbar\":{\"outlinewidth\":0,\"ticks\":\"\"}}}],\"scatterpolargl\":[{\"type\":\"scatterpolargl\",\"marker\":{\"colorbar\":{\"outlinewidth\":0,\"ticks\":\"\"}}}],\"bar\":[{\"error_x\":{\"color\":\"#2a3f5f\"},\"error_y\":{\"color\":\"#2a3f5f\"},\"marker\":{\"line\":{\"color\":\"#E5ECF6\",\"width\":0.5},\"pattern\":{\"fillmode\":\"overlay\",\"size\":10,\"solidity\":0.2}},\"type\":\"bar\"}],\"scattergeo\":[{\"type\":\"scattergeo\",\"marker\":{\"colorbar\":{\"outlinewidth\":0,\"ticks\":\"\"}}}],\"scatterpolar\":[{\"type\":\"scatterpolar\",\"marker\":{\"colorbar\":{\"outlinewidth\":0,\"ticks\":\"\"}}}],\"histogram\":[{\"marker\":{\"pattern\":{\"fillmode\":\"overlay\",\"size\":10,\"solidity\":0.2}},\"type\":\"histogram\"}],\"scattergl\":[{\"type\":\"scattergl\",\"marker\":{\"colorbar\":{\"outlinewidth\":0,\"ticks\":\"\"}}}],\"scatter3d\":[{\"type\":\"scatter3d\",\"line\":{\"colorbar\":{\"outlinewidth\":0,\"ticks\":\"\"}},\"marker\":{\"colorbar\":{\"outlinewidth\":0,\"ticks\":\"\"}}}],\"scattermapbox\":[{\"type\":\"scattermapbox\",\"marker\":{\"colorbar\":{\"outlinewidth\":0,\"ticks\":\"\"}}}],\"scatterternary\":[{\"type\":\"scatterternary\",\"marker\":{\"colorbar\":{\"outlinewidth\":0,\"ticks\":\"\"}}}],\"scattercarpet\":[{\"type\":\"scattercarpet\",\"marker\":{\"colorbar\":{\"outlinewidth\":0,\"ticks\":\"\"}}}],\"carpet\":[{\"aaxis\":{\"endlinecolor\":\"#2a3f5f\",\"gridcolor\":\"white\",\"linecolor\":\"white\",\"minorgridcolor\":\"white\",\"startlinecolor\":\"#2a3f5f\"},\"baxis\":{\"endlinecolor\":\"#2a3f5f\",\"gridcolor\":\"white\",\"linecolor\":\"white\",\"minorgridcolor\":\"white\",\"startlinecolor\":\"#2a3f5f\"},\"type\":\"carpet\"}],\"table\":[{\"cells\":{\"fill\":{\"color\":\"#EBF0F8\"},\"line\":{\"color\":\"white\"}},\"header\":{\"fill\":{\"color\":\"#C8D4E3\"},\"line\":{\"color\":\"white\"}},\"type\":\"table\"}],\"barpolar\":[{\"marker\":{\"line\":{\"color\":\"#E5ECF6\",\"width\":0.5},\"pattern\":{\"fillmode\":\"overlay\",\"size\":10,\"solidity\":0.2}},\"type\":\"barpolar\"}],\"pie\":[{\"automargin\":true,\"type\":\"pie\"}]},\"layout\":{\"autotypenumbers\":\"strict\",\"colorway\":[\"#636efa\",\"#EF553B\",\"#00cc96\",\"#ab63fa\",\"#FFA15A\",\"#19d3f3\",\"#FF6692\",\"#B6E880\",\"#FF97FF\",\"#FECB52\"],\"font\":{\"color\":\"#2a3f5f\"},\"hovermode\":\"closest\",\"hoverlabel\":{\"align\":\"left\"},\"paper_bgcolor\":\"white\",\"plot_bgcolor\":\"#E5ECF6\",\"polar\":{\"bgcolor\":\"#E5ECF6\",\"angularaxis\":{\"gridcolor\":\"white\",\"linecolor\":\"white\",\"ticks\":\"\"},\"radialaxis\":{\"gridcolor\":\"white\",\"linecolor\":\"white\",\"ticks\":\"\"}},\"ternary\":{\"bgcolor\":\"#E5ECF6\",\"aaxis\":{\"gridcolor\":\"white\",\"linecolor\":\"white\",\"ticks\":\"\"},\"baxis\":{\"gridcolor\":\"white\",\"linecolor\":\"white\",\"ticks\":\"\"},\"caxis\":{\"gridcolor\":\"white\",\"linecolor\":\"white\",\"ticks\":\"\"}},\"coloraxis\":{\"colorbar\":{\"outlinewidth\":0,\"ticks\":\"\"}},\"colorscale\":{\"sequential\":[[0.0,\"#0d0887\"],[0.1111111111111111,\"#46039f\"],[0.2222222222222222,\"#7201a8\"],[0.3333333333333333,\"#9c179e\"],[0.4444444444444444,\"#bd3786\"],[0.5555555555555556,\"#d8576b\"],[0.6666666666666666,\"#ed7953\"],[0.7777777777777778,\"#fb9f3a\"],[0.8888888888888888,\"#fdca26\"],[1.0,\"#f0f921\"]],\"sequentialminus\":[[0.0,\"#0d0887\"],[0.1111111111111111,\"#46039f\"],[0.2222222222222222,\"#7201a8\"],[0.3333333333333333,\"#9c179e\"],[0.4444444444444444,\"#bd3786\"],[0.5555555555555556,\"#d8576b\"],[0.6666666666666666,\"#ed7953\"],[0.7777777777777778,\"#fb9f3a\"],[0.8888888888888888,\"#fdca26\"],[1.0,\"#f0f921\"]],\"diverging\":[[0,\"#8e0152\"],[0.1,\"#c51b7d\"],[0.2,\"#de77ae\"],[0.3,\"#f1b6da\"],[0.4,\"#fde0ef\"],[0.5,\"#f7f7f7\"],[0.6,\"#e6f5d0\"],[0.7,\"#b8e186\"],[0.8,\"#7fbc41\"],[0.9,\"#4d9221\"],[1,\"#276419\"]]},\"xaxis\":{\"gridcolor\":\"white\",\"linecolor\":\"white\",\"ticks\":\"\",\"title\":{\"standoff\":15},\"zerolinecolor\":\"white\",\"automargin\":true,\"zerolinewidth\":2},\"yaxis\":{\"gridcolor\":\"white\",\"linecolor\":\"white\",\"ticks\":\"\",\"title\":{\"standoff\":15},\"zerolinecolor\":\"white\",\"automargin\":true,\"zerolinewidth\":2},\"scene\":{\"xaxis\":{\"backgroundcolor\":\"#E5ECF6\",\"gridcolor\":\"white\",\"linecolor\":\"white\",\"showbackground\":true,\"ticks\":\"\",\"zerolinecolor\":\"white\",\"gridwidth\":2},\"yaxis\":{\"backgroundcolor\":\"#E5ECF6\",\"gridcolor\":\"white\",\"linecolor\":\"white\",\"showbackground\":true,\"ticks\":\"\",\"zerolinecolor\":\"white\",\"gridwidth\":2},\"zaxis\":{\"backgroundcolor\":\"#E5ECF6\",\"gridcolor\":\"white\",\"linecolor\":\"white\",\"showbackground\":true,\"ticks\":\"\",\"zerolinecolor\":\"white\",\"gridwidth\":2}},\"shapedefaults\":{\"line\":{\"color\":\"#2a3f5f\"}},\"annotationdefaults\":{\"arrowcolor\":\"#2a3f5f\",\"arrowhead\":0,\"arrowwidth\":1},\"geo\":{\"bgcolor\":\"white\",\"landcolor\":\"#E5ECF6\",\"subunitcolor\":\"white\",\"showland\":true,\"showlakes\":true,\"lakecolor\":\"white\"},\"title\":{\"x\":0.05},\"mapbox\":{\"style\":\"light\"}}},\"xaxis\":{\"anchor\":\"y\",\"domain\":[0.0,1.0],\"title\":{\"text\":\"Word Count\"}},\"yaxis\":{\"anchor\":\"x\",\"domain\":[0.0,1.0],\"title\":{\"text\":\"count\"}},\"legend\":{\"title\":{\"text\":\"Label\"},\"tracegroupgap\":0},\"title\":{\"text\":\"Distribution of Word Counts\"},\"barmode\":\"relative\"},                        {\"responsive\": true}                    ).then(function(){\n",
       "                            \n",
       "var gd = document.getElementById('2abbc455-f6a6-417d-9703-73fcb9a9c825');\n",
       "var x = new MutationObserver(function (mutations, observer) {{\n",
       "        var display = window.getComputedStyle(gd).display;\n",
       "        if (!display || display === 'none') {{\n",
       "            console.log([gd, 'removed!']);\n",
       "            Plotly.purge(gd);\n",
       "            observer.disconnect();\n",
       "        }}\n",
       "}});\n",
       "\n",
       "// Listen for the removal of the full notebook cells\n",
       "var notebookContainer = gd.closest('#notebook-container');\n",
       "if (notebookContainer) {{\n",
       "    x.observe(notebookContainer, {childList: true});\n",
       "}}\n",
       "\n",
       "// Listen for the clearing of the current output cell\n",
       "var outputEl = gd.closest('.output');\n",
       "if (outputEl) {{\n",
       "    x.observe(outputEl, {childList: true});\n",
       "}}\n",
       "\n",
       "                        })                };                });            </script>        </div>"
      ]
     },
     "metadata": {},
     "output_type": "display_data"
    },
    {
     "name": "stdout",
     "output_type": "stream",
     "text": [
      "\n",
      "Top 20 Bigrams:\n",
      "                  count\n",
      "taste good           27\n",
      "good quality         26\n",
      "poor quality         24\n",
      "sweet juicy          20\n",
      "value money          16\n",
      "good taste           15\n",
      "fresh juicy          14\n",
      "perfectly ripe       13\n",
      "expected better      13\n",
      "waste money          13\n",
      "fresh sweet          13\n",
      "raw mango            12\n",
      "highly recommend     11\n",
      "good product         11\n",
      "wo buy               10\n",
      "fresh delicious      10\n",
      "great taste           9\n",
      "good condition        9\n",
      "small size            9\n",
      "fruit salad           8\n"
     ]
    },
    {
     "data": {
      "application/vnd.plotly.v1+json": {
       "config": {
        "plotlyServerURL": "https://plot.ly"
       },
       "data": [
        {
         "alignmentgroup": "True",
         "hovertemplate": "index=%{x}<br>Count=%{y}<extra></extra>",
         "legendgroup": "",
         "marker": {
          "color": "green",
          "pattern": {
           "shape": ""
          }
         },
         "name": "",
         "offsetgroup": "",
         "orientation": "v",
         "showlegend": false,
         "textposition": "auto",
         "type": "bar",
         "x": [
          "taste good",
          "good quality",
          "poor quality",
          "sweet juicy",
          "value money",
          "good taste",
          "fresh juicy",
          "perfectly ripe",
          "expected better",
          "waste money",
          "fresh sweet",
          "raw mango",
          "highly recommend",
          "good product",
          "wo buy",
          "fresh delicious",
          "great taste",
          "good condition",
          "small size",
          "fruit salad"
         ],
         "xaxis": "x",
         "y": [
          27,
          26,
          24,
          20,
          16,
          15,
          14,
          13,
          13,
          13,
          13,
          12,
          11,
          11,
          10,
          10,
          9,
          9,
          9,
          8
         ],
         "yaxis": "y"
        }
       ],
       "layout": {
        "autosize": true,
        "barmode": "relative",
        "legend": {
         "tracegroupgap": 0
        },
        "template": {
         "data": {
          "bar": [
           {
            "error_x": {
             "color": "#2a3f5f"
            },
            "error_y": {
             "color": "#2a3f5f"
            },
            "marker": {
             "line": {
              "color": "#E5ECF6",
              "width": 0.5
             },
             "pattern": {
              "fillmode": "overlay",
              "size": 10,
              "solidity": 0.2
             }
            },
            "type": "bar"
           }
          ],
          "barpolar": [
           {
            "marker": {
             "line": {
              "color": "#E5ECF6",
              "width": 0.5
             },
             "pattern": {
              "fillmode": "overlay",
              "size": 10,
              "solidity": 0.2
             }
            },
            "type": "barpolar"
           }
          ],
          "carpet": [
           {
            "aaxis": {
             "endlinecolor": "#2a3f5f",
             "gridcolor": "white",
             "linecolor": "white",
             "minorgridcolor": "white",
             "startlinecolor": "#2a3f5f"
            },
            "baxis": {
             "endlinecolor": "#2a3f5f",
             "gridcolor": "white",
             "linecolor": "white",
             "minorgridcolor": "white",
             "startlinecolor": "#2a3f5f"
            },
            "type": "carpet"
           }
          ],
          "choropleth": [
           {
            "colorbar": {
             "outlinewidth": 0,
             "ticks": ""
            },
            "type": "choropleth"
           }
          ],
          "contour": [
           {
            "colorbar": {
             "outlinewidth": 0,
             "ticks": ""
            },
            "colorscale": [
             [
              0,
              "#0d0887"
             ],
             [
              0.1111111111111111,
              "#46039f"
             ],
             [
              0.2222222222222222,
              "#7201a8"
             ],
             [
              0.3333333333333333,
              "#9c179e"
             ],
             [
              0.4444444444444444,
              "#bd3786"
             ],
             [
              0.5555555555555556,
              "#d8576b"
             ],
             [
              0.6666666666666666,
              "#ed7953"
             ],
             [
              0.7777777777777778,
              "#fb9f3a"
             ],
             [
              0.8888888888888888,
              "#fdca26"
             ],
             [
              1,
              "#f0f921"
             ]
            ],
            "type": "contour"
           }
          ],
          "contourcarpet": [
           {
            "colorbar": {
             "outlinewidth": 0,
             "ticks": ""
            },
            "type": "contourcarpet"
           }
          ],
          "heatmap": [
           {
            "colorbar": {
             "outlinewidth": 0,
             "ticks": ""
            },
            "colorscale": [
             [
              0,
              "#0d0887"
             ],
             [
              0.1111111111111111,
              "#46039f"
             ],
             [
              0.2222222222222222,
              "#7201a8"
             ],
             [
              0.3333333333333333,
              "#9c179e"
             ],
             [
              0.4444444444444444,
              "#bd3786"
             ],
             [
              0.5555555555555556,
              "#d8576b"
             ],
             [
              0.6666666666666666,
              "#ed7953"
             ],
             [
              0.7777777777777778,
              "#fb9f3a"
             ],
             [
              0.8888888888888888,
              "#fdca26"
             ],
             [
              1,
              "#f0f921"
             ]
            ],
            "type": "heatmap"
           }
          ],
          "heatmapgl": [
           {
            "colorbar": {
             "outlinewidth": 0,
             "ticks": ""
            },
            "colorscale": [
             [
              0,
              "#0d0887"
             ],
             [
              0.1111111111111111,
              "#46039f"
             ],
             [
              0.2222222222222222,
              "#7201a8"
             ],
             [
              0.3333333333333333,
              "#9c179e"
             ],
             [
              0.4444444444444444,
              "#bd3786"
             ],
             [
              0.5555555555555556,
              "#d8576b"
             ],
             [
              0.6666666666666666,
              "#ed7953"
             ],
             [
              0.7777777777777778,
              "#fb9f3a"
             ],
             [
              0.8888888888888888,
              "#fdca26"
             ],
             [
              1,
              "#f0f921"
             ]
            ],
            "type": "heatmapgl"
           }
          ],
          "histogram": [
           {
            "marker": {
             "pattern": {
              "fillmode": "overlay",
              "size": 10,
              "solidity": 0.2
             }
            },
            "type": "histogram"
           }
          ],
          "histogram2d": [
           {
            "colorbar": {
             "outlinewidth": 0,
             "ticks": ""
            },
            "colorscale": [
             [
              0,
              "#0d0887"
             ],
             [
              0.1111111111111111,
              "#46039f"
             ],
             [
              0.2222222222222222,
              "#7201a8"
             ],
             [
              0.3333333333333333,
              "#9c179e"
             ],
             [
              0.4444444444444444,
              "#bd3786"
             ],
             [
              0.5555555555555556,
              "#d8576b"
             ],
             [
              0.6666666666666666,
              "#ed7953"
             ],
             [
              0.7777777777777778,
              "#fb9f3a"
             ],
             [
              0.8888888888888888,
              "#fdca26"
             ],
             [
              1,
              "#f0f921"
             ]
            ],
            "type": "histogram2d"
           }
          ],
          "histogram2dcontour": [
           {
            "colorbar": {
             "outlinewidth": 0,
             "ticks": ""
            },
            "colorscale": [
             [
              0,
              "#0d0887"
             ],
             [
              0.1111111111111111,
              "#46039f"
             ],
             [
              0.2222222222222222,
              "#7201a8"
             ],
             [
              0.3333333333333333,
              "#9c179e"
             ],
             [
              0.4444444444444444,
              "#bd3786"
             ],
             [
              0.5555555555555556,
              "#d8576b"
             ],
             [
              0.6666666666666666,
              "#ed7953"
             ],
             [
              0.7777777777777778,
              "#fb9f3a"
             ],
             [
              0.8888888888888888,
              "#fdca26"
             ],
             [
              1,
              "#f0f921"
             ]
            ],
            "type": "histogram2dcontour"
           }
          ],
          "mesh3d": [
           {
            "colorbar": {
             "outlinewidth": 0,
             "ticks": ""
            },
            "type": "mesh3d"
           }
          ],
          "parcoords": [
           {
            "line": {
             "colorbar": {
              "outlinewidth": 0,
              "ticks": ""
             }
            },
            "type": "parcoords"
           }
          ],
          "pie": [
           {
            "automargin": true,
            "type": "pie"
           }
          ],
          "scatter": [
           {
            "fillpattern": {
             "fillmode": "overlay",
             "size": 10,
             "solidity": 0.2
            },
            "type": "scatter"
           }
          ],
          "scatter3d": [
           {
            "line": {
             "colorbar": {
              "outlinewidth": 0,
              "ticks": ""
             }
            },
            "marker": {
             "colorbar": {
              "outlinewidth": 0,
              "ticks": ""
             }
            },
            "type": "scatter3d"
           }
          ],
          "scattercarpet": [
           {
            "marker": {
             "colorbar": {
              "outlinewidth": 0,
              "ticks": ""
             }
            },
            "type": "scattercarpet"
           }
          ],
          "scattergeo": [
           {
            "marker": {
             "colorbar": {
              "outlinewidth": 0,
              "ticks": ""
             }
            },
            "type": "scattergeo"
           }
          ],
          "scattergl": [
           {
            "marker": {
             "colorbar": {
              "outlinewidth": 0,
              "ticks": ""
             }
            },
            "type": "scattergl"
           }
          ],
          "scattermapbox": [
           {
            "marker": {
             "colorbar": {
              "outlinewidth": 0,
              "ticks": ""
             }
            },
            "type": "scattermapbox"
           }
          ],
          "scatterpolar": [
           {
            "marker": {
             "colorbar": {
              "outlinewidth": 0,
              "ticks": ""
             }
            },
            "type": "scatterpolar"
           }
          ],
          "scatterpolargl": [
           {
            "marker": {
             "colorbar": {
              "outlinewidth": 0,
              "ticks": ""
             }
            },
            "type": "scatterpolargl"
           }
          ],
          "scatterternary": [
           {
            "marker": {
             "colorbar": {
              "outlinewidth": 0,
              "ticks": ""
             }
            },
            "type": "scatterternary"
           }
          ],
          "surface": [
           {
            "colorbar": {
             "outlinewidth": 0,
             "ticks": ""
            },
            "colorscale": [
             [
              0,
              "#0d0887"
             ],
             [
              0.1111111111111111,
              "#46039f"
             ],
             [
              0.2222222222222222,
              "#7201a8"
             ],
             [
              0.3333333333333333,
              "#9c179e"
             ],
             [
              0.4444444444444444,
              "#bd3786"
             ],
             [
              0.5555555555555556,
              "#d8576b"
             ],
             [
              0.6666666666666666,
              "#ed7953"
             ],
             [
              0.7777777777777778,
              "#fb9f3a"
             ],
             [
              0.8888888888888888,
              "#fdca26"
             ],
             [
              1,
              "#f0f921"
             ]
            ],
            "type": "surface"
           }
          ],
          "table": [
           {
            "cells": {
             "fill": {
              "color": "#EBF0F8"
             },
             "line": {
              "color": "white"
             }
            },
            "header": {
             "fill": {
              "color": "#C8D4E3"
             },
             "line": {
              "color": "white"
             }
            },
            "type": "table"
           }
          ]
         },
         "layout": {
          "annotationdefaults": {
           "arrowcolor": "#2a3f5f",
           "arrowhead": 0,
           "arrowwidth": 1
          },
          "autotypenumbers": "strict",
          "coloraxis": {
           "colorbar": {
            "outlinewidth": 0,
            "ticks": ""
           }
          },
          "colorscale": {
           "diverging": [
            [
             0,
             "#8e0152"
            ],
            [
             0.1,
             "#c51b7d"
            ],
            [
             0.2,
             "#de77ae"
            ],
            [
             0.3,
             "#f1b6da"
            ],
            [
             0.4,
             "#fde0ef"
            ],
            [
             0.5,
             "#f7f7f7"
            ],
            [
             0.6,
             "#e6f5d0"
            ],
            [
             0.7,
             "#b8e186"
            ],
            [
             0.8,
             "#7fbc41"
            ],
            [
             0.9,
             "#4d9221"
            ],
            [
             1,
             "#276419"
            ]
           ],
           "sequential": [
            [
             0,
             "#0d0887"
            ],
            [
             0.1111111111111111,
             "#46039f"
            ],
            [
             0.2222222222222222,
             "#7201a8"
            ],
            [
             0.3333333333333333,
             "#9c179e"
            ],
            [
             0.4444444444444444,
             "#bd3786"
            ],
            [
             0.5555555555555556,
             "#d8576b"
            ],
            [
             0.6666666666666666,
             "#ed7953"
            ],
            [
             0.7777777777777778,
             "#fb9f3a"
            ],
            [
             0.8888888888888888,
             "#fdca26"
            ],
            [
             1,
             "#f0f921"
            ]
           ],
           "sequentialminus": [
            [
             0,
             "#0d0887"
            ],
            [
             0.1111111111111111,
             "#46039f"
            ],
            [
             0.2222222222222222,
             "#7201a8"
            ],
            [
             0.3333333333333333,
             "#9c179e"
            ],
            [
             0.4444444444444444,
             "#bd3786"
            ],
            [
             0.5555555555555556,
             "#d8576b"
            ],
            [
             0.6666666666666666,
             "#ed7953"
            ],
            [
             0.7777777777777778,
             "#fb9f3a"
            ],
            [
             0.8888888888888888,
             "#fdca26"
            ],
            [
             1,
             "#f0f921"
            ]
           ]
          },
          "colorway": [
           "#636efa",
           "#EF553B",
           "#00cc96",
           "#ab63fa",
           "#FFA15A",
           "#19d3f3",
           "#FF6692",
           "#B6E880",
           "#FF97FF",
           "#FECB52"
          ],
          "font": {
           "color": "#2a3f5f"
          },
          "geo": {
           "bgcolor": "white",
           "lakecolor": "white",
           "landcolor": "#E5ECF6",
           "showlakes": true,
           "showland": true,
           "subunitcolor": "white"
          },
          "hoverlabel": {
           "align": "left"
          },
          "hovermode": "closest",
          "mapbox": {
           "style": "light"
          },
          "paper_bgcolor": "white",
          "plot_bgcolor": "#E5ECF6",
          "polar": {
           "angularaxis": {
            "gridcolor": "white",
            "linecolor": "white",
            "ticks": ""
           },
           "bgcolor": "#E5ECF6",
           "radialaxis": {
            "gridcolor": "white",
            "linecolor": "white",
            "ticks": ""
           }
          },
          "scene": {
           "xaxis": {
            "backgroundcolor": "#E5ECF6",
            "gridcolor": "white",
            "gridwidth": 2,
            "linecolor": "white",
            "showbackground": true,
            "ticks": "",
            "zerolinecolor": "white"
           },
           "yaxis": {
            "backgroundcolor": "#E5ECF6",
            "gridcolor": "white",
            "gridwidth": 2,
            "linecolor": "white",
            "showbackground": true,
            "ticks": "",
            "zerolinecolor": "white"
           },
           "zaxis": {
            "backgroundcolor": "#E5ECF6",
            "gridcolor": "white",
            "gridwidth": 2,
            "linecolor": "white",
            "showbackground": true,
            "ticks": "",
            "zerolinecolor": "white"
           }
          },
          "shapedefaults": {
           "line": {
            "color": "#2a3f5f"
           }
          },
          "ternary": {
           "aaxis": {
            "gridcolor": "white",
            "linecolor": "white",
            "ticks": ""
           },
           "baxis": {
            "gridcolor": "white",
            "linecolor": "white",
            "ticks": ""
           },
           "bgcolor": "#E5ECF6",
           "caxis": {
            "gridcolor": "white",
            "linecolor": "white",
            "ticks": ""
           }
          },
          "title": {
           "x": 0.05
          },
          "xaxis": {
           "automargin": true,
           "gridcolor": "white",
           "linecolor": "white",
           "ticks": "",
           "title": {
            "standoff": 15
           },
           "zerolinecolor": "white",
           "zerolinewidth": 2
          },
          "yaxis": {
           "automargin": true,
           "gridcolor": "white",
           "linecolor": "white",
           "ticks": "",
           "title": {
            "standoff": 15
           },
           "zerolinecolor": "white",
           "zerolinewidth": 2
          }
         }
        },
        "title": {
         "text": "Top 20 Bigrams"
        },
        "xaxis": {
         "anchor": "y",
         "autorange": true,
         "domain": [
          0,
          1
         ],
         "range": [
          -0.5,
          19.5
         ],
         "title": {
          "text": "index"
         },
         "type": "category"
        },
        "yaxis": {
         "anchor": "x",
         "autorange": true,
         "domain": [
          0,
          1
         ],
         "range": [
          0,
          28.42105263157895
         ],
         "title": {
          "text": "Count"
         },
         "type": "linear"
        }
       }
      },
      "image/png": "[encoded data removed]",
      "text/html": [
       "<div>                            <div id=\"1dc7e9d3-ebfe-4db5-8cc1-f8255e4ab5f0\" class=\"plotly-graph-div\" style=\"height:525px; width:100%;\"></div>            <script type=\"text/javascript\">                require([\"plotly\"], function(Plotly) {                    window.PLOTLYENV=window.PLOTLYENV || {};                                    if (document.getElementById(\"1dc7e9d3-ebfe-4db5-8cc1-f8255e4ab5f0\")) {                    Plotly.newPlot(                        \"1dc7e9d3-ebfe-4db5-8cc1-f8255e4ab5f0\",                        [{\"alignmentgroup\":\"True\",\"hovertemplate\":\"index=%{x}\\u003cbr\\u003eCount=%{y}\\u003cextra\\u003e\\u003c\\u002fextra\\u003e\",\"legendgroup\":\"\",\"marker\":{\"color\":\"green\",\"pattern\":{\"shape\":\"\"}},\"name\":\"\",\"offsetgroup\":\"\",\"orientation\":\"v\",\"showlegend\":false,\"textposition\":\"auto\",\"x\":[\"taste good\",\"good quality\",\"poor quality\",\"sweet juicy\",\"value money\",\"good taste\",\"fresh juicy\",\"perfectly ripe\",\"expected better\",\"waste money\",\"fresh sweet\",\"raw mango\",\"highly recommend\",\"good product\",\"wo buy\",\"fresh delicious\",\"great taste\",\"good condition\",\"small size\",\"fruit salad\"],\"xaxis\":\"x\",\"y\":[27,26,24,20,16,15,14,13,13,13,13,12,11,11,10,10,9,9,9,8],\"yaxis\":\"y\",\"type\":\"bar\"}],                        {\"template\":{\"data\":{\"histogram2dcontour\":[{\"type\":\"histogram2dcontour\",\"colorbar\":{\"outlinewidth\":0,\"ticks\":\"\"},\"colorscale\":[[0.0,\"#0d0887\"],[0.1111111111111111,\"#46039f\"],[0.2222222222222222,\"#7201a8\"],[0.3333333333333333,\"#9c179e\"],[0.4444444444444444,\"#bd3786\"],[0.5555555555555556,\"#d8576b\"],[0.6666666666666666,\"#ed7953\"],[0.7777777777777778,\"#fb9f3a\"],[0.8888888888888888,\"#fdca26\"],[1.0,\"#f0f921\"]]}],\"choropleth\":[{\"type\":\"choropleth\",\"colorbar\":{\"outlinewidth\":0,\"ticks\":\"\"}}],\"histogram2d\":[{\"type\":\"histogram2d\",\"colorbar\":{\"outlinewidth\":0,\"ticks\":\"\"},\"colorscale\":[[0.0,\"#0d0887\"],[0.1111111111111111,\"#46039f\"],[0.2222222222222222,\"#7201a8\"],[0.3333333333333333,\"#9c179e\"],[0.4444444444444444,\"#bd3786\"],[0.5555555555555556,\"#d8576b\"],[0.6666666666666666,\"#ed7953\"],[0.7777777777777778,\"#fb9f3a\"],[0.8888888888888888,\"#fdca26\"],[1.0,\"#f0f921\"]]}],\"heatmap\":[{\"type\":\"heatmap\",\"colorbar\":{\"outlinewidth\":0,\"ticks\":\"\"},\"colorscale\":[[0.0,\"#0d0887\"],[0.1111111111111111,\"#46039f\"],[0.2222222222222222,\"#7201a8\"],[0.3333333333333333,\"#9c179e\"],[0.4444444444444444,\"#bd3786\"],[0.5555555555555556,\"#d8576b\"],[0.6666666666666666,\"#ed7953\"],[0.7777777777777778,\"#fb9f3a\"],[0.8888888888888888,\"#fdca26\"],[1.0,\"#f0f921\"]]}],\"heatmapgl\":[{\"type\":\"heatmapgl\",\"colorbar\":{\"outlinewidth\":0,\"ticks\":\"\"},\"colorscale\":[[0.0,\"#0d0887\"],[0.1111111111111111,\"#46039f\"],[0.2222222222222222,\"#7201a8\"],[0.3333333333333333,\"#9c179e\"],[0.4444444444444444,\"#bd3786\"],[0.5555555555555556,\"#d8576b\"],[0.6666666666666666,\"#ed7953\"],[0.7777777777777778,\"#fb9f3a\"],[0.8888888888888888,\"#fdca26\"],[1.0,\"#f0f921\"]]}],\"contourcarpet\":[{\"type\":\"contourcarpet\",\"colorbar\":{\"outlinewidth\":0,\"ticks\":\"\"}}],\"contour\":[{\"type\":\"contour\",\"colorbar\":{\"outlinewidth\":0,\"ticks\":\"\"},\"colorscale\":[[0.0,\"#0d0887\"],[0.1111111111111111,\"#46039f\"],[0.2222222222222222,\"#7201a8\"],[0.3333333333333333,\"#9c179e\"],[0.4444444444444444,\"#bd3786\"],[0.5555555555555556,\"#d8576b\"],[0.6666666666666666,\"#ed7953\"],[0.7777777777777778,\"#fb9f3a\"],[0.8888888888888888,\"#fdca26\"],[1.0,\"#f0f921\"]]}],\"surface\":[{\"type\":\"surface\",\"colorbar\":{\"outlinewidth\":0,\"ticks\":\"\"},\"colorscale\":[[0.0,\"#0d0887\"],[0.1111111111111111,\"#46039f\"],[0.2222222222222222,\"#7201a8\"],[0.3333333333333333,\"#9c179e\"],[0.4444444444444444,\"#bd3786\"],[0.5555555555555556,\"#d8576b\"],[0.6666666666666666,\"#ed7953\"],[0.7777777777777778,\"#fb9f3a\"],[0.8888888888888888,\"#fdca26\"],[1.0,\"#f0f921\"]]}],\"mesh3d\":[{\"type\":\"mesh3d\",\"colorbar\":{\"outlinewidth\":0,\"ticks\":\"\"}}],\"scatter\":[{\"fillpattern\":{\"fillmode\":\"overlay\",\"size\":10,\"solidity\":0.2},\"type\":\"scatter\"}],\"parcoords\":[{\"type\":\"parcoords\",\"line\":{\"colorbar\":{\"outlinewidth\":0,\"ticks\":\"\"}}}],\"scatterpolargl\":[{\"type\":\"scatterpolargl\",\"marker\":{\"colorbar\":{\"outlinewidth\":0,\"ticks\":\"\"}}}],\"bar\":[{\"error_x\":{\"color\":\"#2a3f5f\"},\"error_y\":{\"color\":\"#2a3f5f\"},\"marker\":{\"line\":{\"color\":\"#E5ECF6\",\"width\":0.5},\"pattern\":{\"fillmode\":\"overlay\",\"size\":10,\"solidity\":0.2}},\"type\":\"bar\"}],\"scattergeo\":[{\"type\":\"scattergeo\",\"marker\":{\"colorbar\":{\"outlinewidth\":0,\"ticks\":\"\"}}}],\"scatterpolar\":[{\"type\":\"scatterpolar\",\"marker\":{\"colorbar\":{\"outlinewidth\":0,\"ticks\":\"\"}}}],\"histogram\":[{\"marker\":{\"pattern\":{\"fillmode\":\"overlay\",\"size\":10,\"solidity\":0.2}},\"type\":\"histogram\"}],\"scattergl\":[{\"type\":\"scattergl\",\"marker\":{\"colorbar\":{\"outlinewidth\":0,\"ticks\":\"\"}}}],\"scatter3d\":[{\"type\":\"scatter3d\",\"line\":{\"colorbar\":{\"outlinewidth\":0,\"ticks\":\"\"}},\"marker\":{\"colorbar\":{\"outlinewidth\":0,\"ticks\":\"\"}}}],\"scattermapbox\":[{\"type\":\"scattermapbox\",\"marker\":{\"colorbar\":{\"outlinewidth\":0,\"ticks\":\"\"}}}],\"scatterternary\":[{\"type\":\"scatterternary\",\"marker\":{\"colorbar\":{\"outlinewidth\":0,\"ticks\":\"\"}}}],\"scattercarpet\":[{\"type\":\"scattercarpet\",\"marker\":{\"colorbar\":{\"outlinewidth\":0,\"ticks\":\"\"}}}],\"carpet\":[{\"aaxis\":{\"endlinecolor\":\"#2a3f5f\",\"gridcolor\":\"white\",\"linecolor\":\"white\",\"minorgridcolor\":\"white\",\"startlinecolor\":\"#2a3f5f\"},\"baxis\":{\"endlinecolor\":\"#2a3f5f\",\"gridcolor\":\"white\",\"linecolor\":\"white\",\"minorgridcolor\":\"white\",\"startlinecolor\":\"#2a3f5f\"},\"type\":\"carpet\"}],\"table\":[{\"cells\":{\"fill\":{\"color\":\"#EBF0F8\"},\"line\":{\"color\":\"white\"}},\"header\":{\"fill\":{\"color\":\"#C8D4E3\"},\"line\":{\"color\":\"white\"}},\"type\":\"table\"}],\"barpolar\":[{\"marker\":{\"line\":{\"color\":\"#E5ECF6\",\"width\":0.5},\"pattern\":{\"fillmode\":\"overlay\",\"size\":10,\"solidity\":0.2}},\"type\":\"barpolar\"}],\"pie\":[{\"automargin\":true,\"type\":\"pie\"}]},\"layout\":{\"autotypenumbers\":\"strict\",\"colorway\":[\"#636efa\",\"#EF553B\",\"#00cc96\",\"#ab63fa\",\"#FFA15A\",\"#19d3f3\",\"#FF6692\",\"#B6E880\",\"#FF97FF\",\"#FECB52\"],\"font\":{\"color\":\"#2a3f5f\"},\"hovermode\":\"closest\",\"hoverlabel\":{\"align\":\"left\"},\"paper_bgcolor\":\"white\",\"plot_bgcolor\":\"#E5ECF6\",\"polar\":{\"bgcolor\":\"#E5ECF6\",\"angularaxis\":{\"gridcolor\":\"white\",\"linecolor\":\"white\",\"ticks\":\"\"},\"radialaxis\":{\"gridcolor\":\"white\",\"linecolor\":\"white\",\"ticks\":\"\"}},\"ternary\":{\"bgcolor\":\"#E5ECF6\",\"aaxis\":{\"gridcolor\":\"white\",\"linecolor\":\"white\",\"ticks\":\"\"},\"baxis\":{\"gridcolor\":\"white\",\"linecolor\":\"white\",\"ticks\":\"\"},\"caxis\":{\"gridcolor\":\"white\",\"linecolor\":\"white\",\"ticks\":\"\"}},\"coloraxis\":{\"colorbar\":{\"outlinewidth\":0,\"ticks\":\"\"}},\"colorscale\":{\"sequential\":[[0.0,\"#0d0887\"],[0.1111111111111111,\"#46039f\"],[0.2222222222222222,\"#7201a8\"],[0.3333333333333333,\"#9c179e\"],[0.4444444444444444,\"#bd3786\"],[0.5555555555555556,\"#d8576b\"],[0.6666666666666666,\"#ed7953\"],[0.7777777777777778,\"#fb9f3a\"],[0.8888888888888888,\"#fdca26\"],[1.0,\"#f0f921\"]],\"sequentialminus\":[[0.0,\"#0d0887\"],[0.1111111111111111,\"#46039f\"],[0.2222222222222222,\"#7201a8\"],[0.3333333333333333,\"#9c179e\"],[0.4444444444444444,\"#bd3786\"],[0.5555555555555556,\"#d8576b\"],[0.6666666666666666,\"#ed7953\"],[0.7777777777777778,\"#fb9f3a\"],[0.8888888888888888,\"#fdca26\"],[1.0,\"#f0f921\"]],\"diverging\":[[0,\"#8e0152\"],[0.1,\"#c51b7d\"],[0.2,\"#de77ae\"],[0.3,\"#f1b6da\"],[0.4,\"#fde0ef\"],[0.5,\"#f7f7f7\"],[0.6,\"#e6f5d0\"],[0.7,\"#b8e186\"],[0.8,\"#7fbc41\"],[0.9,\"#4d9221\"],[1,\"#276419\"]]},\"xaxis\":{\"gridcolor\":\"white\",\"linecolor\":\"white\",\"ticks\":\"\",\"title\":{\"standoff\":15},\"zerolinecolor\":\"white\",\"automargin\":true,\"zerolinewidth\":2},\"yaxis\":{\"gridcolor\":\"white\",\"linecolor\":\"white\",\"ticks\":\"\",\"title\":{\"standoff\":15},\"zerolinecolor\":\"white\",\"automargin\":true,\"zerolinewidth\":2},\"scene\":{\"xaxis\":{\"backgroundcolor\":\"#E5ECF6\",\"gridcolor\":\"white\",\"linecolor\":\"white\",\"showbackground\":true,\"ticks\":\"\",\"zerolinecolor\":\"white\",\"gridwidth\":2},\"yaxis\":{\"backgroundcolor\":\"#E5ECF6\",\"gridcolor\":\"white\",\"linecolor\":\"white\",\"showbackground\":true,\"ticks\":\"\",\"zerolinecolor\":\"white\",\"gridwidth\":2},\"zaxis\":{\"backgroundcolor\":\"#E5ECF6\",\"gridcolor\":\"white\",\"linecolor\":\"white\",\"showbackground\":true,\"ticks\":\"\",\"zerolinecolor\":\"white\",\"gridwidth\":2}},\"shapedefaults\":{\"line\":{\"color\":\"#2a3f5f\"}},\"annotationdefaults\":{\"arrowcolor\":\"#2a3f5f\",\"arrowhead\":0,\"arrowwidth\":1},\"geo\":{\"bgcolor\":\"white\",\"landcolor\":\"#E5ECF6\",\"subunitcolor\":\"white\",\"showland\":true,\"showlakes\":true,\"lakecolor\":\"white\"},\"title\":{\"x\":0.05},\"mapbox\":{\"style\":\"light\"}}},\"xaxis\":{\"anchor\":\"y\",\"domain\":[0.0,1.0],\"title\":{\"text\":\"index\"}},\"yaxis\":{\"anchor\":\"x\",\"domain\":[0.0,1.0],\"title\":{\"text\":\"Count\"}},\"legend\":{\"tracegroupgap\":0},\"title\":{\"text\":\"Top 20 Bigrams\"},\"barmode\":\"relative\"},                        {\"responsive\": true}                    ).then(function(){\n",
       "                            \n",
       "var gd = document.getElementById('1dc7e9d3-ebfe-4db5-8cc1-f8255e4ab5f0');\n",
       "var x = new MutationObserver(function (mutations, observer) {{\n",
       "        var display = window.getComputedStyle(gd).display;\n",
       "        if (!display || display === 'none') {{\n",
       "            console.log([gd, 'removed!']);\n",
       "            Plotly.purge(gd);\n",
       "            observer.disconnect();\n",
       "        }}\n",
       "}});\n",
       "\n",
       "// Listen for the removal of the full notebook cells\n",
       "var notebookContainer = gd.closest('#notebook-container');\n",
       "if (notebookContainer) {{\n",
       "    x.observe(notebookContainer, {childList: true});\n",
       "}}\n",
       "\n",
       "// Listen for the clearing of the current output cell\n",
       "var outputEl = gd.closest('.output');\n",
       "if (outputEl) {{\n",
       "    x.observe(outputEl, {childList: true});\n",
       "}}\n",
       "\n",
       "                        })                };                });            </script>        </div>"
      ]
     },
     "metadata": {},
     "output_type": "display_data"
    },
    {
     "name": "stdout",
     "output_type": "stream",
     "text": [
      "\n",
      "Top 20 Trigrams:\n",
      "                         count\n",
      "great value money            6\n",
      "amazing quality sweet        6\n",
      "expected better quality      6\n",
      "juicy taste quite            5\n",
      "sweet juicy loved            5\n",
      "sour lacked sweetness        5\n",
      "fresh tasted good            5\n",
      "decent flavor sweet          5\n",
      "taste quite mild             5\n",
      "better quality price         4\n",
      "size small price             4\n",
      "fresh good quality           4\n",
      "packet strawberry bad        4\n",
      "quality sweet juicy          4\n",
      "super sweet juicy            4\n",
      "dry lacked flavor            4\n",
      "incredibly fresh juicy       4\n",
      "underripe hard eat           4\n",
      "incredibly sweet juicy       4\n",
      "row form eatable             3\n"
     ]
    },
    {
     "data": {
      "application/vnd.plotly.v1+json": {
       "config": {
        "plotlyServerURL": "https://plot.ly"
       },
       "data": [
        {
         "alignmentgroup": "True",
         "hovertemplate": "index=%{x}<br>Count=%{y}<extra></extra>",
         "legendgroup": "",
         "marker": {
          "color": "green",
          "pattern": {
           "shape": ""
          }
         },
         "name": "",
         "offsetgroup": "",
         "orientation": "v",
         "showlegend": false,
         "textposition": "auto",
         "type": "bar",
         "x": [
          "great value money",
          "amazing quality sweet",
          "expected better quality",
          "juicy taste quite",
          "sweet juicy loved",
          "sour lacked sweetness",
          "fresh tasted good",
          "decent flavor sweet",
          "taste quite mild",
          "better quality price",
          "size small price",
          "fresh good quality",
          "packet strawberry bad",
          "quality sweet juicy",
          "super sweet juicy",
          "dry lacked flavor",
          "incredibly fresh juicy",
          "underripe hard eat",
          "incredibly sweet juicy",
          "row form eatable"
         ],
         "xaxis": "x",
         "y": [
          6,
          6,
          6,
          5,
          5,
          5,
          5,
          5,
          5,
          4,
          4,
          4,
          4,
          4,
          4,
          4,
          4,
          4,
          4,
          3
         ],
         "yaxis": "y"
        }
       ],
       "layout": {
        "autosize": true,
        "barmode": "relative",
        "legend": {
         "tracegroupgap": 0
        },
        "template": {
         "data": {
          "bar": [
           {
            "error_x": {
             "color": "#2a3f5f"
            },
            "error_y": {
             "color": "#2a3f5f"
            },
            "marker": {
             "line": {
              "color": "#E5ECF6",
              "width": 0.5
             },
             "pattern": {
              "fillmode": "overlay",
              "size": 10,
              "solidity": 0.2
             }
            },
            "type": "bar"
           }
          ],
          "barpolar": [
           {
            "marker": {
             "line": {
              "color": "#E5ECF6",
              "width": 0.5
             },
             "pattern": {
              "fillmode": "overlay",
              "size": 10,
              "solidity": 0.2
             }
            },
            "type": "barpolar"
           }
          ],
          "carpet": [
           {
            "aaxis": {
             "endlinecolor": "#2a3f5f",
             "gridcolor": "white",
             "linecolor": "white",
             "minorgridcolor": "white",
             "startlinecolor": "#2a3f5f"
            },
            "baxis": {
             "endlinecolor": "#2a3f5f",
             "gridcolor": "white",
             "linecolor": "white",
             "minorgridcolor": "white",
             "startlinecolor": "#2a3f5f"
            },
            "type": "carpet"
           }
          ],
          "choropleth": [
           {
            "colorbar": {
             "outlinewidth": 0,
             "ticks": ""
            },
            "type": "choropleth"
           }
          ],
          "contour": [
           {
            "colorbar": {
             "outlinewidth": 0,
             "ticks": ""
            },
            "colorscale": [
             [
              0,
              "#0d0887"
             ],
             [
              0.1111111111111111,
              "#46039f"
             ],
             [
              0.2222222222222222,
              "#7201a8"
             ],
             [
              0.3333333333333333,
              "#9c179e"
             ],
             [
              0.4444444444444444,
              "#bd3786"
             ],
             [
              0.5555555555555556,
              "#d8576b"
             ],
             [
              0.6666666666666666,
              "#ed7953"
             ],
             [
              0.7777777777777778,
              "#fb9f3a"
             ],
             [
              0.8888888888888888,
              "#fdca26"
             ],
             [
              1,
              "#f0f921"
             ]
            ],
            "type": "contour"
           }
          ],
          "contourcarpet": [
           {
            "colorbar": {
             "outlinewidth": 0,
             "ticks": ""
            },
            "type": "contourcarpet"
           }
          ],
          "heatmap": [
           {
            "colorbar": {
             "outlinewidth": 0,
             "ticks": ""
            },
            "colorscale": [
             [
              0,
              "#0d0887"
             ],
             [
              0.1111111111111111,
              "#46039f"
             ],
             [
              0.2222222222222222,
              "#7201a8"
             ],
             [
              0.3333333333333333,
              "#9c179e"
             ],
             [
              0.4444444444444444,
              "#bd3786"
             ],
             [
              0.5555555555555556,
              "#d8576b"
             ],
             [
              0.6666666666666666,
              "#ed7953"
             ],
             [
              0.7777777777777778,
              "#fb9f3a"
             ],
             [
              0.8888888888888888,
              "#fdca26"
             ],
             [
              1,
              "#f0f921"
             ]
            ],
            "type": "heatmap"
           }
          ],
          "heatmapgl": [
           {
            "colorbar": {
             "outlinewidth": 0,
             "ticks": ""
            },
            "colorscale": [
             [
              0,
              "#0d0887"
             ],
             [
              0.1111111111111111,
              "#46039f"
             ],
             [
              0.2222222222222222,
              "#7201a8"
             ],
             [
              0.3333333333333333,
              "#9c179e"
             ],
             [
              0.4444444444444444,
              "#bd3786"
             ],
             [
              0.5555555555555556,
              "#d8576b"
             ],
             [
              0.6666666666666666,
              "#ed7953"
             ],
             [
              0.7777777777777778,
              "#fb9f3a"
             ],
             [
              0.8888888888888888,
              "#fdca26"
             ],
             [
              1,
              "#f0f921"
             ]
            ],
            "type": "heatmapgl"
           }
          ],
          "histogram": [
           {
            "marker": {
             "pattern": {
              "fillmode": "overlay",
              "size": 10,
              "solidity": 0.2
             }
            },
            "type": "histogram"
           }
          ],
          "histogram2d": [
           {
            "colorbar": {
             "outlinewidth": 0,
             "ticks": ""
            },
            "colorscale": [
             [
              0,
              "#0d0887"
             ],
             [
              0.1111111111111111,
              "#46039f"
             ],
             [
              0.2222222222222222,
              "#7201a8"
             ],
             [
              0.3333333333333333,
              "#9c179e"
             ],
             [
              0.4444444444444444,
              "#bd3786"
             ],
             [
              0.5555555555555556,
              "#d8576b"
             ],
             [
              0.6666666666666666,
              "#ed7953"
             ],
             [
              0.7777777777777778,
              "#fb9f3a"
             ],
             [
              0.8888888888888888,
              "#fdca26"
             ],
             [
              1,
              "#f0f921"
             ]
            ],
            "type": "histogram2d"
           }
          ],
          "histogram2dcontour": [
           {
            "colorbar": {
             "outlinewidth": 0,
             "ticks": ""
            },
            "colorscale": [
             [
              0,
              "#0d0887"
             ],
             [
              0.1111111111111111,
              "#46039f"
             ],
             [
              0.2222222222222222,
              "#7201a8"
             ],
             [
              0.3333333333333333,
              "#9c179e"
             ],
             [
              0.4444444444444444,
              "#bd3786"
             ],
             [
              0.5555555555555556,
              "#d8576b"
             ],
             [
              0.6666666666666666,
              "#ed7953"
             ],
             [
              0.7777777777777778,
              "#fb9f3a"
             ],
             [
              0.8888888888888888,
              "#fdca26"
             ],
             [
              1,
              "#f0f921"
             ]
            ],
            "type": "histogram2dcontour"
           }
          ],
          "mesh3d": [
           {
            "colorbar": {
             "outlinewidth": 0,
             "ticks": ""
            },
            "type": "mesh3d"
           }
          ],
          "parcoords": [
           {
            "line": {
             "colorbar": {
              "outlinewidth": 0,
              "ticks": ""
             }
            },
            "type": "parcoords"
           }
          ],
          "pie": [
           {
            "automargin": true,
            "type": "pie"
           }
          ],
          "scatter": [
           {
            "fillpattern": {
             "fillmode": "overlay",
             "size": 10,
             "solidity": 0.2
            },
            "type": "scatter"
           }
          ],
          "scatter3d": [
           {
            "line": {
             "colorbar": {
              "outlinewidth": 0,
              "ticks": ""
             }
            },
            "marker": {
             "colorbar": {
              "outlinewidth": 0,
              "ticks": ""
             }
            },
            "type": "scatter3d"
           }
          ],
          "scattercarpet": [
           {
            "marker": {
             "colorbar": {
              "outlinewidth": 0,
              "ticks": ""
             }
            },
            "type": "scattercarpet"
           }
          ],
          "scattergeo": [
           {
            "marker": {
             "colorbar": {
              "outlinewidth": 0,
              "ticks": ""
             }
            },
            "type": "scattergeo"
           }
          ],
          "scattergl": [
           {
            "marker": {
             "colorbar": {
              "outlinewidth": 0,
              "ticks": ""
             }
            },
            "type": "scattergl"
           }
          ],
          "scattermapbox": [
           {
            "marker": {
             "colorbar": {
              "outlinewidth": 0,
              "ticks": ""
             }
            },
            "type": "scattermapbox"
           }
          ],
          "scatterpolar": [
           {
            "marker": {
             "colorbar": {
              "outlinewidth": 0,
              "ticks": ""
             }
            },
            "type": "scatterpolar"
           }
          ],
          "scatterpolargl": [
           {
            "marker": {
             "colorbar": {
              "outlinewidth": 0,
              "ticks": ""
             }
            },
            "type": "scatterpolargl"
           }
          ],
          "scatterternary": [
           {
            "marker": {
             "colorbar": {
              "outlinewidth": 0,
              "ticks": ""
             }
            },
            "type": "scatterternary"
           }
          ],
          "surface": [
           {
            "colorbar": {
             "outlinewidth": 0,
             "ticks": ""
            },
            "colorscale": [
             [
              0,
              "#0d0887"
             ],
             [
              0.1111111111111111,
              "#46039f"
             ],
             [
              0.2222222222222222,
              "#7201a8"
             ],
             [
              0.3333333333333333,
              "#9c179e"
             ],
             [
              0.4444444444444444,
              "#bd3786"
             ],
             [
              0.5555555555555556,
              "#d8576b"
             ],
             [
              0.6666666666666666,
              "#ed7953"
             ],
             [
              0.7777777777777778,
              "#fb9f3a"
             ],
             [
              0.8888888888888888,
              "#fdca26"
             ],
             [
              1,
              "#f0f921"
             ]
            ],
            "type": "surface"
           }
          ],
          "table": [
           {
            "cells": {
             "fill": {
              "color": "#EBF0F8"
             },
             "line": {
              "color": "white"
             }
            },
            "header": {
             "fill": {
              "color": "#C8D4E3"
             },
             "line": {
              "color": "white"
             }
            },
            "type": "table"
           }
          ]
         },
         "layout": {
          "annotationdefaults": {
           "arrowcolor": "#2a3f5f",
           "arrowhead": 0,
           "arrowwidth": 1
          },
          "autotypenumbers": "strict",
          "coloraxis": {
           "colorbar": {
            "outlinewidth": 0,
            "ticks": ""
           }
          },
          "colorscale": {
           "diverging": [
            [
             0,
             "#8e0152"
            ],
            [
             0.1,
             "#c51b7d"
            ],
            [
             0.2,
             "#de77ae"
            ],
            [
             0.3,
             "#f1b6da"
            ],
            [
             0.4,
             "#fde0ef"
            ],
            [
             0.5,
             "#f7f7f7"
            ],
            [
             0.6,
             "#e6f5d0"
            ],
            [
             0.7,
             "#b8e186"
            ],
            [
             0.8,
             "#7fbc41"
            ],
            [
             0.9,
             "#4d9221"
            ],
            [
             1,
             "#276419"
            ]
           ],
           "sequential": [
            [
             0,
             "#0d0887"
            ],
            [
             0.1111111111111111,
             "#46039f"
            ],
            [
             0.2222222222222222,
             "#7201a8"
            ],
            [
             0.3333333333333333,
             "#9c179e"
            ],
            [
             0.4444444444444444,
             "#bd3786"
            ],
            [
             0.5555555555555556,
             "#d8576b"
            ],
            [
             0.6666666666666666,
             "#ed7953"
            ],
            [
             0.7777777777777778,
             "#fb9f3a"
            ],
            [
             0.8888888888888888,
             "#fdca26"
            ],
            [
             1,
             "#f0f921"
            ]
           ],
           "sequentialminus": [
            [
             0,
             "#0d0887"
            ],
            [
             0.1111111111111111,
             "#46039f"
            ],
            [
             0.2222222222222222,
             "#7201a8"
            ],
            [
             0.3333333333333333,
             "#9c179e"
            ],
            [
             0.4444444444444444,
             "#bd3786"
            ],
            [
             0.5555555555555556,
             "#d8576b"
            ],
            [
             0.6666666666666666,
             "#ed7953"
            ],
            [
             0.7777777777777778,
             "#fb9f3a"
            ],
            [
             0.8888888888888888,
             "#fdca26"
            ],
            [
             1,
             "#f0f921"
            ]
           ]
          },
          "colorway": [
           "#636efa",
           "#EF553B",
           "#00cc96",
           "#ab63fa",
           "#FFA15A",
           "#19d3f3",
           "#FF6692",
           "#B6E880",
           "#FF97FF",
           "#FECB52"
          ],
          "font": {
           "color": "#2a3f5f"
          },
          "geo": {
           "bgcolor": "white",
           "lakecolor": "white",
           "landcolor": "#E5ECF6",
           "showlakes": true,
           "showland": true,
           "subunitcolor": "white"
          },
          "hoverlabel": {
           "align": "left"
          },
          "hovermode": "closest",
          "mapbox": {
           "style": "light"
          },
          "paper_bgcolor": "white",
          "plot_bgcolor": "#E5ECF6",
          "polar": {
           "angularaxis": {
            "gridcolor": "white",
            "linecolor": "white",
            "ticks": ""
           },
           "bgcolor": "#E5ECF6",
           "radialaxis": {
            "gridcolor": "white",
            "linecolor": "white",
            "ticks": ""
           }
          },
          "scene": {
           "xaxis": {
            "backgroundcolor": "#E5ECF6",
            "gridcolor": "white",
            "gridwidth": 2,
            "linecolor": "white",
            "showbackground": true,
            "ticks": "",
            "zerolinecolor": "white"
           },
           "yaxis": {
            "backgroundcolor": "#E5ECF6",
            "gridcolor": "white",
            "gridwidth": 2,
            "linecolor": "white",
            "showbackground": true,
            "ticks": "",
            "zerolinecolor": "white"
           },
           "zaxis": {
            "backgroundcolor": "#E5ECF6",
            "gridcolor": "white",
            "gridwidth": 2,
            "linecolor": "white",
            "showbackground": true,
            "ticks": "",
            "zerolinecolor": "white"
           }
          },
          "shapedefaults": {
           "line": {
            "color": "#2a3f5f"
           }
          },
          "ternary": {
           "aaxis": {
            "gridcolor": "white",
            "linecolor": "white",
            "ticks": ""
           },
           "baxis": {
            "gridcolor": "white",
            "linecolor": "white",
            "ticks": ""
           },
           "bgcolor": "#E5ECF6",
           "caxis": {
            "gridcolor": "white",
            "linecolor": "white",
            "ticks": ""
           }
          },
          "title": {
           "x": 0.05
          },
          "xaxis": {
           "automargin": true,
           "gridcolor": "white",
           "linecolor": "white",
           "ticks": "",
           "title": {
            "standoff": 15
           },
           "zerolinecolor": "white",
           "zerolinewidth": 2
          },
          "yaxis": {
           "automargin": true,
           "gridcolor": "white",
           "linecolor": "white",
           "ticks": "",
           "title": {
            "standoff": 15
           },
           "zerolinecolor": "white",
           "zerolinewidth": 2
          }
         }
        },
        "title": {
         "text": "Top 20 Trigrams"
        },
        "xaxis": {
         "anchor": "y",
         "autorange": true,
         "domain": [
          0,
          1
         ],
         "range": [
          -0.5,
          19.5
         ],
         "title": {
          "text": "index"
         },
         "type": "category"
        },
        "yaxis": {
         "anchor": "x",
         "autorange": true,
         "domain": [
          0,
          1
         ],
         "range": [
          0,
          6.315789473684211
         ],
         "title": {
          "text": "Count"
         },
         "type": "linear"
        }
       }
      },
      "image/png": "[encoded data removed]",
      "text/html": [
       "<div>                            <div id=\"83b1fa98-f06b-4626-8df3-a6c767fbf5c4\" class=\"plotly-graph-div\" style=\"height:525px; width:100%;\"></div>            <script type=\"text/javascript\">                require([\"plotly\"], function(Plotly) {                    window.PLOTLYENV=window.PLOTLYENV || {};                                    if (document.getElementById(\"83b1fa98-f06b-4626-8df3-a6c767fbf5c4\")) {                    Plotly.newPlot(                        \"83b1fa98-f06b-4626-8df3-a6c767fbf5c4\",                        [{\"alignmentgroup\":\"True\",\"hovertemplate\":\"index=%{x}\\u003cbr\\u003eCount=%{y}\\u003cextra\\u003e\\u003c\\u002fextra\\u003e\",\"legendgroup\":\"\",\"marker\":{\"color\":\"green\",\"pattern\":{\"shape\":\"\"}},\"name\":\"\",\"offsetgroup\":\"\",\"orientation\":\"v\",\"showlegend\":false,\"textposition\":\"auto\",\"x\":[\"great value money\",\"amazing quality sweet\",\"expected better quality\",\"juicy taste quite\",\"sweet juicy loved\",\"sour lacked sweetness\",\"fresh tasted good\",\"decent flavor sweet\",\"taste quite mild\",\"better quality price\",\"size small price\",\"fresh good quality\",\"packet strawberry bad\",\"quality sweet juicy\",\"super sweet juicy\",\"dry lacked flavor\",\"incredibly fresh juicy\",\"underripe hard eat\",\"incredibly sweet juicy\",\"row form eatable\"],\"xaxis\":\"x\",\"y\":[6,6,6,5,5,5,5,5,5,4,4,4,4,4,4,4,4,4,4,3],\"yaxis\":\"y\",\"type\":\"bar\"}],                        {\"template\":{\"data\":{\"histogram2dcontour\":[{\"type\":\"histogram2dcontour\",\"colorbar\":{\"outlinewidth\":0,\"ticks\":\"\"},\"colorscale\":[[0.0,\"#0d0887\"],[0.1111111111111111,\"#46039f\"],[0.2222222222222222,\"#7201a8\"],[0.3333333333333333,\"#9c179e\"],[0.4444444444444444,\"#bd3786\"],[0.5555555555555556,\"#d8576b\"],[0.6666666666666666,\"#ed7953\"],[0.7777777777777778,\"#fb9f3a\"],[0.8888888888888888,\"#fdca26\"],[1.0,\"#f0f921\"]]}],\"choropleth\":[{\"type\":\"choropleth\",\"colorbar\":{\"outlinewidth\":0,\"ticks\":\"\"}}],\"histogram2d\":[{\"type\":\"histogram2d\",\"colorbar\":{\"outlinewidth\":0,\"ticks\":\"\"},\"colorscale\":[[0.0,\"#0d0887\"],[0.1111111111111111,\"#46039f\"],[0.2222222222222222,\"#7201a8\"],[0.3333333333333333,\"#9c179e\"],[0.4444444444444444,\"#bd3786\"],[0.5555555555555556,\"#d8576b\"],[0.6666666666666666,\"#ed7953\"],[0.7777777777777778,\"#fb9f3a\"],[0.8888888888888888,\"#fdca26\"],[1.0,\"#f0f921\"]]}],\"heatmap\":[{\"type\":\"heatmap\",\"colorbar\":{\"outlinewidth\":0,\"ticks\":\"\"},\"colorscale\":[[0.0,\"#0d0887\"],[0.1111111111111111,\"#46039f\"],[0.2222222222222222,\"#7201a8\"],[0.3333333333333333,\"#9c179e\"],[0.4444444444444444,\"#bd3786\"],[0.5555555555555556,\"#d8576b\"],[0.6666666666666666,\"#ed7953\"],[0.7777777777777778,\"#fb9f3a\"],[0.8888888888888888,\"#fdca26\"],[1.0,\"#f0f921\"]]}],\"heatmapgl\":[{\"type\":\"heatmapgl\",\"colorbar\":{\"outlinewidth\":0,\"ticks\":\"\"},\"colorscale\":[[0.0,\"#0d0887\"],[0.1111111111111111,\"#46039f\"],[0.2222222222222222,\"#7201a8\"],[0.3333333333333333,\"#9c179e\"],[0.4444444444444444,\"#bd3786\"],[0.5555555555555556,\"#d8576b\"],[0.6666666666666666,\"#ed7953\"],[0.7777777777777778,\"#fb9f3a\"],[0.8888888888888888,\"#fdca26\"],[1.0,\"#f0f921\"]]}],\"contourcarpet\":[{\"type\":\"contourcarpet\",\"colorbar\":{\"outlinewidth\":0,\"ticks\":\"\"}}],\"contour\":[{\"type\":\"contour\",\"colorbar\":{\"outlinewidth\":0,\"ticks\":\"\"},\"colorscale\":[[0.0,\"#0d0887\"],[0.1111111111111111,\"#46039f\"],[0.2222222222222222,\"#7201a8\"],[0.3333333333333333,\"#9c179e\"],[0.4444444444444444,\"#bd3786\"],[0.5555555555555556,\"#d8576b\"],[0.6666666666666666,\"#ed7953\"],[0.7777777777777778,\"#fb9f3a\"],[0.8888888888888888,\"#fdca26\"],[1.0,\"#f0f921\"]]}],\"surface\":[{\"type\":\"surface\",\"colorbar\":{\"outlinewidth\":0,\"ticks\":\"\"},\"colorscale\":[[0.0,\"#0d0887\"],[0.1111111111111111,\"#46039f\"],[0.2222222222222222,\"#7201a8\"],[0.3333333333333333,\"#9c179e\"],[0.4444444444444444,\"#bd3786\"],[0.5555555555555556,\"#d8576b\"],[0.6666666666666666,\"#ed7953\"],[0.7777777777777778,\"#fb9f3a\"],[0.8888888888888888,\"#fdca26\"],[1.0,\"#f0f921\"]]}],\"mesh3d\":[{\"type\":\"mesh3d\",\"colorbar\":{\"outlinewidth\":0,\"ticks\":\"\"}}],\"scatter\":[{\"fillpattern\":{\"fillmode\":\"overlay\",\"size\":10,\"solidity\":0.2},\"type\":\"scatter\"}],\"parcoords\":[{\"type\":\"parcoords\",\"line\":{\"colorbar\":{\"outlinewidth\":0,\"ticks\":\"\"}}}],\"scatterpolargl\":[{\"type\":\"scatterpolargl\",\"marker\":{\"colorbar\":{\"outlinewidth\":0,\"ticks\":\"\"}}}],\"bar\":[{\"error_x\":{\"color\":\"#2a3f5f\"},\"error_y\":{\"color\":\"#2a3f5f\"},\"marker\":{\"line\":{\"color\":\"#E5ECF6\",\"width\":0.5},\"pattern\":{\"fillmode\":\"overlay\",\"size\":10,\"solidity\":0.2}},\"type\":\"bar\"}],\"scattergeo\":[{\"type\":\"scattergeo\",\"marker\":{\"colorbar\":{\"outlinewidth\":0,\"ticks\":\"\"}}}],\"scatterpolar\":[{\"type\":\"scatterpolar\",\"marker\":{\"colorbar\":{\"outlinewidth\":0,\"ticks\":\"\"}}}],\"histogram\":[{\"marker\":{\"pattern\":{\"fillmode\":\"overlay\",\"size\":10,\"solidity\":0.2}},\"type\":\"histogram\"}],\"scattergl\":[{\"type\":\"scattergl\",\"marker\":{\"colorbar\":{\"outlinewidth\":0,\"ticks\":\"\"}}}],\"scatter3d\":[{\"type\":\"scatter3d\",\"line\":{\"colorbar\":{\"outlinewidth\":0,\"ticks\":\"\"}},\"marker\":{\"colorbar\":{\"outlinewidth\":0,\"ticks\":\"\"}}}],\"scattermapbox\":[{\"type\":\"scattermapbox\",\"marker\":{\"colorbar\":{\"outlinewidth\":0,\"ticks\":\"\"}}}],\"scatterternary\":[{\"type\":\"scatterternary\",\"marker\":{\"colorbar\":{\"outlinewidth\":0,\"ticks\":\"\"}}}],\"scattercarpet\":[{\"type\":\"scattercarpet\",\"marker\":{\"colorbar\":{\"outlinewidth\":0,\"ticks\":\"\"}}}],\"carpet\":[{\"aaxis\":{\"endlinecolor\":\"#2a3f5f\",\"gridcolor\":\"white\",\"linecolor\":\"white\",\"minorgridcolor\":\"white\",\"startlinecolor\":\"#2a3f5f\"},\"baxis\":{\"endlinecolor\":\"#2a3f5f\",\"gridcolor\":\"white\",\"linecolor\":\"white\",\"minorgridcolor\":\"white\",\"startlinecolor\":\"#2a3f5f\"},\"type\":\"carpet\"}],\"table\":[{\"cells\":{\"fill\":{\"color\":\"#EBF0F8\"},\"line\":{\"color\":\"white\"}},\"header\":{\"fill\":{\"color\":\"#C8D4E3\"},\"line\":{\"color\":\"white\"}},\"type\":\"table\"}],\"barpolar\":[{\"marker\":{\"line\":{\"color\":\"#E5ECF6\",\"width\":0.5},\"pattern\":{\"fillmode\":\"overlay\",\"size\":10,\"solidity\":0.2}},\"type\":\"barpolar\"}],\"pie\":[{\"automargin\":true,\"type\":\"pie\"}]},\"layout\":{\"autotypenumbers\":\"strict\",\"colorway\":[\"#636efa\",\"#EF553B\",\"#00cc96\",\"#ab63fa\",\"#FFA15A\",\"#19d3f3\",\"#FF6692\",\"#B6E880\",\"#FF97FF\",\"#FECB52\"],\"font\":{\"color\":\"#2a3f5f\"},\"hovermode\":\"closest\",\"hoverlabel\":{\"align\":\"left\"},\"paper_bgcolor\":\"white\",\"plot_bgcolor\":\"#E5ECF6\",\"polar\":{\"bgcolor\":\"#E5ECF6\",\"angularaxis\":{\"gridcolor\":\"white\",\"linecolor\":\"white\",\"ticks\":\"\"},\"radialaxis\":{\"gridcolor\":\"white\",\"linecolor\":\"white\",\"ticks\":\"\"}},\"ternary\":{\"bgcolor\":\"#E5ECF6\",\"aaxis\":{\"gridcolor\":\"white\",\"linecolor\":\"white\",\"ticks\":\"\"},\"baxis\":{\"gridcolor\":\"white\",\"linecolor\":\"white\",\"ticks\":\"\"},\"caxis\":{\"gridcolor\":\"white\",\"linecolor\":\"white\",\"ticks\":\"\"}},\"coloraxis\":{\"colorbar\":{\"outlinewidth\":0,\"ticks\":\"\"}},\"colorscale\":{\"sequential\":[[0.0,\"#0d0887\"],[0.1111111111111111,\"#46039f\"],[0.2222222222222222,\"#7201a8\"],[0.3333333333333333,\"#9c179e\"],[0.4444444444444444,\"#bd3786\"],[0.5555555555555556,\"#d8576b\"],[0.6666666666666666,\"#ed7953\"],[0.7777777777777778,\"#fb9f3a\"],[0.8888888888888888,\"#fdca26\"],[1.0,\"#f0f921\"]],\"sequentialminus\":[[0.0,\"#0d0887\"],[0.1111111111111111,\"#46039f\"],[0.2222222222222222,\"#7201a8\"],[0.3333333333333333,\"#9c179e\"],[0.4444444444444444,\"#bd3786\"],[0.5555555555555556,\"#d8576b\"],[0.6666666666666666,\"#ed7953\"],[0.7777777777777778,\"#fb9f3a\"],[0.8888888888888888,\"#fdca26\"],[1.0,\"#f0f921\"]],\"diverging\":[[0,\"#8e0152\"],[0.1,\"#c51b7d\"],[0.2,\"#de77ae\"],[0.3,\"#f1b6da\"],[0.4,\"#fde0ef\"],[0.5,\"#f7f7f7\"],[0.6,\"#e6f5d0\"],[0.7,\"#b8e186\"],[0.8,\"#7fbc41\"],[0.9,\"#4d9221\"],[1,\"#276419\"]]},\"xaxis\":{\"gridcolor\":\"white\",\"linecolor\":\"white\",\"ticks\":\"\",\"title\":{\"standoff\":15},\"zerolinecolor\":\"white\",\"automargin\":true,\"zerolinewidth\":2},\"yaxis\":{\"gridcolor\":\"white\",\"linecolor\":\"white\",\"ticks\":\"\",\"title\":{\"standoff\":15},\"zerolinecolor\":\"white\",\"automargin\":true,\"zerolinewidth\":2},\"scene\":{\"xaxis\":{\"backgroundcolor\":\"#E5ECF6\",\"gridcolor\":\"white\",\"linecolor\":\"white\",\"showbackground\":true,\"ticks\":\"\",\"zerolinecolor\":\"white\",\"gridwidth\":2},\"yaxis\":{\"backgroundcolor\":\"#E5ECF6\",\"gridcolor\":\"white\",\"linecolor\":\"white\",\"showbackground\":true,\"ticks\":\"\",\"zerolinecolor\":\"white\",\"gridwidth\":2},\"zaxis\":{\"backgroundcolor\":\"#E5ECF6\",\"gridcolor\":\"white\",\"linecolor\":\"white\",\"showbackground\":true,\"ticks\":\"\",\"zerolinecolor\":\"white\",\"gridwidth\":2}},\"shapedefaults\":{\"line\":{\"color\":\"#2a3f5f\"}},\"annotationdefaults\":{\"arrowcolor\":\"#2a3f5f\",\"arrowhead\":0,\"arrowwidth\":1},\"geo\":{\"bgcolor\":\"white\",\"landcolor\":\"#E5ECF6\",\"subunitcolor\":\"white\",\"showland\":true,\"showlakes\":true,\"lakecolor\":\"white\"},\"title\":{\"x\":0.05},\"mapbox\":{\"style\":\"light\"}}},\"xaxis\":{\"anchor\":\"y\",\"domain\":[0.0,1.0],\"title\":{\"text\":\"index\"}},\"yaxis\":{\"anchor\":\"x\",\"domain\":[0.0,1.0],\"title\":{\"text\":\"Count\"}},\"legend\":{\"tracegroupgap\":0},\"title\":{\"text\":\"Top 20 Trigrams\"},\"barmode\":\"relative\"},                        {\"responsive\": true}                    ).then(function(){\n",
       "                            \n",
       "var gd = document.getElementById('83b1fa98-f06b-4626-8df3-a6c767fbf5c4');\n",
       "var x = new MutationObserver(function (mutations, observer) {{\n",
       "        var display = window.getComputedStyle(gd).display;\n",
       "        if (!display || display === 'none') {{\n",
       "            console.log([gd, 'removed!']);\n",
       "            Plotly.purge(gd);\n",
       "            observer.disconnect();\n",
       "        }}\n",
       "}});\n",
       "\n",
       "// Listen for the removal of the full notebook cells\n",
       "var notebookContainer = gd.closest('#notebook-container');\n",
       "if (notebookContainer) {{\n",
       "    x.observe(notebookContainer, {childList: true});\n",
       "}}\n",
       "\n",
       "// Listen for the clearing of the current output cell\n",
       "var outputEl = gd.closest('.output');\n",
       "if (outputEl) {{\n",
       "    x.observe(outputEl, {childList: true});\n",
       "}}\n",
       "\n",
       "                        })                };                });            </script>        </div>"
      ]
     },
     "metadata": {},
     "output_type": "display_data"
    }
   ],
   "source": [
    "import pandas as pd\n",
    "import plotly.express as px\n",
    "from sklearn.feature_extraction.text import CountVectorizer\n",
    "# Load your dataset\n",
    "file_path = r\"C:\\Users\\eswar\\OneDrive\\Desktop\\Pictures\\Documents\\FDS_PROJECT\\FDS_TotalDataSet22.csv\" # Update this with your CSV file path\n",
    "df = pd.read_csv(file_path)\n",
    "# Basic EDA\n",
    "print(\"Dataset Head:\")\n",
    "print(df.head())\n",
    "print(\"\\nMissing Values:\")\n",
    "print(df.isnull().sum())\n",
    "# Add comment length and word count\n",
    "df['comment_length'] = df['Comment'].apply(len)\n",
    "df['word_count'] = df['Comment'].apply(lambda x: len(x.split()))\n",
    "# Interactive scatter plot for comment length vs word count\n",
    "fig = px.scatter(df, x='comment_length', y='word_count',color='Label',title='Comment Length vs Word Count',labels={'comment_length': 'Comment Length','word_count': 'Word Count'},hover_data=['Comment'])\n",
    "fig.show()\n",
    "# Interactive histogram for comment lengths\n",
    "fig_length = px.histogram(df, x='comment_length', nbins=30,\n",
    "color='Label',\n",
    " title='Distribution of Comment Lengths',\n",
    "labels={'comment_length': 'commentLength'})\n",
    "fig_length.show()\n",
    "# Interactive histogram for word counts\n",
    "fig_word_count = px.histogram(df, x='word_count', nbins=30,\n",
    "color='Label',\n",
    " title='Distribution of Word Counts',\n",
    "labels={'word_count': 'Word Count'})\n",
    "fig_word_count.show()\n",
    "# N-gram analysis function\n",
    "def get_ngrams(comments, n=2, top_n=20): # Change top_n to 20\n",
    " vectorizer = CountVectorizer(ngram_range=(n, n),stop_words='english')\n",
    " ngrams = vectorizer.fit_transform(comments)\n",
    " ngram_counts = ngrams.sum(axis=0)\n",
    " ngram_features = vectorizer.get_feature_names_out()\n",
    "\n",
    " # Create a DataFrame of n-grams and their counts\n",
    " ngram_df = pd.DataFrame(ngram_counts.A1, index=ngram_features,columns=['count'])\n",
    " return ngram_df.sort_values(by='count',ascending=False).head(top_n)\n",
    "# Generate and display bigrams\n",
    "comments = df['Comment'].dropna()\n",
    "bigrams = get_ngrams(comments, n=2, top_n=20) # Get top 20 bigrams\n",
    "print(\"\\nTop 20 Bigrams:\")\n",
    "print(bigrams)\n",
    "# Bar plot for bigrams\n",
    "fig_bigrams = px.bar(bigrams, x=bigrams.index, y='count',color_discrete_sequence=['green'],title='Top 20 Bigrams',labels={'x': 'Bigrams', 'count': 'Count'})\n",
    "fig_bigrams.show()\n",
    "# Generate and display trigrams\n",
    "trigrams = get_ngrams(comments, n=3, top_n=20) # Get top 20 trigrams\n",
    "print(\"\\nTop 20 Trigrams:\")\n",
    "print(trigrams)\n",
    "# Bar plot for trigrams\n",
    "fig_trigrams = px.bar(trigrams, x=trigrams.index, y='count',color_discrete_sequence=['green'],\n",
    " title='Top 20 Trigrams',\n",
    "labels={'x': 'Trigrams', 'count': 'Count'})\n",
    "fig_trigrams.show()\n"
   ]
  },
  {
   "cell_type": "code",
   "execution_count": null,
   "id": "3ff32714-c2fb-4f63-ab83-1d4793c90f18",
   "metadata": {},
   "outputs": [],
   "source": []
  }
 ],
 "metadata": {
  "kernelspec": {
   "display_name": "Python 3 (ipykernel)",
   "language": "python",
   "name": "python3"
  },
  "language_info": {
   "codemirror_mode": {
    "name": "ipython",
    "version": 3
   },
   "file_extension": ".py",
   "mimetype": "text/x-python",
   "name": "python",
   "nbconvert_exporter": "python",
   "pygments_lexer": "ipython3",
   "version": "3.12.4"
  }
 },
 "nbformat": 4,
 "nbformat_minor": 5
}
